(0) Applications are invited for Desh Ke Mentor
(1) Last Reminder  Certificate submission of NPTEL course “Innovation  Business Models and Entrepreneurship  FENM003   B Tech
(2) Mechanical Engineering  ME MPAE  Industrial Training 2023 Guidelines
(3) B Tech   ME MPAE  8th Semester –Project II  MEMEC23  Consent Form for the academic session 2022 2023 
(4) NOTICE REGARDING ROOM ALLOTMENT AT ARYABHATA HOSTEL  BH 1 
(5) REMINDER  B Tech   EE  8th Semester students – Quickly submit the consent form of Project II  EEEEC23  for academic session 2022 2023 
(6) All students of B Tech 2021 22 are hereby informed that collect their Identity Card from Reception Counter of Academic Section  Room NO  103 
(7) REVISED TIMETABLE   ECAM  EAST CAMPUS NSUT
(8) Netaji Subhas Anniversary and Republic Day Celebration
(9) REMINDER  B Tech   ICE  8th Semester students – Quickly submit the consent form of Project II  ICICC23  for academic session 2022 2023 
(10) CONDUCT OF CLASSES
(11) Review of Marks of NPTEL course “B Tech    3 semester   FENM003   Innovation  Business Models and Entrepreneurship ”
(12) Final Marks Review of NPTEL course “EONM006  Principles of Management”
(13) Final Marks review for NPTEL course “Medical image analysis  EONS044 ”
(14) Final Marks Review for NPTEL course “Conservation Geography  EONS045 ”
(15) Review of MARKS for NPTEL course Animal Physiology
(16) Marks Review   B Tech    Sem  5   EONH005  Short Fiction in Indian Literature  Sec Batch    1
(17) Final Marks Review  B Tech    Sem  5   EONS006  Wildlife Ecology  Sec Batch    8
(18) NOTICE REGARDING ROOM ALLOTMENT AT ARYABHATA HOSTEL  BH 1 
(19) NPTEL COURSES 2023 JAN MAY MENTOR EXAMINER LIST
(20) REGARDING ROOM ALLOTMENT AT BHASKARA HOSTEL  BH II 
(21) Review of MARKS for NPTEL course Wildlife Ecology
(22) Seat plan of backlog mid semester examination to be held on 20 01 2023  SHIFT  III   Detained students are not allowed in that semester 
(23) Seat plan of backlog mid semester examination to be held on 20 01 2023  SHIFT  II   Detained students are not allowed in that semester 
(24) Seat plan of backlog mid semester examination to be held on 20 01 2023  SHIFT  I   Detained students are not allowed in that semester 
(25) LAST CHANCE FOR PENDING COURSE REGISTRATION ISSUES OF ALL STUDENTS OF NSUT MAIN  EAST   WEST CAMPUSES 
(26) Revised invigilation duty chart backlog mid semester examination B tech and BBA 1st sem january 2023 
(27) SHORT OF ATTENDANCE OF BACKLOG STUDENTS OF I SEMESTER B TECH    BBA WITH AFFIDAVIT
(28) SHORT OF ATTENDANCE OF BACKLOG STUDENTS OF I SEMESTER B TECH    BBA BELOW AVERAGE
(29) Seat plan of backlog mid semester examination to be held on 19 01 2023  SHIFT  II   Detained students are not allowed in that semester 
(30) Seat plan of backlog mid semester examination to be held on 19 01 2023  SHIFT  I   Detained students are not allowed in that semester 
(31) Review of MARKS for NPTEL course “Innovation  Business Models and Entrepreneurship” 
(32) Review of MARKS for NPTEL course “Developing Soft Skill and Personality  FENH001 ” 
(33) Google form for backlog subject B tech  ECAM  Second Semester for NSUT EAST Campus students
(34) invigilation duty chart backlog mid semester examination B tech and BBA 1st sem january 2023 
(35) OPERATION AND SUPPLY CHAIN MANAGEMENT  SEMESTER – 5  BATCH – 1  MARKS REVIEW
(36) WILDLIFE ECOLOGY  SEM   5  BATCH   4  REVISED MARKS REVIEW
(37) Urgent  Certificate submission of NPTEL course “Innovation  Business Models and Entrepreneurship  FENM003    B tech
(38) FINAL DATESHEET FOR THE MID SEMESTER THEORY EXAMINATION OF Ist Semester Backlog B Tech BBA And 1st Semester B Tech Students belonging to ECE Deptt   only IT I and ITNS –JANUARY 2023  NSUT MAIN  EAST   WEST CAMPUS
(39) NPTEL marks for review  WILDLIFE ECOLOGY  sem  5 batch 6
(40) NPTEL Marks for Review – PRINCIPLES OF HUMAN RESOURCE MANAGEMENT  B Tech   FENM011  BBA  FENM061    Batch 1
(41) NPTEL Marks for Review   POETRY  EONH103    Batch 1
(42) B Tech   EE  8th Semester –Project II  EEEEC23  for the academic session 2022 2023
(43) B Tech   ICE  8th Semester –Project II  ICICC23  for academic session 2022 2023 
(44) NPTEL Marks for Review   Innovation  Business Models and Entrepreneurship  FENM003    Batch 13
(45) NPTEL Marks for Review   Wildlife Ecology  EONS006    Batch 7
(46) Notice 2   FINAL NPTEL marks Review   B Tech    Sem  5   EONS035  Essential Mathematics for Machine Learning 
(47) Notice 2   FINAL NPTEL marks Review   B Tech    Sem  7   EONM006  Principles of Management   UIT3002   3146   UIC3636   3643
(48) University chess team  men and women  contact Sports office of University
(49) NPTEL Backlog Notice  ECAM 
(50) REGARDING NPTEL BACKLOG DATA FOR B  TECH  CSDA  CSIOT AND M  TECH  AI  BRANCH OF NSUT EAST CAMPUS 
(51) WEST CAMPUS Joint seat plan of B Tech  1ST SEM MID SEM EXAMINATION JANUARY 2023 to be held on 14 01 2023 
(52) URGENT  Certificate submission of NPTEL course “EONS045  Conservation Geography”
(53) URGENT  Certificate submission of NPTEL course “FENH001  Developing Soft skill and Personality  
(54) NPTEL Certificate Submission
(55) NPTEL Marks Review  Ecology and Society  EONH001  August   November 2022 batch 1 students
(56) NPTEL Marks Review   Developing Soft skill and Personality  FENH001  August   November 2022
(57) Jt  Seat plan of B Tech  Ist sem  Year Back  examination to be held on 14 01 2023  SHIFT  I   Detained students are not allowed in that semester 
(58) JOINT SEAT PLAN OF B TECH   BBA 1ST SEM COURSES MID SEM EXAMINATION JANUARY 2023 TO BE HELD ON 14 01 2023 SHIFT   I   Detained students are not allowed in that semester 
(59) Certificates of NPTEL course  FENM011   Principles of Human Resource Management  B Tech  1st sem  Backlog 
(60) Subject  Sub  B Tech    Sem  5   EONS006  Wildlife Ecology  Sec Batch    9”  Mark Review
(61) B Tech    7 semester batch 6  EONS045  Conservation Geography MARK REVIEW
(62) Notification for allotment of flats lying vacant at NSUT Main Campus  NSUT
(63) NPTEL COURSES r nSem  3 FENH007  INTRODUCTION TO BASIC COGNITIVE PROCESSES    r nFENM003  INNOVATION  BUSINESS MODELS AND ENTREPRENEURSHIP
(64) GOOGLE FORM FOR BACKLOG  IMPROVEMENT REGISTRATION IN M  TECH   AI  2ND SEM FOR NSUT EAST CAMPUS STUDENTS 
(65) ENDORSEMENT    REGARDING PH D  ADMISSION IN NATIONAL INSTITUTE OF IMMUNOLOGY
(66) FINAL NPTEL marks Review   B Tech    Sem  7   EONM006  Principles of Management   UIT3002   3146   UIC3636   3643
(67) TENTATIVE DATESHEET FOR THE MID SEMESTER THEORY EXAMINATION OF Ist Semester Backlog B Tech BBA And 1st Semester B Tech Students belonging to ECE Deptt   only IT I and ITNS –JANUARY 2023  NSUT MAIN  EAST   WEST CAMPUS
(68) JOINT SEAT PLAN OF  BBA 1ST SEM COURSES MID SEM EXAMINATION JANUARY 2023 TO BE HELD ON 13 01 2023 SHIFT   I   Detained students are not allowed in that semester 
(69) All Inia Inter University Power Lifting Tournament 
(70) FINAL NOTICE PENDING COURSE REGISTRATION ISSUES OF ALL STUDENTS OF NSUT MAIN  EAST   WEST CAMPUSES 
(71) WEST CAMPUS Joint seat plan of B Tech  1ST SEM MID SEM EXAMINATION JANUARY 2023 to be held on 12 01 2023 
(72) Jt  Seat plan of B Tech  Ist sem  Year Back  examination to be held on 12 01 2023  SHIFT  II   Detained students are not allowed in that semester 
(73) Jt  Seat plan of B Tech  Ist sem  Year Back  examination to be held on 12 01 2023  SHIFT  I   Detained students are not allowed in that semester 
(74) Seat plan of COMPUTER CENTER  CIMS   examination to be held on 12 01 2023  SHIFT  I   Detained students are not allowed in that semester 
(75) JOINT SEAT PLAN OF B TECH  BBA 1ST SEM COURSES MID SEM EXAMINATION JANUARY 2023 TO BE HELD ON 12 01 2023 SHIFT   II   Detained students are not allowed in that semester 
(76) JOINT SEAT PLAN OF B TECH  BBA 1ST SEM COURSES MID SEM EXAMINATION JANUARY 2023 TO BE HELD ON 12 01 2023 SHIFT   I   Detained students are not allowed in that semester 
(77) WEST CAMPUS Joint seat plan of B Tech  B Arch  1ST SEM MID SEM EXAMINATION JANUARY 2023 to be held on 11 01 2023 
(78) M Sc   Mathematics  Time Table  Second semester 2022 23 
(79) Seat plan of COMPUTER CENTER  CIMS   examination to be held on 11 01 2023  SHIFT  II   Detained students are not allowed in that semester 
(80) Jt  Seat plan of B Tech  Ist sem  Year Back  examination to be held on 11 01 2023  SHIFT  II   Detained students are not allowed in that semester 
(81) Jt  Seat plan of B Tech  Ist sem  Year Back  examination to be held on 11 01 2023  SHIFT  I   Detained students are not allowed in that semester 
(82) JOINT SEAT PLAN OF B TECH  BBA 1ST SEM COURSES MID SEM EXAMINATION JANUARY 2023 TO BE HELD ON 11 01 2023 SHIFT   II   Detained students are not allowed in that semester 
(83) JOINT SEAT PLAN OF B TECH  BBA 1ST SEM COURSES MID SEM EXAMINATION JANUARY 2023 TO BE HELD ON 11 01 2023 SHIFT   I   Detained students are not allowed in that semester 
(84) Final Reminder for submission of SWAYAM NPTEL Course  Principles of Human Resource Management  B Tech  3rd Sem  FENM011  BBA 3rd Sem   FEMM061  Certificate by 12 01 2023  17 00 Hrs
(85) BACKLOG IMPROVEMENT COURSE REGISTRATION   ATTENDANCE
(86) PENDING  COURSE REGISTRATION ISSUES OF ALL STUDENTS OF NSUT  MAIN  EAST   WEST CAMPUSES 
(87) NPTEL Certificate submission “Introduction to Fuzzy Set Theory  Arithmetic and Logic  EONS040   7th semester  ODD Sem  2022 Batch
(88) NPTEL Certificate submission “One and 2 dimensional NMR  EONS033   7th semester  ODD Sem  2022 Batch
(89) WEST CAMPUS Joint seat plan of B Tech  B Arch  1ST SEM MID SEM EXAMINATION JANUARY 2023 to be held on 10 01 2023 
(90) Marks Review  “Innovation  Business Models and Entrepreneurship  FENM003 ” Aug – Oct  2022 batch
(91) Marks Review  NPTEL “EONS006   Wildlife Ecology”  Aug – Oct  2022 batch
(92) Google Classroom Code for Pattern Processing using AI COCSE60 Batch 1  Computer Science and Engineering  Main Campus 
(93) Jt  Seat plan of B Tech  Ist sem  Year Back  examination to be held on 10 01 2023  SHIFT  II   Detained students are not allowed in that semester 
(94) Jt  Seat plan of B Tech  Ist sem  Year Back  examination to be held on 10 01 2023  SHIFT  I   Detained students are not allowed in that semester 
(95) JOINT SEAT PLAN OF B TECH  BBA 1ST SEM COURSES MID SEM EXAMINATION JANUARY 2023 TO BE HELD ON 10 01 2023 SHIFT   II   Detained students are not allowed in that semester 
(96) JOINT SEAT PLAN OF B TECH  BBA 1ST SEM COURSES MID SEM EXAMINATION JANUARY 2023 TO BE HELD ON 10 01 2023 SHIFT   I   Detained students are not allowed in that semester 
(97) Research and Publication Ethics classes for PhD students  CSE East 
(98) CLASS CODES FOR ITECC13  SECTION 2   ITECC13 SECTION 1  GROUP 1 LAB
(99) Notice of invigilation duty for faculty
(100) Google Class room codes of ECECC20  Section 3  Main Campus  B tech 6th Sem ECE
(101) Google Class room codes of ECECC10  Section 1  Main Campus  B tech 4th Sem ECE
(102) WEST CAMPUS Joint seat plan of B Tech  B Arch  1ST SEM MID SEM EXAMINATION JANUARY 2023 to be held on 09 01 2023 
(103) INECC13  Section 1   Analog and Digital Communication   IT Dept   Main Campus   Google Classroom and Meet Code 
(104) Google Classroom Code TAFL COCS10 Section 1  Computer Science and Engineering  Main Campus 
(105) I SEMESTER B TECH EAST CAMPUS STUDENTS ARE ALLOWED TO APPEAR FOR MID SEM EXAMS  JANUARY 2023 
(106) Security Measures in University
(107) Google Classroom Code for the course Theory of Automata   Formal languages CACSC10 Section I and COCSC10 – Section II
(108) East campus mid sem theory seating plan  Detained students are not allowed to appear in exam 
(109) Google class code for CoCSC11 Software Engineering Sem IV SEc3
(110) Schedule of showing evaluated answer sheets of End Semester Examination held in Nov Dec 2022
(111) Google classroom code for the subject COCSC11 software engineering IV sem Sec1
(112) B Tech  IV  VI  VIII Semester Google Classroom Codes   CACSC19 CSAI 1  CMCSC09 OS MAC  CACSE51 Intelligent Computing CSAI 1  for Even Semester 2022 23  CSE Dept Main Campus 
(113) COCSC11  Sec 2 Software Engineering  CSE Dept   Main Campus   Google Classroom and Meet Code 
(114) CACSE24  Batch 1 Data Privacy and Security  CSE Dept   Main Campus   Google Classroom and Meet Code 
(115) Jt  Seat plan of B Tech  Ist sem  Year Back  examination to be held on 9 01 2023  Detained students are not allowed in that semester 
(116) ECECC13  Section 3   Communication Engineering  ECE Dept   Main Campus   Google Classroom and Meet Code 
(117) Instruction to the Students Mid Semester Theory Examination for Ist Sem B Tech BBA B Arch re scheduled to be held w e f  09th January  2023 in offline mode
(118) Instruction to the Students
(119) SHORT OF ATTENDANCE LIST OF I SEMESTER OF B TECH BBA BBA IEV STUDENTS  who have not submitted the affidavit  FOR MID  SEMESTER EXAMINATION  JANUARY   2023 
(120) Instructions to the Students
(121) All classes shall be held in online mode on 09 01 2023 monday due to first semester mid semester exam
(122) Regarding Vehicle parking sticker 
(123) JOINT SEAT PLAN OF B TECH  BBA 1ST SEM COURSES MID SEM EXAMINATION JANUARY 2023 TO BE HELD ON 09 01 2023 
(124) NOTICE FOR ROOM NUMBER FOR FCEC003 ELECTRICAL  BACKLOG 2019 2021 BATCH
(125) ENDORSEMENT REGARDING NATIONAL EDUCATIONAL POLICY   PROFESSIONAL DEVELOPMENT PROGRAMME  NEP PDP 
(126) ENDORSEMENT REGARDING IMPLEMENTATION OF NEP   2020
(127) NOTICE REGARDING ROOM ALLOTMENT AT BH II
(128) SHORT OF ATTENDANCE FOR I SEMESTER B TECH    BBA   BBA IEV   B ARCH  WITH AFFIDAVIT DURING MID SEMESTER EXAM  JANUARY   2023 
(129) SHORT OF ATTENDANCE FOR I SEMESTER B TECH    BBA   BBA IEV   B ARCH  BELOW AVERAGE DURING MID SEMESTER EXAM  JANUARY   2023 
(130) Invigilation Duty Chart MID SEM JANUARY  2023
(131) Certificate submission of NPTEL course “Developing Soft skill and Personality  FENH001    EONH011  German – III
(132) Revised  DATESHEET FOR THE MID SEMESTER THEORY EXAMINATION  B  Tech 1ST Semester  –JANUARY 2023
(133) Deptt  of ECE  Main Campus    Practical exam schedule for ICC06  5th semester backlog exam 
(134) Registration Issue of 6th and 8th sem ME and MPAE
(135) PRACTICAL CLASSES FOR I SEMESTER BACKLOG IMPROVEMENT COURSES
(136) VIII B TECH BACKLOG COURSE REGISTRATION ISSUES
(137) Marks Review for NPTEL Course Titled Project Management  FENM010 
(138) The classes being scheduled in room no  MPC 01  MPC 02  MPC 03 and LB 01  LB 02  LB 03 will be held in online mode from 09 01 2023 to 13 01 2023
(139) NOTICE REGARDING ROOM ALLOTMENT AT RAMAN HOSTEL  BH III 
(140) URGENT  Certificate submission of NPTEL course “FENH001  Developing Soft skill and Personality  
(141) NOTICE REGARDING  ROOM ALLOTMENT AT ARYABHATA HOSTEL  BH 1 
(142) B Tech EE 8th semester only   Notice regarding registration issue
(143) NOTIFICATION SHORT OF ATTENDANCE FOR I SEMESTER B TECH    BBA   BBA IEV   B  ARCH   TENTATIVE LIST 
(144) Celebration of National Youth Day  Fitness Fest To Celebrate Heroes of Tomorrow
(145) Calendar for Research UTA Activities  January 2023 – December 2023 
(146) FINAL DATESHEET FOR THE MID SEMESTER THEORY EXAMINATION  B  Tech  BBA B Arch 1ST Semester  –JANUARY 2023
(147) Office order for Students to upload their own PP Size photo on CUMS portal latest by 08 01 2023
(148) 2nd Sem M Tech Time Table 2023 Even 
(149) BACKLOG IMPROVEMENT COURSE REGISTRATION
(150) Registration of B E B Tech COE CSE AI   8th Semester students to be held on 02 01 2023 in offline mode
(151) INSTRUCTIONS FOR REGISTRATION OFFICERS
(152) VI VIII B TECH COURSE REGISTRATION ISSUES
(153) Certificate submission of NPTEL course  Developing Soft Skills and Personality  FENH001 
(154) M Tech  ESV   2nd Semester Time Table  Main Campus 
(155) Office order regarding Hostel and Mess fees of Raman  Aryabhata  Bhaskara  Sarasvati and Kaveri hostels for even semester of academic session 2022 23
(156) NPTEL certificate submission   Developing Soft skill and Personality  FENH001  August   November 2022  by 04 01 2023
(157) Certificate submission of NPTEL course “Developing Soft Skill and Personality  FENH001 ” 
(158) Final Reminder for Submission of SWAYAM NPTEL Course  Innovation  Business Models and Entrepreneurship  FENM003  Certificate of Batch 13 Students by 03 01 2023  17 00 Hrs
(159) Final Reminder for submission of SWAYAM NPTEL Course  Wildlife Ecology  EONS006  Certificate of Batch 7 Students by 03 01 2023  17 00 Hrs 
(160) Students having backlog in BBA MBA MBA IEV Even Semester
(161) NOTICE REGARDING ATTENDANCE ON CUMS PORTAL
(162) REGISTRATION FOR VI  VIII SEMESTER B TECH 
(163) WARNING NOTIFICATION FOR I SEMESTER B TECH    BBA   BBA IEV   B ARCH  REGARDING SHORT OF ATTENDANCE
(164) Notice regarding Postponed of registration of Even Semester Courses which was scheduled to be held on 30 12 2022  has now been postponed to 02 01 2023 
(165) CIRCULAR FOR SUBMISSION OF NPTEL CERTIFICATES SEM V  WILDLIFE ECOLOGY
(166) CIRCULAR FOR SUBMISSION OF NPTEL CERTIFICATE SEM VII  CONSERVATION GEOLOGY
(167) DETENTION LIST OF I SEMESTER B DESIGN   M TECH    MBA   M SC   PCM    MLLC   MA  PSYCHOLOGY   END SEMESTER NOV DEC  2022 
(168) DETENTION LIST OF BACKLOG B TECH III   V   VII SEMESTER  END SEMESTER NOV DEC  2022 
(169) DETENTION LIST OF B TECH   BBA  B DESIGN  B ARCH   M TECH   MSC   P C M    MBA III SEMESTER  END SEMESTER NOV DEC  2022 
(170) DETENTION LIST OF B TECH  BBA V SEMESTER AND VII SEMESTER OF B TECH   END SEMESTER NOV DEC  2022 
(171) INVITATION FOR PARTICIPATION IN SECOND DELHI YOUTH PARLIAMENT  DYP 2023 
(172) EO Courses Requirements for 8th Semester  CSE Department  Students
(173) Academic Calendar during the Period of Nov   2022 to August   2023
(174) Main Campus  Backlog Courses Re  registration of 4 th and 6th Semster ME and MPAE  NSUT 
(175) Revised with Room number  Time Table of 4th  6th and 8th semesters of B Tech Electrical Engineering
(176) TENTATIVE DATESHEET FOR THE MID SEMESTER THEORY EXAMINATION  B  Tech  BBA B Arch 1ST Semester  –JANUARY 2023
(177) Dept  of IT  Registration for backlog courses of B Tech  IT 2nd  4th  6th  and 8th semesters of NSIT
(178) Registration Officer for the B E B Tech  CSE MAC  for registration of B E  B Tech  CSE  MAC  8th Semester  students to be held on 30 12 2022
(179) Dept  of IT  Backlog and Improvement Courses Registrationof the 4 r nth semester of IT ITNS and 6th semester of IT of NSUT r n Main Campus  
(180) Certificate submission of NPTEL course “ALGEBRA I  EONS037 ”
(181) Certificate submission of NPTEL course “Regression Analysis  EONS036 ”
(182) Classes for backlog courses are being conducted during December 2022 to March 2023
(183) NEW Subject  Certificate submission of NPTEL course “B Tech  5 semester   EONS006  Wildlife Ecology”
(184) NEW Subject  Certificate submission of NPTEL course “BBA   Ist semester   FENH051   Developing Soft Skills and Personality”
(185) NEW Subject  Certificate submission of NPTEL course “BBA   3 semester   FENH051   Developing Soft Skills and Personality”
(186) NEW Subject  Certificate submission of NPTEL course “BTech   3 semester   FENH001  Developing Soft Skills and Personality”
(187) Certificate submission of NPTEL course “Physics of Renewable Energy System  EONS027 ”
(188) Certificate submission NPTEL “EONS006  Wildlife Ecology   B Tech    5 semester   as per list attached
(189) Certificate submission of NPTEL course “FENM003  Innovation  Business Models and Entrepreneurship  ”B  Tech  3rd Semester Sec  as per list shown in Notice
(190) Hostel allotment form BH II
(191) COURSE REGISTRATION FOR UPCOMING V VII semester B Tech
(192) ATTENDANCE GUIDELINES
(193) ATTENDANCE NOTICE FORALL I SEMESTER STUDENTS
(194) ACADEMIC ACTIVITY CALENDAR FOR VARIOUS PROGRAMS OF THE UNTVERSITY FROM NOVEMBER 2022 TO AUGUST 2023
(195) Certificate submission of NPTEL course “EONS006  Wildlife Ecology” B Tech  Sem 5 
(196) Notice for Societies at West Campus
(197) Registration Officer for the Information Technology IIOT   West Campus  for registration of B Tech  VI semester 
(198) Time Table for B Tech  4th and 6th Semester  MEEV  West Campus 
(199) Registration of B Tech  IV  VI   VIII Semester   B Arch IV  Semester  B Design II and IV Semester   B D F Tech  IV and VI Semester  M Tech  II   IV Semester   M Sc  II  Semester   M A  II Semester  BBA IV and VI Semester   MBA II   IV  Semester   MBA IEV 
(200) NOTICE FOR ECAM  BACKLOG SUBJECTS REGISTRATION   4TH SEM
(201) Certificate submission of NPTEL course B Tech    3 semester   FENH009 The Psychology of Language
(202) Certificate submission of NPTEL course B Tech    Sem  3   FENM003  Innovation  Business Models and Entrepreneurship
(203) Deptt of BSE  Backlog Courses Registration of 4th and 6th semester B Tech Biotechnology courses
(204) Time Table for B Tech IIOT 6th Sem
(205) Gazette Report for result of BBA 1st Sem  Summer Semester  Academic Year 2021 22
(206) B Tech M E MPAE   Main Campus  Time Table of 4th 6th and 8th semesters
(207) TIMETABLE ECAM 4TH SEM   6TH SEM NSUT EAST CAMPUS
(208) Dept of ECE  Main Campus  Backlog Courses Registration of the 4th  ECE EIoT   and 6th  ECE   Semester courses
(209) B Tech  ECE EIoT  Main Campus  Time Table of 4th  6th and 8th semesters
(210) B Tech EE  Re Registration of Backlog Courses of 4th and 6th semester
(211) Time Table of 4th  6th and 8th semesters of B Tech Electrical Engineering
(212) Timetable for B Tech  4th and 6th Semester  Civil Engg  and Geoinformatics  West Campus 
(213) Time Table of 4th  6th and 8th semesters of B Tech  ICE 
(214) First Year Sports Selection Trial  Chess  men and Women Category
(215) Notice regarding hostel accommodation in Raman Hostel  BH III 
(216) TIME TABLE OF EVEN SEMESTER OF IT ITNS  MAIN CAMPUS   JAN 2023
(217) BTech CSDA   BTech CSE IoT  BTech CSE  and  MTech AI  Time Table for upcoming even semesters
(218) PRACTICUM DATESHEET   DECEMBER 2022  MA APPLIED PSYCHOLOGY  DEPARTMENT OF HUMANITIES AND SOCIAL SCIENCES  MAIN CAMPUS
(219) FIRST SEMESTER BACKLOG CLASSES FROM 19 12 2022
(220) Admission of the following student are hereby cancelled on their request 
(221) Registration for backlog courses of B Tech  ICE 4th  and 6th semesters of NSUT scheme is open
(222) TIme table of IV  VI and VIII sem of B Tech Biotechnology and II sem M Tech Bioinformatics
(223) Certificate Submission of NPTEL course  WILDLIFE ECOLOGY   BTech 3rd Year 

https   forms gle j8iTsfDzcNWPir3g8
(224) Department of ECE Main Campus   Datesheet for end term practical examination of 3rd semester
(225) Certificate submission of NPTEL course “BTech   3 semester   FENH001   Developing Soft Skills and Personality”
(226) Time Table  CSE CSAI CSDS MAC  for Even Semester Jan 2023 May2023
(227) Notice regarding hostel accommodation in Aryabhata Hostel  BH 1 
(228) Joint seat plan of ug and pg course end term examination Nov  Dec   2022 held on 21 12 2022 shift 1 DETAINED STUDENT ARE NOT ALLOWED
(229) Certificate submission of NPTEL course “EONS006   Wildlife Ecology”
(230) NPTEL Marks Review   M Tech  FULL TIME    Sem  3 EONH102  CLASSICAL SOCIOLOGICAL THEORY 
(231) Backlog Courses for 8th Semester students  CSE Department 
(232) Backlog Courses Form for NSIT students  pass out students  from CSE department
(233) Dept of ICE  NSIT  CBCS DU  Registration of 2nd  4th  6th and 8th Semester Backlog Courses
(234) Certificate Submission of NPTEL course “Innovation  Business Models and Entrepreneurship  FENM003   
(235) Certificate Submission of NPTEL course “Gender and Literature  FENH008   
(236) Department of ECE  Main Campus    Notice regarding further postponement of 3rd semester practical examination
(237) Research Scholars admitted in the Academic Session 2021 2022  Even Semester  shall deposit their Annual Fees in the Academic Session 2022  2023  2nd Year  upto 26 12 2022
(238) Research Scholars admitted in the Academic Session 2020 2021  Even Semester  shall deposit their Annual Fees in the Academic Session 2022  2023  3rd Year  upto 26 12 2022
(239) Research Scholars admitted in the Academic Session 2019 2020  Even Semester  shall deposit their Annual Fees in the Academic Session 2022  2023  4th Year  upto 26 12 2022
(240) Research Scholars admitted in the Academic Session 2018 2019  Even Semester  shall deposit their Annual Fees in the Academic Session 2022  2023  5th Year  upto 26 12 2022
(241) Joint seat plan of ug and pg course end term examination Nov  Dec   2022 held on 19 12 2022 shift 1 DETAINED STUDENT ARE NOT ALLOWED
(242) Notice regarding SEVENTH LIST of Room allotment in RAMANUJAN HOSTEL of First Year Students admitted in NSUT Main Campus
(243) Notice regarding SIXTH LIST of Room Allotment in J C BOSE HOSTEL of First Year Students admitted in Main Campus
(244) I Semester Backlog December 2022 to March 2023
(245) Summary Report B Tech 5th Sem Year 2021 22
(246) Rectified result B Tech 5th Semester Year 2021 22
(247) Summary Report B Tech 3rd Sem Year 2021 22
(248) Rectified result B Tech 3rd Semester Year 2021 22
(249) Subject  Change of venue for Training Viva of EE and ICE students on 16th December 2022 
(250) All 2021 admitted B Tech BBA B Des  B Arch students that the Even semester  IV Semester  is postponed by one week
(251) Classes for 1 semester backlog courses for 2021 batch admitted B Tech students only shall commence from 19 12 2022
(252) None
(253) None
(254) None
(255) None
(256) None
(257) None
(258) None
(259) None
(260) None
(261) None
(262) None
(263) None
(264) None
(265) None
(266) None
(267) None
(268) None
(269) None
(270) None
(271) None
(272) None
(273) None
(274) None
(275) None
(276) None
(277) None
(278) None
(279) None
(280) None
(281) None
(282) None
(283) None
(284) None
(285) None
(286) None
(287) None
(288) None
(289) None
(290) None
(291) None
(292) None
(293) None
(294) None
(295) None
(296) None
(297) None
(298) None
(299) None
(300) None
(301) None
(302) None
(303) None
(304) None
(305) None
(306) None
(307) None
(308) None
(309) None
(310) None
(311) None
(312) None
(313) None
(314) None
(315) None
(316) None
(317) None
(318) None
(319) None
(320) None
(321) None
(322) None
(323) None
(324) None
(325) None
(326) None
(327) None
(328) None
(329) None
(330) None
(331) None
(332) None
(333) None
(334) None
(335) None
(336) None
(337) None
(338) None
(339) None
(340) None
(341) None
(342) None
(343) None
(344) None
(345) None
(346) None
(347) None
(348) None
(349) None
(350) None
(351) None
(352) None
(353) None
(354) None
(355) None
(356) None
(357) None
(358) None
(359) None
(360) None
(361) None
(362) None
(363) None
(364) None
(365) None
(366) None
(367) None
(368) None
(369) None
(370) None
(371) None
(372) None
(373) None
(374) None
(375) None
(376) None
(377) None
(378) None
(379) None
(380) None
(381) None
(382) None
(383) None
(384) None
(385) None
(386) None
(387) None
(388) None
(389) None
(390) None
(391) None
(392) None
(393) None
(394) None
(395) None
(396) None
(397) None
(398) None
(399) None
(400) None
(401) None
(402) None
(403) None
(404) None
(405) None
(406) None
(407) None
(408) None
(409) None
(410) None
(411) None
(412) None
(413) None
(414) None
(415) None
(416) None
(417) None
(418) None
(419) None
(420) None
(421) None
(422) None
(423) None
(424) None
(425) None
(426) None
(427) None
(428) None
(429) None
(430) None
(431) None
(432) None
(433) None
(434) None
(435) None
(436) None
(437) None
(438) None
(439) None
(440) None
(441) None
(442) None
(443) None
(444) None
(445) None
(446) None
(447) None
(448) None
(449) None
(450) None
(451) None
(452) None
(453) None
(454) None
(455) None
(456) None
(457) None
(458) None
(459) None
(460) None
(461) None
(462) None
(463) None
(464) None
(465) None
(466) None
(467) None
(468) None
(469) None
(470) None
(471) None
(472) None
(473) None
(474) None
(475) None
(476) None
(477) None
(478) None
(479) None
(480) None
(481) None
(482) None
(483) None
(484) None
(485) None
(486) None
(487) None
(488) None
(489) None
(490) None
(491) None
(492) None
(493) None
(494) None
(495) None
(496) None
(497) None
(498) None
(499) None
(500) None
(501) None
(502) None
(503) None
(504) None
(505) None
(506) None
(507) None
(508) None
(509) None
(510) None
(511) None
(512) None
(513) None
(514) None
(515) None
(516) None
(517) None
(518) None
(519) None
(520) None
(521) None
(522) None
(523) None
(524) None
(525) None
(526) None
(527) None
(528) None
(529) None
(530) None
(531) None
(532) None
(533) None
(534) None
(535) None
(536) None
(537) None
(538) None
(539) None
(540) None
(541) None
(542) None
(543) None
(544) None
(545) None
(546) None
(547) None
(548) None
(549) None
(550) None
(551) None
(552) None
(553) None
(554) None
(555) None
(556) None
(557) None
(558) None
(559) None
(560) None
(561) None
(562) None
(563) None
(564) None
(565) None
(566) None
(567) None
(568) None
(569) None
(570) None
(571) None
(572) None
(573) None
(574) None
(575) None
(576) None
(577) None
(578) None
(579) None
(580) None
(581) None
(582) None
(583) None
(584) None
(585) None
(586) None
(587) None
(588) None
(589) None
(590) None
(591) None
(592) None
(593) None
(594) None
(595) None
(596) None
(597) None
(598) None
(599) None
(600) None
(601) None
(602) None
(603) None
(604) None
(605) None
(606) None
(607) None
(608) None
(609) None
(610) None
(611) None
(612) joint seat plan of UG and PC course examination held on 23 09 2022  shift 1 
(613) Joint Seat Plan of UG   PG Course examination to be held on 22 09 2022  Shift 2 
(614) Joint Seat Plan of UG   PG Course examination to be held on 22 09 2022  Shift 2 
(615) joint seat plan of UG and PG course examination held on 22 09 2022  shift 3 
(616) joint seat plan of UG and PC course examination held on 22 09 2022  shift 1 
(617) joint seat plan of PG course examination held on 21 09 2022  shift 2 
(618) joint seat plan of UG and PG course examination held on 21 09 2022  shift 3 
(619) Rectified Date sheet for the 1st Semester M Tech Ph D Course work  Mid Sem   Theory Examination scheduled to be held w e f  19 09 2022 to 24 09 2022
(620) revised date sheet of BE 1st 3rd 5th and 7th semester exam septermber 2022  NSIT 
(621) joint seat plan of UG and PG course examination held on 21 09 2022  shift 2 
(622) joint seat plan of UG and PC course examination held on 21 09 2022  shift 1 
(623) NOTICE REGARDING COVID RE EXAM
(624) Date Sheet of B E  Ist  IIIrd  Vth and VIIth Semester examination held on 19th September  2022  NSIT
(625) joint seat plan of UG and PG course examination held on 20 09 2022  shift 2 
(626) joint seat plan of UG and PG course examination held on 20 09 2022  shift 3 
(627) M  Tech  EE 3rd Semester   Mid term Evaluation of M  Tech  Dissertation Phase I 
(628) Gazette Report for result of M Tech  Part time  6th Sem Academic Year 2021 22
(629) Revised B Tech  EE 7th Semester – Presentation Schedule for Project I  EEEEC22  Mid Semester Evaluation 
(630) Additional Invigilator duty chart
(631) joint seat plan of UG and PC course examination held on 20 09 2022  shift 1 
(632) Notification regarding International Hostels
(633) Rectified Date sheet for the IIIrd Semester  Mid Sem   Theory Examination scheduled to be held w e f  19 09 2022 to 24 09 2022
(634) B Tech  ICE 7th Semester – Presentation Schedule for Project I  ICICC22  Mid Semester Evaluation 
(635) Rectified Date sheet for the Vth Semester  Mid Sem   Theory Examination scheduled to be held w e f  19 09 2022 to 24 09 2022
(636) joint seat plan of UG and PC course examination held on 19 09 2022  shift 3 
(637) joint seat plan of UG and PC course examination held on 19 09 2022   shift2  
(638) joint seat plan of UG and PC course examination held on 19 09 2022  shift 1 
(639) invigilator instruction for mid sem examination Sept  2022
(640) Final Duty Chart MID SEM EXAM SEPTEMBER 2022
(641) Instructions to the Students
(642) Date Sheet of B E  Ist  IIIrd  Vth and VIIth Semester examination held on 19th September  2022  NSIT
(643) CCC of I   III Semester  M Tech MBA MBA IEV M Sc  MA
(644) CCC of III Semester  B Tech BBA BDFT B Arch 
(645) CCC of V Semester  B Tech BBA BDFT B Arch 
(646) CCC of B Tech VII Semester
(647) SHORT OF ATTENDANCE  Backlog Students B Tech  III V VII  MID SEM  September 2022 
(648) Final Detention List for Mid Semester Exam  September 2022 
(649) None
(650) None
(651) None
(652) None
(653) None
(654) None
(655) None
(656) None
(657) None
(658) None
(659) None
(660) None
(661) None
(662) None
(663) None
(664) None
(665) None
(666) None
(667) None
(668) None
(669) None
(670) None
(671) None
(672) None
(673) None
(674) None
(675) None
(676) None
(677) None
(678) None
(679) None
(680) None
(681) None
(682) None
(683) None
(684) None
(685) None
(686) None
(687) None
(688) None
(689) None
(690) None
(691) None
(692) None
(693) None
(694) None
(695) None
(696) None
(697) None
(698) None
(699) None
(700) None
(701) None
(702) None
(703) None
(704) None
(705) None
(706) None
(707) None
(708) None
(709) None
(710) None
(711) None
(712) None
(713) None
(714) None
(715) None
(716) None
(717) None
(718) None
(719) None
(720) None
(721) None
(722) None
(723) None
(724) None
(725) None
(726) None
(727) None
(728) None
(729) None
(730) None
(731) None
(732) None
(733) None
(734) None
(735) None
(736) None
(737) None
(738) None
(739) None
(740) None
(741) None
(742) None
(743) None
(744) None
(745) None
(746) None
(747) None
(748) None
(749) None
(750) None
(751) None
(752) None
(753) None
(754) None
(755) None
(756) None
(757) None
(758) None
(759) None
(760) None
(761) None
(762) None
(763) None
(764) None
(765) None
(766) None
(767) None
(768) None
(769) None
(770) None
(771) None
(772) None
(773) None
(774) None
(775) None
(776) None
(777) None
(778) None
(779) None
(780) None
(781) None
(782) None
(783) None
(784) None
(785) None
(786) None
(787) None
(788) None
(789) None
(790) None
(791) None
(792) None
(793) None
(794) None
(795) None
(796) None
(797) None
(798) None
(799) None
(800) None
(801) None
(802) None
(803) None
(804) None
(805) None
(806) None
(807) None
(808) None
(809) None
(810) None
(811) None
(812) None
(813) None
(814) None
(815) None
(816) None
(817) None
(818) None
(819) None
(820) None
(821) None
(822) None
(823) None
(824) None
(825) None
(826) None
(827) None
(828) None
(829) None
(830) None
(831) None
(832) None
(833) None
(834) None
(835) None
(836) None
(837) None
(838) None
(839) None
(840) None
(841) None
(842) None
(843) None
(844) None
(845) None
(846) None
(847) None
(848) None
(849) None
(850) None
(851) None
(852) None
(853) None
(854) None
(855) None
(856) None
(857) None
(858) None
(859) None
(860) None
(861) None
(862) None
(863) None
(864) None
(865) None
(866) None
(867) None
(868) None
(869) None
(870) None
(871) None
(872) None
(873) None
(874) None
(875) None
(876) None
(877) None
(878) None
(879) None
(880) None
(881) None
(882) None
(883) None
(884) None
(885) None
(886) None
(887) None
(888) None
(889) None
(890) None
(891) None
(892) None
(893) None
(894) None
(895) None
(896) None
(897) None
(898) None
(899) None
(900) None
(901) None
(902) None
(903) None
(904) None
(905) None
(906) None
(907) None
(908) None
(909) None
(910) None
(911) None
(912) None
(913) None
(914) None
(915) None
(916) None
(917) None
(918) None
(919) None
(920) None
(921) None
(922) None
(923) None
(924) None
(925) None
(926) None
(927) None
(928) None
(929) None
(930) None
(931) None
(932) None
(933) None
(934) None
(935) None
(936) None
(937) None
(938) None
(939) None
(940) None
(941) None
(942) None
(943) None
(944) None
(945) None
(946) None
(947) None
(948) None
(949) None
(950) None
(951) None
(952) None
(953) None
(954) None
(955) None
(956) None
(957) None
(958) None
(959) None
(960) None
(961) None
(962) None
(963) None
(964) None
(965) None
(966) None
(967) None
(968) None
(969) None
(970) None
(971) None
(972) None
(973) None
(974) None
(975) None
(976) None
(977) None
(978) None
(979) None
(980) None
(981) None
(982) None
(983) None
(984) None
(985) None
(986) None
(987) None
(988) None
(989) None
(990) None
(991) None
(992) None
(993) None
(994) None
(995) None
(996) None
(997) None
(998) None
(999) None
(1000) None
(1001) None
(1002) None
(1003) None
(1004) None
(1005) None
(1006) None
(1007) None
(1008) None
(1009) None
(1010) None
(1011) None
(1012) None
(1013) None
(1014) None
(1015) None
(1016) None
(1017) None
(1018) None
(1019) None
(1020) None
(1021) None
(1022) None
(1023) None
(1024) None
(1025) None
(1026) None
(1027) None
(1028) None
(1029) None
(1030) None
(1031) None
(1032) None
(1033) None
(1034) None
(1035) None
(1036) None
(1037) None
(1038) None
(1039) None
(1040) None
(1041) None
(1042) None
(1043) None
(1044) None
(1045) None
(1046) None
(1047) None
(1048) None
(1049) None
(1050) None
(1051) None
(1052) None
(1053) None
(1054) None
(1055) None
(1056) None
(1057) None
(1058) None
(1059) None
(1060) None
(1061) None
(1062) None
(1063) None
(1064) None
(1065) None
(1066) None
(1067) None
(1068) None
(1069) None
(1070) None
(1071) None
(1072) None
(1073) None
(1074) None
(1075) None
(1076) None
(1077) None
(1078) None
(1079) None
(1080) None
(1081) None
(1082) None
(1083) None
(1084) None
(1085) None
(1086) None
(1087) None
(1088) None
(1089) None
(1090) None
(1091) None
(1092) None
(1093) None
(1094) None
(1095) None
(1096) None
(1097) None
(1098) None
(1099) None
(1100) None
(1101) None
(1102) None
(1103) None
(1104) None
(1105) None
(1106) None
(1107) None
(1108) None
(1109) None
(1110) None
(1111) None
(1112) None
(1113) None
(1114) None
(1115) None
(1116) None
(1117) None
(1118) None
(1119) None
(1120) None
(1121) None
(1122) None
(1123) None
(1124) None
(1125) None
(1126) None
(1127) None
(1128) None
(1129) None
(1130) None
(1131) None
(1132) None
(1133) None
(1134) None
(1135) None
(1136) None
(1137) None
(1138) None
(1139) None
(1140) None
(1141) None
(1142) None
(1143) None
(1144) None
(1145) None
(1146) None
(1147) None
(1148) None
(1149) None
(1150) None
(1151) None
(1152) None
(1153) None
(1154) None
(1155) None
(1156) None
(1157) None
(1158) None
(1159) None
(1160) None
(1161) None
(1162) None
(1163) None
(1164) None
(1165) None
(1166) None
(1167) None
(1168) None
(1169) None
(1170) None
(1171) None
(1172) None
(1173) None
(1174) None
(1175) None
(1176) None
(1177) None
(1178) None
(1179) None
(1180) None
(1181) None
(1182) None
(1183) None
(1184) None
(1185) None
(1186) None
(1187) None
(1188) None
(1189) None
(1190) None
(1191) None
(1192) None
(1193) None
(1194) None
(1195) None
(1196) None
(1197) None
(1198) None
(1199) None
(1200) None
(1201) None
(1202) None
(1203) None
(1204) None
(1205) None
(1206) None
(1207) None
(1208) None
(1209) None
(1210) None
(1211) None
(1212) None
(1213) None
(1214) None
(1215) None
(1216) None
(1217) None
(1218) None
(1219) None
(1220) None
(1221) None
(1222) None
(1223) None
(1224) None
(1225) None
(1226) None
(1227) None
(1228) None
(1229) None
(1230) None
(1231) None
(1232) None
(1233) None
(1234) None
(1235) None
(1236) None
(1237) None
(1238) None
(1239) None
(1240) None
(1241) None
(1242) None
(1243) None
(1244) None
(1245) None
(1246) None
(1247) None
(1248) None
(1249) None
(1250) None
(1251) None
(1252) None
(1253) None
(1254) None
(1255) None
(1256) None
(1257) None
(1258) None
(1259) None
(1260) None
(1261) None
(1262) None
(1263) None
(1264) None
(1265) None
(1266) None
(1267) None
(1268) None
(1269) None
(1270) None
(1271) None
(1272) None
(1273) None
(1274) None
(1275) None
(1276) None
(1277) None
(1278) None
(1279) None
(1280) None
(1281) None
(1282) None
(1283) None
(1284) None
(1285) None
(1286) None
(1287) None
(1288) None
(1289) None
(1290) None
(1291) None
(1292) None
(1293) None
(1294) None
(1295) None
(1296) None
(1297) None
(1298) None
(1299) None
(1300) None
(1301) None
(1302) None
(1303) None
(1304) None
(1305) None
(1306) None
(1307) None
(1308) None
(1309) None
(1310) None
(1311) None
(1312) None
(1313) None
(1314) None
(1315) None
(1316) None
(1317) None
(1318) None
(1319) None
(1320) None
(1321) None
(1322) None
(1323) None
(1324) None
(1325) None
(1326) None
(1327) None
(1328) None
(1329) None
(1330) None
(1331) None
(1332) None
(1333) None
(1334) None
(1335) None
(1336) None
(1337) None
(1338) None
(1339) None
(1340) None
(1341) None
(1342) None
(1343) None
(1344) None
(1345) None
(1346) None
(1347) None
(1348) None
(1349) None
(1350) None
(1351) None
(1352) None
(1353) None
(1354) None
(1355) None
(1356) None
(1357) None
(1358) None
(1359) None
(1360) None
(1361) None
(1362) None
(1363) None
(1364) None
(1365) None
(1366) None
(1367) None
(1368) None
(1369) None
(1370) None
(1371) None
(1372) None
(1373) None
(1374) None
(1375) None
(1376) None
(1377) None
(1378) None
(1379) None
(1380) None
(1381) None
(1382) None
(1383) None
(1384) None
(1385) None
(1386) None
(1387) None
(1388) None
(1389) None
(1390) None
(1391) None
(1392) None
(1393) None
(1394) None
(1395) None
(1396) None
(1397) None
(1398) None
(1399) None
(1400) None
(1401) None
(1402) None
(1403) None
(1404) None
(1405) None
(1406) None
(1407) None
(1408) None
(1409) None
(1410) None
(1411) None
(1412) None
(1413) None
(1414) None
(1415) None
(1416) None
(1417) None
(1418) None
(1419) None
(1420) None
(1421) None
(1422) None
(1423) None
(1424) None
(1425) None
(1426) None
(1427) None
(1428) None
(1429) None
(1430) None
(1431) None
(1432) None
(1433) None
(1434) None
(1435) None
(1436) None
(1437) None
(1438) None
(1439) None
(1440) None
(1441) None
(1442) None
(1443) None
(1444) None
(1445) None
(1446) None
(1447) None
(1448) None
(1449) None
(1450) None
(1451) None
(1452) None
(1453) None
(1454) None
(1455) None
(1456) None
(1457) None
(1458) None
(1459) None
(1460) None
(1461) None
(1462) None
(1463) None
(1464) None
(1465) None
(1466) None
(1467) None
(1468) None
(1469) None
(1470) None
(1471) None
(1472) None
(1473) None
(1474) None
(1475) None
(1476) None
(1477) None
(1478) None
(1479) None
(1480) None
(1481) None
(1482) None
(1483) None
(1484) None
(1485) None
(1486) None
(1487) None
(1488) None
(1489) None
(1490) None
(1491) None
(1492) None
(1493) None
(1494) None
(1495) None
(1496) None
(1497) None
(1498) None
(1499) None
(1500) None
(1501) None
(1502) None
(1503) None
(1504) None
(1505) None
(1506) None
(1507) None
(1508) None
(1509) None
(1510) None
(1511) None
(1512) None
(1513) None
(1514) None
(1515) None
(1516) None
(1517) None
(1518) None
(1519) None
(1520) None
(1521) None
(1522) None
(1523) None
(1524) None
(1525) None
(1526) None
(1527) None
(1528) None
(1529) None
(1530) None
(1531) None
(1532) None
(1533) None
(1534) None
(1535) None
(1536) None
(1537) None
(1538) None
(1539) None
(1540) None
(1541) None
(1542) None
(1543) None
(1544) None
(1545) None
(1546) None
(1547) None
(1548) None
(1549) None
(1550) None
(1551) None
(1552) None
(1553) None
(1554) None
(1555) None
(1556) None
(1557) None
(1558) None
(1559) None
(1560) None
(1561) None
(1562) None
(1563) None
(1564) None
(1565) None
(1566) None
(1567) None
(1568) None
(1569) None
(1570) None
(1571) None
(1572) None
(1573) None
(1574) None
(1575) None
(1576) None
(1577) None
(1578) None
(1579) None
(1580) None
(1581) None
(1582) None
(1583) None
(1584) None
(1585) None
(1586) None
(1587) None
(1588) None
(1589) None
(1590) None
(1591) None
(1592) None
(1593) None
(1594) None
(1595) None
(1596) None
(1597) None
(1598) None
(1599) None
(1600) None
(1601) None
(1602) None
(1603) None
(1604) None
(1605) None
(1606) None
(1607) None
(1608) None
(1609) None
(1610) None
(1611) None
(1612) None
(1613) None
(1614) None
(1615) None
(1616) None
(1617) None
(1618) None
(1619) None
(1620) None
(1621) None
(1622) None
(1623) None
(1624) None
(1625) None
(1626) None
(1627) None
(1628) None
(1629) None
(1630) None
(1631) None
(1632) None
(1633) None
(1634) None
(1635) None
(1636) None
(1637) None
(1638) None
(1639) None
(1640) None
(1641) None
(1642) None
(1643) None
(1644) None
(1645) None
(1646) None
(1647) None
(1648) None
(1649) None
(1650) None
(1651) None
(1652) None
(1653) None
(1654) None
(1655) None
(1656) None
(1657) None
(1658) None
(1659) None
(1660) None
(1661) None
(1662) None
(1663) None
(1664) None
(1665) None
(1666) None
(1667) None
(1668) None
(1669) None
(1670) None
(1671) None
(1672) None
(1673) None
(1674) None
(1675) None
(1676) None
(1677) None
(1678) None
(1679) None
(1680) None
(1681) None
(1682) None
(1683) None
(1684) None
(1685) None
(1686) None
(1687) None
(1688) None
(1689) None
(1690) None
(1691) None
(1692) None
(1693) None
(1694) None
(1695) None
(1696) None
(1697) None
(1698) None
(1699) None
(1700) None
(1701) None
(1702) None
(1703) None
(1704) None
(1705) None
(1706) None
(1707) None
(1708) None
(1709) None
(1710) None
(1711) None
(1712) None
(1713) None
(1714) None
(1715) None
(1716) None
(1717) None
(1718) None
(1719) None
(1720) None
(1721) None
(1722) None
(1723) None
(1724) None
(1725) None
(1726) None
(1727) None
(1728) None
(1729) None
(1730) None
(1731) None
(1732) None
(1733) None
(1734) None
(1735) None
(1736) None
(1737) None
(1738) None
(1739) None
(1740) None
(1741) None
(1742) None
(1743) None
(1744) None
(1745) None
(1746) None
(1747) None
(1748) None
(1749) None
(1750) None
(1751) None
(1752) None
(1753) None
(1754) None
(1755) None
(1756) None
(1757) None
(1758) None
(1759) None
(1760) None
(1761) None
(1762) None
(1763) None
(1764) None
(1765) None
(1766) None
(1767) None
(1768) None
(1769) None
(1770) None
(1771) None
(1772) None
(1773) None
(1774) None
(1775) None
(1776) None
(1777) None
(1778) None
(1779) None
(1780) None
(1781) None
(1782) None
(1783) None
(1784) None
(1785) None
(1786) None
(1787) None
(1788) None
(1789) None
(1790) None
(1791) None
(1792) None
(1793) None
(1794) None
(1795) None
(1796) None
(1797) None
(1798) None
(1799) None
(1800) None
(1801) None
(1802) None
(1803) None
(1804) None
(1805) None
(1806) None
(1807) None
(1808) None
(1809) None
(1810) None
(1811) None
(1812) None
(1813) None
(1814) None
(1815) None
(1816) None
(1817) None
(1818) None
(1819) None
(1820) None
(1821) None
(1822) None
(1823) None
(1824) None
(1825) None
(1826) None
(1827) None
(1828) None
(1829) None
(1830) None
(1831) None
(1832) None
(1833) None
(1834) None
(1835) None
(1836) None
(1837) None
(1838) None
(1839) None
(1840) None
(1841) None
(1842) None
(1843) None
(1844) None
(1845) None
(1846) None
(1847) None
(1848) None
(1849) None
(1850) None
(1851) None
(1852) None
(1853) None
(1854) None
(1855) None
(1856) None
(1857) None
(1858) None
(1859) None
(1860) None
(1861) None
(1862) None
(1863) None
(1864) None
(1865) None
(1866) None
(1867) None
(1868) None
(1869) None
(1870) None
(1871) None
(1872) None
(1873) None
(1874) None
(1875) None
(1876) None
(1877) None
(1878) None
(1879) None
(1880) None
(1881) None
(1882) None
(1883) None
(1884) None
(1885) None
(1886) None
(1887) None
(1888) None
(1889) None
(1890) None
(1891) None
(1892) None
(1893) None
(1894) None
(1895) None
(1896) None
(1897) None
(1898) None
(1899) None
(1900) None
(1901) None
(1902) None
(1903) None
(1904) None
(1905) None
(1906) None
(1907) None
(1908) None
(1909) None
(1910) None
(1911) None
(1912) None
(1913) None
(1914) None
(1915) None
(1916) None
(1917) None
(1918) None
(1919) None
(1920) None
(1921) None
(1922) None
(1923) None
(1924) None
(1925) None
(1926) None
(1927) None
(1928) None
(1929) None
(1930) None
(1931) None
(1932) None
(1933) None
(1934) None
(1935) None
(1936) None
(1937) None
(1938) None
(1939) None
(1940) None
(1941) None
(1942) None
(1943) None
(1944) None
(1945) None
(1946) None
(1947) None
(1948) None
(1949) None
(1950) None
(1951) None
(1952) None
(1953) None
(1954) None
(1955) None
(1956) None
(1957) None
(1958) None
(1959) None
(1960) None
(1961) None
(1962) None
(1963) None
(1964) None
(1965) None
(1966) None
(1967) None
(1968) None
(1969) None
(1970) None
(1971) None
(1972) None
(1973) None
(1974) None
(1975) None
(1976) None
(1977) None
(1978) None
(1979) None
(1980) None
(1981) None
(1982) None
(1983) None
(1984) None
(1985) None
(1986) None
(1987) None
(1988) None
(1989) None
(1990) None
(1991) None
(1992) None
(1993) None
(1994) None
(1995) None
(1996) None
(1997) None
(1998) None
(1999) None
(2000) None
(2001) None
(2002) None
(2003) None
(2004) None
(2005) None
(2006) None
(2007) None
(2008) None
(2009) None
(2010) None
(2011) None
(2012) None
(2013) None
(2014) None
(2015) None
(2016) None
(2017) None
(2018) None
(2019) None
(2020) None
(2021) None
(2022) None
(2023) None
(2024) None
(2025) None
(2026) None
(2027) None
(2028) None
(2029) None
(2030) None
(2031) None
(2032) None
(2033) None
(2034) None
(2035) None
(2036) None
(2037) None
(2038) None
(2039) None
(2040) None
(2041) None
(2042) None
(2043) None
(2044) None
(2045) None
(2046) None
(2047) None
(2048) None
(2049) None
(2050) None
(2051) None
(2052) None
(2053) None
(2054) None
(2055) None
(2056) None
(2057) None
(2058) None
(2059) None
(2060) None
(2061) None
(2062) None
(2063) None
(2064) None
(2065) None
(2066) None
(2067) None
(2068) None
(2069) None
(2070) None
(2071) None
(2072) None
(2073) None
(2074) None
(2075) None
(2076) None
(2077) None
(2078) None
(2079) None
(2080) None
(2081) None
(2082) None
(2083) None
(2084) None
(2085) None
(2086) None
(2087) None
(2088) None
(2089) None
(2090) None
(2091) None
(2092) None
(2093) None
(2094) None
(2095) None
(2096) None
(2097) None
(2098) None
(2099) None
(2100) None
(2101) None
(2102) None
(2103) None
(2104) None
(2105) None
(2106) None
(2107) None
(2108) None
(2109) None
(2110) None
(2111) None
(2112) None
(2113) None
(2114) None
(2115) None
(2116) None
(2117) None
(2118) None
(2119) None
(2120) None
(2121) None
(2122) None
(2123) None
(2124) None
(2125) None
(2126) None
(2127) None
(2128) None
(2129) None
(2130) None
(2131) None
(2132) None
(2133) None
(2134) None
(2135) None
(2136) None
(2137) None
(2138) None
(2139) None
(2140) None
(2141) None
(2142) None
(2143) None
(2144) None
(2145) None
(2146) None
(2147) None
(2148) None
(2149) None
(2150) None
(2151) None
(2152) None
(2153) None
(2154) None
(2155) None
(2156) None
(2157) None
(2158) None
(2159) None
(2160) None
(2161) None
(2162) None
(2163) None
(2164) None
(2165) None
(2166) None
(2167) None
(2168) None
(2169) None
(2170) None
(2171) None
(2172) None
(2173) None
(2174) None
(2175) None
(2176) None
(2177) None
(2178) None
(2179) None
(2180) None
(2181) None
(2182) None
(2183) None
(2184) None
(2185) None
(2186) Time Table  B  Tech   Civil Engineering  III Semester w e f 01 September 2021
(2187) Google class room Codes of the Courses  BE B Tech  III V VII semester  and M Tech  offered by ECE Department
(2188) Links for Uploading Course Registration Form   3rd Semester   BBA  B F Tech  B Tech  MBA
(2189) Class code for MBAH305 Cross Cultural Management
(2190) Class code for EO013 OD
(2191) Google classroom codes for ME MPAE   III  V  VII Semester B Tech  B E  and I and III Semester M  Tech 
(2192) Links for Uploading Course Registration Form   B E 7th Semester
(2193) Just code it  online event
(2194) BTech IT IOT  3rd Sem West Campus revised Time Table
(2195) 5 day Online Workshop on Human Value  SEPTEMBER Month  r n Faculties are invited to Join the Course 
(2196) updated GOOGLE CLASS CODES FOR B TECH  ECAM  3RD SEM NSUT EAST CAMPUS
(2197) TIMETABLE ECAM 3RD SEM NSUT EAST CAMPUS
(2198) online ATAL FDP on Wastewater Treatment  Recycle and Reuse w e f   6 to 10 September 2021
(2199) 1st Semester Backlog Papers’ Registration for NSUT students
(2200) 1st Semester Backlog Papers’ Registration for NSIT  DU students
(2201) Circular  APAR for MACP
(2202) Practical Exam Datesheet for B E   old scheme   Department of ECE  Main Campus 
(2203) All the students who are trying to pay University Annual fees but gets reverted back from the bank
(2204) All the students who have not paid University Annual Fees due to personal reasons only  except Loan problem 
(2205) Classes for Odd Semester 2021 22
(2206) Registration officers for ODD Sem 2021 22
(2207) Time Table of Odd semester   MBA 3rd Sem  MBA  IEV 3rd Sem  BBA 3rd Sem  BBA 5th Sem 
(2208) Credit Requirement for Choice Based Credit System  CBCS  Scheme of NSIT  B E  and M Tech  Courses
(2209) NOTICE  FE 1st semester BACKLOG    NSUT Student 5th semester  read it carefully 
(2210) FE Courses NOTICE  for III Semester BTech BBA Student of NSUT  Backlog students    UPDATED LIST NPTEL Course alloted for III Sem  2nd and Final List    Last Date of Enrollment in NPTEL is EXTENDED 30 08 2021 before 17 00pm  
(2211) Interview Schedule for Admission to M  Tech Biochemical Engineering and Bioinformatics 
(2212) Invitation to all the employees and students of NSUT  FIT INDIA FREEDOM RUN 2 0 r n28th August 2021 
(2213) Sem VII Time table of EO 030  Polymer Science and Technology r nOOD SEM 2021 22
(2214) M  Tech  Computer Engineering 4th Semester  End Term Evaluation  4th Sem Dissertation Phase II   CSCSC06
(2215) MTech Timetable NSUT EAST CAMPUS ODD SEM 2021 22   Online mode 
(2216) Notice for relaxation of fees
(2217) PRACTICAL DATE SHEET OF VT  2   CHEMISTRY  SEM IIrn FCCH008  Env Sc   Green Sc    BTCH02  Advance Chem
(2218) Electives for BBA and MBA
(2219) FE Courses NOTICE  for III Semester BTech BBA Student of NSUT  Backlog students    UPDATED LIST NPTEL Course alloted for III Sem   Last Date of Enrollment in NPTEL is 23 08 2021 before 17 00pm  
(2220) DATE SHEET BE MPAE PRACTICAL EXAMINATION EVEN SEM OLD SCHEME FOT  DU AUG 2021
(2221) NOTICE  for newly inducted faculty in NSUT   ROLE of MENTOR in NPTEL for 3rd Semester course  Btech BBA 
(2222) FE Courses NOTICE  for III Semester BTech BBA Student of NSUT  Backlog students    GUIDELINES   HOW TO ENROLL IN NPTEL COURSE  
(2223) FE Courses NOTICE  for III Semester BTech BBA Student of NSUT  Backlog students    NPTEL Course alloted for III Sem   Last Date of Enrollment in NPTEL is 23 08 2021 before 17 00pm  
(2224) Change in the discipline centric elective for V Semester B Tech   ME
(2225) B Tech B E    ME and MPAE   The deadline for completing the Google form for backlog courses is 20 08 2021
(2226) BE 8th sem result examination held in June July 2021 for NSIT student
(2227) BE 6th sem result examination held in June July 2021 for NSIT students
(2228) BE 4th sem result examination held in June July 2021 for NSIT students
(2229) BE 2nd sem result examination held in June July 2021 for NSIT students
(2230) All the faculties and students are required to register in the E course on Vulnerability Atlas of India 
(2231) National level Webinar for faculty members 
(2232) M  Tech  Computer Engineering 4th Semester  End Term Evaluation  4th Sem Dissertation Phase II   CSCSC06
(2233) ENROLLMENT OF FACULTY AND STUDENTS AS TECHNOGRAHIS TO LEARN THE USE OF INNOVATIVE TECHNOLOGIES
(2234) AWARENESS PROGRAM ON CURRENT TRENDS IN RESEARCH   INNOVATION  NATIONAL LEVEL WEBINAR FOR FACULTY MEMBERS
(2235) B E – MPAE   ME – Project I  MAC23   MEC24 
(2236) modified M Tech Time Table ESV SP CN  I III SEM  2021 22
(2237) BTech IT IOT  3rd Sem West Campus Time Table
(2238) Backlog Reg  NSUT  B Tech   MPAE   V Semester  Odd 2021 
(2239) Backlog Reg  NSUT  B Tech   ME   V Semester  Odd 2021 
(2240) Backlog Reg  B E   ME   VII Semester  Odd 2021 
(2241) Backlog Reg  B E   MPAE   VII Semester  Odd 2021 
(2242) Fee notice of Re registration B E   1st  3rd  5th   7th semester  CBCS scheme for NSIT students 
(2243) NOTICE   B E   ECE  Seventh Semester –Project I  ECC23  for academic session 2021 2022
(2244) Resolve 75 Azadi ka Amrit Mahotsav   Fit India Freedom Run 2 0  
(2245) Time Table B Tech CSDA 3rd semester   East Campus
(2246) Time Table ECE B E  B Tech  2021 22
(2247) Deptt  of Physics Time Table of B E  7th Semester Open Elective  EO033 Material Physics 
(2248) NSUT Examination Cell
(2249) FINAL SCHEDULE FOR THE ONLINE CONDUCT OF LT 2  2nd SEMESTER  FOR ALL STREAMS IN THE FORM OF ORAL  WRITTEN  if required  COVERING FULL SYALLBUS B Tech   M Tech    BBA  NSUT MAIN  EAST  WEST CAMPUSES
(2250) 14th August 2021  Saturday  is Working Day
(2251) NSUT Email Directory  Offices  HoDs  DEANs  Timetable Coordinators  Warden  Faculty  Guest Faculty 
(2252) B Tech   3rd  5th Sem ME EV  and ME   West Campus ODD 2021
(2253) ME MPAE  Time table of B Tech   3rd  5th and B E  7th semesters
(2254) Invitation for collaboration with HPAIR  2022  Delhi 
(2255) M Tech Time Table IE EE  I III SEM  2021 22
(2256) Time table of 3rd  5th and 7th semesters of B Tech ICE EE
(2257) Time table of 3rd  5th and 7th semesters of B Tech B E  Biotechnology
(2258) Fees Payment Through Loan
(2259) B Tech  ICE  NSUT 3rd Semester Backlog papers  Registration for Backlog Courses of the 3rd semester  NSUT CBCS
(2260) B Tech  EE  NSUT 3rd Semester Backlog papers  Registration for Backlog Courses of the 3rd semester  NSUT CBCS
(2261) B Tech  ICE  NSIT  DU CBCS 3rd  5th and 7th Semester Backlog papers  Registration for Backlog Courses of the 3rd  5th and 7th semester  NSIT DU CBCS
(2262) TIME TABLE  AUG DEC 2021    M TECH   CS    MAIN CAMPUS
(2263) TIME TABLE  AUG   DEC 2021    B E    B TECH  COE  CSAI  CSDS  MAC    MAIN CAMPUS
(2264) TIME TABLE I T  DEPARTMENT NSUT MAIN CAMPUS
(2265) B E   BT  NSIT  DU CBCS 3rd  5th and 7th Semester Backlog papers  Registration for Backlog Courses of the 3rd  5th and 7th semester  NSIT DU CBCS
(2266) B Tech  BT  NSUT 3rd Semester Backlog papers  Registration for Backlog Courses of the 3rd semester  NSUT CBCS
(2267) TIMETABLE  3RD SEM  ECAM  NSUT EAST CAMPUS
(2268) Date sheet VT2  FOR ECAM  NSUT EAST CAMPUS
(2269) Datesheet VT 2 Humanities   Social Sciences
(2270) Notice for Celebration of 75th Independence Day on 15th August 2021 
(2271) Result of BBA 4th Semester Academic Session 2020 21
(2272) Result of  M Tech  Parttime  1st Semester Academic Session 2020 21
(2273) Result of M Tech  Fulltime  1st Semester Academic Session 2020 21
(2274) Result of Ph D 1st Semester Academic Session 2020 21
(2275) OFFICE ORDER
(2276) B Tech  ECE  NSIT  DU CBCS 3rd  5th and 7th Semester Backlog papers  Registration for Backlog Courses of the 3rd  5th and 7th semester  NSIT DU CBCS
(2277) B Tech  ECE  NSUT 3rd Semester Backlog papers  Registration for Backlog Courses of the 3rd semester  NSUT CBCS
(2278) Date Sheet of VT 2 Examination for B Tech M Tech  ICE EE Department   2nd semester
(2279) Revised   VT2 Datesheet for B  Tech  2nd Semester   Deptt  of ECE  Main Campus 
(2280) Schedule for the Online Conduct of LT 2 2nd Sem for all Streams of all Campuses
(2281) B Tech  ICE EE  4th Semester students  Registration for EG courses in the 5th semester
(2282) VT2 Datesheet for M Tech  2nd Semester   Deptt  of ECE  Main Campus 
(2283) VT2 Datesheet for B Tech  2nd Semester   Deptt  of ECE  Main Campus 
(2284) Azadi Ka Amrit Mahotsav  lndia 75    आजादी का अमृत महोत्सव  भारत 75
(2285) VT2 schedule for M Tech  2nd sem 
(2286) FE course offered for III semester  BTECH   BBA  NSUT Main Campus  East Campus  West Campus  students  both REGULAR   BACKLOG  from NPTEL  Aug Dec 2021 
(2287) VT2 Date sheet of B Tech  Second Semester  and M Tech   Second Semester  of IT Department Subjects
(2288) Google Form for backlog courses for 3rd 5th 7th Semester   B Tech   IT 
(2289) Revised Practical Assesment VT 2  Online mode  schedule  2nd Semester  B Tech M Tech   ME Department  NSUT
(2290) VT2 Date Sheet for B Tech  Sem 2 and M Tech  Sem 2 of CSE Dept
(2291) B Tech  ECE  4th Semester students  Registration for EG courses in the 5th semester
(2292) NOTICE    SEVENTH SEMESTER B TECH PROJECT FOR ICE STUDENTS
(2293) Notification Regarding Education Loan  REMINDER   I 
(2294) SCHOLARSHIP FOR BBA  MBA STUDENTS FROM INDSAM  www indsam com scholarship pdf  LAST DATE is 30 September  2021 
(2295) Fee Structure for 2020 admitted students
(2296) Fee Structure for 2019 admitted students
(2297) Fee Structure for 2018 admitted students
(2298) Revised Schedule for 4th Semester M  Tech  Dissertation evaluation
(2299) Orientation Program for BBA and MBA Students for Open Elective and Specialization subjects 
(2300) Schedule of Interview Dates for Ph D  Admissions in Faculty of Science and Humanities English 
(2301) Regarding submission of M  Tech  dissertation form 
(2302) NOTICE  FE BACKLOG  An information 
(2303) M Tech  SP CN ESV  students of 4th Semester for Dissertation Submission
(2304) M  Tech  Computer Engineering Dissertation Phase II
(2305) Google Form for EG Choice Preferences and backlog courses data for 5th Semester   B Tech   BT  Students
(2306) Notice regarding End Semester Evaluation of 4th Semester M  Tech  Dissertation Phase II  ECSPC06 ECCNC06 ECEVC06  Students
(2307) Class code of B E  old scheme examination August 2021  2nd  4th  6th   8th semester 
(2308) Discussion about ED and EG   B Tech  COE CSAI MAC  IV Semester
(2309) Choices for Elective Courses   M Tech  CS  III Semester
(2310) 4th semester result of MBA   MBA IEV
(2311) B E  7th semester old scheme result exam held in January 2021
(2312) B E  5th semester old scheme result exam held in January 2021
(2313) B E  3rd semester old scheme result exam held in January 2021
(2314) B E  1st semester old scheme result exam held in January 2021
(2315) BACKLOG  IMPROVEMENT COURSES   COE CSE DEPARTMENT   B E  B TECH    M TECH
(2316) Class code of B E  old scheme examination  2nd  4th  6th   8th semester  held in August 2021 
(2317) NOTICE  for newly inducted faculty in NSUT   ROLE of MENTOR
(2318) FINAL ALLOTMENT to those who were left for EO Courses  for IV Semester BTech Student of NSUT   NPTEL Course alloted for V Sem
(2319) All administrative offices of NSUT shall be functional with 100  strength
(2320) M  Tech   SP CN ESV  2nd Semester students of ECE  Elective subject choice preferences for 3rd semester
(2321) Google Form for ED EG Choice Preferences for 5th Semester   B Tech   IT 
(2322) Concept of open electives and foundation electives by Dr  Sachin Sharma
(2323) COURSE REGISTRATION FOR UPCOMING III semester B F Tech 
(2324) Various links related to academic schemes
(2325) Concept of Linked courses and Prerequisite by Dr  Tarun Kumar Rawat
(2326) Concept of minor specialization and pool of electives by Dr  Poonam Rani
(2327) Video  slot based time table by Dr  Abhishek Tevatia
(2328) slot based TT by Dr  Abhishek Tevatia
(2329) NOTICE  for EO Backlog in MTech  for NSUT Students 
(2330) NOTICE  for FE Backlog in FIRST SEMESTER  for NSUT Students 
(2331) NOTICE  for FE Backlog Students of NSIT  DU 
(2332) HOSTEL ROOM VACATE NOTICE
(2333) Google Form links for B Tech  COE   CSAI   MAC    V Semester   Choices for ED and EG courses
(2334) Instructions   Guidelines for students II  IV  VI   VIII  SEMESTER exam held in August 2021  NSIT 
(2335) Final date sheet for the B E  2nd 4th 6th   8th  OS  semester online examination held in August 2021  NSIT 
(2336) Google Form for ED EG Choice Preferences for 5th Semester   B Tech   BT  Students
(2337) Online meeting related to ED and EG courses  CSE department V semester 
(2338) B Tech  ICE EE  4th Semester students  Online meeting notice for Electives of 5th Sem
(2339) B  Tech   ICE EE  4th Semester students  Elective subjects choice preferences for 5th semester
(2340) B Tech   IV Semester   ME MPAE  Students   Online Meeting Notice   V Semester Odd 2021    ED EG Electives Orientation
(2341) B Tech   MPAE   IV Semester   ED EG Choice Preferences for V Semester  Odd 2021 
(2342) B Tech   ME   IV Semester   ED EG Choice Preferences for V Semester  Odd 2021 
(2343) Rectified result of 3rd Sem B  Tech Academic Year 2020 21
(2344) Summary Report about discrepancy in the result of 3rd semester  B  Tech  academic year  2020 21  declared by NSUT on 7th March 2021
(2345) MESSAGE FOR STUDENTS WHO DO NOT REGISTER FOR COURSES AS PER THE DEAD LINE GIVEN IN THE REGISTRATION SCHEDULE 
(2346) COURSE REGISTRATION FOR UPCOMING BBA MBA MBA IEV III V Semester  as applicable 
(2347) COURSE REGISTRATION FOR UPCOMING III semester M Tech 
(2348) COURSE REGISTRATION FOR UPCOMING III semester B Tech 
(2349) COURSE REGISTRATION FOR UPCOMING VII semester B E
(2350) COURSE REGISTRATION FOR UPCOMING V semester B Tech 
(2351) B  Tech   ECE  4th Semester students  Elective subjects choice preferences for 5th semester
(2352) Scheme of Courses of ECE  IT  COE  CSAI  CSDS  MAC  MPAE  ME  EE  and ICE including Prerequisites and Linked Courses from 1st 5th semester
(2353) 4th Semester B Tech  BT  Students  Online Meeting Notice for Electives of 5th Sem
(2354) Tentative date sheet for the B E  2nd 4th  6th   8th semester online examination held in August 2021  NSIT 
(2355) 5 days online Workshops Incorporating Universal Human Values in Technical Education MONTH of AUGUST
(2356) B Tech  ECE  4th Semester students  Online meeting notice for Electives of 5th Sem
(2357) EO Courses NOTICE for IV Semester BTech Student of NSUT   NPTEL Course alloted for V Sem
(2358) Online National Capacity Building Workshop for Youth Engagement
(2359) Revised Date Sheet for the Ph D  Written Test to be conducted in ONLINE MODE   July 2021 22
(2360) Notification for Allotment of Vacant Flats
(2361) Academic Assessment Calendar for IInd Semester NSUT B Tech  M Tech   April to August  2021
(2362) Academic Schedule for duration August to December  2021
(2363) Notification for Anti Ragging Committee 
(2364) Notice regarding Mid Term Evaluation of 4th Semester M  Tech  Dissertation Phase II in Department of ECE
(2365) ME   VII Semester Odd 2021    ED EO Choice Preferences
(2366) MPAE   VII Semester Odd 2021    ED EO Choice Preferences
(2367) Webinar on Introduction To Programming And Career Guidance
(2368) ED EO Choice Preferences for 7th Semester   B E   BT 
(2369) B E   ECE  6th Semester students  Elective subjects choice preferences for 7th semester
(2370) Choices for Elective Courses   B E   COE  7th Semester
(2371) EO Courses NOTICE for II Semester MTech Student of NSUT  Main Campus  East Campus  WEST Campus 
(2372) Practical Exams  Online mode  Datesheet of IV Semester  NSUT   ICE EE
(2373) Invitation for applications for Best staff in Group C category Award
(2374) GOOGLE FORM LINK  attached 
EO Courses NOTICE for V Semester Student of NSUTrn NPTEL Course List 
(2375) Link addresses for submitting online applications and for details of various awards
(2376) Invitation of Applications for Best Staff in Assisting laboratory Teaching award for the assessment years 2019 20 and 2020 21
(2377) Invitation of applications for Best officer Group A B category award for the assessment years 2019 20 and 2020 21
(2378) Invitation of applications for the Best Teacher Award for assessment years 2019 20 and 2020 21
(2379) Invitation of Applications for Research and Patent awards from July 2019 to June 2021
(2380) Date Sheet of Practical Exams  CSE Dept  4th Sem NSUT Courses 
(2381) Practical Oral Online assessment datesheet of B Tech  ECE COE IT  4th semester NSUT  July 2021
(2382) Practical Exams  Online mode  Datesheet of IV Semester  NSUT   MPAE ME
(2383) Interaction Session by the Honble Prime Minister with Tokyo Olympic bound Indian athletes 
(2384) Practical Exams Datesheet of IV Semester
(2385) Circular for COVID Vaccination for all Students 
(2386) B E  7th semester  CBCS  result examination held in NOV DEC 2020
(2387) B E  5th semester  CBCS  result examination held in NOV DEC 2020
(2388) B E  1st semester  CBCS  result examination held in NOV DEC 2020 
(2389) B E  3rd semester  CBCS  result examination held in NOV DEC 2020 
(2390) B E  2nd semester  old scheme  result examination held in October 2020 
(2391) B E  4th semester  old scheme  result examination held in October 2020 
(2392) B E  6th semester  old scheme  result examination held in October 2020 
(2393) B E  8th semester  old scheme  result examination held in October 2020 
(2394) Nationwide campaign about Tokyo Olympics  2020
(2395) A PRAYAS INITIATIVE   Workshop on ‘Psycho social skills of a Good Helper  Tackling the Covid pandemic’
(2396) Revised Practical Date Sheet of B Tech  IT  Fourth Semester Examination  NSUT   July  2021
(2397) National Digital Library of India Club in NSUT
(2398) Revised Practical Examination Date Sheet for DU  CBCS  Backlog of ICE Division June July 2021
(2399) Practical Date Sheet of B Tech  IT  Fourth Semester Examination  NSUT   July  2021
(2400) IV semester B Tech Assesment Guidelines
(2401) Request to register with Vidwan Database  maintained by INFLIBNET  an autonomous Inter University Centre of UGC  Ministry of Education  Govt  of India
(2402) 5 days online Workshops Incorporating Universal Human Values in Technical Education MONTH of JULY 2021
(2403) Revised  Practical Examination date sheet for BE 8th  6th  4th  and 2nd Sem ICE June July 2021  Backlog  Old Scheme 
(2404) Practical Examination date sheet for BE 8th  6th  4th  and 2nd Sem ICE June July 2021  Backlog  Old Scheme 
(2405) NOTICE    Final semester BE project evaluation
(2406) Revised Date Sheet of Practical Oral Online Examinations  DU  for 6th  4th and 2th semesters  ECE June 2021
(2407) REVISED DATE SHEET FOR PRACTICAL EXAMINATIONS BE MPAE AND ME II IV AND VI SEMESTER FOT DU 2021
(2408) EXTENSION OF DATE FOR MERIT CUM MEANS SCHOLARSHIP  E DISTRICT  All students are requested to apply online through https   edistrict delhigovt nic in
(2409) Practical Examination date sheet for BE 6th Sem ICE June July 2021  DU  CBCS 
(2410) Practical Oral Online Examinations  DU  for 6th and 4th semesters
(2411) Revised Practical Date Sheet of B E  IT  Sixth Semester Examination  FOT  Delhi University
(2412) BTP END SEM EVALUATION  CEC 24   28 06 2021  COMPUTER Sc  Engg 
(2413) Practical Date Sheet of B E  IT  Sixth  Fourth and Second Semester Examination   FOT  Delhi University
(2414) Notice Regarding the Practical Exam of CEC21 Open Source Technologies  EG  Course
(2415) Date Sheet of Practical Exams of MTech Part time  4th Sem  Backlog  NSIT Courses    CSE COE Dept
(2416) Date Sheet of Practical Exams of BE  6th Sem    CSE COE Dept
(2417) Date Sheet of Practical Exams of BE  4th Sem  Backlog  NSIT Courses    CSE COE Dept
(2418) DATE SHEET FOR PRACTICAL EXAMINATIONS  BE MPAE AND ME  II  IV AND VI SEMESTER  FOT DU
(2419) Celebration of International Day of YOGA  “Be with Yoga  Be at Home ” 21ST JUNE 2021  9 00 AM ONWARDS
(2420) Notice for 8th sem final project viva for ECE department
(2421) UPDATED TIMETABLE  ECAM    Slight changes in the ECAM sec 1 timetable slot of Comp Prog  on Friday  r nNSUT EAST CAMPUS
(2422) Changes in the Google class codes ECAM Sec 2 NSUT EAST CAMPUS
(2423) Click here to see Result of Ph D 3rd Semester Academic Session 2020 21
(2424) allotment of vacant flats
(2425) CVSPK notice to students of NSUT
(2426) End Sem BTP Presentation Guidelines for MAC26 I II    MEC26
(2427) Notice regarding training of Mentor Graphics Tool Bundle for VLSI Design
(2428) CELEBRATION OF INTERNATIONAL YOGA DAY 2021 
(2429) Notification regarding educational loan
(2430) changes in the google class codes of Subjects DSA and Comp Programming of ECAM 1 and 2 NSUT EAST CAMPUS
(2431) Office Order   Functioning of Office from 07 06 2021
(2432) Practical Examination date sheet for BE 8th Sem ECE Even Sem 2021  DU  CBCS 
(2433) Date Sheet of Practical Exams of BE  8th Sem    CSE COE Dept  with Starting Time 
(2434) Practical Examination date sheet for BE 8th Sem ICE Even Sem 2021  DU  CBCS 
(2435) Notice for NSUT NSIT students for CVSPK scheme 
(2436) BE  VI  VIII sem  and backlog  and M Tech  IV sem part time  Final Date sheet and Guidelines for  OBE  Exam  June 2021
(2437) Practical Oral Online Examinations  DU  Datesheet for VIII sem
(2438) Practical Date Sheet of B Tech   IT  Eighth Semester Examination  June 2021
(2439) Date Sheet of Practical Exams of BE  8th Sem    CSE COE Dept
(2440) Practical Examination date  sheet for BE 8th  Sem MPAE  ME Even Sem 2021  DU  CBCS 
(2441) Regarding B E  06th  08th and backlogs semester  and M Tech  Part Time  04th semester examination of NSIT students is to commence from 14th June  2021 to 26th June  2021 in online mode
(2442) IETE Hyderabad Centre is conducting knowledge sharing webinar on Sunday  30th May  2021 at 10 30  r nAM Through Google HD VIDEO Meeting App
(2443) 5 days online Workshops Incorporating Universal Human Values in Technical Education MONTH of JUNE
(2444) MECHANICAL ENGINEERING WEST campus   class code  Conventional Electrical Machines  MVEEC02 
(2445) NSS NSUT CELL 24 7 on WhatsApp number  91 99998 42003rnAs per the current scenario of COVID 19 cases  we  the NSS Cell of NSUT have started a helpline number  to help and get people the necessary resources required for fighting against COVID 19 
(2446) 5 days online Workshops Incorporating Universal Human Values in Technical Education  1  17 05 2021 to 21 05 2021 and  2  24 05 2021 to 28 05 2021
(2447) Appeal from Honble Vice Chancellor NSUT 
(2448) Appeal from Vice Chancellor NSUT
(2449) GOOGLE CLASSROOM CODES OF WEST CAMPUS COURSES  SECOND SEMESTER  UPDATED FOR ALL BRANCHES  26 TH APRIL 2021
(2450) B Tech SECOND Semester WEST CAMPUS UPDATED FOR ALL BRANCHES  26 TH APRIL 2021
(2451) Updated Time Table B Tech CSDA  2nd sem East Campus
(2452) Revised TIMETABLE ECAM SECOND SEM  EAST CAMPUS
(2453) COVID RESOURCE database  Developed by NSS NSUT CELL through Crowd Source Information 
(2454) List of Registration Officers for Sem 2 Academic Year 2020 21
(2455) NSUT Email Directory  Offices  HoDs  DEANs  Timetable Coordinators  Warden  Faculty  Guest Faculty 
(2456) Revised MTech II Semester FE Course Time Table April 2021
(2457) 2nd Sem Course ReRegistration Form Upload Link           To be used by 2019 Entry Students only  2020 Entry Students  do not use it for uploading your Regular 2nd Sem Course Registration Form           
(2458) PENDING PRACTICAL CLASSES FOR IV B TECH BBA MBA   VI VIII SEM  B E 
(2459) Links for Uploading 2nd Sem Course Registration Form  M Tech  MBA  B F Tech  B Tech and BBA 
(2460) Classroom codes of the 2nd Semester Subjects offered by ECE Department
(2461) Classroom codes of 2nd Semester M Tech  SP ESV CN 
(2462) Google class codes for FCCS002  Computer Programming 
(2463) Google class codes for B Tech   IT  ITNS  and M  Tech of IT department
(2464) Assesment  Activity Calendar for IInd Semester NSUT  April 2021 to july 2021 
(2465) New revosed Assisment for 1st semester NSUT B Tech BBA M Tech
(2466) Google Class Room codes M Tech IE EE
(2467) Google Class Room codes B Tech ICE EE
(2468) Class codes of Introduction to Biotech BTBTC03
(2469) Links for Uploading 2nd Sem Course Registration Form  B F Tech  B Tech and BBA 
(2470) Google class codes ECAM 2nd sem East campus
(2471) GOOGLE CLASSROOM CODES OF WEST CAMPUS COURSES  SECOND SEMESTER  CE   GI 
(2472) Google Classroom Code for Courses of IT Department to be Taught by CSE Department
(2473) B Tech  Second sem Classroom codes for  FCPH004  PHYSICS I    BTPHC01  PHYSICS OF MATERIAL    CMPHC01  APPLIED PHYSICS 
(2474) Class code  of ECSPE17 Digital Image Processing
(2475) Click here to see Result of B F Tech  MBA 1st Semester Academic Session 2020 21
(2476) NSUT NSS CELL  and FIT INDIA CLUB NSUT PRESENTS r nWorkshop on Yoga for Women health and Hygiene  PCOD CURE  on 22nd April 2021 at 4 00 pm
(2477) CLASS CODE
(2478) TIME TABLE OF MEEV II SEMESTER
(2479) New Roll Number after Upgradation
(2480) M TECH  SECOND SEMESTER WEST CAMPUS TIME TABLE
(2481) DIGITAL JAL SHAPATH  In reference to the mail received from AICTE via NSUT dated 08April 2021  NSS NSUT cell launched a Digital Jal Shapath this take a couple of minutes to take this pledge
(2482) google class codes for MTech DC 2nd sem East campus
(2483) GOOGLE CLASSROOM CODES OF WEST CAMPUS COURSES  SECOND SEMESTER
(2484) DEPT OF CHEMISTRY r n FCCH008  Environmental Science   Green  Chemistry    r nBTCHC02   Advanced Chemistry r n                                  SEMESTER II  Even Semester  2020 21
(2485) Time Table M  Tech  IS  2nd Sem NSUT  East Campus 
(2486) Google Classroom Codes  M Tech Information Security 2nd semester  East Campus
(2487) Google Classroom Codes  B Tech CSDA 2nd semester  East Campus
(2488) Tentative Revised List of Upgraded 1st Semester B Tech  Students  2020 21 
(2489) Time Table for IIOT Second Semester West Campus
(2490) Notice for Supplementary exam fee for old scheme students DU to be held in June 2021 
(2491) Class Codes for English   FCHS 005 r nB Tech  2nd Semester  2020 21
(2492) Time Table M Tech BCE BI IInd Sem Online Classes BSE
(2493) MTech II Semester FE Course Time Table
(2494) CLASS CODES MATHEMATICS II
(2495) Request for Withdrawal from Final Upgradation Process
(2496) SUMMER SEMESTER RULES
(2497) Regarding COURSE REGISTRATION FOR  II semester  B Tech BBA M Tech  and Re registration of IV sem backlog improvement courses 
(2498) BBA 2nd Semester Time Table Effective from 19 April 2021
(2499) Gender Sensitization workshop which was planned Physically is now changed to online mode  This change is due to current pandemic situation in Delhi  The schedule of the event is unchanged 
(2500) Second Semester Time Table  B Tech  ICE EE 
(2501) Google Classroom codes for  II Semester  B Tech   M Tech    Dept  of Mechanical Engineering
(2502) Second semester Classes as per schedule on 19th april 2021 on line mode
(2503) Regarding registration officer
(2504) Extension of last date for submission of applications under various Scholarship Schemes for SC ST OBC students for the year 2020 21 till 30 04 2021
(2505) Google Classrooms Codes for Courses of CSE Department  BTech Semester 2 and MTech Semester 2 
(2506) Notification for M tech Students
(2507) Notice   Re Registration for Course and   or End Sem Exam  Only for 4th Semester B Tech  BBA  MBA  MBA IEV 
(2508) Course ESE Re Examination Form  FORM B    Registration Form for appearing in just End Semester Examination  Theory and Practical  only of a Course
(2509) Course Re registration  Form A     RE REGISTERATION FOR COURSES DUE TO BACKLOG   IMPROVEMENT  Student need to appear in all components of evaluation   Theory   Internal  Mid Sem  End Sem and if applicable  Practical Internal  Practical End Sem also 
(2510) M Tech  SP ESV CN  2nd Semester Time Table
(2511) B  Tech   EIoT  2nd Semester Time Table
(2512) B  Tech   ECE  2nd Semester Time Table
(2513) II Sem Even 2021  Time Table    B Tech ME MPAE  and M Tech CAD CAM   ME   NSUT 
(2514) Time Table of 2nd sem  M  Tech  IT  NSUT   Mobile Computing and Security  Machine Intelligence and Data Analytics 
(2515) Time Table B Tech Biotechnology IInd Sem Online Classes BSE
(2516) Admission of the following students are hereby cancelled on their request
(2517) M Tech  CS   II Semester  19 April 2021   14 July 2021  slot based TimeTable
(2518) B Tech  CSE CSAI CSDS MAC  II Semester 19 April 2021   14 July2021  slot based Time Table in Online mode
(2519) B  Tech CSDA  2nd Sem NSUT  East Campus  Time Table
(2520) II Sem B  Tech NSUT Time Table  IT  ITNS 
(2521) Finance Literacy online Workshop on 14th April at 12 00 Pm  Speaker Shikha Mittal  Founder of B artsy  For details please see the attachment 
(2522) Regarding Classes of II semester  B Tech BBA BFT M Tech 
(2523) Timetable  ECAM  2nd Sem East Campus  online teaching 
(2524) TIME TABLE MTech DC 2nd SEM  NSUT EAST CAMPUS 
(2525) Regarding Covid Test
(2526) Notice regarding examination practical classes
(2527) Notice for Hostel Residents
(2528) Office Order dated 08 04 2021 regarding Final year  B Tech   student
(2529) Circular dated 08 04 2021 regarding e district scholarship
(2530) Notice for first year students who wish to avail kaveri Hostel facility in next semester
(2531) Notice for current first year hostel residents
(2532) Notice for current first year hostel residents
(2533) Revised schedule of practical classes of 4th and 6th semesters
(2534) NOMENCLATURE OF B TECH M TECH COURSE CODES
(2535) New Revised Assesment for 1st Semester NSUT B Tech BBA M TECH
(2536) Examination Schedule for IV VI VII B Tech  MBA
(2537) ASSESMENT ACTIVITY CALENDER FOR II SEMESTER NSUT B TECH BBA M TECH  APRIL 2021 TO JULY 2021 
(2538) Physical document Verification for ECE   EIOT students of 1st semester  Main Campus 
(2539) PRACTICAL SCHEDULE SEMESTER FOURTH ICE
REVISED
(2540) PRACTICAL SCHEDULE SEMESTER SIXTH ICE REVISED
(2541) Notice regarding hostel allotment for M  Tech  2nd Semester Students  Main Campus
(2542) 6th Semester BE  ECE  Practical Class Schedule
(2543) CVSPK application submission date has been extended to 6 4 2021  for first year students
(2544) UPDATED  PRACTICAL SCHEDULE FOURTH SEMESTER EE
(2545) 4th Semester B Tech  ECE  Practical Class Schedule
(2546) IT IV SEMESTER B TECH ON CAMPUS PRACTICAL CLASSES SCHEDULE Updated according to new guidelines
(2547) REVISED TIMETABLE SCHEDULE OF EE LABS OF 4 SEM
(2548) PRACTICAL SCHEDULE FOURTH SEMESTER ICE
(2549) PRACTICAL SCHEDULE FOURTH SEMESTER EE
(2550) PRACTICAL SCHEDULE SEMESTER SIXTH ICE
(2551) Physical Document Verification  Btech I sem  East Campus
(2552) Hostel Accommodation at Bhaskara Hostel for 6th Semester Students
(2553) 22nd PCU University Games as PCUGAMES HOME from 28 to 30 April 2021 For detail information please visit the website or may contact the department of Physical Education NSUT 
www pcucommittee com
(2554) Notice for first year students who wish to avail kaveri Hostel facility in next semester
(2555) Physical document Verification for ECE   EIOT students of 1st semester  Main campus 
(2556) Documents verification for ICE and EE students of 1st semester  Main campus 
(2557) VI Sem B E ME and MPAE Practical Classes Schedule updated on 31 03 2021
(2558) IV Sem B Tech ME and  MPAE Practical Classes Schedule Updated 31 03 2021
(2559) Schedule for Document Verification of BSE students admitted through JAC2020 
(2560) Guidelines to be followed by Faculties and Laboratory Staff
(2561) Guidelines to be followed by IV sem B Tech  VI Sem B E  students while attending practical classes
(2562) Notice for Sahityam   The Literary Festival of NSUT 
(2563) IDENTITY CARD COLLECTION OF I YEAR B TECH  STUDENTS
(2564) M  Tech Thesis Dissertation of IV Semester
(2565) Document verification schedule of B tech I sem  East Campus
(2566) Documents verification schedule for B  Tech First Year students admitted for the session 2020 21 through JAC 2020 
(2567) Notice for first year  students who wish to avail Sarasvati Hostel facility in next semester
(2568) Notice for current residents of Sarasvati Hostel
(2569) Document Verification Schedule of B Tech I Semester CSE Department Main Campus Students
(2570) ME and MPAE Practical classes schedule for B Tech   IV Sem  NSUT  and B E  VI Sem  DU 
(2571) Original Document Verification of B Tech   IT   ITNS  First Semester Students of Main Campus
(2572) Notice for information for Printing of Annual Report 
(2573) FINAL THEORY DATE SHEET OF MID SEMESTER EXAMINATION  2nd sem  MBA STUDENTS  NSUT MAIN CAMPUS 
(2574) Joint seating plan of 1 semester Exam  held on 31 03 2021  A N   Shift 2 M Tech  1st sem students NSUT   Main Campus 
(2575) Joint seating plan of 1 semester Exam  held on 30 03 2021  A N   Shift 2 M Tech  1st sem students NSUT   Main Campus 
(2576) Notice for Ist year Students residing in Hostels in Main Campus
(2577) Practical Exam  Date Sheet  reminder   M Tech 1st semester  CAD and Mechanical Engineering   Mechanical Engineering Department
(2578) Revised Practical Date Sheet of M Tech  MCDA  First Semester Examination
(2579) Practical Date Sheet of B Tech   IT  First Semester Examination  March April  2021
(2580) Consolidated Result   B  E  8th Semester May   June 2020
(2581) NSS Recruitment for 1st Year students of Main Campus
(2582) MERIT SCHOLARSHIP FOR 2019 20  TOP 5  STUDENTS OF EACH BRANCH 
(2583) PRACTICAL EXAM DATE SHEET  MTech 1 sem  ESD SP and CN   ECE DEPARTEMENT
(2584) PRACTICAL EXAM DATE SHEET   BTech 1 sem FCEC003 Electronics and Electrical Engineering  ECE DEPARTEMENT
(2585) Practical Exam Date Sheet FCCS002 Computer Programming
(2586) THEORY DATE SHEET OF MID SEMESTER EXAMINATION  2nd sem  MBA STUDENTS  NSUT MAIN CAMPUS 
(2587) Joint seating plan of 1 semester Exam  held on 26 03 2021  A N   Shift 2 M Tech  1st sem students NSUT   Main Campus 
(2588) Joint seating plan of 1 semester Exam  held on 26 03 2021  A N   Shift 2 BBA 1st sem students NSUT   Main Campus 
(2589) Joint seating plan of 1 semester Exam  held on 26 03 2021  A N   Shift 2  BTech 1st sem students NSUT   Main Campus 
(2590) 2nd Semester is scheduled from 19th April 2021 to 14th July 2021
(2591) Joint seating plan of 1 semester Exam  held on 26 03 2021  F N   Shift 1  B tech 1st sem students NSUT   Main Campus 
(2592) The following Guest faculties hereby engaged in Management Studies Department
(2593) IMPORTANT NOTICE FOR  B TECH  STUDENTS OF 1st SEMESTER
(2594) Circular to avoid large gatherings on the occasion of Holi Festival 
(2595) NEW Revised practical date sheet
(2596) Notice For Residents of Ramanujan Hostel
(2597) List of 12 Digit Exam Roll Number allotted to 2019 Entry Year NSUT students for Examination   02 Leftover Students
(2598) Joint seating plan of 1 semester Exam  held on 25 03 2021  A N   Shift 2   M tech 1st sem students NSUT   Main Campus 
(2599) Joint seating plan of 1 semester Exam  held on 25 03 2021  A N   Shift 2  ENGLISH  of B tech 1st sem students NSUT   Main Campus 
(2600) Joint seating plan of 1 semester Exam  held on 25 03 2021  A N   Shift 2  FINANCIAL ACCOUNTING  of B tech 1st sem students NSUT   Main Campus 
(2601) Joint seating plan of 1 semester Exam  held on 25 03 2021  F N   Shift 1  COMPUTER PROGRAMMING  of B tech 1st sem students NSUT   Main Campus 
(2602) Notice regarding final semester examinations 
(2603) Joint seating plan of 1 semester Exam  held on 24 03 2021  F N   Shift 1  Electronics   ELectrical Engg  of B tech 1st sem students NSUT   Main Campus 
(2604) Requirement of the Guest Faculty in the Dept  of Mathematics
(2605) Joint seating plan of I semester Exam held on 23 03 2021 to 26 03 2021  F N   Shift  I   Maths of B  Tech students NSUT WEST CAMPUS
(2606) Joint Seating plan of I semester Exam  held on 23 03 2021 TO 25 03 2021  F N   shift I   Maths of B Tech students NSUT EAST CAMPUS
(2607) Joint seating plan of 1 semester Exam  held on 23 03 2021  A N   Shift 1   BBA 1st sem students Nsut   Main Campus
(2608) Joint seating plan of 1 semester Exam  held on 23 03 2021  A N   Shift 1  M tech 1st sem students Nsut   Main Campus
(2609) Joint seating plan of 1 semester Exam  held on 23 03 2021  F N   Shift 1   Basic of Mechanical Engg  of B tech 1st sem students Nsut   Main Campus
(2610) Notice regarding hostel accommodation at Bhaskara Hostel for 6th semester B  Tech students
(2611) Instructions   guidelines for students for end semester examination  1st semester  march  2021 
(2612) Joint seating plan of I semester held on 22 03 2021 BBA Students  shift  II  Afternoon  Time  02 00 PM To  05 00 PM  NSUT MAIN CAMPUS
(2613) Joint seating plan of I semester Exam held On 22 03 2021  F N   Shift  I   Maths of B  Tech students NSUT WEST CAMPUS
(2614) Joint Seating plan of I semester Exam  held on 22 03 2021  F N   shift I   Maths of B Tech students NSUT EAST CAMPUS
(2615) Joint seating plan of 1 semester Exam  held on 22 03 2021  F N   Shift 1  Maths of B tech students Nsut   Main Campus
(2616) List of 12 Digit Exam Roll Number allotted to 2019 Entry Year NSUT students for Examination
(2617) Notice regarding online classes of 8th semester NSIT students 
(2618) SCHOLARSHIP NOTICE FOR CATEGORY STUDENTS FROM E DISTRICT AT www scstwelfare delhigovt nic in  Last Date is 31 03 2021 
(2619) Girls hostel allotment for second year and third year students
(2620) FINAL DATESHEET DATE SHEET FOR THE END SEMESTER PRATICAL EXAMINATION  BBA 1st Semester  MAIN CAMPUS  NSUT
(2621) List of 12 Digit Exam Roll Number allotted to 2020 Entry Year NSUT students for Examination
(2622) 12 Digit Examination Roll Number Format
(2623) REVISED DATESHEET FOR THE END SEM PRACTICAL EXAM  1st SEM  M TECH  ONLY FOR BSE DEPT  NSUT 
(2624) REVISED DATESHEET FOR THE END SEM THEORY EXAM  1st SEM  Ph D  NSUT 
(2625) Notice regarding 8th semester examination who could not appear in the Mid semester examination  NSIT 
(2626) REVISED FINAL DATESHEET FOR THE END SEM  THEORY EXAMINATION  NSUT MAIN  EAST   WEST CAMPUS 
(2627) Salient points of Academic Rules and Regulations
(2628) PRACTICAL CLASS SCHEDULE FOR BTech IV SEMESTER CSE DEPARTMENT
(2629) PRACTICAL CLASS SCHEDULE FOR BE VI SEMESTER CSE DEPARTMENT
(2630) MBA Project Mid Term Evaluation
(2631) Notice   Regarding final upgradation for B Tech  Students of 1st Semester
(2632) Notice regarding hostel accomodation at Raman Hostel for 4th semester B Tech students
(2633) Office Order for CVSPK  Scholarship Scheme for 1st Year Students 
(2634) Regarding Refund of Rs  2000   per student for internet charges for online classes  The last date of submission the front page of the passbook i e  19 03 2021  Friday 
(2635) Click here to see Result of M Tech 3rd Semester Academic Session 2020 21
(2636) Typographical error in 1st sem B tech practical datesheet
(2637) Typographical error in the date of theory exam
(2638) REGARDING 4 and 6 sem Girls Hostel  ALLOTMENT
(2639) REVISED FINAL DATESHEET FOR THE END SEM  PRATICAL EXAMINATION 1st SEM Btech   NSUT WEST CAMPUS
(2640) Final Date Sheet for the End Semester Practical Examination of B  Tech 1st Semester
(2641) Date sheet of M  Tech DC 1st    Exam 2020 2021 ST3 ST2 Exam
(2642) Instruction   guidelines for invigilator  NSUT main east   west campus
(2643) Instruction   guidelines for students NSUT main east   west campus
(2644) Final datesheet for the  end semester theory examination  BBA  B Tech  M Tech    Ph d  1st semester  March 2021 NSUT MAIN  EAST   WEST campus 
(2645) Final datesheet for the end semester practical exams  M tech 1st semester  NSUT EAST   WEST campus
(2646) Final datesheet for the end semester practical exams  M tech 1st semester  NSUT MAIN campus 
(2647) Date Sheet for M  Tech  IS  First Sem  2020 2021 ST2 ST3  East Campus
(2648) 8th Semester  BE  ECE  Practical Class Schedule
(2649) 1st Semester M Tech  SP ESV CN  Practical Class Schedule
(2650) Notice for First Semester Students of West Campus
(2651) Guidelines to be followed by 1st year B Tech students while attending practical classes
(2652) IT VI SEMESTER B E  ON CAMPUS PRACTICAL CLASSES SCHEDULE
(2653) IT IV SEMESTER B TECH ON CAMPUS PRACTICAL CLASSES SCHEDULE
(2654) Tentative datesheet for end semester examination April May 2021 NSIT  If any clash inform to academic nsit gmail com
(2655) Time Table for Practical Classes of B Tech B E  Biotechnology Students  IVth and VIth Semester 
(2656) B E  VIII SEMESTER  ME MPAE   PRACTICALS TIME TABLE
(2657) Practical Classes Time Table for First Sem  M Tech CAD CAM and ME
(2658) Advertisement for Guest Faculty Positions in English  Department of Humanities and Social Sciences
(2659) M Tech students who are getting PG GATE Scholarship from AICTE
(2660) ON CAMPUS PRACTICAL CLASSES FOR  IV B TECH BBA MBA   VI SEM  B E 
(2661) 5 days online Workshops Incorporating Universal Human Values in Technical Education
(2662) Click here to see Result of B Tech  BBA  MBA 3rd Semester Academic Session 2020 21
(2663) Seating plan for 8th semester exam 06 03 2021  Shift  II
(2664) Seating plan for 8th semester exam 06 03 2021  Shift I
(2665) Students of East and West Campus to make their own stay arrangements for Exams
(2666) PRACTICAL CLASS SCHEDULE FOR FCCS002 I SEMESTER B TECH  Main Campus  FOR ALL BRANCHES
(2667) Seating Plan of 8th semester exam  05 03 2021 Shift II
(2668) Seating plan for 8th semester exam  05 03 2021  Shift  I
(2669) Revised Schedule for Mid Term evaluation  BTP 2021 ME and MPAE  I II 
(2670) 1st Year Timetable of BTech Practical Classes NSUT East Campus ECAM   CSDA
(2671) Revised Schedule of BE 8th sem Project mid term for ECE department
(2672) Seating plan for 8th semester  04 03 2021 shift II
(2673) Seating plan for 8th semester exam  04 03 2021 Shift I
(2674) TIME TABLE OF PRACTICAL CLASSES OF 1ST YEAR NSUT EAST CAMPUS
(2675) Instructions   guidelines for students 8th semester  mid  examination held on 04 03 2021 to 06 03 2021 
(2676) instructions   guidelines for invigilators  8th semester  mid  examination held on 04 03 2021 to 06 0302021 
(2677) Notice regarding Schedule of End Term Evaluation of 3rd Semester M  Tech  Dissertation Phase I  ECSPC05 ECCNC05 ECEVC05  Students
(2678) Practical classes for first year are scheduled from 8th 20th March  All HoDs Faculty TRF and Staff noted some points
(2679) Guidelines to be followed by first year B Tech students while attending practical classes
(2680) Practical Classes Schedule of PHYSICS FCPH004 of all branches
(2681) Revised Date sheet for offline mid semester examination  University of Delhi  for 8th semester students  NSIT 
(2682) Notice regarding M  Tech Dissertation Phase I Presentation and Viva
(2683) Practical  Classes Schedule of FCEC003 of all branches
(2684) Regarding Refund of Rs  2000 per student for internet charges for online classes
(2685) B Tech    M tech classes of NSUT students will be conducted through online mode on 06 03 2021 due NSIT8th sem  mid  exam 
(2686) Final Call  Defaulter list  wrt NPTEL Certifcate last date 01 03 2021 
(2687) MAC26 MEC26   PROJECT II MID TERM EVALUATION SCHEDULE  EVEN 2021 
(2688) BE 8th sem Project mid term Schedule for ECE department
(2689) Mid Semester Evaluation of M Tech  Dissertation
(2690) B Tech  Final Year Mid Sem Presentation
(2691) MBA IEV 2nd Semester Time Table
(2692) BE 8th sem Project mid term evaluation notice ECE department
(2693) FIRST SEMESTER B TECH M TECH BBA   IV VI SEM B TECH BE BBA MBA MBA IEV   VIII SEMESTER PRACTICAL CLASS SCHEDULE 
(2694) REGARDING DELHI  CATEGORY GIRLS HOSTEL ALLOTMENT
(2695) NOTICE REGARDING THIRD PHASE OF ROOM ALLOTMENT AT RAMANUJAN HOSTEL
(2696) Notice for Jigyasa Quiz 2021   Online Edition   Plan India   3 Lakh Grand Prize 
(2697) FINAL Date sheet for Online mid semester examination 2nd   4th semester FE courses  NSIT 
(2698) FINAL Date sheet for Offline Mid semester examination of B E  8th Semester  CBCS   7th semester MPAE  old scheme    M  Tech 4th semester  CBCS  Part  Time  NSIT 
(2699) BE 8th sem Project mid term evaluation notice ECE department
(2700) During the visit of Dr  A P J  Abdul Kalam Lecture Complex on 22 02 2021  Monday   some students were not wearing Mask
(2701) COVID APPROPRIATE BEHAVIOUR IN CLASSROOMS
(2702) TENTATIVE DATE SHEET FOR THE 1ST  SEM M TECH  PRACTICAL EXAMINATION  WEST CAMPUS NSUT
(2703) TENTATIVE DATE SHEET FOR THE 1ST  SEM M TECH  PRACTICAL EXAMINATION  EAST CAMPUS NSUT 
(2704) TENTATIVE DATE SHEET FOR THE 1ST  SEM M TECH  PRACTICAL EXAMINATION  MAIN CAMPUS NSUT
(2705) TENTATIVE DATE SHEET FOR THE 1ST  SEM B TECH  PRACTICAL EXAMINATION  MAIN  EAST   WEST CAMPUS NSUT 
(2706) TENTATIVE DATE SHEET FOR THE 1st semester  End semester  B Tech   M tech  BBA  EXAMINATION   MARCH   2021  NSUT MAIN  EAST   WEST CAMPUS 
(2707) Date Sheet for Online  OBE  Mid Semester Examination  University of Delhi   for     2   4th  Semester  Examination  March 2021
(2708) NOTICE – Mid Term evaluation of Final semester B E  project  VIII Sem ICE    Guidelines
(2709) Aviation Games  India in the process of inviting enthusiasts to take part in WORLD KNOCKING CUP  a badminton sport  which is an online competition  send video clip  and entries are open for the various age group in the boys   girls divisions  also open fo
(2710) FE Backlog Courses
(2711) NSS CELL NSUT presents Cybercrime Awareness and Safety Measures by Dr  Gaurav Kumar  on 22nd Feb 2021 at 5 00 pm on zoom
(2712) Notice regarding Hostel allotment of Ist Year B Tech   BBA   BFT students  selected under Delhi Category  admitted in MAIN CAMPUS and have residence more than 50Kms away from NSUT
(2713) REVISED TIMETABLE MTECH WITH ROOM  NUMBER
(2714) REVISED TIMETABLEOF SEMESTER 1 EE AND ICE WITH UPDATED ROOM NUMBER AND SLOTS
(2715) BTP MID SEM EVALUATION  CEC 24   01 03 2021  COMPUTER Sc  Engg 
(2716) NOTICE – Mid Term evaluation of Final semester B E  project  VIII Sem ICE 
(2717) MBA IEV 1st Semester Evaluation Outside Classroom Courses
(2718) Schedule and Guidelines for Mid Term BTP Project II Evaluation 2021  ME and MPAE  I II 
(2719) M Tech CADCAM and ME ODD 2020 with Room Nos 
(2720) DATE SHEET  ST 2  MTECH  DC 1ST SEM EAST CAMPUS NSUT
(2721) Offline Class Room Allocation BBA MBA MBA IEV
(2722) Second phase allotment list of students in Girls hostels
(2723) B E VIII semester  Mid theory Examination  PEN   PAPER MODE  OFFLINE   M Tech 4th Part time  7th semester old scheme  NSIT students 
(2724) Due to delay in creation of hostel facility for East and West campus students
(2725) 8th Semester  B  Tech   ECE Time Table for offline classes
(2726) 1st Semester  M  Tech  SP EVS CN  ECE Time Table for offline classes
(2727) 1st Sem  B  Tech   ECE Time Table for offline classes
(2728) M TECH   ELECTRICAL AND INDUSTRIAL ELEC TRONICS TIME TABLE WITH ROOM NUMBER FOR OFFLINE CLASSES
(2729) TIME TABLE OF EIGHTH SEM WITH ROOM NUMBER FOR OFFLINE CLASSES
(2730) Time Table of 1st sem  M  Tech  IT  NSUT  along with room number for offline classes   Mobile Computing and Security  Machine Intelligence and Data Analytics 
(2731) Date Sheet for M  Tech  IS  First Sem  2020 2021 ST2 VT1  East Campus
(2732) Change of Group  Final Year BTP of ICE  VIII Sem  students
(2733) Reminder   Notice for Final Year BTP of ICE  VIII Sem  students
(2734) Classes will be suspended on 18 02 2021  Thursday  to 20 02 2021  Saturday  due to online activities in lieu of Moksha and Innovision – 2021  Cultural and Technical Fest of University 
(2735) Time Table of 1st sem  along with room  number  for offline classes
(2736) TT MTech Ist Sem BCE BI 2020 21 BSE Offline Classes
(2737) TT VIII Sem 2020 21 BSE Offine Classes
(2738) TT I Sem 2020 21 BSE Offine Classes
(2739) 8th Sem  ME and MPAE Time Table   Even 2021 with Room Nos  for Offline Classes
(2740) ME I and II  and MPAE 1st Sem Time Table   ODD 2020 with Room Nos  for Offline Classes
(2741) IT 8th semester Time table  With Room No  for Offline Classes
(2742) CSE Department I Sem Mtech  Time Table for offline classes
(2743) CSE department I Sem B Tech and VIII Sem B E  Time Table for offline classes
(2744) Revised MBA 2nd Semester Time Table
(2745) I Sem B  Tech NSUT Time Table  IT  ITNS  for physical classes
(2746) First meeting of RAC  is scheduled to be held on 18 2 2021  CSE Deptt   East Campus
(2747) M tech students attendance should reach academic section on or before 5th every month
(2748) Corrigendum regarding Attend the training which will commence from 03 30 p m  to 05 30 p m  from Monday to Friday
(2749) Time Table for Offline Class  Humanities and Social Sciences 
(2750) NOTICE REGARDING THIRD PHASE OF ROOM ALLOTMENT AT RAMANUJAN HOSTEL
(2751) Attend the training which will commence from 03 30 p m  on 15 02 2021
(2752) NOTICE REGARDING ROOM ALLOTMENT FOR Ist YEAR M TECH  STUDENTS
(2753) NOTICE REGARDING SECOND PHASE OF ROOM ALLOTMENT AT RAMANUJAN HOSTEL
(2754) FE  NSUT  IV SEM  subject related to Humanities and Social Sciences  Class time table  starting from 15 02 2021 
(2755) NOTICE REGARDING HOSTEL ALLOTMENT FOR Ist YEAR STUDENTS  DASA CATEGORY  ADMITTED TO NSUT MAIN CAMPUS
(2756) TT   Google classroom codes for FEMG005 and FEMG009
(2757) First phase allotment list of students in Girls Hostels
(2758) Regarding submission of consent of parents before joining the University
(2759) Time Table for NSS FOundation Elective w e f 15 02 2021
(2760) Quotation for Man Power
(2761) Quotation for Man Power
(2762) Quotation for Man Power
(2763) NOTICE REGARDING ROOM ALLOTMENT AT RAMANUJAN HOSTEL
(2764) Defaulter list  wrt NPTEL Certifcate  Last date is 13 2 2021 
(2765) Video to demonstrate the Hostel and Mess Fee Payment Process
(2766) REGARDING DELHI NCR  FIRST AND FINAL YEAR GIRLS HOSTEL ALLOTMENT
(2767) REGARDING  OUTSIDE DELHI DASA GIRLS HOSTEL ALLOTMENT
(2768) Notice Regarding First Phase of Room Allotment at Ramanujan Hostel
(2769) NSS CELL In Collabration with Honda Motors is conducting Workshop on Road Saftey on 16 02 2021 at 2 00 pm  Please join as per schedule 
(2770) Final semester BE project  VIII Sem  for COE students  CEC 24
(2771) MBA 2nd Semester Time Table
(2772) NOTICE REGARDING HOSTEL ALLOTMENT FOR IInd SEMESTER BFT  MBA AND MBA IEV STUDENTS  OUTSIDE DELHI AND DASA CATEGORY  ADMITTED TO NSUT MAIN CAMPUS
(2773) NOTICE REGARDING HOSTEL ALLOTMENT FOR B E  FINAL YEAR  M TECH AND PH D STUDENTS  OUTSIDE DELHI AND DASA CATEGORY  ADMITTED TO NSUT MAIN CAMPUS
(2774) REGARDING GIRLS HOSTEL ACCOMODATION
(2775) Regarding re opening the University for Academic Activities after COVID 19
(2776) NOTICE REGARDING HOSTEL ALLOTMENT FOR BTECH 1st YEAR STUDENTS   OUTSIDE DELHI AND DASA CATEGORY  ADMITTED TO NSUT MAIN CAMPUS
(2777) Email Address Directory of NSUT Main Campus
(2778) Notice regarding prepone of  LT1  BTBID03 and BTBCD01  exam in the form of oral examination for NSUT Main Campus February 2021
(2779) NOTICE   Regarding Final semester BE project  VIII Sem  for ICE students
(2780) Calendar for Research UTA Activities  January 2021 – December 2021 
(2781) Notification  Calendar for Research UTA Activities  January 2021 – December 2021 
(2782) Google classroom codes for B E  OLD SCHEME University of Delhi  PRACTICAL EXAM  ECE DEPARTEMENT
(2783) Notice for Orientation of Moksha and Innovision 2021 
(2784) Application for University Teaching Assistantship for M  Tech  IS   First Sem  East Campus
(2785) FINAL Datesheet for online conduct of Long Test 1  LT 1  in the form of oral examination for NSUT main campus East campus West campus   I and IV semester  B Tech BBA  M Tech  MBA and Ph D course work 
(2786) Date Sheet for CO415  Old Scheme Backlog  Exam
(2787) B E  OLD SCHEME University of  Delhi  PRACTICAL EXAM DATE SHEET  ECE DEPARTEMENT
(2788) EXAM NOTIFICATION FOR ALL STUDENTS
(2789) Final date sheet for online Mid Semester open book examination OBE   University of Delhi  for II IV   VI sem 
(2790) Hostel allotment notice for academic session 2020 21
(2791) Google Class Code  Foundation Elective  NSS 
(2792) TENTATIVE DATESHEET FOR THE ONLINE CONDUCT LONG TEST 1 IN THE FORM OF FULL DAY ORAL EXAMINATION for NSUT MAIN CAMPUS  EAST CAMPUS   WEST CAMPUS 
(2793) revised tentative date sheet of VI  IV II sem students  NSIT 
(2794) REVISE TIME TABLE FOR ECE AND ICE BACKLOG STUDENTS FROM ICE DEPARTMENT
(2795) Hostel Vacate Notice
(2796) Google Class Code for CEC 21
(2797) Google Class Codes foe CEC 21 Section   1
(2798) Instructions   Guidelines  for online mid semester OBE of NSIT students  for II IV   VI semester 
(2799) Date Sheet for Online Mid Semester Open Book Examination  OBE   University of Delhi   for II  IV   VI Semester
(2800) Google class room codes of FCEC003  Swapping of classes  effective from 3 2 21
(2801) Google class room codes of FCEC003  Swapping of classes 
(2802) List of M Tech  MCDA  students of IT Department who are selected for UTA
(2803) Notice for Students who applied for the post of office bearers for Moksha   Innovision 2021 
(2804) time table and classroom code for the backlog for ice and ece students
(2805) Notice for Inviting Online application from Students for Moksha and Innovision 2021 
(2806) Class codes for Backlog Papers offered by ECE Department
(2807) Re Registration Online Form Upload Google Form Link
(2808) Google Class Code Of ICC10  Mathematics III 
(2809) Datesheet for the online conduct of LT 3 Long test 3  Ist year MBA IEV NSUT students
(2810) Datesheet for the online conduct of LT 4 Long Test 4  Ist year MBA NSUT students
(2811) NOTICE   related to Foundation Elective  1st sem  4th sem  and backlog NSIT  
(2812) 5 days online Workshops Incorporating Universal Human Values in Technical Education
(2813) Notice for Inviting Online application from students for Moksha and Innovision 2021 
(2814) Allotment of  Vacant Flats
(2815) HOSTEL VACATE NOTICE
(2816) Circular for Celebration of Republic Day on 26th January 2021 
(2817) TIME TABLE OF FOUNDATION ELECTIVES  HUMANITIES 
(2818) Google class codes for Computer System Architecture  ITC12  and Software Engineering  SE  for Backlog students  NSIT  of IT department
(2819) 7th semester MPA online examination class code
(2820) Registration for F E courses of NSIT students upto 1 02 2021
(2821) Notice for Inauguration of 50 mtr High Indian National Flag and Dr  A P J  Abdul Kalam Lecture Theatre Complex 
(2822) Google classroom link codes for OBE examination  OLD SCHEME students held on Jan 2021  NSIT 
(2823) NOTICE  FE Backlog students 
(2824) MERIT CUM MEANS LINKED FINANCIAL ASSISTANCE SCHEME  https   edistrict delhigovt nic in  Last Date 15 03 2021
(2825) GOOGLE CLASS CODE Of MATHEMATICS II  FC006 
(2826) University is celebrating the 125th Birth anniversary of Netaji Subhas Chandra Bose
(2827) Guidelines for the OBE examination for the old scheme students held on Jan 2021  NSIT 
(2828) Date sheet of B E  old scheme exam held on January 2021
(2829) FIT INDIA CYCLOTHON  Kindly go through the circular to get register yourself for the Cyclothon to be held in the University campus on 26th January 2021 
(2830) Notification for Inauguration of Lecture Theatre Complex 
(2831) LIST of MTech Students whose result has been shared with NSUT   Management Information Systeml  
(2832) Date sheet for M Tech DC 1st Sem first short type  ST  exam East Campus NSUT
(2833) Date sheet for the online conduct of LT 3  Long test 3    1st YEAR MBA NSUT students 
(2834) ECE department 8th sem project notice
(2835) ASSESMENT ACTIVITY CALENDAR FOR IV SEMESTER MBA  NSUT  Dec 2020 to May 2021 
(2836) Google Class Code For Scientific Computing  MCMTC11  4th Semester MAC
(2837) Date Sheet for M  Tech  IS  First Sem  2020 2021 First Short Type exam  East Campus
(2838) Announcement for First Short Test of the subject FCCS002
(2839) NATIONAL YOUTH WEEK CELEBRATION CIRCUALR NSUT NSS CELL
(2840) Google Form For Reregistered Students of Mathematics II  FC006 
(2841) National Drone Championship  2021  Intrested students may contact Director Physical Education NSUT  main campus  
(2842) B Tech 1st Semester WEST CAMPUS
(2843) GOOGLE CLASSROOM CODES OF WEST CAMPUS COURSES UPDATED 
(2844) M  Tech  Thesis Dissertation of III Sem
(2845) Notification for Inauguration of Lecture Theater Complex 
(2846) M  Tech Dissertation Phase I Presentation and Viva
(2847) LIST of BTech BBA Students whose result has been shared with NSUT   Innovation Business model  
(2848) BBA 1st Sem Link also provided   Google Form Links for Uploading Required Documents by newly admitted 1st Sem Students
(2849) Codes for Google classroom EO009 Entrepreneurship
(2850) B Tech 1st Semester Course Registration Not Submitted till 10 PM on 06 01 2021
(2851) MAC26 MEC26 Project II
(2852) Interview schedule for UTA for M Tech  MCDA  student of IT Department
(2853) ED Substitution MAD29 MED31
(2854) Class code BBAC404  Sem IV 2020 21
(2855) Report   MAD29 MED31   Artificial Intelligence
(2856) Google classroom codes for EO004 HRM
(2857) Google Classroom Codes for ME MPAE Backlog Courses
(2858) LIST OF PENDING DUES OF B E  2016 2020 BATCH
(2859) Time Table for EO030 Polymer Science and Technology  Sem 8  r n  Google Class Codes Batch 1   2
(2860) REGISTRATION FOR SIMILAR COURSES WITH DIFFERENT COURSE CODES
(2861) 8Th Semester Time table for EO 033 Material Physics  Deptt Of Physics
(2862) Class Codes of Technical Communication  6th Semester  and Basics of Social Sciences  8th Semester  and Social Work 8th Semester 
(2863) Notice for the F E Foundation Elective Even Sem  courses re registration of NSIT students 
(2864) GOOD INTERNET CONNECTION  TO ATTEND ONLINE CLASSES
(2865) EO018 Google Class Codes  Batch 1 to 4 
(2866) CREDIT DEFICIT   EXCESS OF FINAL YEAR  B E  STUDENTS
(2867) Regarding      uploading reloading of sixth semester CSE registration forms
(2868) REGISTRATION FOR COURSES IN CLASHING TIME SLOTS
(2869) ME MPAE Issues related to Registration Time Table
(2870) NSS Enrollment form for all the first year and second year Under Graduate courses of NSUT  The last date to fill registration form is 13 01 2021
(2871) ECE 4th Semester Time Table with Revised Course Codes
(2872) CLASS CODE FOR ECC19 SECTION 3
(2873) Google Class codes of ECE VI Semester  section 1 and 2
(2874) CLASS CODES FOR ECC21 SECTION I   II
(2875) classcodes for ICE Even SEMESTER 2020
(2876) Google Class Code for CED39   Distributed Computing B E COE  8th Semester
(2877) Class codes of various courses in BSE Deptt 
(2878) Google Class Codes for CECSC10 Theory of Automata and Formal Languages B Tect CoE 4h Sem Sec I and II
(2879) Google classroom codes for FEMG005 Project Management   8th semester and MBAC401 Corporate Ethics and Governance   MBA 4th Semester
(2880) ECC19 Microwave Engineering  Sections 1 and 2  Google Classroom codes 
(2881) ECC20  VLSI  Sections 3  Google Classroom code
(2882) ECD 26  Satellite Communication  Sections 1 2 and 3  Google Classroom codes
(2883) Google Classroom codes for CEC 14  ECE VI SEM  Batch 1 and Batch 2 
(2884) ITECC13  Analog and Digital Communication  Sections 1 and 2   Google Classroom codes
(2885) Google Classroom codes for CED03  Software Testing 
(2886) ASSESMENT ACTIVITY CALENDAR FOR I IV SEMESTER NSUT B TECH BBA M TECH   VI VIII SEMESTER NSIT  Dec 2020 to May 2021 
(2887) Revised 6th Semester COE Master Time Table
(2888) Re Registration Form Uploading Links For Semester 6   8 Students
(2889) ECE department 7th sem end term project evaluation
(2890) Google Class Codes For 4th 6th 8th Semesters   MATHEMATICS 
(2891) SYLLABUS Environmental Sciences and Green Chemistry  FCCH008
(2892) CLASS CODE FOR FCCH008  Environmental Science   Green  Chemistry SEMESTER I 2020 21
(2893) Credit Requirement for Choice Based Credit System  CBCS  Scheme of NSIT  B E  and M Tech  Course
(2894) NSS Orientation for University Main  east and west campus  Please find attached detailed program 
(2895) Registration Form Uploading Links For Sem 8 Students
(2896) Registration Form Uploading Links For Sem 6 Students
(2897) Registration Form Uploading Links For Sem 4 Students
(2898) Notice for UTA for M Tech  MCDA  students of IT Department
(2899) FE Course Allotted to B Tech Sem 1 Students after Spot Round Admissions 
(2900) E MAIL ADDRESS OF ALL HODs   TIME TABLE COORDINATORS
(2901) FINAL NOTICE FOR FEE SUBMISSION OF B TECH  M TECH  BBA MBA MBA IEV
(2902) NSUT Roll Number for Branch Upgraded Students and Newly Admitted Students in Special Spot Round
(2903) ENDORSEMENT  Revised income eligibility criteria in PMSS for OBC 
(2904) Award of Engineers India Ltd  EIL  Scholarship to SC   ST  Fresh Students Only 
(2905) End Sem BTP Presentation Guidelines for ME and MPAE  I and II  Odd 2020
(2906) BBA 4th Semester Time Table
(2907) MBA 4th Semester Time Table
(2908) Addendum to the advt  for consultants for Training   Placement  NSUT
(2909) Consent for Hostel Accomodation
(2910) Hiring of Consultants for Training   Placement  NSUT
(2911) TIME TABLE OF FOUNDATION ELECTIVES  HUMANITIES 
(2912) Time Table for Pre Ph D Course Work  Deptt of Physics
(2913) Revision of Sanitation Solid Waste Management Charges for the residential
accommodation in NSUT Campus 
(2914) Revision of Flat rate of licence fee for the residential accommodation in NSUT Campus
(2915) CIRCULAR
(2916) Registration Officer for 4th 6th and 8th Semester of  B E  B Tech  M Tech  BBA  MBA and MBA IEV  Programme
(2917) Summary Report of Grievances received from students regarding Sem 2 result declared on 17 09 2020
(2918) B TECH Sem 2 Academic Session 2019 20 Rectified Result
(2919) Provide the attendance for M Tech students for the Academic Year 2020 21
(2920) Re registered for the B Tech 1st Semester Academic Session 2020 21
(2921) M Tech IS  1st Sem Time Table with google classroom code after elective subjects selection by the students for NSUT  East Campus 
(2922) Revised Datesheet of Practical Exams  DU   BSE Deptt
(2923) ME MPAE  4th Sem  NSUT   6th Sem  DU   8th Sem  DU  and 2nd  DU Backlog   4th DU Backlog  Time Table  Even 2021
(2924) Revised Date Sheet of Practical Examinations of NSIT Students of IT Department for Odd Semester 2020
(2925) Notice for Ph  Students
(2926) ICE EE Dept  4th  6th and 8th Sem Time Table  Main Campus 
(2927) IT Dept  4th  6th and 8th Sem Time Table  Main Campus 
(2928) Time Table of IV  VI and VIII Semester  B Tech B E  Biotechnology  Dept  of BSE 
(2929) CSE Dept  4th  6th and 8th Sem Time Table  Main Campus 
(2930) ECE Dept  4th  6th and 8th Sem Time Table  Main Campus 
(2931) MTECH DC  EAST CAMPUS NSUT Class codes
(2932) DATE SHEET FOR M TECH Dissertation Phase I   ICE ODD SEM for NSUT 3rd sem students for Sub Code  ICPCC05  ICIEC05 and ICMKC05
(2933) Time Table of Ist Semester   M Tech Bioinformatics  BI  and Biochemical Engineering  BCE   Dept  of BSE 
(2934) Foundation Elective  I Semester NSUT TIME TABLE 2020 w e f 21 12 2020
(2935) Class Codes of FCEC003  Electrical and Electronics Engineering  B Tech    ICE EE BT MPAE ME EIOT CSDS ITNS  1st Sem Course  NSUT  Main Campus 
(2936) Time Table M  Tech I Semester Industrial Electronics   Electrical Engineering  with Google class codes
(2937) GOOGLE CLASS CODE FOR M  Tech I Semester Biochemical Engineering Bioinformatics ITBIC02  Programming Languages in Bioinformatics
(2938) I Sem M  Tech  IT  NSUT  Google Class room CODE LINK  Mobile Computing and Security  Machine Intelligence and Data Analytics 
(2939) IT I Sem B  Tech Class code for Computer Programming FCCS002
(2940) REVISED DATE SHEET FOR PRACTICAL EXAMINATION OF BE ICE ODD SEM  FOT DU  AND OLD SCHEME FOT DU
(2941) CORRIGENDUM for class code of CSDS branch  FCMT001 
(2942) Class Codes of FCEC003  Electrical and Electronics Engineering  B Tech  ECE COE CSAI IT MAC  1st Sem Course  NSUT  Main Campus 
(2943) REVISED DATE SHEET FOR PRACTICAL EXAMINATION OF BE MPAE AND ME ODD SEM  FOT DU  AND OLD SCHEME FOT DU
(2944) REVISED PRACTICAL EXAM DATE SHEET FOR ECC17 ECD07  ECD13  ECC22 ECC23 ECE DEPARTEMENT
(2945) FCMT001 Google Class Code 1st  semester B Tech
(2946) NSUT Roll Number for Students Admitted in Spot Round 3
(2947) BTP END SEM Announcement  Computer Science   Engineering  on 1   2nd JAN 2021
(2948) 1st Sem B Tech ECAM   NSUT EAST CAMPUS Google classroom codes
(2949) M Tech  Digital Communication  Time table 1st Sem NSUT East Campus
(2950) B Tech  CSDA  1st Sem NSUT  East Campus   Google Classroom Code
(2951) Class Code for M Tech  SP  ESV  CN  1st Sem courses of ECE Dept NSUT Main Campus 
(2952) M Tech IS   1st Sem Time Table with google classroom code for NSUT  East Campus 
(2953) Fit India Movement to promote fitness across the country
(2954) Class Codes  Humanities and Social Sciences   English  Technical Communication  Social Work  EO010   Basics of Social Sciences  EO008 
(2955) Google class codes for the subject FCCS002 computer Programming First Semester  Classes to commence from 21 12 2020
(2956) IV VI VIII  SEMESTER  B TECH M TECH BBA MBA MBA IEV REGISTRATION  SCHEDULE 
(2957) FCCS002 Google Class room code I semester B tech 
(2958) Google class code   I semester M Tech  Time Table  Computer Science 
(2959) BBA 1st Semester Time Table
(2960) M Tech  SP  ESV  CN 1st Sem Time Table of ECE Dept NSUT  Main Campus 
(2961) B Tech  ECE  EIoT  1st Sem Time Table of ECE Dept NSUT  Main Campus 
(2962) TENTATIVE ACADEMIC SCHEDULE FOR  I SEMESTER B TECH M TECH BBA
(2963) FCME006 BME Google classroom codes ODD 2020
(2964) B  Tech  CSDA  1st Sem NSUT  East Campus  Time Table
(2965) M Tech 1st Sem TT for ME and CAD CAM  ODD 2020
(2966) 1st Sem B  Tech NSUT East Time Table  ECAM 
(2967) Updated List of Foundation Elective FE  Course for newly admitted B Tech 1st Sem Students 
(2968) New Roll Numbers of  B Tech 1st Sem of Academic Session 2020 21
(2969) First year  B Tech  NSUT Time Table  ICE   EE 
(2970) I Sem M  Tech  IT  NSUT  Time Table   Mobile Computing and Security  Machine Intelligence and Data Analytics 
(2971) I Sem B  Tech NSUT Time Table  IT  ITNS 
(2972) Notice for First year students of the University wrt CVSPK financial assistance scheme
(2973) Time Table of Ist Semester   B Tech Biotechnology  Dept  of BSE 
(2974) Web portal address for submitting applications under the University CVSPK Scheme
(2975) I semester M Tech  Time Table  Computer Science 
(2976) I semester B Tech  NSUT Time Table  CSE  CSAI CSDS  MAC 
(2977) ME I and II  and MPAE 1st Sem Time Table   ODD 2020
(2978) Final datesheet for 5th   7th semester examination  December 2020 
(2979) Instructions and Guidelines for students for the end semester examination  OBE  December 2020
(2980) NOTICE  for Faculty   Teaching community of NSUT rnFaculty Training Program on ‘Human Values’
(2981) List shared by NPTEL  Exam centre allocated to students
(2982) Information regarding Special Summary Revision of Electoral Roll 
(2983) Notice for M Tech  Thesis Dessertation  Seminar I  of Mechanical Engineering Department
(2984) Notice for students who had applied under CVSPK University scheme    List of Documents to be uploaded alongwith CVSPK application forms   Last date for uploading of documents is 20 12 2020
(2985) Time table First semester  starting from 8 december 2020  for NSUT main campus  East campus  West campus   for first 2 weeks   FOUNDATION ELECTIVE  Humanities  MGMT   GREEN CHEMISTRY   PHYSICS  contains google classroom code UPDATED for GI WEST CAMPUS 
(2986) Foundation Elective  FE  Course Allotment for B Tech 1st Sem and BBA 1st Sem 2020 21 List with Batches Information
(2987) Video    Procedure to Activate NSUT Official Email Address and Upload required documents for 1st Sem Course Registration
(2988) NPTEL   provided update list of students  who have given their  a  consent as YES to share the RESULT information with college  and  b  consent as No in sharing their RESULT information with college
(2989) Important Instructions about various Admission related Activities to be completed by newly admitted 1st Year Students
(2990) Google Form Links for uploading Required Documents by newly admitted 1st Sem Students  can be accessed by NSUT Official Email Address Only 
(2991) Undertakings to be submitted by newly admitted 1st Sem Students
(2992) Anti Ragging Regulation of AICTE
(2993) Notice   Induction   Orientation Program 2020 for 1st Year students admitted in Academic Session 2020 21
(2994) FINAL Date sheet for the online conduct LT 4 in the form of comprehensive oral exam viva voce  only for NSUT  3rd sem B Tech M tech  BBA MBA MBA IEV   1st sem B tech  Mtech  Backlog 
(2995) Revised Date sheet for the online conduct LT 3 in the form of comprehensive oral exam viva voce  only for NSUT  1st sem M Tech students 
(2996) Date sheet for the online conduct LT 3 in the form of comprehensive oral exam viva voce  only for NSUT  1st sem M Tech students 
(2997) Re registered for 1st Semester in B Tech programme and deposit the University Admission Fee 2020 21
(2998) Notice   Balance Admission Fee Policy for B  Tech  Admission through JAC DELHI 2020
(2999) Procedure for 1st Sem Course Registration on NSUT UMS Website
(3000) Procedure to Fill Information in your Profile on NSUT UMS Website
(3001) Procedure to Activate Your Account on NSUT UMS Website
(3002) List of NSUT Roll Number of B  Tech  Students Admitted through PMSSS 2020
(3003) List of NSUT Roll Number of B  Tech  Students Admitted through DASA 2020
(3004) Corrigendum  F  No  220 43  Cont  of Exam  NSUT 293 dtd 01 12 2020   regarding Evaluation Procedure  NSUT 
(3005) Academic Calendar for 1st Semester B Tech and BBA Programme Academic Session 2020 21
(3006) Instructions for paying Balance Admission Fee of Rs 87000   for newly admitted students of B Tech  2020 21
(3007) List of NSUT Roll Number of B  Tech  Students Admitted through JEE 2020
(3008) None
(3009) None
(3010) None
(3011) None
(3012) None
(3013) None
(3014) None
(3015) None
(3016) None
(3017) None
(3018) None
(3019) None
(3020) None
(3021) None
(3022) None
(3023) None
(3024) None
(3025) None
(3026) None
(3027) None
(3028) None
(3029) None
(3030) None
(3031) None
(3032) None
(3033) None
(3034) None
(3035) None
(3036) None
(3037) None
(3038) None
(3039) None
(3040) None
(3041) None
(3042) None
(3043) None
(3044) None
(3045) None
(3046) None
(3047) None
(3048) None
(3049) None
(3050) None
(3051) None
(3052) None
(3053) None
(3054) None
(3055) None
(3056) None
(3057) None
(3058) None
(3059) None
(3060) None
(3061) None
(3062) None
(3063) None
(3064) None
(3065) None
(3066) None
(3067) None
(3068) None
(3069) None
(3070) None
(3071) None
(3072) None
(3073) None
(3074) None
(3075) None
(3076) None
(3077) None
(3078) None
(3079) None
(3080) None
(3081) None
(3082) None
(3083) None
(3084) None
(3085) None
(3086) None
(3087) None
(3088) None
(3089) None
(3090) None
(3091) None
(3092) None
(3093) None
(3094) None
(3095) None
(3096) None
(3097) None
(3098) None
(3099) None
(3100) None
(3101) None
(3102) None
(3103) None
(3104) None
(3105) None
(3106) None
(3107) None
(3108) None
(3109) None
(3110) None
(3111) None
(3112) None
(3113) None
(3114) None
(3115) None
(3116) None
(3117) None
(3118) None
(3119) None
(3120) None
(3121) None
(3122) None
(3123) None
(3124) None
(3125) None
(3126) None
(3127) None
(3128) None
(3129) None
(3130) None
(3131) None
(3132) None
(3133) None
(3134) None
(3135) None
(3136) None
(3137) None
(3138) None
(3139) None
(3140) None
(3141) None
(3142) None
(3143) None
(3144) None
(3145) None
(3146) None
(3147) None
(3148) None
(3149) None
(3150) None
(3151) None
(3152) None
(3153) None
(3154) None
(3155) None
(3156) None
(3157) None
(3158) None
(3159) None
(3160) None
(3161) None
(3162) None
(3163) None
(3164) None
(3165) None
(3166) None
(3167) None
(3168) None
(3169) None
(3170) None
(3171) None
(3172) None
(3173) None
(3174) None
(3175) None
(3176) None
(3177) None
(3178) None
(3179) None
(3180) None
(3181) None
(3182) None
(3183) None
(3184) None
(3185) None
(3186) None
(3187) None
(3188) None
(3189) None
(3190) None
(3191) None
(3192) None
(3193) None
(3194) None
(3195) None
(3196) None
(3197) None
(3198) None
(3199) None
(3200) None
(3201) None
(3202) None
(3203) None
(3204) None
(3205) None
(3206) None
(3207) None
(3208) None
(3209) None
(3210) None
(3211) None
(3212) None
(3213) None
(3214) None
(3215) None
(3216) None
(3217) None
(3218) None
(3219) None
(3220) None
(3221) None
(3222) None
(3223) None
(3224) None
(3225) None
(3226) None
(3227) None
(3228) None
(3229) None
(3230) None
(3231) None
(3232) None
(3233) None
(3234) None
(3235) None
(3236) None
(3237) None
(3238) None
(3239) None
(3240) None
(3241) None
(3242) None
(3243) None
(3244) None
(3245) None
(3246) None
(3247) None
(3248) None
(3249) None
(3250) None
(3251) None
(3252) None
(3253) None
(3254) None
(3255) None
(3256) None
(3257) None
(3258) None
(3259) None
(3260) None
(3261) None
(3262) None
(3263) None
(3264) None
(3265) None
(3266) None
(3267) None
(3268) None
(3269) None
(3270) None
(3271) None
(3272) None
(3273) None
(3274) None
(3275) None
(3276) None
(3277) None
(3278) None
(3279) None
(3280) None
(3281) None
(3282) None
(3283) None
(3284) None
(3285) None
(3286) None
(3287) None
(3288) None
(3289) None
(3290) None
(3291) None
(3292) None
(3293) None
(3294) None
(3295) None
(3296) None
(3297) None
(3298) None
(3299) None
(3300) None
(3301) None
(3302) None
(3303) None
(3304) None
(3305) None
(3306) None
(3307) None
(3308) None
(3309) None
(3310) None
(3311) None
(3312) None
(3313) None
(3314) None
(3315) None
(3316) None
(3317) None
(3318) None
(3319) None
(3320) None
(3321) None
(3322) None
(3323) None
(3324) None
(3325) None
(3326) None
(3327) None
(3328) None
(3329) None
(3330) None
(3331) None
(3332) None
(3333) None
(3334) None
(3335) None
(3336) None
(3337) None
(3338) None
(3339) None
(3340) None
(3341) None
(3342) None
(3343) None
(3344) None
(3345) None
(3346) None
(3347) None
(3348) None
(3349) None
(3350) None
(3351) None
(3352) None
(3353) None
(3354) None
(3355) None
(3356) None
(3357) None
(3358) None
(3359) None
(3360) None
(3361) None
(3362) None
(3363) None
(3364) None
(3365) None
(3366) None
(3367) None
(3368) None
(3369) None
(3370) None
(3371) None
(3372) None
(3373) None
(3374) None
(3375) None
(3376) None
(3377) None
(3378) None
(3379) None
(3380) None
(3381) None
(3382) None
(3383) None
(3384) None
(3385) None
(3386) None
(3387) None
(3388) None
(3389) None
(3390) None
(3391) None
(3392) None
(3393) None
(3394) None
(3395) None
(3396) None
(3397) None
(3398) None
(3399) None
(3400) None
(3401) None
(3402) None
(3403) None
(3404) None
(3405) None
(3406) None
(3407) None
(3408) None
(3409) None
(3410) None
(3411) None
(3412) None
(3413) None
(3414) None
(3415) None
(3416) None
(3417) None
(3418) None
(3419) None
(3420) None
(3421) None
(3422) None
(3423) None
(3424) None
(3425) None
(3426) None
(3427) None
(3428) None
(3429) None
(3430) None
(3431) None
(3432) None
(3433) None
(3434) None
(3435) None
(3436) None
(3437) None
(3438) None
(3439) None
(3440) None
(3441) None
(3442) None
(3443) None
(3444) None
(3445) None
(3446) None
(3447) None
(3448) None
(3449) None
(3450) None
(3451) None
(3452) None
(3453) None
(3454) None
(3455) None
(3456) None
(3457) None
(3458) None
(3459) None
(3460) None
(3461) None
(3462) None
(3463) None
(3464) None
(3465) None
(3466) None
(3467) None
(3468) None
(3469) None
(3470) None
(3471) None
(3472) None
(3473) None
(3474) None
(3475) None
(3476) None
(3477) None
(3478) None
(3479) None
(3480) None
(3481) None
(3482) None
(3483) None
(3484) Fee payment instructions for students who availed LOAN from banks
(3485) Tentative List of Upgraded 1st Year B Tech  Students of NSUT
(3486) Department of Physics Advertisement for Guest Faculty Positions
(3487) FCEC003 Electronics  and Electrical Engineering
(3488) Display of answer sheets for MTech 1st  sem Embedded System and VLSI  subject ECEVC01 VLSI Design
(3489) Display of Evaluated Answer Sheets of ECSPC02  Advanced Digital Signal Processing  to M Tech Ist Semester  Signal Processing  students
(3490) Display of Evaluated Answer Sheets in FCEC003  Electronics and Electrical Engineering
(3491) Notice regarding display of answer sheets of subject entitled  Optical Wireless Communication  ECCNE05   to Ist year M Tech  Communication and Networks  students
(3492) Solutions for end sem exam question paper of EEE  FCEC003  ICE  EE MPAE  BT  ME
(3493) GUIDELINES FOR BACHELOR THESIS PROJECT 1 ICC23  PRESENTATION
(3494) Notice for Reporting of students in VC Committee Room  2nd Floor  Admin Block on 16 12 2019
(3495) Practical Training ECC 22 schedule of 7th semester ECE Division
(3496) BTP ATTENDANCE SHEET  COE 
(3497) End sem for COE Students  Project Presentation  Guidelines
(3498) REVISED TIME TABLE  ECE  FOR EVEN SEMESTER  IV VI VIII  2019 20
(3499) End Semester M  Tech Major Project Evaluation  SPC06 and ESC06  Notice
(3500) Updated Foundation Elective Courses Tentative Time table for the Fourth Semester students  Even Semester  2019 2020
(3501) Updated Time Table for BE  COE  VI and VIII semester  Jan 2020
(3502) Updated Time Table of Even Semester 2020 for Dept of BSE for IV  VI  and VIII Semester   B E  Biotechnology
(3503) REVISE TIME TABLE OF IV VI VIII SEMESTER WITH NEW OPEN ELECTIVE OF ICE DEPARTMENT
(3504) Updated Time Table  VIII Semester 2020   MPAE and ME
(3505) Updated Time Table  VI Semester 2020  MPAE  and ME
(3506) Updated Time Table for B E   IT  VIII Semester 2019 2020
(3507) Updated Time Table for B E   IT  VI Semester 2019 2020
(3508) Notice regarding Changes in Open electives for sixth and Eighth semesters
(3509) IGNOU  has developed M A  in translation Studies  MATS     SOTST  Programme Open and Distance Learning  ODL  Mode
(3510) Advertisement for Guest Faculty Positions  Department of Information Technology
(3511) Advertisement for Guest Faculty Positions  Department of Electronics and Communication
(3512) Advertisement for Guest Faculty Positions  Department of Computer Science and Engineering
(3513) Selected Students for NSUT Delegation to Harvard National MUN 2020 
(3514) None
(3515) None
(3516) None
(3517) None
(3518) None
(3519) None
(3520) None
(3521) None
(3522) None
(3523) None
(3524) None
(3525) None
(3526) None
(3527) None
(3528) None
(3529) None
(3530) None
(3531) None
(3532) None
(3533) None
(3534) None
(3535) None
(3536) None
(3537) None
(3538) None
(3539) None
(3540) None
(3541) None
(3542) None
(3543) None
(3544) None
(3545) None
(3546) None
(3547) None
(3548) None
(3549) None
(3550) None
(3551) None
(3552) None
(3553) None
(3554) None
(3555) None
(3556) None
(3557) None
(3558) None
(3559) None
(3560) None
(3561) None
(3562) None
(3563) None
(3564) None
(3565) None
(3566) None
(3567) None
(3568) None
(3569) None
(3570) None
(3571) None
(3572) None
(3573) None
(3574) None
(3575) None
(3576) None
(3577) None
(3578) None
(3579) None
(3580) None
(3581) None
(3582) None
(3583) None
(3584) None
(3585) None
(3586) None
(3587) None
(3588) None
(3589) None
(3590) None
(3591) None
(3592) None
(3593) None
(3594) None
(3595) None
(3596) None
(3597) None
(3598) None
(3599) None
(3600) None
(3601) None
(3602) None
(3603) None
(3604) None
(3605) None
(3606) None
(3607) None
(3608) None
(3609) None
(3610) None
(3611) None
(3612) None
(3613) None
(3614) None
(3615) None
(3616) None
(3617) None
(3618) None
(3619) None
(3620) None
(3621) None
(3622) None
(3623) None
(3624) None
(3625) None
(3626) None
(3627) None
(3628) None
(3629) None
(3630) None
(3631) None
(3632) None
(3633) None
(3634) None
(3635) None
(3636) None
(3637) None
(3638) None
(3639) None
(3640) None
(3641) None
(3642) None
(3643) None
(3644) None
(3645) None
(3646) None
(3647) None
(3648) None
(3649) None
(3650) None
(3651) None
(3652) None
(3653) None
(3654) None
(3655) None
(3656) None
(3657) None
(3658) None
(3659) None
(3660) None
(3661) None
(3662) None
(3663) None
(3664) None
(3665) None
(3666) None
(3667) None
(3668) None
(3669) None
(3670) None
(3671) None
(3672) None
(3673) None
(3674) None
(3675) None
(3676) None
(3677) None
(3678) None
(3679) None
(3680) None
(3681) None
(3682) None
(3683) None
(3684) None
(3685) None
(3686) None
(3687) None
(3688) None
(3689) None
(3690) None
(3691) None
(3692) None
(3693) None
(3694) None
(3695) None
(3696) None
(3697) None
(3698) None
(3699) None
(3700) None
(3701) None
(3702) None
(3703) None
(3704) None
(3705) None
(3706) None
(3707) None
(3708) None
(3709) None
(3710) None
(3711) None
(3712) None
(3713) None
(3714) None
(3715) None
(3716) None
(3717) None
(3718) None
(3719) None
(3720) None
(3721) None
(3722) None
(3723) None
(3724) None
(3725) None
(3726) None
(3727) None
(3728) None
(3729) None
(3730) None
(3731) None
(3732) None
(3733) None
(3734) None
(3735) None
(3736) None
(3737) None
(3738) None
(3739) None
(3740) None
(3741) None
(3742) None
(3743) None
(3744) None
(3745) None
(3746) None
(3747) None
(3748) None
(3749) None
(3750) None
(3751) None
(3752) None
(3753) None
(3754) None
(3755) None
(3756) None
(3757) None
(3758) None
(3759) None
(3760) None
(3761) None
(3762) None
(3763) None
(3764) None
(3765) None
(3766) None
(3767) None
(3768) None
(3769) None
(3770) None
(3771) None
(3772) None
(3773) None
(3774) None
(3775) None
(3776) None
(3777) None
(3778) None
(3779) None
(3780) None
(3781) None
(3782) None
(3783) None
(3784) None
(3785) None
(3786) None
(3787) None
(3788) None
(3789) None
(3790) None
(3791) None
(3792) None
(3793) None
(3794) None
(3795) None
(3796) None
(3797) None
(3798) None
(3799) None
(3800) None
(3801) None
(3802) None
(3803) None
(3804) None
(3805) None
(3806) None
(3807) None
(3808) None
(3809) None
(3810) None
(3811) None
(3812) None
(3813) None
(3814) None
(3815) None
(3816) None
(3817) None
(3818) None
(3819) None
(3820) None
(3821) None
(3822) None
(3823) None
(3824) None
(3825) None
(3826) None
(3827) None
(3828) None
(3829) None
(3830) None
(3831) None
(3832) None
(3833) None
(3834) None
(3835) None
(3836) None
(3837) None
(3838) None
(3839) None
(3840) None
(3841) None
(3842) None
(3843) None
(3844) None
(3845) None
(3846) None
(3847) None
(3848) None
(3849) None
(3850) None
(3851) None
(3852) None
(3853) None
(3854) None
(3855) None
(3856) None
(3857) None
(3858) None
(3859) None
(3860) None
(3861) None
(3862) None
(3863) None
(3864) None
(3865) None
(3866) None
(3867) None
(3868) None
(3869) None
(3870) None
(3871) None
(3872) None
(3873) None
(3874) None
(3875) None
(3876) None
(3877) None
(3878) None
(3879) None
(3880) None
(3881) None
(3882) None
(3883) None
(3884) None
(3885) None
(3886) None
(3887) None
(3888) None
(3889) None
(3890) None
(3891) None
(3892) None
(3893) None
(3894) None
(3895) None
(3896) None
(3897) None
(3898) None
(3899) None
(3900) None
(3901) None
(3902) None
(3903) None
(3904) None
(3905) None
(3906) None
(3907) None
(3908) None
(3909) None
(3910) None
(3911) None
(3912) None
(3913) None
(3914) None
(3915) None
(3916) None
(3917) None
(3918) None
(3919) None
(3920) None
(3921) None
(3922) None
(3923) None
(3924) None
(3925) None
(3926) None
(3927) None
(3928) None
(3929) None
(3930) None
(3931) None
(3932) None
(3933) None
(3934) None
(3935) None
(3936) None
(3937) None
(3938) None
(3939) None
(3940) None
(3941) None
(3942) None
(3943) None
(3944) None
(3945) None
(3946) None
(3947) None
(3948) None
(3949) None
(3950) None
(3951) None
(3952) None
(3953) None
(3954) None
(3955) None
(3956) None
(3957) None
(3958) None
(3959) None
(3960) None
(3961) None
(3962) None
(3963) 04 12 2018 
(3964) None
(3965) None
(3966) None
(3967) None
(3968) None
(3969) None
(3970) None
(3971) None
(3972) None
(3973) None
(3974) None
(3975) None
(3976) None
(3977) None
(3978) None
(3979) None
(3980) None
(3981) None
(3982) None
(3983) None
(3984) None
(3985) None
(3986) 15 11 2018 
(3987) None
(3988) None
(3989) None
(3990) None
(3991) None
(3992) None
(3993) None
(3994) None
(3995) None
(3996) None
(3997) None
(3998) Datesheet for Parctical Examination   Division of ECE 
(3999) Date Sheet of Practical Exams to be Conducted by COE Division for BE  COE ECE ICE MPAE ME BT  and MTech  IS FT PT 
(4000) DATE SHEET for BE ICE ODD SEM  PRACTICAL EXAMINATION Nov Dec  2018
(4001) M  TECH  PE EM   ODD SEM  PRACTICAL EXAMINATION DATE SHEET
(4002) Workshop practical exams date sheet  Nov 2018
(4003) BE MPAE  ME ODD SEM  PRACTICAL EXAMINATION DATE SHEET
(4004) Student Information for Attendance
(4005) Attendance Notice for  Faculty Members
(4006) Students Attendance Notice
(4007) DASA 2nd  3rd  4th YEAR STUDENT FEE NOTICE
(4008) M  Tech  Project Presentation
(4009) Guidelines for winter training of Final year ECE students
(4010) A Talk on   Introduction to the Actuarial Profession   Notice
(4011) Delegation of Powers
(4012) Seminar Re Schedule for ECE VII sem students
(4013) Maharishi Valmikis Birthday Holiday Office Order
(4014) Vigilance Awareness Week 2018
(4015) Queries regarding Registration  IV VI sem  in the next Semester 
(4016) Regarding Project and Seminar for final year students of ECE Division
(4017) Schedule of Orientation sessions to explain the CBCS scheme for FIFTH sem students
(4018) Seminar notice for ECE VII sem students
(4019) Office Order for Teaching days and Holidays
(4020) Notice for Reschedule of Classes
(4021) Remedial Class Time Table Oct2018
(4022) BE ICE Final Year Students Section 3 Seminar Schedule
(4023) BE ICE Final Year Students Section 2 Seminar Schedule
(4024) BE ICE Final Year Students Section 1 Seminar Schedule
(4025) BE ICE Final Year Students Notice for Seminar
(4026) Remedial Classes Reminder Notice
(4027) Final Year COE B E  Project Allocation for the 8th Semester
(4028) ME408  Practical Training Evaluation Schedule
(4029) MA409  Practical Training Evaluation Schedule
(4030) B E Final Year MPAE and ME  Project Allocation 
(4031) Supplementary Registration Notice
(4032) Remedial Classes
(4033) Research Areas of Faculty members of ECE Division for final year project
(4034) Class Suspended after 1 00 PM on 26 Sep 2018
(4035) BE ICE  Final year Projects and Seminar
(4036) Final year ECE B E  Project guidelines and allocation
(4037) Seminar schedule for VII semester ECE students
(4038) Seminar guidelines for VII semester ECE students
(4039) MPSFER Scholarship for needy and Meritorious students researchers of NSIT
(4040) EIL Scholarship for SC ST Students
(4041) Observers Duties for Mid Semester Examination
(4042) Profile Print Option in IMS
(4043) Invigilation Duties Chart for Mid Semester Sep 2018
(4044) NOTICE   B E  FIRST SEMESTER
(4045) TEACHING PLAN and List of Experiments of all B E  courses offered by Division of ECE in session August   December 2018
(4046) M Tech Mid Sem Exam Datesheet September 2018
(4047) Attendance  schedule of Seminar for VII semester Electronics students
(4048) Date sheet of Mid Semester Examination Sep 2018
(4049) Classroom change
(4050) Notice  for students to check their attendance
(4051) Notice for Course Instructor to mark attendance on Daily Basis
(4052) VANMAHOTSAV THE TREE PLANTATION DRIVE ON NSIT CAMPUS ON 29 8 2018
(4053) Office Order  M Tech  ECE Division 
(4054) Wednesday Schedule to be followed on Monday  i e   on 27 08 2018 
(4055) M Tech  Time Table change
(4056) KERALA RELIEF   DOOR TO DOOR COLLECTION OF OLD MATERIAL ON NSIT CAMPUS FROM 25TH AUGUST TO 2ND SEPTEMBER 
(4057) Adding of Courses for BE V Sem and Re registration of FE courses for 3rd Sem
(4058) Notice  First class test rescheduled
(4059) CIRCULAR  FLOOD RELIEF FROM NSIT EMPLOYEES
(4060) ACADEMIC CALENDAR OF ODD SEMESTER 2018 19 for M Tech  Students
(4061) Applications are invited for Hostel Allotment in GH II
(4062) Last date for female students to seek accomodation in GH I
(4063) Notice for the Holiday on 17 08 2018 on the sad demise of our Formal Prime Minister Shri Atal Bihari Vajpayee
(4064) Foundation Elective FE  Courses Notice
(4065) Issues regarding Registration and Re registration of Vth semester students
(4066) Notice   Independence Day Celebration
(4067) Regarding Hostel allotment to first year female M Tech students in GH I
(4068) Regarding Hostel allotment to first year female students in GH II
(4069) Information regarding Hostel allotment to first year female students in GH I
(4070) Complete List of NSIT Roll Number Allotted for B E Admission 2018
(4071) Regarding Accomodation in GH I  URGENT 
(4072) ME 5th Sem Provisional Elective Allotment List
(4073) Re Registration of Courses Notice 
(4074) General Rules to be Observed for Hostel Residents
(4075) Academic Calendar BE Odd Sem 2018 19
(4076) MPAE 5th SEM Provisional Elective Allotment List
(4077) Minute to minute program during Welcome Address   Orientation B E  1st Year  2018 19
(4078) Orientation Programme Schedule for First Year B E Students 2018 19
(4079) Balance Fee Notice M Tech 
(4080) Hostel Admission Schedule for Ist year Male students
(4081) Registration notice for M Tech  1st  3rd and 5th Semester
(4082) Regarding accomodation in GH I  Urgent 
(4083) None
(4084) None
(4085) None
(4086) None
(4087) None
(4088) None
(4089) None
(4090) None
(4091) None
(4092) None
(4093) None
(4094) None
(4095) None
(4096) None
(4097) None
(4098) None
(4099) None
(4100) None
(4101) None
(4102) None
(4103) None
(4104) None
(4105) None
(4106) None
(4107) None
(4108) None
(4109) None
(4110) None
(4111) None
(4112) None
(4113) None
(4114) None
(4115) None
(4116) None
(4117) None
(4118) None
(4119) None
(4120) None
(4121) None
(4122) None
(4123) None
(4124) None
(4125) None
(4126) None
(4127) None
(4128) None
(4129) None
(4130) None
(4131) None
(4132) None
(4133) None
(4134) None
(4135) None
(4136) None
(4137) None
(4138) None
(4139) None
(4140) None
(4141) None
(4142) None
(4143) None
(4144) None
(4145) None
(4146) None
(4147) None
(4148) None
(4149) None
(4150) None
(4151) None
(4152) None
(4153) None
(4154) None
(4155) None
(4156) None
(4157) None
(4158) None
(4159) None
(4160) None
(4161) None
(4162) None
(4163) None
(4164) None
(4165) None
(4166) None
(4167) None
(4168) None
(4169) None
(4170) None
(4171) None
(4172) None
(4173) None
(4174) None
(4175) None
(4176) None
(4177) None
(4178) None
(4179) None
(4180) None
(4181) None
(4182) None
(4183) None
(4184) None
(4185) None
(4186) None
(4187) None
(4188) None
(4189) None
(4190) None
(4191) None
(4192) None
(4193) None
(4194) None
(4195) None
(4196) None
(4197) None
(4198) None
(4199) None
(4200) None
(4201) None
(4202) None
(4203) None
(4204) None
(4205) None
(4206) None
(4207) None
(4208) None
(4209) None
(4210) None
(4211) None
(4212) None
(4213) None
(4214) None
(4215) None
(4216) None
(4217) None
(4218) None
(4219) None
(4220) None
(4221) None
(4222) None
(4223) None
(4224) None
(4225) None
(4226) None
(4227) None
(4228) None
(4229) None
(4230) None
(4231) None
(4232) None
(4233) None
(4234) None
(4235) None
(4236) None
(4237) None
(4238) None
(4239) None
(4240) None
(4241) None
(4242) None
(4243) None
(4244) None
(4245) None
(4246) None
(4247) None
(4248) None
(4249) None
(4250) None
(4251) None
(4252) None
(4253) None
(4254) None
(4255) None
(4256) None
(4257) None
(4258) None
(4259) None
(4260) None
(4261) None
(4262) None
(4263) None
(4264) None
(4265) None
(4266) None
(4267) None
(4268) None
(4269) None
(4270) None
(4271) None
(4272) None
(4273) None
(4274) None
(4275) None
(4276) None
(4277) None
(4278) None
(4279) None
(4280) None
(4281) None
(4282) None
(4283) None
(4284) None
(4285) None
(4286) None
(4287) None
(4288) None
(4289) None
(4290) None
(4291) None
(4292) None
(4293) None
(4294) None
(4295) None
(4296) None
(4297) None
(4298) None
(4299) None
(4300) None
(4301) None
(4302) None
(4303) None
(4304) None
(4305) None
(4306) None
(4307) None
(4308) None
(4309) None
(4310) None
(4311) None
(4312) None
(4313) None
(4314) None
(4315) None
(4316) None
(4317) None
(4318) None
(4319) None
(4320) None
(4321) None
(4322) None
(4323) None
(4324) None
(4325) None
(4326) None
(4327) None
(4328) None
(4329) None
(4330) None
(4331) None
(4332) None
(4333) None
(4334) None
(4335) None
(4336) None
(4337) None
(4338) None
(4339) None
(4340) None
(4341) None
(4342) None
(4343) None
(4344) None
(4345) None
(4346) None
(4347) None
(4348) None
(4349) None
(4350) None
(4351) None
(4352) None
(4353) None
(4354) None
(4355) None
(4356) None
(4357) None
(4358) None
(4359) None
(4360) None
(4361) None
(4362) None
(4363) None
(4364) None
(4365) None
(4366) None
(4367) None
(4368) None
(4369) None
(4370) None
(4371) None
(4372) None
(4373) None
(0)  b Subject
(1)  Mr  JAI PRAKASH SHARMA  UDC  DEAN STUDENT WELFARE OFFICE
(2)   SUKHBIR SINGH  ASSISTANT PROFESSOR  ELECTRONICS AND COMMUNICATION ENGINEERING
(3)   VIVEK KUMAR  ASSISTANT PROFESSOR  MECHANICAL ENGINEERING
(4)   VIVEK KUMAR  ASSISTANT PROFESSOR  MECHANICAL ENGINEERING
(5)   ABHISHEK TEVATIA  HOSTEL WARDEN  MANUFACTURING PROCESSES AND AUTOMATION ENGINEERING
(6)  Dr  ANKIT KUMAR SINGH  ASSISTANT PROFESSOR  ELECTRICAL ENGINEERING
(7)  Mrs MAHESHWARI CHANDRA  SECTION OFFICER  ACADEMIC SECTION
(8)   MANISHA KHULBE  ASSISTANT PROFESSOR  ELECTRONICS AND COMMUNICATION ENGINEERING EAST 
(9)  Dr PRAVEEN SAROHA  OFFICER INCHARGE  PHYSICAL EDUCATION
(10)   ALOK AGRAWAL  ASSISTANT PROFESSOR  INSTRUMENTATION AND CONTROL ENGINEERING
(11)  Dr  SUJATA SENGAR  ACADEMIC SECTION
(12)   VIJAY KUMAR BOHAT  COMPUTER SCIENCE AND ENGINEERING
(13)   VIJAY KUMAR BOHAT  ASSISTANT PROFESSOR  COMPUTER SCIENCE AND ENGINEERING
(14)  Dr AKHILESH DUBEY  ASSISTANT PROFESSOR  BIO TECHNOLOGY
(15)  Dr AKHILESH DUBEY  ASSISTANT PROFESSOR  BIO TECHNOLOGY
(16)   SHILPA SHARMA  ASSISTANT PROFESSOR  BIOLOGICAL SCIENCES AND ENGINEERING
(17)  Dr  RAVINDER SINGH  ASSISTANT PROFESSOR  ELECTRICAL ENGINEERING
(18)  Dr  RAVINDER SINGH  ASSISTANT PROFESSOR  ELECTRICAL ENGINEERING
(19)   ABHISHEK TEVATIA  HOSTEL WARDEN  MANUFACTURING PROCESSES AND AUTOMATION ENGINEERING
(20)  Dr  ANAND GUPTA  ASSOCIATE PROFESSOR  COMPUTER ENGINEERING
(21)  Dr  VINOD KUMAR  HOSTEL WARDEN  HOSTEL
(22)   SHILPA SHARMA  ASSISTANT PROFESSOR  BIOLOGICAL SCIENCES AND ENGINEERING
(23)  Mr LAMBODAR MISHRA  DATA PROCESSOR  EXAMINATION CELL
(24)  Mr LAMBODAR MISHRA  DATA PROCESSOR  EXAMINATION CELL
(25)  Mr LAMBODAR MISHRA  DATA PROCESSOR  EXAMINATION CELL
(26)  Dr  SUJATA SENGAR  ACADEMIC SECTION
(27)  Mr LAMBODAR MISHRA  DATA PROCESSOR  EXAMINATION CELL
(28)  Mrs MAHESHWARI CHANDRA  SECTION OFFICER  ACADEMIC SECTION
(29)  Mrs MAHESHWARI CHANDRA  SECTION OFFICER  ACADEMIC SECTION
(30)  Mr LAMBODAR MISHRA  DATA PROCESSOR  EXAMINATION CELL
(31)  Mr LAMBODAR MISHRA  DATA PROCESSOR  EXAMINATION CELL
(32)  Dr  SWATI GANGWAR  ASSISTANT PROFESSOR  MECHANICAL ENGINEERING
(33)  Dr  SWATI GANGWAR  ASSISTANT PROFESSOR  MECHANICAL ENGINEERING
(34)  Dr  GARIMA SRIVASTAVA  ASSISTANT PROFESSOR  ELECTRONICS AND COMMUNICATION ENGINEERING EAST 
(35)  Mr LAMBODAR MISHRA  DATA PROCESSOR  EXAMINATION CELL
(36)   SHASHI PRAKASH  ASSISTANT PROFESSOR  MECHANICAL ENGINEERING
(37)   SHASHI PRAKASH  ASSISTANT PROFESSOR  MECHANICAL ENGINEERING
(38)   SUKHBIR SINGH  ASSISTANT PROFESSOR  ELECTRONICS AND COMMUNICATION ENGINEERING
(39)  Mr LAMBODAR MISHRA  DATA PROCESSOR  EXAMINATION CELL
(40)   NANCY GUPTA  ASSISTANT PROFESSOR  CHEMISTRY
(41)   ALOK AGRAWAL  ASSISTANT PROFESSOR  INSTRUMENTATION AND CONTROL ENGINEERING
(42)   ALOK AGRAWAL  ASSISTANT PROFESSOR  INSTRUMENTATION AND CONTROL ENGINEERING
(43)  Dr  ANKIT KUMAR SINGH  ASSISTANT PROFESSOR  ELECTRICAL ENGINEERING
(44)   ALOK AGRAWAL  ASSISTANT PROFESSOR  INSTRUMENTATION AND CONTROL ENGINEERING
(45)  Dr  ARJUN TYAGI  ASSISTANT PROFESSOR  ELECTRICAL ENGINEERING
(46)  Dr  ARJUN TYAGI  ASSISTANT PROFESSOR  ELECTRICAL ENGINEERING
(47)   SACHIN SHARMA  ASSISTANT PROFESSOR  MATHEMATICS
(48)   V S K V HARISH  ASSISTANT PROFESSOR  ELECTRICAL ENGINEERING
(49)  Dr PRAVEEN SAROHA  OFFICER INCHARGE  PHYSICAL EDUCATION
(50)  Dr  GARIMA SRIVASTAVA  ASSISTANT PROFESSOR  ELECTRONICS AND COMMUNICATION ENGINEERING EAST 
(51)  b OLD NOTICES   CIRCULARS
(52)  Mr ARVIND KUMAR  ASSISTANT PROFESSOR  COMPUTER SCIENCE AND ENGINEERING EAST 
(53)   AASHISH MAAN  LDC  NETAJI SUBHAS UNIVERSITY OF TECHNOLOGY
(54)   AMIT SINGHAL  INSTRUCTOR  ELECTRONICS AND COMMUNICATION ENGINEERING
(55)   AMIT SINGHAL  INSTRUCTOR  ELECTRONICS AND COMMUNICATION ENGINEERING
(56)  DR NEHA SAINI  ASSISTANT PROFESSOR  MANAGEMENT STUDIES
(57)  Dr SIMRAN JEET SINGH  ASSISTANT PROFESSOR  MECHANICAL ENGINEERING
(58)  Dr SIMRAN JEET SINGH  ASSISTANT PROFESSOR  MECHANICAL ENGINEERING
(59)  Mr LAMBODAR MISHRA  DATA PROCESSOR  EXAMINATION CELL
(60)  Mr LAMBODAR MISHRA  DATA PROCESSOR  EXAMINATION CELL
(61)   ALOK AGRAWAL  ASSISTANT PROFESSOR  INSTRUMENTATION AND CONTROL ENGINEERING
(62)  Dr  ANKIT KUMAR SINGH  ASSISTANT PROFESSOR  ELECTRICAL ENGINEERING
(63)  Dr  ANKIT KUMAR SINGH  ASSISTANT PROFESSOR  ELECTRICAL ENGINEERING
(64)   ANOOP KUMAR SINGH  CARETAKER  ENGINEERING CELL
(65)   ANURADHA TOMAR  ASSISTANT PROFESSOR  INSTRUMENTATION AND CONTROL ENGINEERING
(66)  Mr ARVIND KUMAR  ASSISTANT PROFESSOR  COMPUTER SCIENCE AND ENGINEERING EAST 
(67)  Mrs MAHESHWARI CHANDRA  SECTION OFFICER  ACADEMIC SECTION
(68)   V S K V HARISH  ASSISTANT PROFESSOR  ELECTRICAL ENGINEERING
(69)  Mr LAMBODAR MISHRA  DATA PROCESSOR  EXAMINATION CELL
(70)  Mr LAMBODAR MISHRA  DATA PROCESSOR  EXAMINATION CELL
(71)  Dr PRAVEEN SAROHA  OFFICER INCHARGE  PHYSICAL EDUCATION
(72)  Dr  SUJATA SENGAR  ACADEMIC SECTION
(73)   AASHISH MAAN  LDC  NETAJI SUBHAS UNIVERSITY OF TECHNOLOGY
(74)  Mr LAMBODAR MISHRA  DATA PROCESSOR  EXAMINATION CELL
(75)  Mr LAMBODAR MISHRA  DATA PROCESSOR  EXAMINATION CELL
(76)  Mr LAMBODAR MISHRA  DATA PROCESSOR  EXAMINATION CELL
(77)  Mr LAMBODAR MISHRA  DATA PROCESSOR  EXAMINATION CELL
(78)  Mr LAMBODAR MISHRA  DATA PROCESSOR  EXAMINATION CELL
(79)   AASHISH MAAN  LDC  NETAJI SUBHAS UNIVERSITY OF TECHNOLOGY
(80)   SACHIN SHARMA  ASSISTANT PROFESSOR  MATHEMATICS
(81)  Mr LAMBODAR MISHRA  DATA PROCESSOR  EXAMINATION CELL
(82)  Mr LAMBODAR MISHRA  DATA PROCESSOR  EXAMINATION CELL
(83)  Mr LAMBODAR MISHRA  DATA PROCESSOR  EXAMINATION CELL
(84)  Mr LAMBODAR MISHRA  DATA PROCESSOR  EXAMINATION CELL
(85)  Mr LAMBODAR MISHRA  DATA PROCESSOR  EXAMINATION CELL
(86)   ALOK AGRAWAL  ASSISTANT PROFESSOR  INSTRUMENTATION AND CONTROL ENGINEERING
(87)  Dr  SUJATA SENGAR  ACADEMIC SECTION
(88)  Dr  SUJATA SENGAR  ACADEMIC SECTION
(89)   SACHIN SHARMA  ASSISTANT PROFESSOR  MATHEMATICS
(90)   SACHIN SHARMA  ASSISTANT PROFESSOR  MATHEMATICS
(91)   AASHISH MAAN  LDC  NETAJI SUBHAS UNIVERSITY OF TECHNOLOGY
(92)   VINAY PANWAR  ASSISTANT PROFESSOR  MECHANICAL ENGINEERING
(93)   VINAY PANWAR  ASSISTANT PROFESSOR  MECHANICAL ENGINEERING
(94)   VIJAY KUMAR BOHAT  COMPUTER SCIENCE AND ENGINEERING
(95)  Mr LAMBODAR MISHRA  DATA PROCESSOR  EXAMINATION CELL
(96)  Mr LAMBODAR MISHRA  DATA PROCESSOR  EXAMINATION CELL
(97)  Mr LAMBODAR MISHRA  DATA PROCESSOR  EXAMINATION CELL
(98)  Mr LAMBODAR MISHRA  DATA PROCESSOR  EXAMINATION CELL
(99)  Dr AMITA JAIN  COMPUTER SCIENCE AND ENGINEERING EAST 
(100)   PARUL GARG  INSTRUCTOR  ELECTRONICS AND COMMUNICATION ENGINEERING
(101)  Mr LAMBODAR MISHRA  DATA PROCESSOR  EXAMINATION CELL
(102)   SHAILESH MISHRA  ASSISTANT PROFESSOR  ELECTRONICS AND COMMUNICATION ENGINEERING
(103)   SHAILESH MISHRA  ASSISTANT PROFESSOR  ELECTRONICS AND COMMUNICATION ENGINEERING
(104)   AASHISH MAAN  LDC  NETAJI SUBHAS UNIVERSITY OF TECHNOLOGY
(105)   TARUN KUMAR RAWAT  ASSOCIATE PROFESSOR  ELECTRONICS AND COMMUNICATION ENGINEERING
(106)   VIJAY KUMAR BOHAT  COMPUTER SCIENCE AND ENGINEERING
(107)  Mrs MAHESHWARI CHANDRA  SECTION OFFICER  ACADEMIC SECTION
(108)  Dr PRAVEEN SAROHA  OFFICER INCHARGE  PHYSICAL EDUCATION
(109)  Dr  PREETI KAUR  ASSOCIATE PROFESSOR  COMPUTER ENGINEERING
(110)   C S VINITHA  ASSISTANT PROFESSOR  ELECTRONICS AND COMMUNICATION ENGINEERING EAST 
(111)   RITU SIBAL  PROFESSOR  COMPUTER ENGINEERING
(112)  Mr LAMBODAR MISHRA  DATA PROCESSOR  EXAMINATION CELL
(113)   RITU SIBAL  PROFESSOR  COMPUTER ENGINEERING
(114)   ABHINAV TOMAR  ASSISTANT PROFESSOR  COMPUTER SCIENCE AND ENGINEERING
(115)   GEETANJALI RATHI  COMPUTER SCIENCE AND ENGINEERING
(116)   GEETANJALI RATHI  INSTRUCTOR  COMPUTER SCIENCE AND ENGINEERING
(117)  Mr LAMBODAR MISHRA  DATA PROCESSOR  EXAMINATION CELL
(118)   TARUN KUMAR RAWAT  ASSOCIATE PROFESSOR  ELECTRONICS AND COMMUNICATION ENGINEERING
(119)     CENTRAL COMPUTER CENTER
(120)  Mr LAMBODAR MISHRA  DATA PROCESSOR  EXAMINATION CELL
(121)  Mrs MAHESHWARI CHANDRA  SECTION OFFICER  ACADEMIC SECTION
(122)  Mr LAMBODAR MISHRA  DATA PROCESSOR  EXAMINATION CELL
(123)  Mrs MAHESHWARI CHANDRA  SECTION OFFICER  ACADEMIC SECTION
(124)     CENTRAL COMPUTER CENTER
(125)  Mr LAMBODAR MISHRA  DATA PROCESSOR  EXAMINATION CELL
(126)   MANISHA  ASSISTANT PROFESSOR  INSTRUMENTATION AND CONTROL ENGINEERING
(127)  Mrs MAHESHWARI CHANDRA  SECTION OFFICER  ACADEMIC SECTION
(128)  Mrs MAHESHWARI CHANDRA  SECTION OFFICER  ACADEMIC SECTION
(129)  Dr  VINOD KUMAR  HOSTEL WARDEN  PHYSICS
(130)  Mrs MAHESHWARI CHANDRA  SECTION OFFICER  ACADEMIC SECTION
(131)  Mrs MAHESHWARI CHANDRA  SECTION OFFICER  ACADEMIC SECTION
(132)  Mr LAMBODAR MISHRA  DATA PROCESSOR  EXAMINATION CELL
(133)   VANDANA BHATIA  INSTRUCTOR  COMPUTER SCIENCE AND ENGINEERING
(134)  Mr LAMBODAR MISHRA  DATA PROCESSOR  EXAMINATION CELL
(135)   KUNWAR SINGH  PRACTICAL SUPERINTENDENT  ELECTRONICS AND COMMUNICATION ENGINEERING
(136)  Dr  ADITYA KUMAR  ASSOCIATE PROFESSOR  MECHANICAL ENGINEERING
(137)  Dr  SUJATA SENGAR  ACADEMIC SECTION
(138)  Dr  SUJATA SENGAR  ACADEMIC SECTION
(139)   SHIKSHA KUSHWAH  ASSISTANT PROFESSOR  MANAGEMENT STUDIES
(140)  Mrs MAHESHWARI CHANDRA  SECTION OFFICER  ACADEMIC SECTION
(141)  DR SATYA PRAKASH SINGH  HOSTEL WARDEN  ELECTRONICS AND COMMUNICATION ENGINEERING
(142)   AMIT SINGHAL  INSTRUCTOR  ELECTRONICS AND COMMUNICATION ENGINEERING
(143)   ABHISHEK TEVATIA  HOSTEL WARDEN  MANUFACTURING PROCESSES AND AUTOMATION ENGINEERING
(144)  Dr  RAVINDER SINGH  ASSISTANT PROFESSOR  ELECTRICAL ENGINEERING
(145)  Mrs MAHESHWARI CHANDRA  SECTION OFFICER  ACADEMIC SECTION
(146)  Dr PRAVEEN SAROHA  UNIVERSITY COORDINATOR NSS  PHYSICAL EDUCATION
(147)     CENTRAL COMPUTER CENTER
(148)  Mr LAMBODAR MISHRA  DATA PROCESSOR  EXAMINATION CELL
(149)   DINESH KUMAR  LDC  EXAMINATION CELL
(150)  Dr  ADITYA KUMAR  ASSOCIATE PROFESSOR  MECHANICAL ENGINEERING
(151)  Dr  SUJATA SENGAR  ACADEMIC SECTION
(152)  Mrs MAHESHWARI CHANDRA  SECTION OFFICER  ACADEMIC SECTION
(153)  Dr  SUJATA SENGAR  ACADEMIC SECTION
(154)  Dr  SUJATA SENGAR  ACADEMIC SECTION
(155)   VIVEK KUMAR  ASSISTANT PROFESSOR  MECHANICAL ENGINEERING
(156)   TARUN KUMAR RAWAT  ASSOCIATE PROFESSOR  ELECTRONICS AND COMMUNICATION ENGINEERING
(157)  PROF SHREE PRAKASH SINGH  CHIEF WARDEN  HOSTEL
(158)  Dr SIMRAN JEET SINGH  MECHANICAL ENGINEERING
(159)  Dr  SWATI GANGWAR  ASSISTANT PROFESSOR  MECHANICAL ENGINEERING
(160)  Dr  ARJUN TYAGI  ASSISTANT PROFESSOR  ELECTRICAL ENGINEERING
(161)  Dr  ARJUN TYAGI  ASSISTANT PROFESSOR  ELECTRICAL ENGINEERING
(162)  DR NEHA SAINI  INSTRUCTOR  MANAGEMENT STUDIES
(163)  Mrs MAHESHWARI CHANDRA  SECTION OFFICER  ACADEMIC SECTION
(164)  Mrs MAHESHWARI CHANDRA  SECTION OFFICER  ACADEMIC SECTION
(165)  Mrs MAHESHWARI CHANDRA  SECTION OFFICER  ACADEMIC SECTION
(166)  Mrs MAHESHWARI CHANDRA  SECTION OFFICER  ACADEMIC SECTION
(167)   UMA NARANG  ASSISTANT PROFESSOR  CHEMISTRY
(168)   UMA NARANG  ASSISTANT PROFESSOR  CHEMISTRY
(169)  Mrs MAHESHWARI CHANDRA  SECTION OFFICER  ACADEMIC SECTION
(170)  Mrs MAHESHWARI CHANDRA  SECTION OFFICER  ACADEMIC SECTION
(171)  Mrs MAHESHWARI CHANDRA  SECTION OFFICER  ACADEMIC SECTION
(172)  Mrs MAHESHWARI CHANDRA  SECTION OFFICER  ACADEMIC SECTION
(173)  Mrs MAHESHWARI CHANDRA  SECTION OFFICER  ACADEMIC SECTION
(174)  Dr  GAURAV SINGAL  ASSISTANT PROFESSOR  COMPUTER SCIENCE AND ENGINEERING
(175)     CENTRAL COMPUTER CENTER
(176)  Dr  ADITYA KUMAR  ASSOCIATE PROFESSOR  MECHANICAL ENGINEERING
(177)  Dr  RAVINDER SINGH  ASSISTANT PROFESSOR  ELECTRICAL ENGINEERING
(178)  Mr LAMBODAR MISHRA  DATA PROCESSOR  EXAMINATION CELL
(179)   VIKAS MAHESHKAR  INFORMATION TECHNOLOGY
(180)     CENTRAL COMPUTER CENTER
(181)   VIKAS MAHESHKAR  INFORMATION TECHNOLOGY
(182)  Dr  ANUPAM GAUTAM  ASSISTANT PROFESSOR  MATHEMATICS
(183)  Dr  ANUPAM GAUTAM  ASSISTANT PROFESSOR  MATHEMATICS
(184)  Mrs MAHESHWARI CHANDRA  SECTION OFFICER  ACADEMIC SECTION
(185)   GEETANJALI RATHI  ASSISTANT PROFESSOR  COMPUTER SCIENCE AND ENGINEERING
(186)   GEETANJALI RATHI  ASSISTANT PROFESSOR  COMPUTER SCIENCE AND ENGINEERING
(187)   GEETANJALI RATHI  COMPUTER SCIENCE AND ENGINEERING
(188)   GEETANJALI RATHI  ASSISTANT PROFESSOR  COMPUTER SCIENCE AND ENGINEERING
(189)  Dr  HARSH YADAV  ASSISTANT PROFESSOR  PHYSICS
(190)  Dr  VINOD KUMAR  ASSOCIATE PROFESSOR  PHYSICS
(191)  Dr  VINOD KUMAR  ASSOCIATE PROFESSOR  PHYSICS
(192)  Dr  VINOD KUMAR  HOSTEL WARDEN  PHYSICS
(193)  Dr  SUJATA SENGAR  ACADEMIC SECTION
(194)  Dr  SUJATA SENGAR  ACADEMIC SECTION
(195)  Dr  SUJATA SENGAR  ACADEMIC SECTION
(196)  Mrs MAHESHWARI CHANDRA  SECTION OFFICER  ACADEMIC SECTION
(197)   SUKHBIR SINGH  ASSISTANT PROFESSOR  ELECTRONICS AND COMMUNICATION ENGINEERING
(198)   SANJEEV KUMAR  INFORMATION TECHNOLOGY WEST 
(199)     CENTRAL COMPUTER CENTER
(200)   NAVEEN SHARMA  ASSISTANT PROFESSOR  MECHANICAL ENGINEERING
(201)  Mrs MAHESHWARI CHANDRA  SECTION OFFICER  ACADEMIC SECTION
(202)   MANISHA KHULBE  ELECTRONICS AND COMMUNICATION ENGINEERING EAST 
(203)   ANKIT GARG  ASSISTANT PROFESSOR  ELECTRONICS AND COMMUNICATION ENGINEERING
(204)   ANKIT GARG  ASSISTANT PROFESSOR  ELECTRONICS AND COMMUNICATION ENGINEERING
(205)   SHILPA SHARMA  ASSISTANT PROFESSOR  BIOLOGICAL SCIENCES AND ENGINEERING
(206)   SANJEEV KUMAR  INFORMATION TECHNOLOGY WEST 
(207)   KHUSHIL KUMAR SAINI  COORDINATOR  UNIVERSITY MANAGEMENT CENTRE  CENTRAL COMPUTER CENTER
(208)  Dr  ADITYA KUMAR  ASSOCIATE PROFESSOR  MECHANICAL ENGINEERING
(209)   MANISHA KHULBE  ELECTRONICS AND COMMUNICATION ENGINEERING EAST 
(210)   TARUN KUMAR RAWAT  ASSOCIATE PROFESSOR  ELECTRONICS AND COMMUNICATION ENGINEERING
(211)   TARUN KUMAR RAWAT  ASSOCIATE PROFESSOR  ELECTRONICS AND COMMUNICATION ENGINEERING
(212)  Dr  RAVINDER SINGH  ASSISTANT PROFESSOR  ELECTRICAL ENGINEERING
(213)  Dr  RAVINDER SINGH  ASSISTANT PROFESSOR  ELECTRICAL ENGINEERING
(214)   SULAEM MUSADDIQ LASKAR  ASSISTANT PROFESSOR  CIVIL ENGINEERING
(215)   JYOTI YADAV  ASSISTANT PROFESSOR  INSTRUMENTATION AND CONTROL ENGINEERING
(216)  Dr PRAVEEN SAROHA  OFFICER INCHARGE  PHYSICAL EDUCATION
(217)  DR SATYA PRAKASH SINGH  HOSTEL WARDEN  ELECTRONICS AND COMMUNICATION ENGINEERING
(218)  DR ANKITA JAIN BANSAL  ASSISTANT PROFESSOR  INFORMATION TECHNOLOGY
(219)  Dr AMITA JAIN  COMPUTER SCIENCE AND ENGINEERING EAST 
(220)  DR TANUSHREE CHOUDHARY  HOD  HUMANITIES AND SOCIAL SCIENCES
(221)  Dr  SUJATA SENGAR  ACADEMIC SECTION
(222)     CENTRAL COMPUTER CENTER
(223)   ANURADHA TOMAR  ASSISTANT PROFESSOR  INSTRUMENTATION AND CONTROL ENGINEERING
(224)   SHILPA SHARMA  ASSISTANT PROFESSOR  BIOLOGICAL SCIENCES AND ENGINEERING
(225)  Dr  GAURAV SINGAL  ASSISTANT PROFESSOR  COMPUTER SCIENCE AND ENGINEERING
(226)   KUNWAR SINGH  ELECTRONICS AND COMMUNICATION ENGINEERING
(227)   GEETANJALI RATHI  ASSISTANT PROFESSOR  COMPUTER SCIENCE AND ENGINEERING
(228)   VANDANA BHATIA  ASSISTANT PROFESSOR  COMPUTER SCIENCE AND ENGINEERING
(229)   ABHISHEK TEVATIA  HOSTEL WARDEN  BH I  HOSTEL
(230)  Mr LAMBODAR MISHRA  DATA PROCESSOR  EXAMINATION CELL
(231)   RITU RAJ SINGH  INSTRUCTOR  ELECTRONICS AND COMMUNICATION ENGINEERING
(232)   SUNITA  ASSISTANT PROFESSOR  CHEMISTRY
(233)  Dr  GAURAV SINGAL  ASSISTANT PROFESSOR  COMPUTER SCIENCE AND ENGINEERING
(234)  Dr  GAURAV SINGAL  ASSISTANT PROFESSOR  COMPUTER SCIENCE AND ENGINEERING
(235)   ANURADHA TOMAR  ASSISTANT PROFESSOR  INSTRUMENTATION AND CONTROL ENGINEERING
(236)   NEERAJ GOEL  ASSISTANT PROFESSOR  ELECTRONICS AND COMMUNICATION ENGINEERING
(237)   NEERAJ GOEL  ASSISTANT PROFESSOR  ELECTRONICS AND COMMUNICATION ENGINEERING
(238)   KUNWAR SINGH  PRACTICAL SUPERINTENDENT  ELECTRONICS AND COMMUNICATION ENGINEERING
(239)  Mr AMAN KUMAR  ACADEMIC SECTION
(240)  Mr AMAN KUMAR  ACADEMIC SECTION
(241)  Mr AMAN KUMAR  ACADEMIC SECTION
(242)  Mr AMAN KUMAR  ACADEMIC SECTION
(243)  Mr LAMBODAR MISHRA  DATA PROCESSOR  EXAMINATION CELL
(244)  PROF SHREE PRAKASH SINGH  HOSTEL WARDEN  RAMANUJAN  HOSTEL
(245)  PROF SHREE PRAKASH SINGH  CHIEF WARDEN  HOSTEL
(246)  Mrs MAHESHWARI CHANDRA  SECTION OFFICER  ACADEMIC SECTION
(247)   KHUSHIL KUMAR SAINI  COORDINATOR  UNIVERSITY MANAGEMENT CENTRE  CENTRAL COMPUTER CENTER
(248)   KHUSHIL KUMAR SAINI  COORDINATOR  UNIVERSITY MANAGEMENT CENTRE  CENTRAL COMPUTER CENTER
(249)   KHUSHIL KUMAR SAINI  COORDINATOR  UNIVERSITY MANAGEMENT CENTRE  CENTRAL COMPUTER CENTER
(250)   KHUSHIL KUMAR SAINI  COORDINATOR  UNIVERSITY MANAGEMENT CENTRE  CENTRAL COMPUTER CENTER
(251)  Dr  ANKIT KUMAR SINGH  ASSISTANT PROFESSOR  ELECTRICAL ENGINEERING
(252)  Mrs MAHESHWARI CHANDRA  SECTION OFFICER  ACADEMIC SECTION
(253)  Mrs MAHESHWARI CHANDRA  SECTION OFFICER  ACADEMIC SECTION
(254)  b Athletics North Zone Inter University Registartion  Intrested students may contact to Diirector Physical Education on 15th December 2022 latest by 6 00 pm br   font size  1   br   Dr PRAVEEN SAROHA  OFFICER INCHARGE  PHYSICAL EDUCATION  b   font 
(255)  Dr PRAVEEN SAROHA  OFFICER INCHARGE  PHYSICAL EDUCATION
(256)  Dr  GAURAV SINGAL  ASSISTANT PROFESSOR  COMPUTER SCIENCE AND ENGINEERING
(257)   SUNITA  ASSISTANT PROFESSOR  CHEMISTRY
(258)   BIJENDRA KUMAR  PROFESSOR  COMPUTER ENGINEERING
(259)  Mr LAMBODAR MISHRA  DATA PROCESSOR  EXAMINATION CELL
(260)   C S VINITHA  ASSISTANT PROFESSOR  ELECTRONICS AND COMMUNICATION ENGINEERING EAST 
(261)  Dr  SWATI GANGWAR  ASSISTANT PROFESSOR  MECHANICAL ENGINEERING
(262)   NAVEEN SHARMA  ASSISTANT PROFESSOR  MECHANICAL ENGINEERING
(263)   GEETANJALI RATHI  ASSISTANT PROFESSOR  COMPUTER SCIENCE AND ENGINEERING
(264)   GEETANJALI RATHI  ASSISTANT PROFESSOR  COMPUTER SCIENCE AND ENGINEERING
(265)  Dr  HARSH YADAV  ASSISTANT PROFESSOR  PHYSICS
(266)   TARUN KUMAR RAWAT  ASSOCIATE PROFESSOR  ELECTRONICS AND COMMUNICATION ENGINEERING
(267)  Dr PRAVEEN SAROHA  OFFICER INCHARGE  PHYSICAL EDUCATION
(268)   NAZRUL ISLAM KHAN  ASSISTANT PROFESSOR  MECHANICAL ENGINEERING WEST 
(269)  Dr PRAVEEN SAROHA  OFFICER INCHARGE  PHYSICAL EDUCATION
(270)   VIKRAM SINGH  MANAGEMENT STUDIES
(271)   NAZRUL ISLAM KHAN  ASSISTANT PROFESSOR  MECHANICAL ENGINEERING WEST 
(272)  Dr AMITA JAIN  COMPUTER SCIENCE AND ENGINEERING EAST 
(273)  Dr AKHILESH DUBEY  OFFICER INCHARGE  BIOLOGICAL SCIENCES AND ENGINEERING
(274)  Dr AKHILESH DUBEY  OFFICER INCHARGE  BIOLOGICAL SCIENCES AND ENGINEERING
(275)   SHILPA SHARMA  ASSISTANT PROFESSOR  BIOLOGICAL SCIENCES AND ENGINEERING
(276)   VIVEK KUMAR  ASSISTANT PROFESSOR  MECHANICAL ENGINEERING
(277)  Dr  RAVINDER SINGH  ASSISTANT PROFESSOR  ELECTRICAL ENGINEERING
(278)  Dr  ANKIT KUMAR SINGH  ASSISTANT PROFESSOR  ELECTRICAL ENGINEERING
(279)   VINAY PANWAR  ASSISTANT PROFESSOR  MECHANICAL ENGINEERING
(280)   SACHIN SHARMA  ASSISTANT PROFESSOR  MATHEMATICS
(281)  Mr LAMBODAR MISHRA  DATA PROCESSOR  EXAMINATION CELL
(282)  Mr LAMBODAR MISHRA  DATA PROCESSOR  EXAMINATION CELL
(283)   VIJAY KUMAR BOHAT  ASSISTANT PROFESSOR  COMPUTER SCIENCE AND ENGINEERING
(284)  Dr PRAVEEN SAROHA  OFFICER INCHARGE  PHYSICAL EDUCATION
(285)  Dr SIMRAN JEET SINGH  ASSISTANT PROFESSOR  MECHANICAL ENGINEERING
(286)  Dr  ARJUN TYAGI  ASSISTANT PROFESSOR  ELECTRICAL ENGINEERING
(287)  Dr  ARJUN TYAGI  ASSISTANT PROFESSOR  ELECTRICAL ENGINEERING
(288)   ALOK AGRAWAL  ASSISTANT PROFESSOR  INSTRUMENTATION AND CONTROL ENGINEERING
(289)  Dr SIMRAN JEET SINGH  ASSISTANT PROFESSOR  MECHANICAL ENGINEERING
(290)   SHWETA GAUTAM  ELECTRONICS AND COMMUNICATION ENGINEERING
(291)  DR NEHA SAINI  INSTRUCTOR  MANAGEMENT STUDIES
(292)   ALOK AGRAWAL  ASSISTANT PROFESSOR  INSTRUMENTATION AND CONTROL ENGINEERING
(293)  Dr PRAVEEN SAROHA  OFFICER INCHARGE  PHYSICAL EDUCATION
(294)  Dr PRAVEEN SAROHA  OFFICER INCHARGE  PHYSICAL EDUCATION
(295)  Dr  ANKIT KUMAR SINGH  ASSISTANT PROFESSOR  ELECTRICAL ENGINEERING
(296)   RENU GHOSH  MANAGEMENT STUDIES
(297)   RENU GHOSH  MANAGEMENT STUDIES
(298)   RENU GHOSH  MANAGEMENT STUDIES
(299)   KUNWAR SINGH  ELECTRONICS AND COMMUNICATION ENGINEERING
(300)  Dr  RAVINDER SINGH  ASSISTANT PROFESSOR  ELECTRICAL ENGINEERING
(301)   RITU RAJ SINGH  INSTRUCTOR  ELECTRONICS AND COMMUNICATION ENGINEERING
(302)  Mr LAMBODAR MISHRA  DATA PROCESSOR  EXAMINATION CELL
(303)  Mr LAMBODAR MISHRA  DATA PROCESSOR  EXAMINATION CELL
(304)   AMIT SINGHAL  INSTRUCTOR  ELECTRONICS AND COMMUNICATION ENGINEERING
(305)   ANKIT GARG  ASSISTANT PROFESSOR  ELECTRONICS AND COMMUNICATION ENGINEERING
(306)   ANKIT GARG  ASSISTANT PROFESSOR  ELECTRONICS AND COMMUNICATION ENGINEERING
(307)   ALOK AGRAWAL  ASSISTANT PROFESSOR  INSTRUMENTATION AND CONTROL ENGINEERING
(308)   MANISHA KHULBE  ASSISTANT PROFESSOR  ELECTRONICS AND COMMUNICATION ENGINEERING EAST 
(309)  PROF SHREE PRAKASH SINGH  CHIEF WARDEN  HOSTEL
(310)  PROF SHREE PRAKASH SINGH  HOSTEL WARDEN  RAMANUJAN  HOSTEL
(311)   SAMIR GOKARN  ASSISTANT PROFESSOR  MANAGEMENT STUDIES
(312)  Mrs MAHESHWARI CHANDRA  SECTION OFFICER  ACADEMIC SECTION
(313)   SHILPA SHARMA  PRACTICAL INSTRUCTOR  BIOLOGICAL SCIENCES AND ENGINEERING
(314)   SHILPA SHARMA  ASSISTANT PROFESSOR  BIOLOGICAL SCIENCES AND ENGINEERING
(315)  Mr LAMBODAR MISHRA  DATA PROCESSOR  EXAMINATION CELL
(316)  Mr LAMBODAR MISHRA  DATA PROCESSOR  EXAMINATION CELL
(317)   VINAY PANWAR  ASSISTANT PROFESSOR  MECHANICAL ENGINEERING
(318)  Dr  ANKIT KUMAR SINGH  ASSISTANT PROFESSOR  ELECTRICAL ENGINEERING
(319)  Dr  RAVINDER SINGH  ASSISTANT PROFESSOR  ELECTRICAL ENGINEERING
(320)   ALOK AGRAWAL  ASSISTANT PROFESSOR  INSTRUMENTATION AND CONTROL ENGINEERING
(321)  Mr LAMBODAR MISHRA  DATA PROCESSOR  EXAMINATION CELL
(322)  Mr LAMBODAR MISHRA  DATA PROCESSOR  EXAMINATION CELL
(323)  Dr  ANKIT KUMAR SINGH  ASSISTANT PROFESSOR  ELECTRICAL ENGINEERING
(324)  Mrs MAHESHWARI CHANDRA  SECTION OFFICER  ACADEMIC SECTION
(325)   ALOK AGRAWAL  ASSISTANT PROFESSOR  INSTRUMENTATION AND CONTROL ENGINEERING
(326)  Dr  ANKIT KUMAR SINGH  ASSISTANT PROFESSOR  ELECTRICAL ENGINEERING
(327)   ALOK AGRAWAL  ASSISTANT PROFESSOR  INSTRUMENTATION AND CONTROL ENGINEERING
(328)  Mrs MAHESHWARI CHANDRA  SECTION OFFICER  ACADEMIC SECTION
(329)  Mrs MAHESHWARI CHANDRA  SECTION OFFICER  ACADEMIC SECTION
(330)  Mr LAMBODAR MISHRA  DATA PROCESSOR  EXAMINATION CELL
(331)   ANURADHA TOMAR  ASSISTANT PROFESSOR  INSTRUMENTATION AND CONTROL ENGINEERING
(332)   ANURADHA TOMAR  ASSISTANT PROFESSOR  INSTRUMENTATION AND CONTROL ENGINEERING
(333)   DEVENDER KUMAR  ASSOCIATE PROFESSOR  INFORMATION TECHNOLOGY
(334)   SAMIR GOKARN  INSTRUCTOR  MANAGEMENT STUDIES
(335)  Mr LAMBODAR MISHRA  DATA PROCESSOR  EXAMINATION CELL
(336)  Mrs MAHESHWARI CHANDRA  SECTION OFFICER  ACADEMIC SECTION
(337)  Mrs MAHESHWARI CHANDRA  SECTION OFFICER  ACADEMIC SECTION
(338)   TARUN KUMAR RAWAT  ASSOCIATE PROFESSOR  ELECTRONICS AND COMMUNICATION ENGINEERING
(339)   TARUN KUMAR RAWAT  ASSOCIATE PROFESSOR  ELECTRONICS AND COMMUNICATION ENGINEERING
(340)     CENTRAL COMPUTER CENTER
(341)  Mrs MAHESHWARI CHANDRA  SECTION OFFICER  ACADEMIC SECTION
(342)  Mr LAMBODAR MISHRA  DATA PROCESSOR  EXAMINATION CELL
(343)  Mr LAMBODAR MISHRA  DATA PROCESSOR  EXAMINATION CELL
(344)  Dr  VINOD KUMAR  PRACTICAL INSTRUCTOR  PHYSICS
(345)  Mr LAMBODAR MISHRA  DATA PROCESSOR  EXAMINATION CELL
(346)  Dr  ANUPAM GAUTAM  ASSISTANT PROFESSOR  MATHEMATICS
(347)  Mr LAMBODAR MISHRA  DATA PROCESSOR  EXAMINATION CELL
(348)   ALOK AGRAWAL  ASSISTANT PROFESSOR  INSTRUMENTATION AND CONTROL ENGINEERING
(349)  Dr  ANKIT KUMAR SINGH  ASSISTANT PROFESSOR  ELECTRICAL ENGINEERING
(350)   NANCY GUPTA  ASSISTANT PROFESSOR  PRO SECTION
(351)  Mr LAMBODAR MISHRA  DATA PROCESSOR  EXAMINATION CELL
(352)  Mr LAMBODAR MISHRA  DATA PROCESSOR  EXAMINATION CELL
(353)  Mr LAMBODAR MISHRA  DATA PROCESSOR  EXAMINATION CELL
(354)  PROF SHREE PRAKASH SINGH  HOSTEL WARDEN  RAMANUJAN  HOSTEL
(355)  Mrs MAHESHWARI CHANDRA  SECTION OFFICER  ACADEMIC SECTION
(356)  Mr LAMBODAR MISHRA  DATA PROCESSOR  EXAMINATION CELL
(357)  Mr LAMBODAR MISHRA  DATA PROCESSOR  EXAMINATION CELL
(358)  Mr LAMBODAR MISHRA  DATA PROCESSOR  EXAMINATION CELL
(359)   KHUSHIL KUMAR SAINI  COORDINATOR  UNIVERSITY MANAGEMENT CENTRE  CENTRAL COMPUTER CENTER
(360)   VINAMRITA SINGH  ASSISTANT PROFESSOR  PHYSICS
(361)  Mr LAMBODAR MISHRA  DATA PROCESSOR  EXAMINATION CELL
(362)   ATHAR HUSSAIN  HOD  CIVIL ENGINEERING
(363)  Mr LAMBODAR MISHRA  DATA PROCESSOR  EXAMINATION CELL
(364)  Mr LAMBODAR MISHRA  DATA PROCESSOR  EXAMINATION CELL
(365)  Mr LAMBODAR MISHRA  DATA PROCESSOR  EXAMINATION CELL
(366)  Mrs MAHESHWARI CHANDRA  SECTION OFFICER  ACADEMIC SECTION
(367)  Mr LAMBODAR MISHRA  DATA PROCESSOR  EXAMINATION CELL
(368)  Mr LAMBODAR MISHRA  DATA PROCESSOR  EXAMINATION CELL
(369)  Mrs MAHESHWARI CHANDRA  SECTION OFFICER  ACADEMIC SECTION
(370)  Mr LAMBODAR MISHRA  DATA PROCESSOR  EXAMINATION CELL
(371)  Mr LAMBODAR MISHRA  DATA PROCESSOR  EXAMINATION CELL
(372)  Mr LAMBODAR MISHRA  DATA PROCESSOR  EXAMINATION CELL
(373)  Dr  ANAND GUPTA  ASSOCIATE PROFESSOR  COMPUTER ENGINEERING
(374)  Mr  JAI PRAKASH SHARMA  DEAN STUDENT WELFARE OFFICE
(375)  Mrs MAHESHWARI CHANDRA  SECTION OFFICER  ACADEMIC SECTION
(376)  Mr LAMBODAR MISHRA  DATA PROCESSOR  EXAMINATION CELL
(377)   DINESH KUMAR  EXAMINATION CELL
(378)   ADESH KUMAR MEENA  HEAD CLERK  EXAMINATION CELL
(379)  Dr  ANAND GUPTA  ASSOCIATE PROFESSOR  COMPUTER ENGINEERING
(380)  Dr  ANAND GUPTA  ASSOCIATE PROFESSOR  COMPUTER ENGINEERING
(381)   KUNWAR SINGH  PRACTICAL SUPERINTENDENT  ELECTRONICS AND COMMUNICATION ENGINEERING
(382)   ABHINAV TOMAR  ASSISTANT PROFESSOR  COMPUTER SCIENCE AND ENGINEERING
(383)   C S VINITHA  ASSISTANT PROFESSOR  ELECTRONICS AND COMMUNICATION ENGINEERING EAST 
(384)   VIJAY KUMAR BOHAT  ASSISTANT PROFESSOR  COMPUTER SCIENCE AND ENGINEERING
(385)  Mr LAMBODAR MISHRA  EXAMINATION CELL
(386)  Mr LAMBODAR MISHRA  DATA PROCESSOR  EXAMINATION CELL
(387)  Mr LAMBODAR MISHRA  DATA PROCESSOR  EXAMINATION CELL
(388)   ANDRIYA NARASIMHULU  ASSISTANT PROFESSOR  MECHANICAL ENGINEERING
(389)  Mr LAMBODAR MISHRA  DATA PROCESSOR  EXAMINATION CELL
(390)  b Postponment  of University Basketball Selection Trials  The selection trials to select the University basketball team scheduled for 28th Nov 2022 has been postponed due to end semester examination  Fresh dates will be announced soon  br   font size  1   br   Dr PRAVEEN SAROHA  OFFICER INCHARGE  PHYSICAL EDUCATION  b   font 
(391)  Dr PRAVEEN SAROHA  OFFICER INCHARGE  PHYSICAL EDUCATION
(392)  Dr  ANKIT KUMAR SINGH  ASSISTANT PROFESSOR  ELECTRICAL ENGINEERING
(393)  Mrs MAHESHWARI CHANDRA  SECTION OFFICER  ACADEMIC SECTION
(394)  Mrs MAHESHWARI CHANDRA  SECTION OFFICER  ACADEMIC SECTION
(395)  Mrs MAHESHWARI CHANDRA  SECTION OFFICER  ACADEMIC SECTION
(396)  Mrs MAHESHWARI CHANDRA  SECTION OFFICER  ACADEMIC SECTION
(397)  Mrs MAHESHWARI CHANDRA  SECTION OFFICER  ACADEMIC SECTION
(398)   ALOK AGRAWAL  ASSISTANT PROFESSOR  INSTRUMENTATION AND CONTROL ENGINEERING
(399)  Mrs MAHESHWARI CHANDRA  SECTION OFFICER  ACADEMIC SECTION
(400)  Mrs MAHESHWARI CHANDRA  SECTION OFFICER  ACADEMIC SECTION
(401)  Mrs MAHESHWARI CHANDRA  SECTION OFFICER  ACADEMIC SECTION
(402)  Mrs MAHESHWARI CHANDRA  SECTION OFFICER  ACADEMIC SECTION
(403)  Mrs MAHESHWARI CHANDRA  SECTION OFFICER  ACADEMIC SECTION
(404)  Mrs MAHESHWARI CHANDRA  SECTION OFFICER  ACADEMIC SECTION
(405)  PROF SHREE PRAKASH SINGH  CHIEF WARDEN  HOSTEL
(406)  PROF SHREE PRAKASH SINGH  HOSTEL WARDEN  RAMANUJAN  HOSTEL
(407)  Dr AMITA JAIN  COMPUTER SCIENCE AND ENGINEERING EAST 
(408)   DINESH KUMAR  EXAMINATION CELL
(409)  DR NEHA SAINI  ASSISTANT PROFESSOR  MANAGEMENT STUDIES
(410)   AKASH SHOKEEN  JUNIOR STENO  NETAJI SUBHAS UNIVERSITY OF TECHNOLOGY
(411)  DR SATYA PRAKASH SINGH  ASSOCIATE PROFESSOR  ELECTRONICS AND COMMUNICATION ENGINEERING
(412)   DINESH KUMAR  EXAMINATION CELL
(413)  DR SATYA PRAKASH SINGH  ASSOCIATE PROFESSOR  ELECTRONICS AND COMMUNICATION ENGINEERING
(414)   ANDRIYA NARASIMHULU  ASSISTANT PROFESSOR  MECHANICAL ENGINEERING
(415)   SUNITA  ASSISTANT PROFESSOR  CHEMISTRY
(416)  Dr  VINOD KUMAR  ASSOCIATE PROFESSOR  PHYSICS
(417)   SUNITA  ASSISTANT PROFESSOR  CHEMISTRY
(418)   ROHIT KUMAR  NETAJI SUBHAS UNIVERSITY OF TECHNOLOGY
(419)  Dr PRAVEEN SAROHA  OFFICER INCHARGE  PHYSICAL EDUCATION
(420)  Dr PRAVEEN SAROHA  OFFICER INCHARGE  PHYSICAL EDUCATION
(421)  Dr PRAVEEN SAROHA  UNIVERSITY COORDINATOR NSS  PHYSICAL EDUCATION
(422)   DINESH KUMAR  EXAMINATION CELL
(423)   DINESH KUMAR  EXAMINATION CELL
(424)   SANGEETA TOMAR  HOSTEL
(425)   PARTHA DAS  ASSISTANT PROFESSOR  CIVIL ENGINEERING
(426)  Dr  RAVINDER SINGH  ASSISTANT PROFESSOR  ELECTRICAL ENGINEERING
(427)   MANISHA  ASSISTANT PROFESSOR  INSTRUMENTATION AND CONTROL ENGINEERING
(428)  Dr AMITA JAIN  COMPUTER SCIENCE AND ENGINEERING EAST 
(429)  Dr AMITA JAIN  COMPUTER SCIENCE AND ENGINEERING EAST 
(430)   KUNWAR SINGH  PRACTICAL SUPERINTENDENT  ELECTRONICS AND COMMUNICATION ENGINEERING
(431)   TARUN KUMAR RAWAT  ASSOCIATE PROFESSOR  ELECTRONICS AND COMMUNICATION ENGINEERING
(432)   C S VINITHA  ASSISTANT PROFESSOR  ELECTRONICS AND COMMUNICATION ENGINEERING EAST 
(433)   SHILPA SHARMA  ASSISTANT PROFESSOR  BIO TECHNOLOGY
(434)  Dr AMITA JAIN  COMPUTER SCIENCE AND ENGINEERING EAST 
(435)   C S VINITHA  ASSISTANT PROFESSOR  ELECTRONICS AND COMMUNICATION ENGINEERING EAST 
(436)   VINAMRITA SINGH  ASSISTANT PROFESSOR  EAST CAMPUS
(437)   DINESH KUMAR  EXAMINATION CELL
(438)  PROF SHREE PRAKASH SINGH  HOSTEL WARDEN  RAMANUJAN  HOSTEL
(439)  PROF SHREE PRAKASH SINGH  CHIEF WARDEN  HOSTEL
(440)   SHWETA GAUTAM  HOSTEL WARDEN  ELECTRONICS AND COMMUNICATION ENGINEERING
(441)   KUNWAR SINGH  PRACTICAL SUPERINTENDENT  ELECTRONICS AND COMMUNICATION ENGINEERING
(442)  Mr LAMBODAR MISHRA  DATA PROCESSOR  EXAMINATION CELL
(443)   DEVENDER KUMAR  ASSOCIATE PROFESSOR  INFORMATION TECHNOLOGY
(444)   ALOK AGRAWAL  ASSISTANT PROFESSOR  INSTRUMENTATION AND CONTROL ENGINEERING
(445)   ABHISHEK TEVATIA  ASSISTANT PROFESSOR  MANUFACTURING PROCESSES AND AUTOMATION ENGINEERING
(446)  Prof  SANGEETA SABHARWAL  PROFESSOR  COMPUTER ENGINEERING
(447)  Prof  SANGEETA SABHARWAL  PROFESSOR  COMPUTER ENGINEERING
(448)  Dr PRAVEEN SAROHA  UNIVERSITY COORDINATOR NSS  PHYSICAL EDUCATION
(449)  Dr PRAVEEN SAROHA  OFFICER INCHARGE  PHYSICAL EDUCATION
(450)   AASHISH MAAN  LDC  NETAJI SUBHAS UNIVERSITY OF TECHNOLOGY
(451)   LOVESH KUMAR SHARMA  JUNIOR STENO  DEAN STUDENT WELFARE OFFICE
(452)  Mr AMAN KUMAR  GRADUATE CLERK  ACADEMIC SECTION
(453)   LOVESH KUMAR SHARMA  JUNIOR STENO  DEAN STUDENT WELFARE OFFICE
(454)  Mrs MAHESHWARI CHANDRA  SECTION OFFICER  ACADEMIC SECTION
(455)  Mrs MAHESHWARI CHANDRA  SECTION OFFICER  ACADEMIC SECTION
(456)   SHILPA SHARMA  ASSISTANT PROFESSOR  BIO TECHNOLOGY
(457)   ANDRIYA NARASIMHULU  ASSISTANT PROFESSOR  MECHANICAL ENGINEERING
(458)  Mrs MAHESHWARI CHANDRA  SECTION OFFICER  ACADEMIC SECTION
(459)  Mrs MAHESHWARI CHANDRA  SECTION OFFICER  ACADEMIC SECTION
(460)  Mrs MAHESHWARI CHANDRA  SECTION OFFICER  ACADEMIC SECTION
(461)  Mrs MAHESHWARI CHANDRA  SECTION OFFICER  ACADEMIC SECTION
(462)  Mrs MAHESHWARI CHANDRA  SECTION OFFICER  ACADEMIC SECTION
(463)  Mrs MAHESHWARI CHANDRA  SECTION OFFICER  ACADEMIC SECTION
(464)  Mrs MAHESHWARI CHANDRA  SECTION OFFICER  ACADEMIC SECTION
(465)  DR NEHA SAINI  ASSISTANT PROFESSOR  MANAGEMENT STUDIES
(466)   KHUSHIL KUMAR SAINI  COORDINATOR  UNIVERSITY MANAGEMENT CENTRE  CENTRAL COMPUTER CENTER
(467)   KHUSHIL KUMAR SAINI  COORDINATOR  UNIVERSITY MANAGEMENT CENTRE  CENTRAL COMPUTER CENTER
(468)   KHUSHIL KUMAR SAINI  COORDINATOR  UNIVERSITY MANAGEMENT CENTRE  CENTRAL COMPUTER CENTER
(469)   KHUSHIL KUMAR SAINI  COORDINATOR  UNIVERSITY MANAGEMENT CENTRE  CENTRAL COMPUTER CENTER
(470)   ADESH KUMAR MEENA  HEAD CLERK  EXAMINATION CELL
(471)  PROF SHREE PRAKASH SINGH  CHIEF WARDEN  HOSTEL
(472)  PROF SHREE PRAKASH SINGH  HOSTEL WARDEN  RAMANUJAN  HOSTEL
(473)  DR NEHA SAINI  INSTRUCTOR  MANAGEMENT STUDIES
(474)   DINESH KUMAR  LDC  EXAMINATION CELL
(475)     CENTRAL COMPUTER CENTER
(476)  Mr AMAN KUMAR  GRADUATE CLERK  ACADEMIC SECTION
(477)   KUNWAR SINGH  PRACTICAL SUPERINTENDENT  ELECTRONICS AND COMMUNICATION ENGINEERING
(478)   DINESH KUMAR  LDC  EXAMINATION CELL
(479)  Dr  GAURAV SINGAL  ASSISTANT PROFESSOR  COMPUTER SCIENCE AND ENGINEERING
(480)  Mrs MAHESHWARI CHANDRA  SECTION OFFICER  ACADEMIC SECTION
(481)  DR NEHA SAINI  ASSISTANT PROFESSOR  MANAGEMENT STUDIES
(482)   AKASH SHOKEEN  JUNIOR STENO  WEST CAMPUS
(483)   ALOK AGRAWAL  ASSISTANT PROFESSOR  INSTRUMENTATION AND CONTROL ENGINEERING
(484)  Dr  ANKIT KUMAR SINGH  ASSISTANT PROFESSOR  ELECTRICAL ENGINEERING
(485)   ADESH KUMAR MEENA  HEAD CLERK  EXAMINATION CELL
(486)   PRERNA GAUR  DIRECTOR WEST CAMPUS  WEST CAMPUS
(487)   PRERNA GAUR  DIRECTOR WEST CAMPUS  WEST CAMPUS
(488)  Dr  ANAND GUPTA  ASSOCIATE PROFESSOR  COMPUTER ENGINEERING
(489)  PROF SHREE PRAKASH SINGH  CHIEF WARDEN  HOSTEL
(490)  PROF SHREE PRAKASH SINGH  HOSTEL WARDEN  RAMANUJAN  HOSTEL
(491)  Mr  PRAKASH RAO RAGIRI  ASSISTANT PROFESSOR  COMPUTER SCIENCE AND ENGINEERING EAST 
(492)  DR SATYA PRAKASH SINGH  HOSTEL WARDEN  ELECTRONICS AND COMMUNICATION ENGINEERING
(493)   ANDRIYA NARASIMHULU  ASSISTANT PROFESSOR  MECHANICAL ENGINEERING
(494)  DR ANKITA JAIN BANSAL  ASSISTANT PROFESSOR  INFORMATION TECHNOLOGY
(495)  DR ANKITA JAIN BANSAL  ASSISTANT PROFESSOR  INFORMATION TECHNOLOGY
(496)  DR ANKITA JAIN BANSAL  ASSISTANT PROFESSOR  INFORMATION TECHNOLOGY
(497)  Mr AMAN KUMAR  GRADUATE CLERK  ACADEMIC SECTION
(498)  Mrs MAHESHWARI CHANDRA  SECTION OFFICER  ACADEMIC SECTION
(499)   DINESH KUMAR  LDC  EXAMINATION CELL
(500)   KHUSHIL KUMAR SAINI  COORDINATOR  UNIVERSITY MANAGEMENT CENTRE  CENTRAL COMPUTER CENTER
(501)     CENTRAL COMPUTER CENTER
(502)  Mrs MAHESHWARI CHANDRA  SECTION OFFICER  ACADEMIC SECTION
(503)   DINESH KUMAR  LDC  EXAMINATION CELL
(504)  Mrs MAHESHWARI CHANDRA  ACADEMIC SECTION
(505)  Mrs MAHESHWARI CHANDRA  SECTION OFFICER  ACADEMIC SECTION
(506)  Mrs MAHESHWARI CHANDRA  SECTION OFFICER  ACADEMIC SECTION
(507)  Mrs MAHESHWARI CHANDRA  SECTION OFFICER  ACADEMIC SECTION
(508)  Mrs TARUNA TIWARI  ACADEMIC SECTION
(509)  Mrs TARUNA TIWARI  ACADEMIC SECTION
(510)  Mrs MAHESHWARI CHANDRA  SECTION OFFICER  ACADEMIC SECTION
(511)  Mrs MAHESHWARI CHANDRA  SECTION OFFICER  ACADEMIC SECTION
(512)  Mrs MAHESHWARI CHANDRA  SECTION OFFICER  ACADEMIC SECTION
(513)  Mrs MAHESHWARI CHANDRA  SECTION OFFICER  ACADEMIC SECTION
(514)   KHUSHIL KUMAR SAINI  COORDINATOR  UNIVERSITY MANAGEMENT CENTRE  CENTRAL COMPUTER CENTER
(515)   KHUSHIL KUMAR SAINI  COORDINATOR  UNIVERSITY MANAGEMENT CENTRE  CENTRAL COMPUTER CENTER
(516)   KHUSHIL KUMAR SAINI  COORDINATOR  UNIVERSITY MANAGEMENT CENTRE  CENTRAL COMPUTER CENTER
(517)   KHUSHIL KUMAR SAINI  COORDINATOR  UNIVERSITY MANAGEMENT CENTRE  CENTRAL COMPUTER CENTER
(518)   TARUN KUMAR RAWAT  ASSOCIATE PROFESSOR  ELECTRONICS AND COMMUNICATION ENGINEERING
(519)   KHUSHIL KUMAR SAINI  COORDINATOR  UNIVERSITY MANAGEMENT CENTRE  CENTRAL COMPUTER CENTER
(520)   KHUSHIL KUMAR SAINI  COORDINATOR  UNIVERSITY MANAGEMENT CENTRE  CENTRAL COMPUTER CENTER
(521)  Dr  ADITYA KUMAR  ASSOCIATE PROFESSOR  MECHANICAL ENGINEERING
(522)  Dr  ADITYA KUMAR  ASSOCIATE PROFESSOR  MECHANICAL ENGINEERING
(523)   BHAWNA AGGARWAL  ASSISTANT PROFESSOR  ELECTRONICS AND COMMUNICATION ENGINEERING
(524)   SHILPA SHARMA  ASSISTANT PROFESSOR  BIO TECHNOLOGY
(525)   SHILPA SHARMA  ASSISTANT PROFESSOR  BIO TECHNOLOGY
(526)   SHILPA SHARMA  ASSISTANT PROFESSOR  BIO TECHNOLOGY
(527)   TARUN KUMAR RAWAT  ASSOCIATE PROFESSOR  ELECTRONICS AND COMMUNICATION ENGINEERING
(528)  Dr PRAVEEN SAROHA  OFFICER INCHARGE  PHYSICAL EDUCATION
(529)   DINESH KUMAR  LDC  EXAMINATION CELL
(530)  Mrs MAHESHWARI CHANDRA  ACADEMIC SECTION
(531)   SHILPA SHARMA  ASSISTANT PROFESSOR  BIO TECHNOLOGY
(532)  Dr  ANKIT KUMAR SINGH  ASSISTANT PROFESSOR  ELECTRICAL ENGINEERING
(533)   SHILPA SHARMA  ASSISTANT PROFESSOR  BIO TECHNOLOGY
(534)  DR NEHA SAINI  ASSISTANT PROFESSOR  MANAGEMENT STUDIES
(535)  Mrs MAHESHWARI CHANDRA  SECTION OFFICER  ACADEMIC SECTION
(536)  Mrs MAHESHWARI CHANDRA  SECTION OFFICER  ACADEMIC SECTION
(537)  DR NEHA SAINI  ASSISTANT PROFESSOR  MANAGEMENT STUDIES
(538)   KHUSHIL KUMAR SAINI  COORDINATOR  UNIVERSITY MANAGEMENT CENTRE  CENTRAL COMPUTER CENTER
(539)   LOVESH KUMAR SHARMA  JUNIOR STENO  DEAN STUDENT WELFARE OFFICE
(540)   ALOK AGRAWAL  ASSISTANT PROFESSOR  INSTRUMENTATION AND CONTROL ENGINEERING
(541)   LOVESH KUMAR SHARMA  JUNIOR STENO  DEAN STUDENT WELFARE OFFICE
(542)   TARUN KUMAR RAWAT  ASSOCIATE PROFESSOR  ELECTRONICS AND COMMUNICATION ENGINEERING
(543)   TARUN KUMAR RAWAT  ASSOCIATE PROFESSOR  ELECTRONICS AND COMMUNICATION ENGINEERING
(544)   TARUN KUMAR RAWAT  ASSOCIATE PROFESSOR  ELECTRONICS AND COMMUNICATION ENGINEERING
(545)  DR NEHA SAINI  ASSISTANT PROFESSOR  MANAGEMENT STUDIES
(546)  Dr  ADITYA KUMAR  ASSOCIATE PROFESSOR  MECHANICAL ENGINEERING
(547)  DR TANUSHREE CHOUDHARY  HOD  HUMANITIES AND SOCIAL SCIENCES
(548)     CENTRAL COMPUTER CENTER
(549)   JYOTI YADAV  ASSISTANT PROFESSOR  INSTRUMENTATION AND CONTROL ENGINEERING
(550)  PROF SHREE PRAKASH SINGH  CHIEF WARDEN  HOSTEL
(551)   TARUN KUMAR RAWAT  ASSOCIATE PROFESSOR  ELECTRONICS AND COMMUNICATION ENGINEERING
(552)   MANISHA KHULBE  ASSISTANT PROFESSOR  ELECTRONICS AND COMMUNICATION ENGINEERING EAST 
(553)  Dr PRAVEEN SAROHA  OFFICER INCHARGE  PHYSICAL EDUCATION
(554)  Dr AMITA JAIN  COMPUTER SCIENCE AND ENGINEERING EAST 
(555)  DR TANUSHREE CHOUDHARY  HOD  HUMANITIES AND SOCIAL SCIENCES
(556)   VANDANA BHATIA  COMPUTER SCIENCE AND ENGINEERING
(557)  Dr PRAVEEN SAROHA  UNIVERSITY COORDINATOR NSS  PHYSICAL EDUCATION
(558)  Dr SIMRAN JEET SINGH  ASSISTANT PROFESSOR  MECHANICAL ENGINEERING
(559)  Dr  ANKIT KUMAR SINGH  ASSISTANT PROFESSOR  ELECTRICAL ENGINEERING
(560)  DR NEHA SAINI  ASSISTANT PROFESSOR  MANAGEMENT STUDIES
(561)  Dr PRAVEEN SAROHA  UNIVERSITY COORDINATOR NSS  PHYSICAL EDUCATION
(562)  Mrs MAHESHWARI CHANDRA  SECTION OFFICER  ACADEMIC SECTION
(563)  Dr  GAURAV SINGAL  ASSISTANT PROFESSOR  COMPUTER SCIENCE AND ENGINEERING
(564)     JUNIOR PROGRAMMER  CENTRAL COMPUTER CENTER
(565)   TARUN KUMAR RAWAT  ASSOCIATE PROFESSOR  ELECTRONICS AND COMMUNICATION ENGINEERING
(566)  Dr  VINOD KUMAR  HOSTEL WARDEN  HOSTEL
(567)  Dr PRAVEEN SAROHA  OFFICER INCHARGE  PHYSICAL EDUCATION
(568)  Dr  GAURAV SINGAL  ASSISTANT PROFESSOR  COMPUTER SCIENCE AND ENGINEERING
(569)   KHUSHIL KUMAR SAINI  COORDINATOR  UNIVERSITY MANAGEMENT CENTRE  CENTRAL COMPUTER CENTER
(570)   KHUSHIL KUMAR SAINI  COORDINATOR  UNIVERSITY MANAGEMENT CENTRE  CENTRAL COMPUTER CENTER
(571)   KHUSHIL KUMAR SAINI  COORDINATOR  UNIVERSITY MANAGEMENT CENTRE  CENTRAL COMPUTER CENTER
(572)  Mr LAMBODAR MISHRA  DATA PROCESSOR  EXAMINATION CELL
(573)  Mr LAMBODAR MISHRA  DATA PROCESSOR  EXAMINATION CELL
(574)   BHAWNA AGGARWAL  ASSISTANT PROFESSOR  ELECTRONICS AND COMMUNICATION ENGINEERING
(575)  Mr LAMBODAR MISHRA  DATA PROCESSOR  EXAMINATION CELL
(576)   SHASHI PRAKASH  ASSISTANT PROFESSOR  MECHANICAL ENGINEERING
(577)  Mr LAMBODAR MISHRA  DATA PROCESSOR  EXAMINATION CELL
(578)  Dr PRAVEEN SAROHA  UNIVERSITY COORDINATOR NSS  PHYSICAL EDUCATION
(579)  Mr LAMBODAR MISHRA  DATA PROCESSOR  EXAMINATION CELL
(580)  Mr LAMBODAR MISHRA  DATA PROCESSOR  EXAMINATION CELL
(581)  Mr LAMBODAR MISHRA  DATA PROCESSOR  EXAMINATION CELL
(582)  Mrs MAHESHWARI CHANDRA  SECTION OFFICER  ACADEMIC SECTION
(583)  Mr LAMBODAR MISHRA  DATA PROCESSOR  EXAMINATION CELL
(584)  Mrs MAHESHWARI CHANDRA  SECTION OFFICER  ACADEMIC SECTION
(585)  Dr  SUJATA SENGAR  ACADEMIC SECTION
(586)  Mr  HARI SAHAYA SINGH  MECHANIC   A  CENTRAL COMPUTER CENTER
(587)   KHUSHIL KUMAR SAINI  COORDINATOR  UNIVERSITY MANAGEMENT CENTRE  CENTRAL COMPUTER CENTER
(588)   KHUSHIL KUMAR SAINI  COORDINATOR  UNIVERSITY MANAGEMENT CENTRE  CENTRAL COMPUTER CENTER
(589)  Mr  JAI PRAKASH SHARMA  DEAN STUDENT WELFARE OFFICE
(590)  Mr LAMBODAR MISHRA  DATA PROCESSOR  EXAMINATION CELL
(591)  PROF SHREE PRAKASH SINGH  CHIEF WARDEN  HOSTEL
(592)  Mrs MAHESHWARI CHANDRA  SECTION OFFICER  ACADEMIC SECTION
(593)  Dr PRAVEEN SAROHA  OFFICER INCHARGE  PHYSICAL EDUCATION
(594)   KHUSHIL KUMAR SAINI  COORDINATOR  UNIVERSITY MANAGEMENT CENTRE  CENTRAL COMPUTER CENTER
(595)   KHUSHIL KUMAR SAINI  COORDINATOR  UNIVERSITY MANAGEMENT CENTRE  CENTRAL COMPUTER CENTER
(596)   KHUSHIL KUMAR SAINI  COORDINATOR  UNIVERSITY MANAGEMENT CENTRE  CENTRAL COMPUTER CENTER
(597)  Mr LAMBODAR MISHRA  DATA PROCESSOR  EXAMINATION CELL
(598)  Dr  ANKIT KUMAR SINGH  ASSISTANT PROFESSOR  ELECTRICAL ENGINEERING
(599)  Dr SIMRAN JEET SINGH  ASSISTANT PROFESSOR  MECHANICAL ENGINEERING
(600)   ALOK AGRAWAL  ASSISTANT PROFESSOR  INSTRUMENTATION AND CONTROL ENGINEERING
(601)  PROF SHREE PRAKASH SINGH  PROFESSOR  ELECTRONICS AND COMMUNICATION ENGINEERING
(602)   SHILPA SHARMA  OFFICER INCHARGE  APPLIED MICROBIOLOGY AND NANOTECHNOLOGY LAB  BIO TECHNOLOGY
(603)   SHILPA SHARMA  OFFICER INCHARGE  APPLIED MICROBIOLOGY AND NANOTECHNOLOGY LAB  BIO TECHNOLOGY
(604)   SHWETA GAUTAM  ELECTRONICS AND COMMUNICATION ENGINEERING
(605)  Dr  PREETI KAUR  ASSOCIATE PROFESSOR  COMPUTER ENGINEERING
(606)  Dr AWADHESH KR  SINGH  JUNIOR PROGRAMMER  WEST CAMPUS
(607)  DR NEHA SAINI  ASSISTANT PROFESSOR  MANAGEMENT STUDIES
(608)  Dr  GAURAV SINGAL  INSTRUCTOR  COMPUTER SCIENCE AND ENGINEERING
(609)  Mr LAMBODAR MISHRA  DATA PROCESSOR  EXAMINATION CELL
(610)  Mr LAMBODAR MISHRA  DATA PROCESSOR  EXAMINATION CELL
(611)  Mr LAMBODAR MISHRA  DATA PROCESSOR  EXAMINATION CELL
(612)  Dr SIMRAN JEET SINGH  ASSISTANT PROFESSOR  MECHANICAL ENGINEERING
(613)  Mr LAMBODAR MISHRA  DATA PROCESSOR  EXAMINATION CELL
(614)   ADESH KUMAR MEENA  HEAD CLERK  EXAMINATION CELL
(615)  Mr LAMBODAR MISHRA  DATA PROCESSOR  ENGINEERING CELL
(616)  b joint seat plan of ug and pg course examination held on 23 09 2022 shift 2 br   font size  1   br   Mr LAMBODAR MISHRA  DATA PROCESSOR  EXAMINATION CELL  b   font 
(617)  Mr LAMBODAR MISHRA  DATA PROCESSOR  EXAMINATION CELL
(618)  Mr LAMBODAR MISHRA  DATA PROCESSOR  EXAMINATION CELL
(619)  Mr LAMBODAR MISHRA  DATA PROCESSOR  EXAMINATION CELL
(620)  Mr LAMBODAR MISHRA  DATA PROCESSOR  EXAMINATION CELL
(621)  Mr LAMBODAR MISHRA  DATA PROCESSOR  EXAMINATION CELL
(622)  Mr LAMBODAR MISHRA  DATA PROCESSOR  EXAMINATION CELL
(623)  Mr LAMBODAR MISHRA  DATA PROCESSOR  EXAMINATION CELL
(624)  Mr LAMBODAR MISHRA  DATA PROCESSOR  EXAMINATION CELL
(625)  Mr LAMBODAR MISHRA  ACADEMIC SECTION
(626)  Mr LAMBODAR MISHRA  DATA PROCESSOR  EXAMINATION CELL
(627)  Mr LAMBODAR MISHRA  DATA PROCESSOR  EXAMINATION CELL
(628)  Mr LAMBODAR MISHRA  DATA PROCESSOR  EXAMINATION CELL
(629)  Mr LAMBODAR MISHRA  DATA PROCESSOR  EXAMINATION CELL
(630)  Mr LAMBODAR MISHRA  DATA PROCESSOR  EXAMINATION CELL
(631)  Mr LAMBODAR MISHRA  DATA PROCESSOR  EXAMINATION CELL
(632)  Mr LAMBODAR MISHRA  DATA PROCESSOR  EXAMINATION CELL
(633)  Dr  ARJUN TYAGI  ASSISTANT PROFESSOR  ELECTRICAL ENGINEERING
(634)   KHUSHIL KUMAR SAINI  COORDINATOR  UNIVERSITY MANAGEMENT CENTRE  CENTRAL COMPUTER CENTER
(635)  Dr  ANKIT KUMAR SINGH  ASSISTANT PROFESSOR  ELECTRICAL ENGINEERING
(636)  Mr LAMBODAR MISHRA  DATA PROCESSOR  EXAMINATION CELL
(637)  Mr LAMBODAR MISHRA  DATA PROCESSOR  EXAMINATION CELL
(638)  PROF SHREE PRAKASH SINGH  CHIEF WARDEN  HOSTEL
(639)  Mr LAMBODAR MISHRA  DATA PROCESSOR  EXAMINATION CELL
(640)   ALOK AGRAWAL  ASSISTANT PROFESSOR  INSTRUMENTATION AND CONTROL ENGINEERING
(641)  Mr LAMBODAR MISHRA  DATA PROCESSOR  EXAMINATION CELL
(642)  Mr LAMBODAR MISHRA  DATA PROCESSOR  EXAMINATION CELL
(643)  Mr LAMBODAR MISHRA  DATA PROCESSOR  EXAMINATION CELL
(644)  Mr LAMBODAR MISHRA  DATA PROCESSOR  EXAMINATION CELL
(645)  Mr LAMBODAR MISHRA  DATA PROCESSOR  EXAMINATION CELL
(646)  Mr LAMBODAR MISHRA  DATA PROCESSOR  EXAMINATION CELL
(647)  Mr LAMBODAR MISHRA  DATA PROCESSOR  EXAMINATION CELL
(648)  Mr LAMBODAR MISHRA  DATA PROCESSOR  EXAMINATION CELL
(649)  Mrs MAHESHWARI CHANDRA  SECTION OFFICER  ACADEMIC SECTION
(650)  Mrs MAHESHWARI CHANDRA  SECTION OFFICER  ACADEMIC SECTION
(651)  Mrs MAHESHWARI CHANDRA  SECTION OFFICER  ACADEMIC SECTION
(652)  Mrs MAHESHWARI CHANDRA  SECTION OFFICER  ACADEMIC SECTION
(653)  Mrs MAHESHWARI CHANDRA  SECTION OFFICER  ACADEMIC SECTION
(654)  Mrs MAHESHWARI CHANDRA  SECTION OFFICER  ACADEMIC SECTION
(655)  b Generate and Download Mid Sem Admit Card in your account on UMS  br   font size  1   br      JUNIOR PROGRAMMER  CENTRAL COMPUTER CENTER  b   font 
(656)     JUNIOR PROGRAMMER  CENTRAL COMPUTER CENTER
(657)   KHUSHIL KUMAR SAINI  COORDINATOR  UNIVERSITY MANAGEMENT CENTRE  CENTRAL COMPUTER CENTER
(658)     CENTRAL COMPUTER CENTER
(659)   ROHIT KUMAR  LDC  NETAJI SUBHAS UNIVERSITY OF TECHNOLOGY
(660)   KHUSHIL KUMAR SAINI  COORDINATOR  UNIVERSITY MANAGEMENT CENTRE  CENTRAL COMPUTER CENTER
(661)   KHUSHIL KUMAR SAINI  COORDINATOR  UNIVERSITY MANAGEMENT CENTRE  CENTRAL COMPUTER CENTER
(662)  Mrs MAHESHWARI CHANDRA  SECTION OFFICER  ACADEMIC SECTION
(663)  Mrs MAHESHWARI CHANDRA  SECTION OFFICER  ACADEMIC SECTION
(664)   NAVEEN KUMAR  HEAD CLERK  NETAJI SUBHAS UNIVERSITY OF TECHNOLOGY
(665)  Mr AMAN KUMAR  GRADUATE CLERK  ACADEMIC SECTION
(666)  Mrs MAHESHWARI CHANDRA  SECTION OFFICER  ACADEMIC SECTION
(667)  Mrs MAHESHWARI CHANDRA  SECTION OFFICER  ACADEMIC SECTION
(668)  Mrs MAHESHWARI CHANDRA  SECTION OFFICER  ACADEMIC SECTION
(669)  Mrs MAHESHWARI CHANDRA  SECTION OFFICER  ACADEMIC SECTION
(670)  Mrs MAHESHWARI CHANDRA  SECTION OFFICER  ACADEMIC SECTION
(671)  Mrs MAHESHWARI CHANDRA  SECTION OFFICER  ACADEMIC SECTION
(672)  Mrs MAHESHWARI CHANDRA  SECTION OFFICER  ACADEMIC SECTION
(673)   TARUN KUMAR RAWAT  ASSOCIATE PROFESSOR  ELECTRONICS AND COMMUNICATION ENGINEERING
(674)  Mr LAMBODAR MISHRA  DATA PROCESSOR  EXAMINATION CELL
(675)     CENTRAL COMPUTER CENTER
(676)  Mr  JAI PRAKASH SHARMA  DEAN STUDENT WELFARE OFFICE
(677)  Mr LAMBODAR MISHRA  DATA PROCESSOR  EXAMINATION CELL
(678)  Mr  MANISH KUMAR SINGHAL  CHIEF EXECUTIVE OFFICER  NSUT IIF
(679)   KHUSHIL KUMAR SAINI  COORDINATOR  UNIVERSITY MANAGEMENT CENTRE  CENTRAL COMPUTER CENTER
(680)   KHUSHIL KUMAR SAINI  COORDINATOR  UNIVERSITY MANAGEMENT CENTRE  CENTRAL COMPUTER CENTER
(681)   LOVESH KUMAR SHARMA  JUNIOR STENO  DEAN STUDENT WELFARE OFFICE
(682)  Mr  JAI PRAKASH SHARMA  DEAN STUDENT WELFARE OFFICE
(683)  Mrs MAHESHWARI CHANDRA  SECTION OFFICER  ACADEMIC SECTION
(684)  Dr SIMRAN JEET SINGH  ASSISTANT PROFESSOR  MECHANICAL ENGINEERING
(685)  Mrs TARUNA TIWARI  ACADEMIC SECTION
(686)   LOVESH KUMAR SHARMA  JUNIOR STENO  DEAN STUDENT WELFARE OFFICE
(687)  Dr PRAVEEN SAROHA  UNIVERSITY COORDINATOR NSS  PHYSICAL EDUCATION
(688)  Dr  SUJATA SENGAR  ACADEMIC SECTION
(689)  Dr  SUJATA SENGAR  ACADEMIC SECTION
(690)   KHUSHIL KUMAR SAINI  COORDINATOR  UNIVERSITY MANAGEMENT CENTRE  CENTRAL COMPUTER CENTER
(691)  Dr PRAVEEN SAROHA  UNIVERSITY COORDINATOR NSS  PHYSICAL EDUCATION
(692)   SACHIN SHARMA  ASSISTANT PROFESSOR  MATHEMATICS
(693)  Mrs MAHESHWARI CHANDRA  SECTION OFFICER  ACADEMIC SECTION
(694)  Mrs MAHESHWARI CHANDRA  SECTION OFFICER  ACADEMIC SECTION
(695)  Mrs MAHESHWARI CHANDRA  SECTION OFFICER  ACADEMIC SECTION
(696)  DR MAMTA MISHRA  ASSOCIATE PROFESSOR  MATHEMATICS
(697)   DEVENDER KUMAR  ASSOCIATE PROFESSOR  INFORMATION TECHNOLOGY
(698)  Dr  ANKIT KUMAR SINGH  ASSISTANT PROFESSOR  ELECTRICAL ENGINEERING
(699)   ALOK AGRAWAL  ASSISTANT PROFESSOR  INSTRUMENTATION AND CONTROL ENGINEERING
(700)  Mr  JAI PRAKASH SHARMA  UDC  DEAN STUDENT WELFARE OFFICE
(701)  Dr PRAVEEN SAROHA  OFFICER INCHARGE  PHYSICAL EDUCATION
(702)  Dr PRAVEEN SAROHA  OFFICER INCHARGE  PHYSICAL EDUCATION
(703)  Mr LAMBODAR MISHRA  DATA PROCESSOR  EXAMINATION CELL
(704)  Dr  SUJATA SENGAR  ACADEMIC SECTION
(705)  Mrs MAHESHWARI CHANDRA  SECTION OFFICER  ACADEMIC SECTION
(706)  DR NEHA SAINI  ASSISTANT PROFESSOR  MANAGEMENT STUDIES
(707)   ABHINAV TOMAR  ASSISTANT PROFESSOR  COMPUTER SCIENCE AND ENGINEERING
(708)  Mrs MAHESHWARI CHANDRA  SECTION OFFICER  ACADEMIC SECTION
(709)   BHAWNA AGGARWAL  ASSISTANT PROFESSOR  ELECTRONICS AND COMMUNICATION ENGINEERING
(710)  DR NEHA SAINI  ASSISTANT PROFESSOR  MANAGEMENT STUDIES
(711)  Mrs MAHESHWARI CHANDRA  SECTION OFFICER  ACADEMIC SECTION
(712)   KHUSHIL KUMAR SAINI  COORDINATOR  UNIVERSITY MANAGEMENT CENTRE  CENTRAL COMPUTER CENTER
(713)  Dr  ANKIT KUMAR SINGH  ASSISTANT PROFESSOR  ELECTRICAL ENGINEERING
(714)   ALOK AGRAWAL  ASSISTANT PROFESSOR  INSTRUMENTATION AND CONTROL ENGINEERING
(715)  Dr  SUJATA SENGAR  DEAN ACADEMICS  ACADEMIC SECTION
(716)  Dr PRAVEEN SAROHA  OFFICER INCHARGE  PHYSICAL EDUCATION
(717)   PINAKI CHAKRABORTY  ASSISTANT PROFESSOR  COMPUTER SCIENCE AND ENGINEERING
(718)  Dr AMITA JAIN  COMPUTER SCIENCE AND ENGINEERING EAST 
(719)  Dr  SUJATA SENGAR  DEAN ACADEMICS  ACADEMIC SECTION
(720)   AASHISH MAAN  NETAJI SUBHAS UNIVERSITY OF TECHNOLOGY
(721)  Mr  MANISH KUMAR SINGHAL  CHIEF EXECUTIVE OFFICER  NSUT IIF
(722)  Mr LAMBODAR MISHRA  DATA ENTRY OPERATOR  EXAMINATION CELL
(723)  Dr PRAVEEN SAROHA  UNIVERSITY COORDINATOR NSS  PHYSICAL EDUCATION
(724)  Dr PRAVEEN SAROHA  OFFICER INCHARGE  PHYSICAL EDUCATION
(725)   AASTHA VERMA  ASSISTANT PROFESSOR  MANAGEMENT STUDIES
(726)   AASTHA VERMA  ASSISTANT PROFESSOR  MANAGEMENT STUDIES
(727)  DR MAMTA MISHRA  ASSOCIATE PROFESSOR  MATHEMATICS
(728)   TARUN KUMAR RAWAT  ASSOCIATE PROFESSOR  ELECTRONICS AND COMMUNICATION ENGINEERING
(729)     CENTRAL COMPUTER CENTER
(730)   NAVEEN SHARMA  ASSISTANT PROFESSOR  MECHANICAL ENGINEERING
(731)  Dr PRAVEEN SAROHA  UNIVERSITY COORDINATOR NSS  PHYSICAL EDUCATION
(732)   MANISHA KHULBE  ELECTRONICS AND COMMUNICATION ENGINEERING EAST 
(733)  Mr  JAI PRAKASH SHARMA  UDC  DEAN STUDENT WELFARE OFFICE
(734)     CENTRAL COMPUTER CENTER
(735)   BHAWNA AGGARWAL  ASSISTANT PROFESSOR  ELECTRONICS AND COMMUNICATION ENGINEERING
(736)  Dr  VINOD KUMAR  HOSTEL WARDEN  PHYSICS
(737)  Mrs MAHESHWARI CHANDRA  SECTION OFFICER  ACADEMIC SECTION
(738)   ABHINAV TOMAR  ASSISTANT PROFESSOR  COMPUTER SCIENCE AND ENGINEERING
(739)  Dr PRAVEEN SAROHA  OFFICER INCHARGE  PHYSICAL EDUCATION
(740)   VIVEK KUMAR  ASSISTANT PROFESSOR  MECHANICAL ENGINEERING
(741)   AMARJIT MALHOTRA  ASSOCIATE PROFESSOR  INFORMATION TECHNOLOGY
(742)  Dr  ANAND GUPTA  ASSOCIATE PROFESSOR  COMPUTER ENGINEERING
(743)   YATENDER KUMAR  ASSISTANT PROFESSOR  BIOLOGICAL SCIENCES AND ENGINEERING
(744)   SANJEEV KUMAR  INFORMATION TECHNOLOGY WEST 
(745)   SANJEEV KUMAR  INFORMATION TECHNOLOGY WEST 
(746)  Dr PRAVEEN SAROHA  OFFICER INCHARGE  PHYSICAL EDUCATION
(747)  Dr  RAVINDER SINGH  ASSISTANT PROFESSOR  ELECTRICAL ENGINEERING
(748)   ALOK AGRAWAL  ASSISTANT PROFESSOR  INSTRUMENTATION AND CONTROL ENGINEERING
(749)  Dr  ADITYA KUMAR  ASSOCIATE PROFESSOR  MECHANICAL ENGINEERING
(750)   MANISHA KHULBE  ELECTRONICS AND COMMUNICATION ENGINEERING EAST 
(751)   PINAKI CHAKRABORTY  ASSISTANT PROFESSOR  COMPUTER ENGINEERING
(752)   TARUN KUMAR RAWAT  ASSOCIATE PROFESSOR  ELECTRONICS AND COMMUNICATION ENGINEERING
(753)   TARUN KUMAR RAWAT  ASSOCIATE PROFESSOR  ELECTRONICS AND COMMUNICATION ENGINEERING
(754)  Mr LAMBODAR MISHRA  DATA PROCESSOR  EXAMINATION CELL
(755)  Mr  JAI PRAKASH SHARMA  UDC  DEAN STUDENT WELFARE OFFICE
(756)  Mr ARVIND KUMAR  ASSISTANT PROFESSOR  COMPUTER SCIENCE AND ENGINEERING EAST 
(757)  Mr ARVIND KUMAR  ASSISTANT PROFESSOR  COMPUTER SCIENCE AND ENGINEERING EAST 
(758)   KHUSHIL KUMAR SAINI  COORDINATOR  UNIVERSITY MANAGEMENT CENTRE  CENTRAL COMPUTER CENTER
(759)   KHUSHIL KUMAR SAINI  COORDINATOR  UNIVERSITY MANAGEMENT CENTRE  CENTRAL COMPUTER CENTER
(760)   KHUSHIL KUMAR SAINI  COORDINATOR  UNIVERSITY MANAGEMENT CENTRE  CENTRAL COMPUTER CENTER
(761)  Mr LAMBODAR MISHRA  DATA PROCESSOR  EXAMINATION CELL
(762)   NAVEEN SHARMA  ASSISTANT PROFESSOR  MECHANICAL ENGINEERING
(763)   ABHISHEK TEVATIA  HOSTEL WARDEN  BH I  HOSTEL
(764)   KHUSHIL KUMAR SAINI  COORDINATOR  UNIVERSITY MANAGEMENT CENTRE  CENTRAL COMPUTER CENTER
(765)   KHUSHIL KUMAR SAINI  COORDINATOR  UNIVERSITY MANAGEMENT CENTRE  CENTRAL COMPUTER CENTER
(766)  Dr  GAURAV SINGAL  ASSISTANT PROFESSOR  COMPUTER SCIENCE AND ENGINEERING
(767)  MS SANEHAJA SHARMA  ASSISTANT REGISTRAR  ACADEMIC SECTION
(768)  Mr LAMBODAR MISHRA  DATA PROCESSOR  EXAMINATION CELL
(769)  Dr AMITA JAIN  COMPUTER SCIENCE AND ENGINEERING EAST 
(770)  Dr  GAURAV SINGAL  ASSISTANT PROFESSOR  COMPUTER SCIENCE AND ENGINEERING
(771)  Mr LAMBODAR MISHRA  DATA PROCESSOR  EXAMINATION CELL
(772)   KHUSHIL KUMAR SAINI  COORDINATOR  UNIVERSITY MANAGEMENT CENTRE  CENTRAL COMPUTER CENTER
(773)   KHUSHIL KUMAR SAINI  COORDINATOR  UNIVERSITY MANAGEMENT CENTRE  CENTRAL COMPUTER CENTER
(774)  Dr  RAVINDER SINGH  ASSISTANT PROFESSOR  ELECTRICAL ENGINEERING
(775)   ALOK AGRAWAL  ASSISTANT PROFESSOR  INSTRUMENTATION AND CONTROL ENGINEERING
(776)   ABHINAV TOMAR  ASSISTANT PROFESSOR  COMPUTER SCIENCE AND ENGINEERING
(777)  b Queries regarding the NPTEL  availability of courses or issues in accessing courses   contact NPTEL Administrator  
Email support nptel iitm ac in br   font size  1   br   Dr  ANAND GUPTA  ASSOCIATE PROFESSOR  COMPUTER ENGINEERING  b   font 
(778)  Dr  ANAND GUPTA  ASSOCIATE PROFESSOR  COMPUTER ENGINEERING
(779)   YATENDER KUMAR  ASSISTANT PROFESSOR  BIOLOGICAL SCIENCES AND ENGINEERING
(780)   RASHMI CHAUDHRY  ASSISTANT PROFESSOR  COMPUTER SCIENCE AND ENGINEERING
(781)  Dr  ADITYA KUMAR  ASSOCIATE PROFESSOR  MECHANICAL ENGINEERING
(782)   HIMANSHU SINGHAL  CENTRAL COMPUTER CENTER
(783)   HIMANSHU SINGHAL  CENTRAL COMPUTER CENTER
(784)  DR ANKITA JAIN BANSAL  ASSISTANT PROFESSOR  INFORMATION TECHNOLOGY
(785)   TARUN KUMAR RAWAT  ASSOCIATE PROFESSOR  ELECTRONICS AND COMMUNICATION ENGINEERING
(786)  Mr LAMBODAR MISHRA  DATA PROCESSOR  EXAMINATION CELL
(787)  Mr LAMBODAR MISHRA  DATA PROCESSOR  EXAMINATION CELL
(788)  Mr LAMBODAR MISHRA  DATA PROCESSOR  EXAMINATION CELL
(789)   KHUSHIL KUMAR SAINI  COORDINATOR  UNIVERSITY MANAGEMENT CENTRE  CENTRAL COMPUTER CENTER
(790)   KHUSHIL KUMAR SAINI  COORDINATOR  UNIVERSITY MANAGEMENT CENTRE  CENTRAL COMPUTER CENTER
(791)  Mr LAMBODAR MISHRA  DATA PROCESSOR  EXAMINATION CELL
(792)  Dr AMITA JAIN  COMPUTER SCIENCE AND ENGINEERING EAST 
(793)  Mrs MAHESHWARI CHANDRA  SECTION OFFICER  ACADEMIC SECTION
(794)   MANISHA KHULBE  ELECTRONICS AND COMMUNICATION ENGINEERING EAST 
(795)  Mr LAMBODAR MISHRA  DATA PROCESSOR  EXAMINATION CELL
(796)  Mrs MAHESHWARI CHANDRA  SECTION OFFICER  ACADEMIC SECTION
(797)   SHILPA SHARMA  ASSISTANT PROFESSOR  BIOLOGICAL SCIENCES AND ENGINEERING
(798)  Dr AMITA JAIN  COMPUTER SCIENCE AND ENGINEERING EAST 
(799)  Mrs MAHESHWARI CHANDRA  SECTION OFFICER  ACADEMIC SECTION
(800)  DR ANKITA JAIN BANSAL  ASSISTANT PROFESSOR  INFORMATION TECHNOLOGY
(801)   C S VINITHA  ASSISTANT PROFESSOR  ELECTRONICS AND COMMUNICATION ENGINEERING EAST 
(802)  Dr  ANAND GUPTA  ASSOCIATE PROFESSOR  COMPUTER ENGINEERING
(803)  Mr LAMBODAR MISHRA  DATA PROCESSOR  EXAMINATION CELL
(804)  Dr  ADITYA KUMAR  ASSOCIATE PROFESSOR  MANUFACTURING PROCESSES AND AUTOMATION ENGINEERING
(805)  Dr  RAVINDER SINGH  ASSISTANT PROFESSOR  ELECTRICAL ENGINEERING
(806)  Dr AMITA JAIN  COMPUTER SCIENCE AND ENGINEERING EAST 
(807)   ANURADHA TOMAR  ASSISTANT PROFESSOR  INSTRUMENTATION AND CONTROL ENGINEERING
(808)  Mrs MAHESHWARI CHANDRA  SECTION OFFICER  ACADEMIC SECTION
(809)   MANISHA KHULBE  ELECTRONICS AND COMMUNICATION ENGINEERING EAST 
(810)  Dr  GAURAV SINGAL  ASSISTANT PROFESSOR  COMPUTER SCIENCE AND ENGINEERING
(811)  DR NEHA SAINI  ASSISTANT PROFESSOR  MANAGEMENT STUDIES
(812)   TARUN KUMAR RAWAT  ASSOCIATE PROFESSOR  ELECTRONICS AND COMMUNICATION ENGINEERING
(813)   MANISHA KHULBE  ELECTRONICS AND COMMUNICATION ENGINEERING EAST 
(814)   YATENDER KUMAR  ASSISTANT PROFESSOR  BIOLOGICAL SCIENCES AND ENGINEERING
(815)   TARUN KUMAR RAWAT  ASSOCIATE PROFESSOR  ELECTRONICS AND COMMUNICATION ENGINEERING
(816)   VANDANA BHATIA  COMPUTER SCIENCE AND ENGINEERING
(817)  Mrs MAHESHWARI CHANDRA  SECTION OFFICER  ACADEMIC SECTION
(818)  Mrs MAHESHWARI CHANDRA  SECTION OFFICER  ACADEMIC SECTION
(819)   KHUSHIL KUMAR SAINI  COORDINATOR  UNIVERSITY MANAGEMENT CENTRE  CENTRAL COMPUTER CENTER
(820)   KHUSHIL KUMAR SAINI  COORDINATOR  UNIVERSITY MANAGEMENT CENTRE  CENTRAL COMPUTER CENTER
(821)   KHUSHIL KUMAR SAINI  COORDINATOR  UNIVERSITY MANAGEMENT CENTRE  CENTRAL COMPUTER CENTER
(822)  Mr LAMBODAR MISHRA  DATA PROCESSOR  EXAMINATION CELL
(823)   KHUSHIL KUMAR SAINI  COORDINATOR  UNIVERSITY MANAGEMENT CENTRE  CENTRAL COMPUTER CENTER
(824)   KHUSHIL KUMAR SAINI  COORDINATOR  UNIVERSITY MANAGEMENT CENTRE  CENTRAL COMPUTER CENTER
(825)   KHUSHIL KUMAR SAINI  COORDINATOR  UNIVERSITY MANAGEMENT CENTRE  CENTRAL COMPUTER CENTER
(826)   KHUSHIL KUMAR SAINI  COORDINATOR  UNIVERSITY MANAGEMENT CENTRE  CENTRAL COMPUTER CENTER
(827)   KHUSHIL KUMAR SAINI  COORDINATOR  UNIVERSITY MANAGEMENT CENTRE  CENTRAL COMPUTER CENTER
(828)  Dr  ADITYA KUMAR  ASSOCIATE PROFESSOR  MECHANICAL ENGINEERING
(829)   ALOK AGRAWAL  ASSISTANT PROFESSOR  INSTRUMENTATION AND CONTROL ENGINEERING
(830)   YATENDER KUMAR  ASSISTANT PROFESSOR  BIOLOGICAL SCIENCES AND ENGINEERING
(831)   UMA NARANG  PRACTICAL INSTRUCTOR  CHEMISTRY
(832)  DR ANKITA JAIN BANSAL  ASSISTANT PROFESSOR  INFORMATION TECHNOLOGY
(833)  Mrs MAHESHWARI CHANDRA  SECTION OFFICER  ACADEMIC SECTION
(834)   KHUSHIL KUMAR SAINI  COORDINATOR  UNIVERSITY MANAGEMENT CENTRE  CENTRAL COMPUTER CENTER
(835)   KHUSHIL KUMAR SAINI  COORDINATOR  UNIVERSITY MANAGEMENT CENTRE  CENTRAL COMPUTER CENTER
(836)  Mrs MAHESHWARI CHANDRA  SECTION OFFICER  ACADEMIC SECTION
(837)     CENTRAL COMPUTER CENTER
(838)  Dr  GAURAV SINGAL  ASSISTANT PROFESSOR  COMPUTER SCIENCE AND ENGINEERING
(839)  Mr LAMBODAR MISHRA  DATA PROCESSOR  EXAMINATION CELL
(840)   SANJEEV KUMAR  INFORMATION TECHNOLOGY WEST 
(841)   SANJEEV KUMAR  INFORMATION TECHNOLOGY WEST 
(842)   KHUSHIL KUMAR SAINI  COORDINATOR  UNIVERSITY MANAGEMENT CENTRE  CENTRAL COMPUTER CENTER
(843)   KHUSHIL KUMAR SAINI  COORDINATOR  UNIVERSITY MANAGEMENT CENTRE  CENTRAL COMPUTER CENTER
(844)  Mr LAMBODAR MISHRA  DATA PROCESSOR  EXAMINATION CELL
(845)  DR NEHA SAINI  ASSISTANT PROFESSOR  MANAGEMENT STUDIES
(846)  Mr LAMBODAR MISHRA  DATA PROCESSOR  EXAMINATION CELL
(847)  Mr LAMBODAR MISHRA  DATA PROCESSOR  EXAMINATION CELL
(848)  Mr LAMBODAR MISHRA  DATA PROCESSOR  EXAMINATION CELL
(849)  Mr LAMBODAR MISHRA  DATA PROCESSOR  EXAMINATION CELL
(850)  Mr LAMBODAR MISHRA  DATA PROCESSOR  EXAMINATION CELL
(851)  Mr LAMBODAR MISHRA  DATA PROCESSOR  EXAMINATION CELL
(852)  Mr LAMBODAR MISHRA  DATA PROCESSOR  EXAMINATION CELL
(853)   MANISH KUMAR  PRACTICAL INSTRUCTOR  MANUFACTURING PROCESSES AND AUTOMATION ENGINEERING
(854)   TARUN KUMAR RAWAT  ASSOCIATE PROFESSOR  ELECTRONICS AND COMMUNICATION ENGINEERING
(855)  Mr LAMBODAR MISHRA  DATA PROCESSOR  EXAMINATION CELL
(856)  Mr LAMBODAR MISHRA  DATA PROCESSOR  EXAMINATION CELL
(857)  Mrs MAHESHWARI CHANDRA  SECTION OFFICER  ACADEMIC SECTION
(858)  Mrs MAHESHWARI CHANDRA  SECTION OFFICER  ACADEMIC SECTION
(859)  Mr LAMBODAR MISHRA  DATA PROCESSOR  EXAMINATION CELL
(860)  Mrs MAHESHWARI CHANDRA  SECTION OFFICER  ACADEMIC SECTION
(861)  Mrs MAHESHWARI CHANDRA  SECTION OFFICER  ACADEMIC SECTION
(862)  Dr DAYA NAND  SENIOR SCIENTIFIC ASSISTANT  PHYSICS
(863)  DR TANUSHREE CHOUDHARY  HOD  HUMANITIES AND SOCIAL SCIENCES
(864)   ANOOP KUMAR SINGH  CARETAKER  ENGINEERING CELL
(865)  Dr  VINOD KUMAR  ASSOCIATE PROFESSOR  PHYSICS
(866)  Dr  SUJATA SENGAR  OFFICER INCHARGE  ACADEMIC SECTION
(867)   NAVEEN SHARMA  ASSISTANT PROFESSOR  MECHANICAL ENGINEERING
(868)  Mrs TARUNA TIWARI  ACADEMIC SECTION
(869)   KUNWAR SINGH  PRACTICAL SUPERINTENDENT  ELECTRONICS AND COMMUNICATION ENGINEERING
(870)  Mrs MAHESHWARI CHANDRA  SECTION OFFICER  ACADEMIC SECTION
(871)   ANDRIYA NARASIMHULU  ASSISTANT PROFESSOR  MECHANICAL ENGINEERING
(872)  Dr AKHILESH DUBEY  OFFICER INCHARGE  BIO TECHNOLOGY
(873)  Mr LAMBODAR MISHRA  DATA PROCESSOR  EXAMINATION CELL
(874)  Mr LAMBODAR MISHRA  DATA PROCESSOR  EXAMINATION CELL
(875)  Mr LAMBODAR MISHRA  DATA PROCESSOR  EXAMINATION CELL
(876)  Mr LAMBODAR MISHRA  DATA PROCESSOR  EXAMINATION CELL
(877)  Mr LAMBODAR MISHRA  DATA PROCESSOR  EXAMINATION CELL
(878)   NARENDER KUMAR  ASSISTANT PROFESSOR  MANUFACTURING PROCESSES AND AUTOMATION ENGINEERING
(879)   ANDRIYA NARASIMHULU  ASSISTANT PROFESSOR  MECHANICAL ENGINEERING
(880)   DEVENDER KUMAR  ASSOCIATE PROFESSOR  INFORMATION TECHNOLOGY
(881)   ATHAR HUSSAIN  HOD  CIVIL ENGINEERING
(882)   BHAWNA AGGARWAL  ASSISTANT PROFESSOR  ELECTRONICS AND COMMUNICATION ENGINEERING
(883)   TARUN KUMAR RAWAT  ASSOCIATE PROFESSOR  ELECTRONICS AND COMMUNICATION ENGINEERING
(884)   TARUN KUMAR RAWAT  ASSOCIATE PROFESSOR  ELECTRONICS AND COMMUNICATION ENGINEERING
(885)  Dr  ANAND GUPTA  ASSOCIATE PROFESSOR  COMPUTER ENGINEERING
(886)   SANJEEV KUMAR  INFORMATION TECHNOLOGY WEST 
(887)   ANURADHA TOMAR  ASSISTANT PROFESSOR  INSTRUMENTATION AND CONTROL ENGINEERING
(888)  Mr SHANTANU DAS  ASSISTANT PROFESSOR  MATHEMATICS
(889)  DR NEHA SAINI  ASSISTANT PROFESSOR  MANAGEMENT STUDIES
(890)   ANDRIYA NARASIMHULU  ASSISTANT PROFESSOR  MECHANICAL ENGINEERING
(891)  Mr LAMBODAR MISHRA  DATA PROCESSOR  EXAMINATION CELL
(892)   JYOTI YADAV  ASSISTANT PROFESSOR  INSTRUMENTATION AND CONTROL ENGINEERING
(893)   KHUSHIL KUMAR SAINI  COORDINATOR  UNIVERSITY MANAGEMENT CENTRE  CENTRAL COMPUTER CENTER
(894)   KHUSHIL KUMAR SAINI  COORDINATOR  UNIVERSITY MANAGEMENT CENTRE  CENTRAL COMPUTER CENTER
(895)   KHUSHIL KUMAR SAINI  COORDINATOR  UNIVERSITY MANAGEMENT CENTRE  CENTRAL COMPUTER CENTER
(896)  Dr  PREETI KAUR  ASSOCIATE PROFESSOR  COMPUTER ENGINEERING
(897)  Dr  ANAND GUPTA  ASSOCIATE PROFESSOR  COMPUTER ENGINEERING
(898)  Dr  ANAND GUPTA  ASSOCIATE PROFESSOR  COMPUTER ENGINEERING
(899)  Dr  ANAND GUPTA  ASSOCIATE PROFESSOR  COMPUTER ENGINEERING
(900)  Dr  ANAND GUPTA  ASSOCIATE PROFESSOR  COMPUTER ENGINEERING
(901)  Dr  ANAND GUPTA  ASSOCIATE PROFESSOR  COMPUTER ENGINEERING
(902)  Dr  ANAND GUPTA  ASSOCIATE PROFESSOR  COMPUTER ENGINEERING
(903)   MANISHA KHULBE  ASSISTANT PROFESSOR  ELECTRONICS AND COMMUNICATION ENGINEERING EAST 
(904)   PINAKI CHAKRABORTY  ASSISTANT PROFESSOR  COMPUTER SCIENCE AND ENGINEERING
(905)   DEVENDER KUMAR  ASSOCIATE PROFESSOR  INFORMATION TECHNOLOGY
(906)  Mrs MAHESHWARI CHANDRA  SECTION OFFICER  ACADEMIC SECTION
(907)  Dr  RAVINDER SINGH  ASSISTANT PROFESSOR  ELECTRICAL ENGINEERING
(908)   KHUSHIL KUMAR SAINI  COORDINATOR  UNIVERSITY MANAGEMENT CENTRE  CENTRAL COMPUTER CENTER
(909)  Dr  ANKIT KUMAR SINGH  ASSISTANT PROFESSOR  ELECTRICAL ENGINEERING
(910)   ALOK AGRAWAL  ASSISTANT PROFESSOR  INSTRUMENTATION AND CONTROL ENGINEERING
(911)  Mrs MAHESHWARI CHANDRA  SECTION OFFICER  ACADEMIC SECTION
(912)   SHILPA SHARMA  PRACTICAL INSTRUCTOR  BIO TECHNOLOGY
(913)   VINAMRITA SINGH  ASSISTANT PROFESSOR  EAST CAMPUS
(914)  PROF SHREE PRAKASH SINGH  CHIEF WARDEN  HOSTEL
(915)   ANURADHA TOMAR  ASSISTANT PROFESSOR  INSTRUMENTATION AND CONTROL ENGINEERING
(916)  DR POONAM RANI  ASSOCIATE PROFESSOR  COMPUTER SCIENCE AND ENGINEERING
(917)   KHUSHIL KUMAR SAINI  COORDINATOR  UNIVERSITY MANAGEMENT CENTRE  CENTRAL COMPUTER CENTER
(918)  DR ANKITA JAIN BANSAL  ASSISTANT PROFESSOR  INFORMATION TECHNOLOGY
(919)  Dr  SUJATA SENGAR  DEAN ACADEMICS  ACADEMIC SECTION
(920)   SANJEEV KUMAR  INFORMATION TECHNOLOGY WEST 
(921)  Dr AMITA JAIN  COMPUTER SCIENCE AND ENGINEERING EAST 
(922)   YATENDER KUMAR  ASSISTANT PROFESSOR  BIOLOGICAL SCIENCES AND ENGINEERING
(923)  DR NEHA SAINI  ASSISTANT PROFESSOR  MANAGEMENT STUDIES
(924)   KHUSHIL KUMAR SAINI  COORDINATOR  UNIVERSITY MANAGEMENT CENTRE  CENTRAL COMPUTER CENTER
(925)  Mr LAMBODAR MISHRA  DATA PROCESSOR  EXAMINATION CELL
(926)  Mr SHYAM SINGH  GRADUATE CLERK  CENTRAL COMPUTER CENTER
(927)   ANKIT GARG  ASSISTANT PROFESSOR  ELECTRONICS AND COMMUNICATION ENGINEERING
(928)   KHUSHIL KUMAR SAINI  COORDINATOR  UNIVERSITY MANAGEMENT CENTRE  CENTRAL COMPUTER CENTER
(929)   VIVEK KUMAR  ASSISTANT PROFESSOR  MECHANICAL ENGINEERING
(930)   VANDANA BHATIA  ASSISTANT PROFESSOR  COMPUTER SCIENCE AND ENGINEERING
(931)  Dr  RAVINDER SINGH  ASSISTANT PROFESSOR  ELECTRICAL ENGINEERING
(932)  Mr  JAI PRAKASH SHARMA  UDC  ACCOUNTS SECTION
(933)   JYOTI YADAV  ASSISTANT PROFESSOR  INSTRUMENTATION AND CONTROL ENGINEERING
(934)  Dr  ADITYA KUMAR  ASSOCIATE PROFESSOR  MECHANICAL ENGINEERING
(935)  DR NEHA SAINI  ASSISTANT PROFESSOR  MANAGEMENT STUDIES
(936)  DR TANUSHREE CHOUDHARY  HOD  HUMANITIES AND SOCIAL SCIENCES
(937)   ANURADHA TOMAR  ASSISTANT PROFESSOR  INSTRUMENTATION AND CONTROL ENGINEERING
(938)   ANURADHA TOMAR  ASSISTANT PROFESSOR  INSTRUMENTATION AND CONTROL ENGINEERING
(939)  DR NEHA SAINI  ASSISTANT PROFESSOR  MANAGEMENT STUDIES
(940)   V S K V HARISH  ASSISTANT PROFESSOR  ELECTRICAL ENGINEERING
(941)   V S K V HARISH  ASSISTANT PROFESSOR  ELECTRICAL ENGINEERING
(942)  Mrs MAHESHWARI CHANDRA  SECTION OFFICER  ACADEMIC SECTION
(943)  Dr  RAVINDER SINGH  ASSISTANT PROFESSOR  ELECTRICAL ENGINEERING
(944)   VIJAY KUMAR BOHAT  COMPUTER SCIENCE AND ENGINEERING
(945)  Dr  ANKIT KUMAR SINGH  ASSISTANT PROFESSOR  ELECTRICAL ENGINEERING
(946)   ANURADHA TOMAR  ASSISTANT PROFESSOR  INSTRUMENTATION AND CONTROL ENGINEERING
(947)  Mrs MAHESHWARI CHANDRA  SECTION OFFICER  ACADEMIC SECTION
(948)  Mrs MAHESHWARI CHANDRA  ACADEMIC SECTION
(949)  Mr LAMBODAR MISHRA  DATA PROCESSOR  EXAMINATION CELL
(950)   YATENDER KUMAR  ASSISTANT PROFESSOR  BIO TECHNOLOGY
(951)   RENU GHOSH  MANAGEMENT STUDIES
(952)  Mr SHYAM SINGH  GRADUATE CLERK  CENTRAL COMPUTER CENTER
(953)   TARUN KUMAR RAWAT  ASSOCIATE PROFESSOR  ELECTRONICS AND COMMUNICATION ENGINEERING
(954)   TARUN KUMAR RAWAT  ASSOCIATE PROFESSOR  ELECTRONICS AND COMMUNICATION ENGINEERING
(955)   V S K V HARISH  ASSISTANT PROFESSOR  ELECTRICAL ENGINEERING
(956)   KHUSHIL KUMAR SAINI  COORDINATOR  UNIVERSITY MANAGEMENT CENTRE  CENTRAL COMPUTER CENTER
(957)  Mr LAMBODAR MISHRA  DATA PROCESSOR  EXAMINATION CELL
(958)  Dr AMITA JAIN  COMPUTER SCIENCE AND ENGINEERING EAST 
(959)  DR TANUSHREE CHOUDHARY  HOD  HUMANITIES AND SOCIAL SCIENCES
(960)  Mrs MAHESHWARI CHANDRA  SECTION OFFICER  ACADEMIC SECTION
(961)   RENU GHOSH  ASSISTANT PROFESSOR  MANAGEMENT STUDIES
(962)  Mrs MAHESHWARI CHANDRA  SECTION OFFICER  ACADEMIC SECTION
(963)   AMIT SINGHAL  ELECTRONICS AND COMMUNICATION ENGINEERING
(964)   V S K V HARISH  ASSISTANT PROFESSOR  ELECTRICAL ENGINEERING
(965)   SAMIR GOKARN  INSTRUCTOR  MANAGEMENT STUDIES
(966)  Ms  ANJANA  LIBRARY INFORMATION ASSISTANT  LIBRARY
(967)   AMIT SINGHAL  INSTRUCTOR  ELECTRONICS AND COMMUNICATION ENGINEERING
(968)   AMIT SINGHAL  INSTRUCTOR  ELECTRONICS AND COMMUNICATION ENGINEERING
(969)  Mrs MAHESHWARI CHANDRA  SECTION OFFICER  ACADEMIC SECTION
(970)  Dr  ANAND GUPTA  ASSOCIATE PROFESSOR  COMPUTER ENGINEERING
(971)   KHUSHIL KUMAR SAINI  COORDINATOR  UNIVERSITY MANAGEMENT CENTRE  CENTRAL COMPUTER CENTER
(972)   ABHINAV TOMAR  ASSISTANT PROFESSOR  COMPUTER SCIENCE AND ENGINEERING
(973)   ABHINAV TOMAR  ASSISTANT PROFESSOR  COMPUTER SCIENCE AND ENGINEERING
(974)   ANKIT GARG  ASSISTANT PROFESSOR  ELECTRONICS AND COMMUNICATION ENGINEERING
(975)   ANKIT GARG  ASSISTANT PROFESSOR  ELECTRONICS AND COMMUNICATION ENGINEERING
(976)  Dr  ANAND GUPTA  ASSOCIATE PROFESSOR  COMPUTER ENGINEERING
(977)  Dr  ANAND GUPTA  ASSOCIATE PROFESSOR  COMPUTER ENGINEERING
(978)  Dr PRAVEEN SAROHA  OFFICER INCHARGE  PHYSICAL EDUCATION
(979)  Dr  ANKIT KUMAR SINGH  ASSISTANT PROFESSOR  ELECTRICAL ENGINEERING
(980)  Dr  ARJUN TYAGI  ASSISTANT PROFESSOR  ELECTRICAL ENGINEERING
(981)  Dr  ARJUN TYAGI  ASSISTANT PROFESSOR  ELECTRICAL ENGINEERING
(982)   VIVEK KUMAR  ASSISTANT PROFESSOR  MECHANICAL ENGINEERING
(983)   VIVEK KUMAR  ASSISTANT PROFESSOR  MECHANICAL ENGINEERING
(984)   VINAY PANWAR  ASSISTANT PROFESSOR  MECHANICAL ENGINEERING
(985)   VINAY PANWAR  ASSISTANT PROFESSOR  MECHANICAL ENGINEERING
(986)  Dr  GAURAV SINGAL  ASSISTANT PROFESSOR  COMPUTER SCIENCE AND ENGINEERING
(987)  Dr SIMRAN JEET SINGH  ASSISTANT PROFESSOR  MECHANICAL ENGINEERING
(988)  Dr SIMRAN JEET SINGH  ASSISTANT PROFESSOR  MECHANICAL ENGINEERING
(989)  Mrs MAHESHWARI CHANDRA  SECTION OFFICER  ACADEMIC SECTION
(990)  Mrs MAHESHWARI CHANDRA  SECTION OFFICER  ACADEMIC SECTION
(991)   NAVEEN SHARMA  ASSISTANT PROFESSOR  MECHANICAL ENGINEERING
(992)   NAVEEN SHARMA  ASSISTANT PROFESSOR  MECHANICAL ENGINEERING
(993)  Dr PRAVEEN SAROHA  UNIVERSITY COORDINATOR NSS  PHYSICAL EDUCATION
(994)  Dr AMITA JAIN  COMPUTER SCIENCE AND ENGINEERING EAST 
(995)   TARUN KUMAR RAWAT  ASSOCIATE PROFESSOR  ELECTRONICS AND COMMUNICATION ENGINEERING
(996)  Mrs MAHESHWARI CHANDRA  SECTION OFFICER  ACADEMIC SECTION
(997)  Mrs MAHESHWARI CHANDRA  SECTION OFFICER  ACADEMIC SECTION
(998)  Mrs MAHESHWARI CHANDRA  SECTION OFFICER  ACADEMIC SECTION
(999)   SHASHI PRAKASH  ASSISTANT PROFESSOR  MECHANICAL ENGINEERING
(1000)   SHASHI PRAKASH  ASSISTANT PROFESSOR  MECHANICAL ENGINEERING
(1001)  Dr  ADITYA KUMAR  ASSOCIATE PROFESSOR  MECHANICAL ENGINEERING
(1002)  Mr SHYAM SINGH  GRADUATE CLERK  CENTRAL COMPUTER CENTER
(1003)  Dr  ANKIT KUMAR SINGH  ASSISTANT PROFESSOR  ELECTRICAL ENGINEERING
(1004)  Mrs MAHESHWARI CHANDRA  SECTION OFFICER  ACADEMIC SECTION
(1005)  Mrs MAHESHWARI CHANDRA  ACADEMIC SECTION
(1006)  Mrs MAHESHWARI CHANDRA  SECTION OFFICER  ACADEMIC SECTION
(1007)  Mrs MAHESHWARI CHANDRA  SECTION OFFICER  ACADEMIC SECTION
(1008)  Mrs MAHESHWARI CHANDRA  SECTION OFFICER  ACADEMIC SECTION
(1009)  Dr  ARJUN TYAGI  ASSISTANT PROFESSOR  ELECTRICAL ENGINEERING
(1010)  Dr  ARJUN TYAGI  ASSISTANT PROFESSOR  ELECTRICAL ENGINEERING
(1011)   RENU GHOSH  ASSISTANT PROFESSOR  MANAGEMENT STUDIES
(1012)  Dr PRAVEEN SAROHA  UNIVERSITY COORDINATOR NSS  PHYSICAL EDUCATION
(1013)  Dr AMITA JAIN  COMPUTER SCIENCE AND ENGINEERING EAST 
(1014)  Dr  ADITYA KUMAR  ASSOCIATE PROFESSOR  MECHANICAL ENGINEERING
(1015)  Dr  ADITYA KUMAR  ASSOCIATE PROFESSOR  MANUFACTURING PROCESSES AND AUTOMATION ENGINEERING
(1016)   KHUSHIL KUMAR SAINI  COORDINATOR  UNIVERSITY MANAGEMENT CENTRE  CENTRAL COMPUTER CENTER
(1017)   SHILPA SHARMA  ASSISTANT PROFESSOR  BIO TECHNOLOGY
(1018)   SHILPA SHARMA  ASSISTANT PROFESSOR  BIO TECHNOLOGY
(1019)  Mrs MAHESHWARI CHANDRA  SECTION OFFICER  ACADEMIC SECTION
(1020)   SHILPA SHARMA  OFFICER INCHARGE  APPLIED MICROBIOLOGY AND NANOTECHNOLOGY LAB  BIO TECHNOLOGY
(1021)  Dr AMITA JAIN  COMPUTER SCIENCE AND ENGINEERING EAST 
(1022)  Dr AMITA JAIN  COMPUTER SCIENCE AND ENGINEERING EAST 
(1023)   ANURADHA TOMAR  ASSISTANT PROFESSOR  INSTRUMENTATION AND CONTROL ENGINEERING
(1024)   ANURADHA TOMAR  ASSISTANT PROFESSOR  INSTRUMENTATION AND CONTROL ENGINEERING
(1025)   MANISHA KHULBE  ASSISTANT PROFESSOR  ELECTRONICS AND COMMUNICATION ENGINEERING EAST 
(1026)   TARUN KUMAR RAWAT  ASSOCIATE PROFESSOR  ELECTRONICS AND COMMUNICATION ENGINEERING
(1027)  DR POONAM RANI  ASSOCIATE PROFESSOR  COMPUTER SCIENCE AND ENGINEERING
(1028)  DR ANKITA JAIN BANSAL  ASSISTANT PROFESSOR  INFORMATION TECHNOLOGY
(1029)  DR POONAM RANI  ASSOCIATE PROFESSOR  COMPUTER SCIENCE AND ENGINEERING
(1030)   AMIT SINGHAL  INSTRUCTOR  ELECTRONICS AND COMMUNICATION ENGINEERING
(1031)   AMIT SINGHAL  INSTRUCTOR  ELECTRONICS AND COMMUNICATION ENGINEERING
(1032)  Dr PRAVEEN SAROHA  OFFICER INCHARGE  PHYSICAL EDUCATION
(1033)  Mr  JAI PRAKASH SHARMA  UDC  ACCOUNTS SECTION
(1034)   ANURADHA TOMAR  ASSISTANT PROFESSOR  INSTRUMENTATION AND CONTROL ENGINEERING
(1035)   ANURADHA TOMAR  ASSISTANT PROFESSOR  INSTRUMENTATION AND CONTROL ENGINEERING
(1036)  Mr LAMBODAR MISHRA  DATA PROCESSOR  EXAMINATION CELL
(1037)   ANURADHA TOMAR  ASSISTANT PROFESSOR  INSTRUMENTATION AND CONTROL ENGINEERING
(1038)   ANURADHA TOMAR  ASSISTANT PROFESSOR  INSTRUMENTATION AND CONTROL ENGINEERING
(1039)   V S K V HARISH  ASSISTANT PROFESSOR  ELECTRICAL ENGINEERING
(1040)   V S K V HARISH  ASSISTANT PROFESSOR  ELECTRICAL ENGINEERING
(1041)  Dr  A  V  MULEY  MANUFACTURING PROCESSES AND AUTOMATION ENGINEERING
(1042)  Dr  ADITYA KUMAR  ASSOCIATE PROFESSOR  MANUFACTURING PROCESSES AND AUTOMATION ENGINEERING
(1043)   NEERAJ GOEL  ASSISTANT PROFESSOR  ELECTRONICS AND COMMUNICATION ENGINEERING
(1044)   NEERAJ GOEL  ASSISTANT PROFESSOR  ELECTRONICS AND COMMUNICATION ENGINEERING
(1045)  Dr  GAURAV SINGAL  INSTRUCTOR  COMPUTER SCIENCE AND ENGINEERING
(1046)  Dr  RAVINDER SINGH  ASSISTANT PROFESSOR  ELECTRICAL ENGINEERING
(1047)  Dr  RAVINDER SINGH  ASSISTANT PROFESSOR  ELECTRICAL ENGINEERING
(1048)   TARUN KUMAR RAWAT  ASSOCIATE PROFESSOR  ELECTRONICS AND COMMUNICATION ENGINEERING
(1049)   NAZRUL ISLAM KHAN  ASSISTANT PROFESSOR  MECHANICAL ENGINEERING
(1050)  Dr  SUJATA SENGAR  DEAN ACADEMICS  ACADEMIC SECTION
(1051)   JYOTI YADAV  ASSISTANT PROFESSOR  INSTRUMENTATION AND CONTROL ENGINEERING
(1052)  Mr LAMBODAR MISHRA  DATA PROCESSOR  EXAMINATION CELL
(1053)  DR NEHA SAINI  ASSISTANT PROFESSOR  MANAGEMENT STUDIES
(1054)  Dr  ANAND GUPTA  ASSOCIATE PROFESSOR  COMPUTER ENGINEERING
(1055)  Dr  ANKIT KUMAR SINGH  ASSISTANT PROFESSOR  ELECTRICAL ENGINEERING
(1056)  Mr  MANISH KUMAR SINGHAL  CHIEF EXECUTIVE OFFICER  NSUT IIF
(1057)  Mr LAMBODAR MISHRA  DATA PROCESSOR  EXAMINATION CELL
(1058)  Dr  ARJUN TYAGI  ASSISTANT PROFESSOR  ELECTRICAL ENGINEERING
(1059)  Dr  ARJUN TYAGI  ASSISTANT PROFESSOR  ELECTRICAL ENGINEERING
(1060)   ANKIT GARG  ASSISTANT PROFESSOR  ELECTRONICS AND COMMUNICATION ENGINEERING
(1061)   ANKIT GARG  ASSISTANT PROFESSOR  ELECTRONICS AND COMMUNICATION ENGINEERING
(1062)   SACHIN SHARMA  ASSISTANT PROFESSOR  MATHEMATICS
(1063)  Mr LAMBODAR MISHRA  DATA PROCESSOR  EXAMINATION CELL
(1064)  DR SATYA PRAKASH SINGH  ASSOCIATE PROFESSOR  ELECTRONICS AND COMMUNICATION ENGINEERING
(1065)  DR SATYA PRAKASH SINGH  ASSOCIATE PROFESSOR  ELECTRONICS AND COMMUNICATION ENGINEERING
(1066)  Dr PRAVEEN SAROHA  UNIVERSITY COORDINATOR NSS  PHYSICAL EDUCATION
(1067)   ABHINAV TOMAR  ASSISTANT PROFESSOR  COMPUTER SCIENCE AND ENGINEERING
(1068)   SHIKSHA KUSHWAH  ASSISTANT PROFESSOR  MANAGEMENT STUDIES
(1069)  Mr LAMBODAR MISHRA  DATA PROCESSOR  EXAMINATION CELL
(1070)   NAVEEN SHARMA  ASSISTANT PROFESSOR  MECHANICAL ENGINEERING
(1071)   NAVEEN SHARMA  ASSISTANT PROFESSOR  MECHANICAL ENGINEERING
(1072)   VIJAY KUMAR BOHAT  ASSISTANT PROFESSOR  COMPUTER SCIENCE AND ENGINEERING
(1073)   PRADEEP KUMAR DESWAL  EXECUTIVE ENGINEER  ENGINEERING CELL
(1074)  Mr LAMBODAR MISHRA  DATA PROCESSOR  EXAMINATION CELL
(1075)  Dr PRAVEEN SAROHA  UNIVERSITY COORDINATOR NSS  PHYSICAL EDUCATION
(1076)   VIVEK KUMAR  ASSISTANT PROFESSOR  MECHANICAL ENGINEERING
(1077)   VIVEK KUMAR  ASSISTANT PROFESSOR  MECHANICAL ENGINEERING
(1078)   VINAY PANWAR  ASSISTANT PROFESSOR  MECHANICAL ENGINEERING
(1079)   VINAY PANWAR  ASSISTANT PROFESSOR  MECHANICAL ENGINEERING
(1080)  Dr SIMRAN JEET SINGH  ASSISTANT PROFESSOR  MECHANICAL ENGINEERING
(1081)  Dr SIMRAN JEET SINGH  ASSISTANT PROFESSOR  MECHANICAL ENGINEERING
(1082)   SHASHI PRAKASH  ASSISTANT PROFESSOR  MECHANICAL ENGINEERING
(1083)   SHASHI PRAKASH  ASSISTANT PROFESSOR  MECHANICAL ENGINEERING
(1084)  Mrs MAHESHWARI CHANDRA  SECTION OFFICER  ACADEMIC SECTION
(1085)  Mr LAMBODAR MISHRA  ACADEMIC SECTION
(1086)   PINAKI CHAKRABORTY  ASSISTANT PROFESSOR  COMPUTER ENGINEERING
(1087)   RENU GHOSH  ASSISTANT PROFESSOR  MANAGEMENT STUDIES
(1088)  b All the students of ECE  6th Semester  Section II  may see evaluated end semester copies of RF and Microwave Engineering Course  ECECC20  at 4 pm in Room No  101 IV  Microwave Engineering  on 10 06 2022  Friday   br   font size  1   br    DHARMENDRA KU UPADHYAY  INSTRUCTOR  ELECTRONICS AND COMMUNICATION ENGINEERING  b   font 
(1089)   DHARMENDRA KU UPADHYAY  INSTRUCTOR  ELECTRONICS AND COMMUNICATION ENGINEERING
(1090)  b All the students of ECE  4th Semester  Section II  may see evaluated end semester copies of Electromagnetics Course  ECECC10  at 11 am in Room No  101 IV  Microwave Engineering Lab  on 10 06 2022  Friday   br   font size  1   br    DHARMENDRA KU UPADHYAY  INSTRUCTOR  ELECTRONICS AND COMMUNICATION ENGINEERING  b   font 
(1091)   DHARMENDRA KU UPADHYAY  INSTRUCTOR  ELECTRONICS AND COMMUNICATION ENGINEERING
(1092)  Mrs MAHESHWARI CHANDRA  SECTION OFFICER  ACADEMIC SECTION
(1093)  Mr LAMBODAR MISHRA  DATA PROCESSOR  EXAMINATION CELL
(1094)  Mrs TARUNA TIWARI  ACADEMIC SECTION
(1095)  Mrs MAHESHWARI CHANDRA  SECTION OFFICER  ACADEMIC SECTION
(1096)  Mrs MAHESHWARI CHANDRA  SECTION OFFICER  ACADEMIC SECTION
(1097)   SAMIR GOKARN  INSTRUCTOR  MANAGEMENT STUDIES
(1098)  Mr LAMBODAR MISHRA  DATA PROCESSOR  EXAMINATION CELL
(1099)  Mrs MAHESHWARI CHANDRA  SECTION OFFICER  ACADEMIC SECTION
(1100)  Mrs MAHESHWARI CHANDRA  SECTION OFFICER  ACADEMIC SECTION
(1101)  Dr  SUJATA SENGAR  OFFICER INCHARGE  ACADEMIC SECTION
(1102)  Dr  SUJATA SENGAR  OFFICER INCHARGE  ACADEMIC SECTION
(1103)   KHUSHIL KUMAR SAINI  COORDINATOR  UNIVERSITY MANAGEMENT CENTRE  CENTRAL COMPUTER CENTER
(1104)   KHUSHIL KUMAR SAINI  COORDINATOR  UNIVERSITY MANAGEMENT CENTRE  CENTRAL COMPUTER CENTER
(1105)  Mrs TARUNA TIWARI  ACADEMIC SECTION
(1106)  PROF SHREE PRAKASH SINGH  HOSTEL WARDEN  RAMANUJAN  HOSTEL
(1107)  Mr LAMBODAR MISHRA  DATA PROCESSOR  EXAMINATION CELL
(1108)   BIJENDRA KUMAR  HOD  COMPUTER ENGINEERING
(1109)  Dr  SUJATA SENGAR  OFFICER INCHARGE  ACADEMIC SECTION
(1110)  Dr  SUJATA SENGAR  DEAN ACADEMICS  ACADEMIC SECTION
(1111)  Mr LAMBODAR MISHRA  DATA PROCESSOR  EXAMINATION CELL
(1112)  Dr AKHILESH DUBEY  OFFICER INCHARGE  BIO TECHNOLOGY
(1113)  Dr AKHILESH DUBEY  OFFICER INCHARGE  BIO TECHNOLOGY
(1114)  Mr LAMBODAR MISHRA  DATA PROCESSOR  EXAMINATION CELL
(1115)  DR NEHA SAINI  ASSISTANT PROFESSOR  MANAGEMENT STUDIES
(1116)  Mrs MAHESHWARI CHANDRA  SECTION OFFICER  ACADEMIC SECTION
(1117)  Mr LAMBODAR MISHRA  DATA PROCESSOR  EXAMINATION CELL
(1118)  Dr PRAVEEN SAROHA  OFFICER INCHARGE  PHYSICAL EDUCATION
(1119)  Mrs MAHESHWARI CHANDRA  SECTION OFFICER  ACADEMIC SECTION
(1120)  Mr LAMBODAR MISHRA  DATA PROCESSOR  ACADEMIC SECTION
(1121)  Mr LAMBODAR MISHRA  DATA PROCESSOR  ACADEMIC SECTION
(1122)  Mr LAMBODAR MISHRA  DATA PROCESSOR  ACADEMIC SECTION
(1123)  Mr LAMBODAR MISHRA  DATA PROCESSOR  ACADEMIC SECTION
(1124)  Mr SHYAM SINGH  GRADUATE CLERK  CENTRAL COMPUTER CENTER
(1125)  Mr LAMBODAR MISHRA  DATA PROCESSOR  ACADEMIC SECTION
(1126)  Mr LAMBODAR MISHRA  DATA PROCESSOR  EXAMINATION CELL
(1127)   KHUSHIL KUMAR SAINI  COORDINATOR  UNIVERSITY MANAGEMENT CENTRE  CENTRAL COMPUTER CENTER
(1128)  PROF SHREE PRAKASH SINGH  OFFICER INCHARGE  OPTICAL AND COMMUNICATION RESEARCH  A V SYSTEM LAB  ELECTRONICS AND COMMUNICATION ENGINEERING
(1129)   PRADEEP KUMAR DESWAL  EXECUTIVE ENGINEER  ENGINEERING CELL
(1130)   AASTHA VERMA  ASSISTANT PROFESSOR  MANAGEMENT STUDIES
(1131)   KUNWAR SINGH  PRACTICAL SUPERINTENDENT  ELECTRONICS AND COMMUNICATION ENGINEERING
(1132)   DEVENDER KUMAR  ASSOCIATE PROFESSOR  INFORMATION TECHNOLOGY
(1133)   ANDRIYA NARASIMHULU  ASSISTANT PROFESSOR  MECHANICAL ENGINEERING
(1134)   KUNWAR SINGH  ELECTRONICS AND COMMUNICATION ENGINEERING
(1135)   SHILPA SHARMA  ASSISTANT PROFESSOR  BIO TECHNOLOGY
(1136)   RAVINDER KUMAR  DEAN STUDENT WELFARE OFFICE
(1137)  Mr LAMBODAR MISHRA  DATA PROCESSOR  EXAMINATION CELL
(1138)  DR PRABHAT KUMAR CHOUDHARY  ASSISTANT LIBRARIAN  LIBRARY
(1139)   NAZRUL ISLAM KHAN  ASSISTANT PROFESSOR  MECHANICAL ENGINEERING WEST 
(1140)   SHILPA SHARMA  PRACTICAL INSTRUCTOR  BIO TECHNOLOGY
(1141)   KHUSHIL KUMAR SAINI  COORDINATOR  UNIVERSITY MANAGEMENT CENTRE  CENTRAL COMPUTER CENTER
(1142)  Mrs MAHESHWARI CHANDRA  SECTION OFFICER  ACADEMIC SECTION
(1143)   ALOK AGRAWAL  ASSISTANT PROFESSOR  INSTRUMENTATION AND CONTROL ENGINEERING
(1144)  PROF SHREE PRAKASH SINGH  CHIEF WARDEN  HOSTEL
(1145)   SOUMYA SASMAL  BIOLOGICAL SCIENCES AND ENGINEERING
(1146)  Mr LAMBODAR MISHRA  DATA PROCESSOR  EXAMINATION CELL
(1147)  Mr LAMBODAR MISHRA  DATA PROCESSOR  EXAMINATION CELL
(1148)   ANDRIYA NARASIMHULU  ASSISTANT PROFESSOR  MECHANICAL ENGINEERING
(1149)  Mrs MAHESHWARI CHANDRA  SECTION OFFICER  ACADEMIC SECTION
(1150)  Dr  SUJATA SENGAR  ACADEMIC SECTION
(1151)  Dr  SUJATA SENGAR  DEAN ACADEMICS  ACADEMIC SECTION
(1152)  Mrs MAHESHWARI CHANDRA  SECTION OFFICER  ACADEMIC SECTION
(1153)   KHUSHIL KUMAR SAINI  COORDINATOR  UNIVERSITY MANAGEMENT CENTRE  CENTRAL COMPUTER CENTER
(1154)   KHUSHIL KUMAR SAINI  COORDINATOR  UNIVERSITY MANAGEMENT CENTRE  CENTRAL COMPUTER CENTER
(1155)  Mrs MAHESHWARI CHANDRA  SECTION OFFICER  ACADEMIC SECTION
(1156)  PROF SHREE PRAKASH SINGH  HOSTEL WARDEN  RAMANUJAN  HOSTEL
(1157)  Mrs MAHESHWARI CHANDRA  SECTION OFFICER  ACADEMIC SECTION
(1158)  Mr LAMBODAR MISHRA  DATA PROCESSOR  EXAMINATION CELL
(1159)   AASTHA VERMA  ASSISTANT PROFESSOR  MANAGEMENT STUDIES
(1160)   AASTHA VERMA  ASSISTANT PROFESSOR  MANAGEMENT STUDIES
(1161)  Mr LAMBODAR MISHRA  DATA PROCESSOR  EXAMINATION CELL
(1162)   AASTHA VERMA  ASSISTANT PROFESSOR  MANAGEMENT STUDIES
(1163)  Mr LAMBODAR MISHRA  DATA PROCESSOR  EXAMINATION CELL
(1164)  Dr  ANAND GUPTA  ASSOCIATE PROFESSOR  COMPUTER ENGINEERING
(1165)   PINAKI CHAKRABORTY  ASSISTANT PROFESSOR  COMPUTER SCIENCE AND ENGINEERING
(1166)  Mr LAMBODAR MISHRA  DATA PROCESSOR  EXAMINATION CELL
(1167)  Mr LAMBODAR MISHRA  DATA PROCESSOR  EXAMINATION CELL
(1168)  Mr LAMBODAR MISHRA  DATA PROCESSOR  EXAMINATION CELL
(1169)   SHWETA GAUTAM  ASSISTANT PROFESSOR  ELECTRONICS AND COMMUNICATION ENGINEERING
(1170)  Prof  PRAGYA VARSHNEY  PROFESSOR  INSTRUMENTATION AND CONTROL ENGINEERING
(1171)  Mr LAMBODAR MISHRA  DATA PROCESSOR  EXAMINATION CELL
(1172)  Mr LAMBODAR MISHRA  DATA PROCESSOR  EXAMINATION CELL
(1173)  Mr LAMBODAR MISHRA  DATA PROCESSOR  EXAMINATION CELL
(1174)   KHUSHIL KUMAR SAINI  COORDINATOR  UNIVERSITY MANAGEMENT CENTRE  CENTRAL COMPUTER CENTER
(1175)   ALOK AGRAWAL  ASSISTANT PROFESSOR  INSTRUMENTATION AND CONTROL ENGINEERING
(1176)   PINAKI CHAKRABORTY  ASSISTANT PROFESSOR  COMPUTER SCIENCE AND ENGINEERING
(1177)   VINAMRITA SINGH  ASSISTANT PROFESSOR  EAST CAMPUS
(1178)  Mr LAMBODAR MISHRA  DATA PROCESSOR  EXAMINATION CELL
(1179)  Mr LAMBODAR MISHRA  DATA PROCESSOR  EXAMINATION CELL
(1180)   MANISHA KHULBE  ELECTRONICS AND COMMUNICATION ENGINEERING EAST 
(1181)   KHUSHIL KUMAR SAINI  COORDINATOR  UNIVERSITY MANAGEMENT CENTRE  CENTRAL COMPUTER CENTER
(1182)   KHUSHIL KUMAR SAINI  COORDINATOR  UNIVERSITY MANAGEMENT CENTRE  CENTRAL COMPUTER CENTER
(1183)  Mr LAMBODAR MISHRA  DATA PROCESSOR  EXAMINATION CELL
(1184)  Mr LAMBODAR MISHRA  DATA PROCESSOR  EXAMINATION CELL
(1185)  Mr LAMBODAR MISHRA  DATA PROCESSOR  EXAMINATION CELL
(1186)   AASTHA VERMA  ASSISTANT PROFESSOR  MANAGEMENT STUDIES
(1187)  Mr LAMBODAR MISHRA  DATA PROCESSOR  EXAMINATION CELL
(1188)  Mr LAMBODAR MISHRA  DATA PROCESSOR  EXAMINATION CELL
(1189)   KHUSHIL KUMAR SAINI  COORDINATOR  UNIVERSITY MANAGEMENT CENTRE  CENTRAL COMPUTER CENTER
(1190)   KHUSHIL KUMAR SAINI  COORDINATOR  UNIVERSITY MANAGEMENT CENTRE  CENTRAL COMPUTER CENTER
(1191)   SAMIR GOKARN  ASSISTANT PROFESSOR  MANAGEMENT STUDIES
(1192)  Mr LAMBODAR MISHRA  DATA PROCESSOR  EXAMINATION CELL
(1193)  Mr LAMBODAR MISHRA  DATA PROCESSOR  EXAMINATION CELL
(1194)  Mr LAMBODAR MISHRA  DATA PROCESSOR  EXAMINATION CELL
(1195)   ANOOP KUMAR SINGH  CARETAKER  ENGINEERING CELL
(1196)  Mr LAMBODAR MISHRA  DATA PROCESSOR  EXAMINATION CELL
(1197)  Mr LAMBODAR MISHRA  DATA PROCESSOR  EXAMINATION CELL
(1198)  DR NEHA SAINI  PRACTICAL INSTRUCTOR  MANAGEMENT STUDIES
(1199)  Mr LAMBODAR MISHRA  DATA PROCESSOR  EXAMINATION CELL
(1200)  Mrs MAHESHWARI CHANDRA  SECTION OFFICER  ACADEMIC SECTION
(1201)   MANISHA KHULBE  ASSISTANT PROFESSOR  ELECTRONICS AND COMMUNICATION ENGINEERING EAST 
(1202)  Mr LAMBODAR MISHRA  DATA PROCESSOR  EXAMINATION CELL
(1203)  Mr LAMBODAR MISHRA  DATA PROCESSOR  EXAMINATION CELL
(1204)  Mr LAMBODAR MISHRA  DATA PROCESSOR  EXAMINATION CELL
(1205)   ABHISHEK TEVATIA  ASSISTANT PROFESSOR  MANUFACTURING PROCESSES AND AUTOMATION ENGINEERING
(1206)  PROF SHREE PRAKASH SINGH  HOSTEL WARDEN  RAMANUJAN  HOSTEL
(1207)   ANOOP KUMAR SINGH  CARETAKER  ENGINEERING CELL
(1208)  Mrs MAHESHWARI CHANDRA  SECTION OFFICER  ACADEMIC SECTION
(1209)  Mrs MAHESHWARI CHANDRA  SECTION OFFICER  ACADEMIC SECTION
(1210)  Mrs MAHESHWARI CHANDRA  SECTION OFFICER  ACADEMIC SECTION
(1211)   RENU GHOSH  ASSISTANT PROFESSOR  MANAGEMENT STUDIES
(1212)   RENU GHOSH  ASSISTANT PROFESSOR  MANAGEMENT STUDIES
(1213)   NAZRUL ISLAM KHAN  ASSISTANT PROFESSOR  MECHANICAL ENGINEERING WEST 
(1214)  Mr LAMBODAR MISHRA  DATA PROCESSOR  EXAMINATION CELL
(1215)  Mr LAMBODAR MISHRA  DATA PROCESSOR  EXAMINATION CELL
(1216)  Mr LAMBODAR MISHRA  DATA PROCESSOR  EXAMINATION CELL
(1217)   MANISHA KHULBE  ASSISTANT PROFESSOR  ELECTRONICS AND COMMUNICATION ENGINEERING EAST 
(1218)  Mr LAMBODAR MISHRA  DATA PROCESSOR  EXAMINATION CELL
(1219)  Mrs MAHESHWARI CHANDRA  SECTION OFFICER  ACADEMIC SECTION
(1220)  Mrs MAHESHWARI CHANDRA  SECTION OFFICER  ACADEMIC SECTION
(1221)  Mrs MAHESHWARI CHANDRA  SECTION OFFICER  ACADEMIC SECTION
(1222)  Mrs MAHESHWARI CHANDRA  SECTION OFFICER  ACADEMIC SECTION
(1223)  Mrs MAHESHWARI CHANDRA  SECTION OFFICER  ACADEMIC SECTION
(1224)   KHUSHIL KUMAR SAINI  COORDINATOR  UNIVERSITY MANAGEMENT CENTRE  CENTRAL COMPUTER CENTER
(1225)   ATHAR HUSSAIN  HOD  CIVIL ENGINEERING
(1226)  PROF SHREE PRAKASH SINGH  CHIEF WARDEN  HOSTEL
(1227)  PROF SHREE PRAKASH SINGH  HOSTEL WARDEN  RAMANUJAN  HOSTEL
(1228)  Mr LAMBODAR MISHRA  DATA PROCESSOR  EXAMINATION CELL
(1229)  Mr LAMBODAR MISHRA  DATA PROCESSOR  ENGINEERING CELL
(1230)  Mr LAMBODAR MISHRA  DATA PROCESSOR  ENGINEERING CELL
(1231)   KHUSHIL KUMAR SAINI  COORDINATOR  UNIVERSITY MANAGEMENT CENTRE  CENTRAL COMPUTER CENTER
(1232)   KHUSHIL KUMAR SAINI  COORDINATOR  UNIVERSITY MANAGEMENT CENTRE  CENTRAL COMPUTER CENTER
(1233)  Mrs MAHESHWARI CHANDRA  SECTION OFFICER  ACADEMIC SECTION
(1234)  Mr LAMBODAR MISHRA  DATA PROCESSOR  EXAMINATION CELL
(1235)   RAVINDER KUMAR  DEAN STUDENT WELFARE OFFICE
(1236)  Dr PRAVEEN SAROHA  OFFICER INCHARGE  PHYSICAL EDUCATION
(1237)  Dr PRAVEEN SAROHA  OFFICER INCHARGE  PHYSICAL EDUCATION
(1238)  Dr AMITA JAIN  COMPUTER SCIENCE AND ENGINEERING EAST 
(1239)  Mr LAMBODAR MISHRA  DATA PROCESSOR  EXAMINATION CELL
(1240)  Mr LAMBODAR MISHRA  DATA PROCESSOR  EXAMINATION CELL
(1241)  Mrs MAHESHWARI CHANDRA  SECTION OFFICER  ACADEMIC SECTION
(1242)  Mrs MAHESHWARI CHANDRA  SECTION OFFICER  ACADEMIC SECTION
(1243)  Mrs MAHESHWARI CHANDRA  SECTION OFFICER  ACADEMIC SECTION
(1244)   SHILPA SHARMA  PRACTICAL INSTRUCTOR  BIOLOGICAL SCIENCES AND ENGINEERING
(1245)  Mr LAMBODAR MISHRA  DATA PROCESSOR  EXAMINATION CELL
(1246)  Mr LAMBODAR MISHRA  DATA PROCESSOR  EXAMINATION CELL
(1247)  Mrs MAHESHWARI CHANDRA  SECTION OFFICER  ACADEMIC SECTION
(1248)  PROF SHREE PRAKASH SINGH  HOSTEL WARDEN  RAMANUJAN  HOSTEL
(1249)  Mrs MAHESHWARI CHANDRA  SECTION OFFICER  ACADEMIC SECTION
(1250)  Mrs MAHESHWARI CHANDRA  SECTION OFFICER  ACADEMIC SECTION
(1251)  Dr  VINOD KUMAR  PRACTICAL INSTRUCTOR  PHYSICS
(1252)   NAVEEN SHARMA  ASSISTANT PROFESSOR  MECHANICAL ENGINEERING
(1253)  Mr SHANTANU DAS  ASSISTANT PROFESSOR  EAST CAMPUS
(1254)  Mrs MAHESHWARI CHANDRA  SECTION OFFICER  ACADEMIC SECTION
(1255)  Mr SHYAM SINGH  CENTRAL COMPUTER CENTER
(1256)   KUNWAR SINGH  PRACTICAL SUPERINTENDENT  ELECTRONICS AND COMMUNICATION ENGINEERING
(1257)   ALOK AGRAWAL  ASSISTANT PROFESSOR  INSTRUMENTATION AND CONTROL ENGINEERING
(1258)   KUNWAR SINGH  PRACTICAL SUPERINTENDENT  ELECTRONICS AND COMMUNICATION ENGINEERING
(1259)  Dr PRAVEEN SAROHA  UNIVERSITY COORDINATOR NSS  PHYSICAL EDUCATION
(1260)   RAVINDER KUMAR  DEAN STUDENT WELFARE OFFICE
(1261)  Mr LAMBODAR MISHRA  DATA PROCESSOR  EXAMINATION CELL
(1262)  DR TANUSHREE CHOUDHARY  HOD  HUMANITIES AND SOCIAL SCIENCES
(1263)   DEVENDER KUMAR  ASSOCIATE PROFESSOR  INFORMATION TECHNOLOGY
(1264)  Mr LAMBODAR MISHRA  DATA PROCESSOR  EXAMINATION CELL
(1265)  Dr  RAVINDER SINGH  ASSISTANT PROFESSOR  ELECTRICAL ENGINEERING
(1266)   C S VINITHA  ASSISTANT PROFESSOR  ELECTRONICS AND COMMUNICATION ENGINEERING EAST 
(1267)  Mr LAMBODAR MISHRA  DATA PROCESSOR  EXAMINATION CELL
(1268)  Mr LAMBODAR MISHRA  DATA PROCESSOR  EXAMINATION CELL
(1269)  Mrs MAHESHWARI CHANDRA  SECTION OFFICER  ACADEMIC SECTION
(1270)  Mrs MAHESHWARI CHANDRA  SECTION OFFICER  ACADEMIC SECTION
(1271)  Mrs MAHESHWARI CHANDRA  SECTION OFFICER  ACADEMIC SECTION
(1272)   SAMIR GOKARN  ASSISTANT PROFESSOR  MANAGEMENT STUDIES
(1273)   C S VINITHA  ASSISTANT PROFESSOR  ELECTRONICS AND COMMUNICATION ENGINEERING EAST 
(1274)   SHILPA SHARMA  PRACTICAL INSTRUCTOR  BIOLOGICAL SCIENCES AND ENGINEERING
(1275)  Mr SHANTANU DAS  ASSISTANT PROFESSOR  MATHEMATICS
(1276)  Dr PRAVEEN SAROHA  UNIVERSITY COORDINATOR NSS  PHYSICAL EDUCATION
(1277)  Dr PRAVEEN SAROHA  UNIVERSITY COORDINATOR NSS  PHYSICAL EDUCATION
(1278)   C S VINITHA  ASSISTANT PROFESSOR  ELECTRONICS AND COMMUNICATION ENGINEERING EAST 
(1279)  Dr PRAVEEN SAROHA  UNIVERSITY COORDINATOR NSS  PHYSICAL EDUCATION
(1280)  Mr LAMBODAR MISHRA  DATA PROCESSOR  EXAMINATION CELL
(1281)  DR POONAM RANI  ASSOCIATE PROFESSOR  COMPUTER SCIENCE AND ENGINEERING
(1282)   RENU GHOSH  ASSISTANT PROFESSOR  MANAGEMENT STUDIES
(1283)  Mr ARVIND KUMAR  ASSISTANT PROFESSOR  COMPUTER SCIENCE AND ENGINEERING EAST 
(1284)  Mr ARVIND KUMAR  ASSISTANT PROFESSOR  COMPUTER SCIENCE AND ENGINEERING EAST 
(1285)  Mr LAMBODAR MISHRA  DATA PROCESSOR  ENGINEERING CELL
(1286)  Dr PRAVEEN SAROHA  UNIVERSITY COORDINATOR NSS  PHYSICAL EDUCATION
(1287)   MANISHA KHULBE  ASSISTANT PROFESSOR  ELECTRONICS AND COMMUNICATION ENGINEERING EAST 
(1288)   PINAKI CHAKRABORTY  ASSISTANT PROFESSOR  COMPUTER SCIENCE AND ENGINEERING
(1289)   PINAKI CHAKRABORTY  ASSISTANT PROFESSOR  COMPUTER SCIENCE AND ENGINEERING
(1290)  Mrs MAHESHWARI CHANDRA  SECTION OFFICER  ACADEMIC SECTION
(1291)  Mr LAMBODAR MISHRA  DATA PROCESSOR  ENGINEERING CELL
(1292)  Mr LAMBODAR MISHRA  DATA PROCESSOR  EXAMINATION CELL
(1293)  Mrs MAHESHWARI CHANDRA  SECTION OFFICER  ACADEMIC SECTION
(1294)   ANDRIYA NARASIMHULU  ASSISTANT PROFESSOR  MECHANICAL ENGINEERING
(1295)   ANDRIYA NARASIMHULU  ASSISTANT PROFESSOR  MECHANICAL ENGINEERING
(1296)   C S VINITHA  ASSISTANT PROFESSOR  ELECTRONICS AND COMMUNICATION ENGINEERING EAST 
(1297)  Mrs MAHESHWARI CHANDRA  SECTION OFFICER  ACADEMIC SECTION
(1298)  Mrs MAHESHWARI CHANDRA  SECTION OFFICER  ACADEMIC SECTION
(1299)  Mrs MAHESHWARI CHANDRA  SECTION OFFICER  ACADEMIC SECTION
(1300)  Mrs MAHESHWARI CHANDRA  SECTION OFFICER  ACADEMIC SECTION
(1301)  Mrs MAHESHWARI CHANDRA  SECTION OFFICER  ACADEMIC SECTION
(1302)  Mr LAMBODAR MISHRA  DATA PROCESSOR  EXAMINATION CELL
(1303)   KUNWAR SINGH  PRACTICAL SUPERINTENDENT  ELECTRONICS AND COMMUNICATION ENGINEERING
(1304)  Mrs MAHESHWARI CHANDRA  SECTION OFFICER  ACADEMIC SECTION
(1305)  Mr  JAI PRAKASH SHARMA  UDC  ACCOUNTS SECTION
(1306)  Mr  JAI PRAKASH SHARMA  UDC  ACCOUNTS SECTION
(1307)  DR NEHA SAINI  ASSISTANT PROFESSOR  MANAGEMENT STUDIES
(1308)  Mrs MAHESHWARI CHANDRA  SECTION OFFICER  ACADEMIC SECTION
(1309)  Mrs MAHESHWARI CHANDRA  SECTION OFFICER  ACADEMIC SECTION
(1310)  Mrs MAHESHWARI CHANDRA  SECTION OFFICER  ACADEMIC SECTION
(1311)  Mr LAMBODAR MISHRA  DATA PROCESSOR  EXAMINATION CELL
(1312)  Mrs MAHESHWARI CHANDRA  SECTION OFFICER  ACADEMIC SECTION
(1313)  Mrs MAHESHWARI CHANDRA  SECTION OFFICER  ACADEMIC SECTION
(1314)  Mrs MAHESHWARI CHANDRA  SECTION OFFICER  ACADEMIC SECTION
(1315)  Dr PRAVEEN SAROHA  UNIVERSITY COORDINATOR NSS  PHYSICAL EDUCATION
(1316)  Dr AMITA JAIN  COMPUTER SCIENCE AND ENGINEERING EAST 
(1317)  Dr AMITA JAIN  COMPUTER SCIENCE AND ENGINEERING EAST 
(1318)  Dr PRAVEEN SAROHA  UNIVERSITY COORDINATOR NSS  PHYSICAL EDUCATION
(1319)  Mrs MAHESHWARI CHANDRA  SECTION OFFICER  ACADEMIC SECTION
(1320)  Dr PRAVEEN SAROHA  OFFICER INCHARGE  PHYSICAL EDUCATION
(1321)   SANJEEV KUMAR  WEST CAMPUS
(1322)   VINAMRITA SINGH  ASSISTANT PROFESSOR  EAST CAMPUS
(1323)   SANJEEV KUMAR  WEST CAMPUS
(1324)   DEVENDER KUMAR  ASSISTANT PROFESSOR  INFORMATION TECHNOLOGY
(1325)  Dr PRAVEEN SAROHA  UNIVERSITY COORDINATOR NSS  PHYSICAL EDUCATION
(1326)   KHUSHIL KUMAR SAINI  COORDINATOR  UNIVERSITY MANAGEMENT CENTRE  CENTRAL COMPUTER CENTER
(1327)   KHUSHIL KUMAR SAINI  COORDINATOR  UNIVERSITY MANAGEMENT CENTRE  CENTRAL COMPUTER CENTER
(1328)   KHUSHIL KUMAR SAINI  COORDINATOR  UNIVERSITY MANAGEMENT CENTRE  CENTRAL COMPUTER CENTER
(1329)   KHUSHIL KUMAR SAINI  COORDINATOR  UNIVERSITY MANAGEMENT CENTRE  CENTRAL COMPUTER CENTER
(1330)  Dr  SUJATA SENGAR  ACADEMIC SECTION
(1331)   BIJENDRA KUMAR  HOD  COMPUTER ENGINEERING
(1332)   PINAKI CHAKRABORTY  ASSISTANT PROFESSOR  COMPUTER SCIENCE AND ENGINEERING
(1333)  Dr  SUJATA SENGAR  ACADEMIC SECTION
(1334)  Mr LAMBODAR MISHRA  DATA PROCESSOR  EXAMINATION CELL
(1335)  Mr LAMBODAR MISHRA  DATA PROCESSOR  EXAMINATION CELL
(1336)  Mr LAMBODAR MISHRA  DATA PROCESSOR  EXAMINATION CELL
(1337)  Dr PRAVEEN SAROHA  UNIVERSITY COORDINATOR NSS  PHYSICAL EDUCATION
(1338)  Dr  SUJATA SENGAR  ACADEMIC SECTION
(1339)  Mr LAMBODAR MISHRA  DATA PROCESSOR  EXAMINATION CELL
(1340)  PROF SHREE PRAKASH SINGH  HOSTEL WARDEN  RAMANUJAN  HOSTEL
(1341)  Mr LAMBODAR MISHRA  DATA PROCESSOR  EXAMINATION CELL
(1342)  DR NEHA SAINI  ASSISTANT PROFESSOR  MANAGEMENT STUDIES
(1343)  Mr  JAI PRAKASH SHARMA  UDC  ACCOUNTS SECTION
(1344)  Dr  ANAND GUPTA  ASSOCIATE PROFESSOR  COMPUTER ENGINEERING
(1345)  Dr PRAVEEN SAROHA  UNIVERSITY COORDINATOR NSS  PHYSICAL EDUCATION
(1346)  PROF SHREE PRAKASH SINGH  HOSTEL WARDEN  RAMANUJAN  HOSTEL
(1347)   ANURADHA TOMAR  ASSISTANT PROFESSOR  INSTRUMENTATION AND CONTROL ENGINEERING
(1348)  Mrs MAHESHWARI CHANDRA  SECTION OFFICER  ACADEMIC SECTION
(1349)   AASTHA VERMA  ASSISTANT PROFESSOR  MANAGEMENT STUDIES
(1350)  Mrs MAHESHWARI CHANDRA  SECTION OFFICER  ACADEMIC SECTION
(1351)   V S K V HARISH  ASSISTANT PROFESSOR  ELECTRICAL ENGINEERING
(1352)   BIJENDRA KUMAR  HOD  COMPUTER ENGINEERING
(1353)  Mrs MAHESHWARI CHANDRA  SECTION OFFICER  ACADEMIC SECTION
(1354)   ALOK AGRAWAL  ASSISTANT PROFESSOR  INSTRUMENTATION AND CONTROL ENGINEERING
(1355)  Mrs MAHESHWARI CHANDRA  SECTION OFFICER  ACADEMIC SECTION
(1356)  Mrs MAHESHWARI CHANDRA  SECTION OFFICER  ACADEMIC SECTION
(1357)  Mrs MAHESHWARI CHANDRA  SECTION OFFICER  ACADEMIC SECTION
(1358)  Mrs MAHESHWARI CHANDRA  SECTION OFFICER  ACADEMIC SECTION
(1359)   KHUSHIL KUMAR SAINI  COORDINATOR  UNIVERSITY MANAGEMENT CENTRE  CENTRAL COMPUTER CENTER
(1360)   KHUSHIL KUMAR SAINI  COORDINATOR  UNIVERSITY MANAGEMENT CENTRE  CENTRAL COMPUTER CENTER
(1361)   KHUSHIL KUMAR SAINI  COORDINATOR  UNIVERSITY MANAGEMENT CENTRE  CENTRAL COMPUTER CENTER
(1362)   KHUSHIL KUMAR SAINI  COORDINATOR  UNIVERSITY MANAGEMENT CENTRE  CENTRAL COMPUTER CENTER
(1363)     CENTRAL COMPUTER CENTER
(1364)  Mr LAMBODAR MISHRA  ACADEMIC SECTION
(1365)  Mrs MAHESHWARI CHANDRA  SECTION OFFICER  ACADEMIC SECTION
(1366)  Mrs MAHESHWARI CHANDRA  SECTION OFFICER  ACADEMIC SECTION
(1367)  Mrs MAHESHWARI CHANDRA  SECTION OFFICER  ACADEMIC SECTION
(1368)  Dr PRAVEEN SAROHA  OFFICER INCHARGE  PHYSICAL EDUCATION
(1369)   SANJEEV KUMAR  WEST CAMPUS
(1370)  Mr LAMBODAR MISHRA  DATA PROCESSOR  EXAMINATION CELL
(1371)     CENTRAL COMPUTER CENTER
(1372)   ALOK AGRAWAL  ASSISTANT PROFESSOR  INSTRUMENTATION AND CONTROL ENGINEERING
(1373)  Mr LAMBODAR MISHRA  DATA PROCESSOR  EXAMINATION CELL
(1374)  Mr LAMBODAR MISHRA  DATA PROCESSOR  EXAMINATION CELL
(1375)   ABHISHEK TEVATIA  HOSTEL WARDEN  MANUFACTURING PROCESSES AND AUTOMATION ENGINEERING
(1376)   DURU ARUN KUMAR  MANAGEMENT STUDIES
(1377)  Dr  ANAND GUPTA  ASSOCIATE PROFESSOR  COMPUTER ENGINEERING
(1378)  Dr  ANAND GUPTA  ASSOCIATE PROFESSOR  COMPUTER ENGINEERING
(1379)  Dr PRAVEEN SAROHA  OFFICER INCHARGE  PHYSICAL EDUCATION
(1380)  Mrs MAHESHWARI CHANDRA  SECTION OFFICER  ACADEMIC SECTION
(1381)  Mr SHYAM SINGH  GRADUATE CLERK  CENTRAL COMPUTER CENTER
(1382)   ANDRIYA NARASIMHULU  ASSISTANT PROFESSOR  MECHANICAL ENGINEERING
(1383)  Mrs MAHESHWARI CHANDRA  SECTION OFFICER  ACADEMIC SECTION
(1384)  Mr LAMBODAR MISHRA  DATA PROCESSOR  EXAMINATION CELL
(1385)  Dr  ANAND GUPTA  ASSOCIATE PROFESSOR  COMPUTER ENGINEERING
(1386)  Dr  VINOD KUMAR  HOSTEL WARDEN  HOSTEL
(1387)  Mr LAMBODAR MISHRA  DATA PROCESSOR  EXAMINATION CELL
(1388)  Mr LAMBODAR MISHRA  DATA PROCESSOR  EXAMINATION CELL
(1389)  Mr LAMBODAR MISHRA  DATA PROCESSOR  EXAMINATION CELL
(1390)  Mr LAMBODAR MISHRA  DATA PROCESSOR  EXAMINATION CELL
(1391)  Mr LAMBODAR MISHRA  DATA PROCESSOR  EXAMINATION CELL
(1392)  PROF SHREE PRAKASH SINGH  HOSTEL WARDEN  RAMANUJAN  HOSTEL
(1393)  Mr LAMBODAR MISHRA  DATA PROCESSOR  EXAMINATION CELL
(1394)  Mr LAMBODAR MISHRA  DATA PROCESSOR  EXAMINATION CELL
(1395)     EXAMINATION CELL
(1396)  Mrs TARUNA TIWARI  ACADEMIC SECTION
(1397)   BIJENDRA KUMAR  HOD  COMPUTER ENGINEERING
(1398)   BIJENDRA KUMAR  HOD  COMPUTER ENGINEERING
(1399)  Mr LAMBODAR MISHRA  DATA PROCESSOR  EXAMINATION CELL
(1400)  Mr LAMBODAR MISHRA  DATA PROCESSOR  EXAMINATION CELL
(1401)  Mr LAMBODAR MISHRA  DATA PROCESSOR  EXAMINATION CELL
(1402)  Mr LAMBODAR MISHRA  DATA PROCESSOR  EXAMINATION CELL
(1403)  Mr LAMBODAR MISHRA  DATA PROCESSOR  EXAMINATION CELL
(1404)     LDC  CENTRAL COMPUTER CENTER
(1405)  Mrs TARUNA TIWARI  ACADEMIC SECTION
(1406)  Mr LAMBODAR MISHRA  DATA PROCESSOR  EXAMINATION CELL
(1407)  Mr  HARI SAHAYA SINGH  MECHANIC   A  CENTRAL COMPUTER CENTER
(1408)  Mr SHYAM SINGH  GRADUATE CLERK  CENTRAL COMPUTER CENTER
(1409)   ANOOP KUMAR SINGH  CARETAKER  ENGINEERING CELL
(1410)   ANOOP KUMAR SINGH  CARETAKER  ENGINEERING CELL
(1411)     LDC  CENTRAL COMPUTER CENTER
(1412)   ANDRIYA NARASIMHULU  ASSISTANT PROFESSOR  MECHANICAL ENGINEERING
(1413)  Mr LAMBODAR MISHRA  DATA PROCESSOR  EXAMINATION CELL
(1414)  Mr LAMBODAR MISHRA  DATA PROCESSOR  EXAMINATION CELL
(1415)  Mr LAMBODAR MISHRA  DATA PROCESSOR  EXAMINATION CELL
(1416)  Mr LAMBODAR MISHRA  DATA PROCESSOR  EXAMINATION CELL
(1417)  Mr LAMBODAR MISHRA  DATA PROCESSOR  EXAMINATION CELL
(1418)  Mr LAMBODAR MISHRA  DATA PROCESSOR  EXAMINATION CELL
(1419)  DR NEHA SAINI  ASSISTANT PROFESSOR  MANAGEMENT STUDIES
(1420)  Mr LAMBODAR MISHRA  DATA PROCESSOR  EXAMINATION CELL
(1421)  Mr LAMBODAR MISHRA  DATA PROCESSOR  EXAMINATION CELL
(1422)  Mr LAMBODAR MISHRA  ACADEMIC SECTION
(1423)  Mr LAMBODAR MISHRA  DATA PROCESSOR  EXAMINATION CELL
(1424)  Mr LAMBODAR MISHRA  DATA PROCESSOR  EXAMINATION CELL
(1425)  Mr LAMBODAR MISHRA  DATA PROCESSOR  EXAMINATION CELL
(1426)  Mr LAMBODAR MISHRA  DATA PROCESSOR  EXAMINATION CELL
(1427)  Prof  PRAGYA VARSHNEY  PROFESSOR  INSTRUMENTATION AND CONTROL ENGINEERING
(1428)  Mr LAMBODAR MISHRA  DATA PROCESSOR  EXAMINATION CELL
(1429)   ANDRIYA NARASIMHULU  ASSISTANT PROFESSOR  MECHANICAL ENGINEERING
(1430)  Mr LAMBODAR MISHRA  DATA PROCESSOR  ACADEMIC SECTION
(1431)  Mr LAMBODAR MISHRA  DATA PROCESSOR  EXAMINATION CELL
(1432)  Mr LAMBODAR MISHRA  ACADEMIC SECTION
(1433)  Mr LAMBODAR MISHRA  DATA PROCESSOR  EXAMINATION CELL
(1434)  Mr LAMBODAR MISHRA  DATA PROCESSOR  EXAMINATION CELL
(1435)  Mr LAMBODAR MISHRA  DATA PROCESSOR  EXAMINATION CELL
(1436)  Mr LAMBODAR MISHRA  DATA PROCESSOR  EXAMINATION CELL
(1437)  Dr PRAVEEN SAROHA  OFFICER INCHARGE  PHYSICAL EDUCATION
(1438)  Mr LAMBODAR MISHRA  DATA PROCESSOR  EXAMINATION CELL
(1439)  Mr LAMBODAR MISHRA  DATA PROCESSOR  EXAMINATION CELL
(1440)  Mr LAMBODAR MISHRA  DATA PROCESSOR  EXAMINATION CELL
(1441)  PROF SHREE PRAKASH SINGH  CHIEF WARDEN  HOSTEL
(1442)  Mr LAMBODAR MISHRA  DATA PROCESSOR  EXAMINATION CELL
(1443)  Mr LAMBODAR MISHRA  DATA PROCESSOR  EXAMINATION CELL
(1444)   ATHAR HUSSAIN  HOD  CIVIL ENGINEERING
(1445)  PROF SHREE PRAKASH SINGH  HOSTEL WARDEN  RAMANUJAN  HOSTEL
(1446)  PROF SHREE PRAKASH SINGH  HOSTEL WARDEN  RAMANUJAN  HOSTEL
(1447)   SACHIN SHARMA  ASSISTANT PROFESSOR  MATHEMATICS
(1448)  Dr PRAVEEN SAROHA  OFFICER INCHARGE  PHYSICAL EDUCATION
(1449)  Dr PRAVEEN SAROHA  OFFICER INCHARGE  PHYSICAL EDUCATION
(1450)   KHUSHIL KUMAR SAINI  COORDINATOR  UNIVERSITY MANAGEMENT CENTRE  CENTRAL COMPUTER CENTER
(1451)  Mr LAMBODAR MISHRA  DATA PROCESSOR  EXAMINATION CELL
(1452)     EXAMINATION CELL
(1453)  Mrs MAHESHWARI CHANDRA  SECTION OFFICER  ACADEMIC SECTION
(1454)  Mrs MAHESHWARI CHANDRA  SECTION OFFICER  ACADEMIC SECTION
(1455)   MANISHA KHULBE  ELECTRONICS AND COMMUNICATION ENGINEERING EAST 
(1456)   SACHIN SHARMA  ASSISTANT PROFESSOR  MATHEMATICS
(1457)  Mrs MAHESHWARI CHANDRA  SECTION OFFICER  ACADEMIC SECTION
(1458)   ANDRIYA NARASIMHULU  ASSISTANT PROFESSOR  MECHANICAL ENGINEERING
(1459)  Dr  ANAND GUPTA  ASSOCIATE PROFESSOR  COMPUTER ENGINEERING
(1460)  Mrs MAHESHWARI CHANDRA  SECTION OFFICER  ACADEMIC SECTION
(1461)   TARUN KUMAR RAWAT  ASSOCIATE PROFESSOR  ELECTRONICS AND COMMUNICATION ENGINEERING
(1462)   ANURADHA TOMAR  ASSISTANT PROFESSOR  INSTRUMENTATION AND CONTROL ENGINEERING
(1463)  Mr LAMBODAR MISHRA  DATA PROCESSOR  EXAMINATION CELL
(1464)  Mr LAMBODAR MISHRA  DATA PROCESSOR  EXAMINATION CELL
(1465)  Mr LAMBODAR MISHRA  DATA PROCESSOR  EXAMINATION CELL
(1466)     CENTRAL COMPUTER CENTER
(1467)  Mr LAMBODAR MISHRA  DATA PROCESSOR  EXAMINATION CELL
(1468)   MANISHA KHULBE  ELECTRONICS AND COMMUNICATION ENGINEERING EAST 
(1469)  PROF SHREE PRAKASH SINGH  HOSTEL WARDEN  RAMANUJAN  HOSTEL
(1470)  Mrs MAHESHWARI CHANDRA  SECTION OFFICER  ACADEMIC SECTION
(1471)  Mrs MAHESHWARI CHANDRA  SECTION OFFICER  ACADEMIC SECTION
(1472)  Dr AMITA JAIN  COMPUTER SCIENCE AND ENGINEERING EAST 
(1473)  Mrs MAHESHWARI CHANDRA  SECTION OFFICER  ACADEMIC SECTION
(1474)  Mrs MAHESHWARI CHANDRA  SECTION OFFICER  ACADEMIC SECTION
(1475)  Mrs MAHESHWARI CHANDRA  SECTION OFFICER  ACADEMIC SECTION
(1476)  Mrs MAHESHWARI CHANDRA  SECTION OFFICER  ACADEMIC SECTION
(1477)  Mrs MAHESHWARI CHANDRA  SECTION OFFICER  ACADEMIC SECTION
(1478)  Mr LAMBODAR MISHRA  DATA PROCESSOR  EXAMINATION CELL
(1479)   ATHAR HUSSAIN  HOD  CIVIL ENGINEERING
(1480)   ATHAR HUSSAIN  HOD  CIVIL ENGINEERING
(1481)   ATHAR HUSSAIN  HOD  CIVIL ENGINEERING
(1482)   ATHAR HUSSAIN  HOD  CIVIL ENGINEERING
(1483)   NAVEEN SHARMA  ASSISTANT PROFESSOR  MECHANICAL ENGINEERING
(1484)  DR POONAM RANI  ASSISTANT PROFESSOR  COMPUTER SCIENCE AND ENGINEERING
(1485)   MANISHA KHULBE  ELECTRONICS AND COMMUNICATION ENGINEERING EAST 
(1486)  Dr AMITA JAIN  COMPUTER SCIENCE AND ENGINEERING EAST 
(1487)  Dr AMITA JAIN  COMPUTER SCIENCE AND ENGINEERING EAST 
(1488)  Dr AMITA JAIN  COMPUTER SCIENCE AND ENGINEERING EAST 
(1489)  PROF SHREE PRAKASH SINGH  HOSTEL WARDEN  RAMANUJAN  HOSTEL
(1490)   SANJEEV KUMAR  INFORMATION TECHNOLOGY WEST 
(1491)   SANJEEV KUMAR  INFORMATION TECHNOLOGY WEST 
(1492)   SANJEEV KUMAR  INFORMATION TECHNOLOGY WEST 
(1493)  Mrs MAHESHWARI CHANDRA  SECTION OFFICER  ACADEMIC SECTION
(1494)  Mrs MAHESHWARI CHANDRA  SECTION OFFICER  ACADEMIC SECTION
(1495)  Mrs MAHESHWARI CHANDRA  SECTION OFFICER  ACADEMIC SECTION
(1496)   ALOK AGRAWAL  ASSISTANT PROFESSOR  INSTRUMENTATION AND CONTROL ENGINEERING
(1497)   ABHISHEK TEVATIA  HOSTEL WARDEN  MANUFACTURING PROCESSES AND AUTOMATION ENGINEERING
(1498)   SHILPA SHARMA  HOSTEL WARDEN  GH III  HOSTEL
(1499)   SHWETA GAUTAM  ELECTRONICS AND COMMUNICATION ENGINEERING
(1500)  Dr PRAVEEN SAROHA  UNIVERSITY COORDINATOR NSS  PHYSICAL EDUCATION
(1501)     EXAMINATION CELL
(1502)  Mrs MAHESHWARI CHANDRA  SECTION OFFICER  ACADEMIC SECTION
(1503)  DR MAMTA MISHRA  ASSOCIATE PROFESSOR  MATHEMATICS
(1504)   SHILPA SHARMA  HOSTEL WARDEN  BIOLOGICAL SCIENCES AND ENGINEERING
(1505)  PROF SHREE PRAKASH SINGH  HOSTEL WARDEN  RAMANUJAN  HOSTEL
(1506)   PANKAJ DESHWAL  MANAGEMENT STUDIES
(1507)  Mr  JAI PRAKASH SHARMA  UDC  ACCOUNTS SECTION
(1508)  Mrs MAHESHWARI CHANDRA  SECTION OFFICER  ACADEMIC SECTION
(1509)   MANISHA  ASSISTANT PROFESSOR  INSTRUMENTATION AND CONTROL ENGINEERING
(1510)   SHILPA SHARMA  HOSTEL WARDEN  BIOLOGICAL SCIENCES AND ENGINEERING
(1511)   SHILPA SHARMA  ASSISTANT PROFESSOR  BIOLOGICAL SCIENCES AND ENGINEERING
(1512)   DEEPIKA KUKREJA  ASSISTANT PROFESSOR  INFORMATION TECHNOLOGY
(1513)   MANISHA KHULBE  ELECTRONICS AND COMMUNICATION ENGINEERING EAST 
(1514)   URVASHI BANSAL  ASSISTANT PROFESSOR  ELECTRONICS AND COMMUNICATION ENGINEERING
(1515)  Dr  RAVINDER SINGH  ASSISTANT PROFESSOR  ELECTRICAL ENGINEERING
(1516)   ANURADHA TOMAR  ASSISTANT PROFESSOR  INSTRUMENTATION AND CONTROL ENGINEERING
(1517)   ATHAR HUSSAIN  HOD  CIVIL ENGINEERING
(1518)  Dr  ADITYA KUMAR  ASSOCIATE PROFESSOR  MANUFACTURING PROCESSES AND AUTOMATION ENGINEERING
(1519)   ATHAR HUSSAIN  HOD  CIVIL ENGINEERING
(1520)   ATHAR HUSSAIN  HOD  CIVIL ENGINEERING
(1521)  Dr  ADITYA KUMAR  ASSOCIATE PROFESSOR  MANUFACTURING PROCESSES AND AUTOMATION ENGINEERING
(1522)  DR POONAM RANI  ASSISTANT PROFESSOR  COMPUTER SCIENCE AND ENGINEERING
(1523)  Dr AMITA JAIN  COMPUTER SCIENCE AND ENGINEERING EAST 
(1524)   ABHISHEK TEVATIA  MANUFACTURING PROCESSES AND AUTOMATION ENGINEERING
(1525)  DR POONAM RANI  ASSISTANT PROFESSOR  COMPUTER SCIENCE AND ENGINEERING
(1526)  Mrs MAHESHWARI CHANDRA  SECTION OFFICER  ACADEMIC SECTION
(1527)  Mrs MAHESHWARI CHANDRA  SECTION OFFICER  ACADEMIC SECTION
(1528)  Mrs MAHESHWARI CHANDRA  SECTION OFFICER  ACADEMIC SECTION
(1529)   SHWETA GAUTAM  ELECTRONICS AND COMMUNICATION ENGINEERING
(1530)  PROF SHREE PRAKASH SINGH  CHIEF WARDEN  HOSTEL
(1531)   SHILPA SHARMA  HOSTEL WARDEN  BIO TECHNOLOGY
(1532)   KUNWAR SINGH  HOSTEL WARDEN  ELECTRONICS AND COMMUNICATION ENGINEERING
(1533)   ABHISHEK TEVATIA  HOSTEL WARDEN  MANUFACTURING PROCESSES AND AUTOMATION ENGINEERING
(1534)   SOUMYA SASMAL  HOSTEL WARDEN  BIO TECHNOLOGY
(1535)  PROF SHREE PRAKASH SINGH  CHIEF WARDEN  HOSTEL
(1536)  Dr  ANAND GUPTA  COMPUTER ENGINEERING
(1537)  Mrs MAHESHWARI CHANDRA  SECTION OFFICER  ACADEMIC SECTION
(1538)   RAVINDER KUMAR  DEAN STUDENT WELFARE OFFICE
(1539)   HIMANSHU SINGHAL  CENTRAL COMPUTER CENTER
(1540)   PRAVEEN SAROHA  PRACTICAL INSTRUCTOR  PHYSICAL EDUCATION
(1541)  Dr PRAVEEN SAROHA  OFFICER INCHARGE  PHYSICAL EDUCATION
(1542)   TARUN KUMAR RAWAT  ASSOCIATE PROFESSOR  ELECTRONICS AND COMMUNICATION ENGINEERING
(1543)  Dr  ANAND GUPTA  ASSOCIATE PROFESSOR  COMPUTER ENGINEERING
(1544)   SANJEEV KUMAR  INFORMATION TECHNOLOGY WEST 
(1545)  Mrs MAHESHWARI CHANDRA  SECTION OFFICER  ACADEMIC SECTION
(1546)   KHUSHIL KUMAR SAINI  COORDINATOR  UNIVERSITY MANAGEMENT CENTRE  CENTRAL COMPUTER CENTER
(1547)  Mrs MAHESHWARI CHANDRA  SECTION OFFICER  ACADEMIC SECTION
(1548)   ANURADHA TOMAR  ASSISTANT PROFESSOR  INSTRUMENTATION AND CONTROL ENGINEERING
(1549)  Dr  SUJATA SENGAR  DEAN ACADEMICS  ACADEMIC SECTION
(1550)  Dr  ANAND GUPTA  ASSOCIATE PROFESSOR  COMPUTER ENGINEERING
(1551)   TARUN KUMAR RAWAT  ASSOCIATE PROFESSOR  ELECTRONICS AND COMMUNICATION ENGINEERING
(1552)  DR NEHA SAINI  ASSISTANT PROFESSOR  MANAGEMENT STUDIES
(1553)   RAVINDER KUMAR  DEAN STUDENT WELFARE OFFICE
(1554)  Dr PRAVEEN SAROHA  UNIVERSITY COORDINATOR NSS  PHYSICAL EDUCATION
(1555)  Dr AMITA JAIN  COMPUTER SCIENCE AND ENGINEERING EAST 
(1556)   BIJENDRA KUMAR  HOD  COMPUTER SCIENCE AND ENGINEERING
(1557)  Dr PRAVEEN SAROHA  UNIVERSITY COORDINATOR NSS  PHYSICAL EDUCATION
(1558)   TARUN KUMAR RAWAT  ASSOCIATE PROFESSOR  ELECTRONICS AND COMMUNICATION ENGINEERING
(1559)   PANKAJ DESHWAL  ASSISTANT PROFESSOR  MANAGEMENT STUDIES
(1560)   MANISHA KHULBE  ELECTRONICS AND COMMUNICATION ENGINEERING EAST 
(1561)   TARUN KUMAR RAWAT  ASSOCIATE PROFESSOR  ELECTRONICS AND COMMUNICATION ENGINEERING
(1562)  Prof  PURNIMA JAIN  PROFESSOR  CHEMISTRY
(1563)  Dr AMITA JAIN  COMPUTER SCIENCE AND ENGINEERING EAST 
(1564)   JYOTI YADAV  ASSISTANT PROFESSOR  INSTRUMENTATION AND CONTROL ENGINEERING
(1565)  Dr AMITA JAIN  COMPUTER SCIENCE AND ENGINEERING EAST 
(1566)  Dr AMITA JAIN  COMPUTER SCIENCE AND ENGINEERING EAST 
(1567)   RAVINDER KUMAR  DEAN STUDENT WELFARE OFFICE
(1568)  DR POONAM RANI  ASSISTANT PROFESSOR  COMPUTER ENGINEERING
(1569)  Dr  ANAND GUPTA  ASSOCIATE PROFESSOR  COMPUTER ENGINEERING
(1570)  Dr DAYA NAND  SENIOR SCIENTIFIC ASSISTANT  PHYSICS
(1571)   KHUSHIL KUMAR SAINI  COORDINATOR  COMPUTER ENGINEERING
(1572)   KHUSHIL KUMAR SAINI  COORDINATOR  COMPUTER ENGINEERING
(1573)   KHUSHIL KUMAR SAINI  COORDINATOR  UNIVERSITY MANAGEMENT CENTRE  CENTRAL COMPUTER CENTER
(1574)  Dr  ANAND GUPTA  ASSOCIATE PROFESSOR  COMPUTER ENGINEERING
(1575)   DURU ARUN KUMAR  MANAGEMENT STUDIES
(1576)   TARUN KUMAR RAWAT  ASSOCIATE PROFESSOR  ELECTRONICS AND COMMUNICATION ENGINEERING
(1577)  Dr  ADITYA KUMAR  ASSOCIATE PROFESSOR  MECHANICAL ENGINEERING
(1578)   ANDRIYA NARASIMHULU  ASSISTANT PROFESSOR  MECHANICAL ENGINEERING
(1579)  Dr PRAVEEN SAROHA  UNIVERSITY COORDINATOR NSS  PHYSICAL EDUCATION
(1580)   TARUN KUMAR RAWAT  ASSOCIATE PROFESSOR  ELECTRONICS AND COMMUNICATION ENGINEERING
(1581)   ANURADHA TOMAR  ASSISTANT PROFESSOR  INSTRUMENTATION AND CONTROL ENGINEERING
(1582)   ANURADHA TOMAR  INSTRUMENTATION AND CONTROL ENGINEERING
(1583)   TARUN KUMAR RAWAT  ASSOCIATE PROFESSOR  ELECTRONICS AND COMMUNICATION ENGINEERING
(1584)  DR TANUSHREE CHOUDHARY  HOD  HUMANITIES AND SOCIAL SCIENCES
(1585)  Mrs MAHESHWARI CHANDRA  SECTION OFFICER  ACADEMIC SECTION
(1586)   SHILPA SHARMA  ASSISTANT PROFESSOR  BIO TECHNOLOGY
(1587)   DURU ARUN KUMAR  MANAGEMENT STUDIES
(1588)  Dr SIMRAN JEET SINGH  ASSISTANT PROFESSOR  MECHANICAL ENGINEERING
(1589)   MANISHA  ASSISTANT PROFESSOR  INSTRUMENTATION AND CONTROL ENGINEERING
(1590)  Dr  VINOD KUMAR  ASSOCIATE PROFESSOR  PHYSICS
(1591)  Dr AKHILESH DUBEY  INSTRUCTOR  BIO TECHNOLOGY
(1592)   SHILPA SHARMA  ASSISTANT PROFESSOR  BIOLOGICAL SCIENCES AND ENGINEERING
(1593)   TARUN KUMAR RAWAT  ASSOCIATE PROFESSOR  ELECTRONICS AND COMMUNICATION ENGINEERING
(1594)  Dr  RAVINDER SINGH  ASSISTANT PROFESSOR  ELECTRICAL ENGINEERING
(1595)   JYOTI YADAV  ASSISTANT PROFESSOR  INSTRUMENTATION AND CONTROL ENGINEERING
(1596)   SHILPA SHARMA  PRACTICAL INSTRUCTOR  BIO TECHNOLOGY
(1597)  Dr  ANAND GUPTA  ASSOCIATE PROFESSOR  COMPUTER ENGINEERING
(1598)  Dr AKHILESH DUBEY  OFFICER INCHARGE  BIO TECHNOLOGY
(1599)   ANDRIYA NARASIMHULU  ASSISTANT PROFESSOR  MECHANICAL ENGINEERING
(1600)  Prof  PRAGYA VARSHNEY  PROFESSOR  INSTRUMENTATION AND CONTROL ENGINEERING
(1601)   SACHIN SHARMA  ASSISTANT PROFESSOR  MATHEMATICS
(1602)  DR MAMTA MISHRA  ASSOCIATE PROFESSOR  MATHEMATICS
(1603)  Mrs MAHESHWARI CHANDRA  SECTION OFFICER  ACADEMIC SECTION
(1604)   MANISHA KHULBE  ELECTRONICS AND COMMUNICATION ENGINEERING EAST 
(1605)   MANISHA KHULBE  ELECTRONICS AND COMMUNICATION ENGINEERING EAST 
(1606)   DURU ARUN KUMAR  ASSOCIATE PROFESSOR  MANAGEMENT STUDIES
(1607)  DR POONAM RANI  ASSISTANT PROFESSOR  COMPUTER SCIENCE AND ENGINEERING
(1608)   TARUN KUMAR RAWAT  ASSOCIATE PROFESSOR  ELECTRONICS AND COMMUNICATION ENGINEERING
(1609)   NAVEEN SHARMA  ASSISTANT PROFESSOR  MECHANICAL ENGINEERING
(1610)   NARENDER KUMAR  ASSISTANT PROFESSOR  MECHANICAL ENGINEERING
(1611)  Dr AMITA JAIN  COMPUTER SCIENCE AND ENGINEERING EAST 
(1612)   SANJEEV KUMAR  INFORMATION TECHNOLOGY WEST 
(1613)  DR POONAM RANI  ASSISTANT PROFESSOR  COMPUTER SCIENCE AND ENGINEERING
(1614)   DEVENDER KUMAR  ASSISTANT PROFESSOR  INFORMATION TECHNOLOGY
(1615)  DR NEHA SAINI  ASSISTANT PROFESSOR  MANAGEMENT STUDIES
(1616)   ANURADHA TOMAR  ASSISTANT PROFESSOR  INSTRUMENTATION AND CONTROL ENGINEERING
(1617)  Mrs MAHESHWARI CHANDRA  SECTION OFFICER  ACADEMIC SECTION
(1618)   HIMANSHU SINGHAL  CENTRAL COMPUTER CENTER
(1619)   SAMIR GOKARN  ASSISTANT PROFESSOR  MANAGEMENT STUDIES
(1620)  Mrs MAHESHWARI CHANDRA  SECTION OFFICER  ACADEMIC SECTION
(1621)  Mr SHYAM SINGH  CENTRAL COMPUTER CENTER
(1622)  Mrs MAHESHWARI CHANDRA  SECTION OFFICER  ACADEMIC SECTION
(1623)  Mr LAMBODAR MISHRA  DATA PROCESSOR  ACADEMIC SECTION
(1624)  Dr AMITA JAIN  COMPUTER SCIENCE AND ENGINEERING EAST 
(1625)   KUNWAR SINGH  PRACTICAL SUPERINTENDENT  ELECTRONICS AND COMMUNICATION ENGINEERING
(1626)  Mr LAMBODAR MISHRA  DATA PROCESSOR  EXAMINATION CELL
(1627)  Dr AMITA JAIN  COMPUTER SCIENCE AND ENGINEERING EAST 
(1628)   SHILPA SHARMA  PRACTICAL INSTRUCTOR  BIOLOGICAL SCIENCES AND ENGINEERING
(1629)  DR POONAM RANI  ASSISTANT PROFESSOR  COMPUTER SCIENCE AND ENGINEERING
(1630)   PINAKI CHAKRABORTY  ASSISTANT PROFESSOR  COMPUTER SCIENCE AND ENGINEERING
(1631)  PROF SHREE PRAKASH SINGH  PROFESSOR  ELECTRONICS AND COMMUNICATION ENGINEERING
(1632)   ABHISHEK TEVATIA  ASSISTANT PROFESSOR  MANUFACTURING PROCESSES AND AUTOMATION ENGINEERING
(1633)  DR POONAM RANI  ASSISTANT PROFESSOR  COMPUTER SCIENCE AND ENGINEERING
(1634)   ALOK AGRAWAL  ASSISTANT PROFESSOR  INSTRUMENTATION AND CONTROL ENGINEERING
(1635)  Mr LAMBODAR MISHRA  DATA PROCESSOR  EXAMINATION CELL
(1636)  Dr  ANKIT KUMAR SINGH  ASSISTANT PROFESSOR  ELECTRICAL ENGINEERING
(1637)  Mr LAMBODAR MISHRA  DATA PROCESSOR  EXAMINATION CELL
(1638)   C S VINITHA  ASSISTANT PROFESSOR  EAST CAMPUS
(1639)  Dr AMITA JAIN  COMPUTER SCIENCE AND ENGINEERING EAST 
(1640)  Dr AMITA JAIN  COMPUTER SCIENCE AND ENGINEERING EAST 
(1641)   PRAMENDRA KUMAR BAJPAI  ASSISTANT PROFESSOR  MANUFACTURING PROCESSES AND AUTOMATION ENGINEERING
(1642)  Dr  RAVINDER SINGH  ASSISTANT PROFESSOR  ELECTRICAL ENGINEERING
(1643)   ANURADHA TOMAR  ASSISTANT PROFESSOR  INSTRUMENTATION AND CONTROL ENGINEERING
(1644)   MANISHA KHULBE  ELECTRONICS AND COMMUNICATION ENGINEERING EAST 
(1645)  DR POONAM RANI  ASSISTANT PROFESSOR  COMPUTER SCIENCE AND ENGINEERING
(1646)  Mr LAMBODAR MISHRA  DATA PROCESSOR  ACADEMIC SECTION
(1647)  Mrs MAHESHWARI CHANDRA  SECTION OFFICER  ACADEMIC SECTION
(1648)  Mrs MAHESHWARI CHANDRA  SECTION OFFICER  ACADEMIC SECTION
(1649)   C S VINITHA  ASSISTANT PROFESSOR  EAST CAMPUS
(1650)   RAVINDER KUMAR  DEAN STUDENT WELFARE OFFICE
(1651)   KUNWAR SINGH  PRACTICAL SUPERINTENDENT  ELECTRONICS AND COMMUNICATION ENGINEERING
(1652)  Mr LAMBODAR MISHRA  DATA PROCESSOR  ACADEMIC SECTION
(1653)  Mrs MAHESHWARI CHANDRA  SECTION OFFICER  ACADEMIC SECTION
(1654)  Mrs MAHESHWARI CHANDRA  SECTION OFFICER  ACADEMIC SECTION
(1655)  Mr LAMBODAR MISHRA  DATA PROCESSOR  EXAMINATION CELL
(1656)  Mr LAMBODAR MISHRA  DATA PROCESSOR  ACADEMIC SECTION
(1657)  DR POONAM RANI  ASSISTANT PROFESSOR  COMPUTER SCIENCE AND ENGINEERING
(1658)  Dr  ANAND GUPTA  ASSOCIATE PROFESSOR  COMPUTER ENGINEERING
(1659)  Dr  ANAND GUPTA  ASSOCIATE PROFESSOR  COMPUTER ENGINEERING
(1660)  Dr  ANAND GUPTA  ASSOCIATE PROFESSOR  COMPUTER ENGINEERING
(1661)   TARUN KUMAR RAWAT  ASSOCIATE PROFESSOR  ELECTRONICS AND COMMUNICATION ENGINEERING
(1662)  Mr LAMBODAR MISHRA  DATA PROCESSOR  ACADEMIC SECTION
(1663)  Mrs MAHESHWARI CHANDRA  SECTION OFFICER  ACADEMIC SECTION
(1664)  Mr LAMBODAR MISHRA  DATA PROCESSOR  ACADEMIC SECTION
(1665)  DR POONAM RANI  ASSISTANT PROFESSOR  COMPUTER SCIENCE AND ENGINEERING
(1666)   NARENDER KUMAR  ASSISTANT PROFESSOR  MECHANICAL ENGINEERING
(1667)   TARUN KUMAR RAWAT  ASSOCIATE PROFESSOR  ELECTRONICS AND COMMUNICATION ENGINEERING
(1668)  Mr LAMBODAR MISHRA  DATA PROCESSOR  EXAMINATION CELL
(1669)   MANISHA KHULBE  ELECTRONICS AND COMMUNICATION ENGINEERING EAST 
(1670)  Mr LAMBODAR MISHRA  DATA PROCESSOR  EXAMINATION CELL
(1671)  Dr  RAVINDER SINGH  ASSISTANT PROFESSOR  ELECTRICAL ENGINEERING
(1672)  Dr  RAVINDER SINGH  ASSISTANT PROFESSOR  ELECTRICAL ENGINEERING
(1673)   JYOTI YADAV  ASSISTANT PROFESSOR  INSTRUMENTATION AND CONTROL ENGINEERING
(1674)  DR POONAM RANI  ASSISTANT PROFESSOR  COMPUTER SCIENCE AND ENGINEERING
(1675)   SHILPA SHARMA  ASSISTANT PROFESSOR  BIOLOGICAL SCIENCES AND ENGINEERING
(1676)  Mr LAMBODAR MISHRA  DATA PROCESSOR  ACADEMIC SECTION
(1677)   DEEPAK KUMAR SHARMA  ASSISTANT PROFESSOR  INFORMATION TECHNOLOGY
(1678)  Dr PRAVEEN SAROHA  OFFICER INCHARGE  PHYSICAL EDUCATION
(1679)  Dr AMITA JAIN  COMPUTER SCIENCE AND ENGINEERING EAST 
(1680)  Dr AMITA JAIN  COMPUTER SCIENCE AND ENGINEERING EAST 
(1681)   MANISHA KHULBE  ELECTRONICS AND COMMUNICATION ENGINEERING EAST 
(1682)  PROF SHREE PRAKASH SINGH  CHIEF WARDEN  HOSTEL
(1683)  Mr LAMBODAR MISHRA  DATA PROCESSOR  ACADEMIC SECTION
(1684)  Mrs MAHESHWARI CHANDRA  SECTION OFFICER  ACADEMIC SECTION
(1685)  Mrs MAHESHWARI CHANDRA  SECTION OFFICER  ACADEMIC SECTION
(1686)   SHILPA SHARMA  HOSTEL
(1687)   SHWETA GAUTAM  ASSISTANT PROFESSOR  ELECTRONICS AND COMMUNICATION ENGINEERING
(1688)   MANISHA KHULBE  ELECTRONICS AND COMMUNICATION ENGINEERING EAST 
(1689)  Mr LAMBODAR MISHRA  DATA PROCESSOR  ACADEMIC SECTION
(1690)  Mr LAMBODAR MISHRA  ACADEMIC SECTION
(1691)   MANISHA KHULBE  ASSISTANT PROFESSOR  ELECTRONICS AND COMMUNICATION ENGINEERING EAST 
(1692)  Mrs MAHESHWARI CHANDRA  SECTION OFFICER  ACADEMIC SECTION
(1693)   TARUN KUMAR RAWAT  ASSOCIATE PROFESSOR  ELECTRONICS AND COMMUNICATION ENGINEERING
(1694)  Dr PRAVEEN SAROHA  OFFICER INCHARGE  PHYSICAL EDUCATION
(1695)  Dr PRAVEEN SAROHA  OFFICER INCHARGE  PHYSICAL EDUCATION
(1696)  Mr LAMBODAR MISHRA  DATA PROCESSOR  ACADEMIC SECTION
(1697)  Dr PRAVEEN SAROHA  OFFICER INCHARGE  PHYSICAL EDUCATION
(1698)   ANDRIYA NARASIMHULU  ASSISTANT PROFESSOR  MECHANICAL ENGINEERING
(1699)  Mr LAMBODAR MISHRA  DATA PROCESSOR  EXAMINATION CELL
(1700)  Mr LAMBODAR MISHRA  ACADEMIC SECTION
(1701)  Mr LAMBODAR MISHRA  DATA PROCESSOR  ACADEMIC SECTION
(1702)  Dr PRAVEEN SAROHA  OFFICER INCHARGE  PHYSICAL EDUCATION
(1703)  PROF SHREE PRAKASH SINGH  CHIEF WARDEN  HOSTEL
(1704)  Mr ARVIND KUMAR  ASSISTANT PROFESSOR  COMPUTER SCIENCE AND ENGINEERING EAST 
(1705)  Mr ARVIND KUMAR  ASSISTANT PROFESSOR  COMPUTER SCIENCE AND ENGINEERING EAST 
(1706)  Mr LAMBODAR MISHRA  DATA PROCESSOR  EXAMINATION CELL
(1707)   ANDRIYA NARASIMHULU  ASSISTANT PROFESSOR  MECHANICAL ENGINEERING
(1708)   ANDRIYA NARASIMHULU  ASSISTANT PROFESSOR  MECHANICAL ENGINEERING
(1709)   ANDRIYA NARASIMHULU  ASSISTANT PROFESSOR  MECHANICAL ENGINEERING
(1710)   ANDRIYA NARASIMHULU  ASSISTANT PROFESSOR  MECHANICAL ENGINEERING
(1711)   ANDRIYA NARASIMHULU  ASSISTANT PROFESSOR  MECHANICAL ENGINEERING
(1712)   ANDRIYA NARASIMHULU  ASSISTANT PROFESSOR  MECHANICAL ENGINEERING
(1713)  Prof  PRAGYA VARSHNEY  PROFESSOR  INSTRUMENTATION AND CONTROL ENGINEERING
(1714)  Dr PRAVEEN SAROHA  UNIVERSITY COORDINATOR NSS  PHYSICAL EDUCATION
(1715)  Mr LAMBODAR MISHRA  DATA PROCESSOR  EXAMINATION CELL
(1716)  Mr LAMBODAR MISHRA  DATA PROCESSOR  ACADEMIC SECTION
(1717)  Mr LAMBODAR MISHRA  DATA PROCESSOR  ACADEMIC SECTION
(1718)  Mr LAMBODAR MISHRA  DATA PROCESSOR  ACADEMIC SECTION
(1719)  Mr LAMBODAR MISHRA  DATA PROCESSOR  ACADEMIC SECTION
(1720)  Dr  ANAND GUPTA  ASSOCIATE PROFESSOR  COMPUTER ENGINEERING
(1721)   PINAKI CHAKRABORTY  ASSISTANT PROFESSOR  COMPUTER SCIENCE AND ENGINEERING
(1722)   PINAKI CHAKRABORTY  ASSISTANT PROFESSOR  COMPUTER SCIENCE AND ENGINEERING
(1723)   ALOK AGRAWAL  ASSISTANT PROFESSOR  INSTRUMENTATION AND CONTROL ENGINEERING
(1724)  Prof  ANJANA SARKAR  HOD  CHEMISTRY
(1725)  Mr LAMBODAR MISHRA  DATA PROCESSOR  EXAMINATION CELL
(1726)  Mr LAMBODAR MISHRA  DATA PROCESSOR  EXAMINATION CELL
(1727)  Mr LAMBODAR MISHRA  DATA PROCESSOR  EXAMINATION CELL
(1728)  Mr LAMBODAR MISHRA  DATA PROCESSOR  EXAMINATION CELL
(1729)  Dr  ANAND GUPTA  ASSOCIATE PROFESSOR  COMPUTER ENGINEERING
(1730)  Mr SHYAM SINGH  GRADUATE CLERK  CENTRAL COMPUTER CENTER
(1731)  DR POONAM RANI  ASSISTANT PROFESSOR  COMPUTER SCIENCE AND ENGINEERING
(1732)   KUNWAR SINGH  ELECTRONICS AND COMMUNICATION ENGINEERING
(1733)  Mr LAMBODAR MISHRA  DATA PROCESSOR  EXAMINATION CELL
(1734)   JYOTI YADAV  ASSISTANT PROFESSOR  INSTRUMENTATION AND CONTROL ENGINEERING
(1735)  Mr LAMBODAR MISHRA  INVENTORY INCHARGE  EXAMINATION CELL
(1736)  Mr LAMBODAR MISHRA  DATA PROCESSOR  ACADEMIC SECTION
(1737)  Mr LAMBODAR MISHRA  DATA PROCESSOR  ACADEMIC SECTION
(1738)  Mr LAMBODAR MISHRA  ACADEMIC SECTION
(1739)  DR POONAM RANI  ASSISTANT PROFESSOR  COMPUTER ENGINEERING
(1740)   SHILPA SHARMA  PRACTICAL INSTRUCTOR  BIO TECHNOLOGY
(1741)   RENU GHOSH  ASSISTANT PROFESSOR  MANAGEMENT STUDIES
(1742)   DEVENDER KUMAR  ASSISTANT PROFESSOR  INFORMATION TECHNOLOGY
(1743)   ANDRIYA NARASIMHULU  ASSISTANT PROFESSOR  MECHANICAL ENGINEERING
(1744)   RENU GHOSH  ASSISTANT PROFESSOR  MANAGEMENT STUDIES
(1745)   RENU GHOSH  ASSISTANT PROFESSOR  MANAGEMENT STUDIES
(1746)   RENU GHOSH  ASSISTANT PROFESSOR  MANAGEMENT STUDIES
(1747)  Mr LAMBODAR MISHRA  DATA PROCESSOR  ACADEMIC SECTION
(1748)  Mr LAMBODAR MISHRA  DATA PROCESSOR  ACADEMIC SECTION
(1749)  PROF SHREE PRAKASH SINGH  CHIEF WARDEN  HOSTEL
(1750)  Mr LAMBODAR MISHRA  DATA PROCESSOR  EXAMINATION CELL
(1751)  Mr LAMBODAR MISHRA  DATA PROCESSOR  EXAMINATION CELL
(1752)  Mr LAMBODAR MISHRA  DATA PROCESSOR  EXAMINATION CELL
(1753)  Mr LAMBODAR MISHRA  ACADEMIC SECTION
(1754)  Mr LAMBODAR MISHRA  DATA PROCESSOR  ACADEMIC SECTION
(1755)  Mr LAMBODAR MISHRA  DATA PROCESSOR  ACADEMIC SECTION
(1756)  Mr LAMBODAR MISHRA  DATA PROCESSOR  ACADEMIC SECTION
(1757)  Dr PRAVEEN SAROHA  OFFICER INCHARGE  PHYSICAL EDUCATION
(1758)   PANKAJ DESHWAL  MANAGEMENT STUDIES
(1759)   PANKAJ DESHWAL  MANAGEMENT STUDIES
(1760)  Mr LAMBODAR MISHRA  ACADEMIC SECTION
(1761)   ANOOP KUMAR SINGH  CARETAKER  ENGINEERING CELL
(1762)  Mr LAMBODAR MISHRA  DATA PROCESSOR  ACADEMIC SECTION
(1763)  Mr LAMBODAR MISHRA  ACADEMIC SECTION
(1764)  Mr LAMBODAR MISHRA  DATA PROCESSOR  ACADEMIC SECTION
(1765)   KHUSHIL KUMAR SAINI  COORDINATOR  COMPUTER ENGINEERING
(1766)   KHUSHIL KUMAR SAINI  COORDINATOR  COMPUTER ENGINEERING
(1767)  Mr LAMBODAR MISHRA  DATA PROCESSOR  EXAMINATION CELL
(1768)  Dr PRAVEEN SAROHA  OFFICER INCHARGE  PHYSICAL EDUCATION
(1769)  Mr LAMBODAR MISHRA  DATA PROCESSOR  EXAMINATION CELL
(1770)  Mr SHYAM SINGH  GRADUATE CLERK  CENTRAL COMPUTER CENTER
(1771)   ALOK AGRAWAL  ASSISTANT PROFESSOR  INSTRUMENTATION AND CONTROL ENGINEERING
(1772)  Mr LAMBODAR MISHRA  DATA PROCESSOR  ACADEMIC SECTION
(1773)  Mr LAMBODAR MISHRA  DATA PROCESSOR  ACADEMIC SECTION
(1774)  Dr  SUJATA SENGAR  OFFICER INCHARGE  ACADEMIC SECTION
(1775)  Dr  SUJATA SENGAR  OFFICER INCHARGE  ACADEMIC SECTION
(1776)  Dr  SUJATA SENGAR  OFFICER INCHARGE  ACADEMIC SECTION
(1777)  Mr LAMBODAR MISHRA  DATA PROCESSOR  ACADEMIC SECTION
(1778)   SANJEEV KUMAR  INFORMATION TECHNOLOGY WEST 
(1779)   UMANG SONI  INSTRUCTOR  MANUFACTURING PROCESSES AND AUTOMATION ENGINEERING
(1780)  Mr LAMBODAR MISHRA  DATA PROCESSOR  ACADEMIC SECTION
(1781)  Mr LAMBODAR MISHRA  DATA PROCESSOR  EXAMINATION CELL
(1782)  Mr LAMBODAR MISHRA  DATA PROCESSOR  EXAMINATION CELL
(1783)   TARUN KUMAR RAWAT  ASSOCIATE PROFESSOR  ELECTRONICS AND COMMUNICATION ENGINEERING
(1784)   TARUN KUMAR RAWAT  ASSOCIATE PROFESSOR  ELECTRONICS AND COMMUNICATION ENGINEERING
(1785)   BIJENDRA KUMAR  PROFESSOR  COMPUTER SCIENCE AND ENGINEERING
(1786)  Mr LAMBODAR MISHRA  DATA PROCESSOR  ACADEMIC SECTION
(1787)  Mr LAMBODAR MISHRA  DATA PROCESSOR  ACADEMIC SECTION
(1788)  Mr LAMBODAR MISHRA  DATA PROCESSOR  ACADEMIC SECTION
(1789)  Mr LAMBODAR MISHRA  DATA PROCESSOR  EXAMINATION CELL
(1790)   HIMANSHU SINGHAL  CENTRAL COMPUTER CENTER
(1791)   KUNWAR SINGH  ASSISTANT PROFESSOR  ELECTRONICS AND COMMUNICATION ENGINEERING
(1792)   SHILPA SHARMA  PRACTICAL INSTRUCTOR  BIOLOGICAL SCIENCES AND ENGINEERING
(1793)   ALOK AGRAWAL  ASSISTANT PROFESSOR  INSTRUMENTATION AND CONTROL ENGINEERING
(1794)   SHILPA SHARMA  PRACTICAL INSTRUCTOR  BIOLOGICAL SCIENCES AND ENGINEERING
(1795)  Dr  ANKIT KUMAR SINGH  ASSISTANT PROFESSOR  ELECTRICAL ENGINEERING
(1796)   KUNWAR SINGH  PRACTICAL SUPERINTENDENT  ELECTRONICS AND COMMUNICATION ENGINEERING
(1797)   ALOK AGRAWAL  ASSISTANT PROFESSOR  INSTRUMENTATION AND CONTROL ENGINEERING
(1798)   ALOK AGRAWAL  ASSISTANT PROFESSOR  INSTRUMENTATION AND CONTROL ENGINEERING
(1799)  Dr AMITA JAIN  COMPUTER SCIENCE AND ENGINEERING EAST 
(1800)  DR NEHA SAINI  ASSISTANT PROFESSOR  MANAGEMENT STUDIES
(1801)   ALOK AGRAWAL  ASSISTANT PROFESSOR  INSTRUMENTATION AND CONTROL ENGINEERING
(1802)   DEVENDER KUMAR  ASSISTANT PROFESSOR  INFORMATION TECHNOLOGY
(1803)   SHILPA SHARMA  PRACTICAL INSTRUCTOR  BIOLOGICAL SCIENCES AND ENGINEERING
(1804)  Dr PRAVEEN SAROHA  OFFICER INCHARGE  PHYSICAL EDUCATION
(1805)   DEEPIKA KUKREJA  ASSISTANT PROFESSOR  INFORMATION TECHNOLOGY
(1806)   DEEPIKA KUKREJA  ASSISTANT PROFESSOR  INFORMATION TECHNOLOGY
(1807)   KUNWAR SINGH  PRACTICAL SUPERINTENDENT  ELECTRONICS AND COMMUNICATION ENGINEERING
(1808)   SAMIR GOKARN  ASSISTANT PROFESSOR  MANAGEMENT STUDIES
(1809)   PRAMENDRA KUMAR BAJPAI  ASSISTANT PROFESSOR  MANUFACTURING PROCESSES AND AUTOMATION ENGINEERING
(1810)   MANISHA  ASSISTANT PROFESSOR  INSTRUMENTATION AND CONTROL ENGINEERING
(1811)  Mr LAMBODAR MISHRA  DATA PROCESSOR  ACADEMIC SECTION
(1812)   PINAKI CHAKRABORTY  ASSISTANT PROFESSOR  COMPUTER SCIENCE AND ENGINEERING
(1813)   JYOTI YADAV  ASSISTANT PROFESSOR  INSTRUMENTATION AND CONTROL ENGINEERING
(1814)   PRAMENDRA KUMAR BAJPAI  ASSISTANT PROFESSOR  MANUFACTURING PROCESSES AND AUTOMATION ENGINEERING
(1815)   PINAKI CHAKRABORTY  ASSISTANT PROFESSOR  COMPUTER ENGINEERING
(1816)   PINAKI CHAKRABORTY  ASSISTANT PROFESSOR  COMPUTER ENGINEERING
(1817)   JYOTI YADAV  ASSISTANT PROFESSOR  INSTRUMENTATION AND CONTROL ENGINEERING
(1818)   ANDRIYA NARASIMHULU  ASSISTANT PROFESSOR  MECHANICAL ENGINEERING
(1819)  Mr LAMBODAR MISHRA  DATA PROCESSOR  ACADEMIC SECTION
(1820)  Mr LAMBODAR MISHRA  DATA PROCESSOR  EXAMINATION CELL
(1821)   YATENDER KUMAR  ASSISTANT PROFESSOR  BIO TECHNOLOGY
(1822)  Dr PRAVEEN SAROHA  OFFICER INCHARGE  PHYSICAL EDUCATION
(1823)   SAMIR GOKARN  ASSISTANT PROFESSOR  MANAGEMENT STUDIES
(1824)   SAMIR GOKARN  ASSISTANT PROFESSOR  MANAGEMENT STUDIES
(1825)   MANISHA KHULBE  ASSISTANT PROFESSOR  ELECTRONICS AND COMMUNICATION ENGINEERING EAST 
(1826)   YATENDER KUMAR  ASSISTANT PROFESSOR  BIO TECHNOLOGY
(1827)   YATENDER KUMAR  ASSISTANT PROFESSOR  BIO TECHNOLOGY
(1828)  Dr  RAVINDER SINGH  ASSISTANT PROFESSOR  ELECTRICAL ENGINEERING
(1829)  Dr  RAVINDER SINGH  ASSISTANT PROFESSOR  ELECTRICAL ENGINEERING
(1830)   JYOTI YADAV  ASSISTANT PROFESSOR  INSTRUMENTATION AND CONTROL ENGINEERING
(1831)   JYOTI YADAV  ASSISTANT PROFESSOR  INSTRUMENTATION AND CONTROL ENGINEERING
(1832)   PINAKI CHAKRABORTY  ASSISTANT PROFESSOR  COMPUTER ENGINEERING
(1833)   PINAKI CHAKRABORTY  ASSISTANT PROFESSOR  COMPUTER ENGINEERING
(1834)  Dr  ANKIT KUMAR SINGH  ASSISTANT PROFESSOR  ELECTRICAL ENGINEERING
(1835)  Dr  ANKIT KUMAR SINGH  ASSISTANT PROFESSOR  ELECTRICAL ENGINEERING
(1836)  Dr AMITA JAIN  COMPUTER SCIENCE AND ENGINEERING EAST 
(1837)   ANDRIYA NARASIMHULU  ASSISTANT PROFESSOR  MECHANICAL ENGINEERING
(1838)  Dr PRAVEEN SAROHA  UNIVERSITY COORDINATOR NSS  PHYSICAL EDUCATION
(1839)   DEEPIKA KUKREJA  ASSISTANT PROFESSOR  INFORMATION TECHNOLOGY
(1840)   DEEPIKA KUKREJA  ASSISTANT PROFESSOR  INFORMATION TECHNOLOGY
(1841)   TARUN KUMAR RAWAT  ASSOCIATE PROFESSOR  ELECTRONICS AND COMMUNICATION ENGINEERING
(1842)   TARUN KUMAR RAWAT  ASSOCIATE PROFESSOR  ELECTRONICS AND COMMUNICATION ENGINEERING
(1843)  PROF SHREE PRAKASH SINGH  CHIEF WARDEN  HOSTEL
(1844)  PROF SHREE PRAKASH SINGH  OFFICER INCHARGE  OPTICAL AND COMMUNICATION RESEARCH  A V SYSTEM LAB  ELECTRONICS AND COMMUNICATION ENGINEERING
(1845)   TARUN KUMAR RAWAT  ASSOCIATE PROFESSOR  ELECTRONICS AND COMMUNICATION ENGINEERING
(1846)   TARUN KUMAR RAWAT  ASSOCIATE PROFESSOR  ELECTRONICS AND COMMUNICATION ENGINEERING
(1847)   ANURADHA TOMAR  ASSISTANT PROFESSOR  INSTRUMENTATION AND CONTROL ENGINEERING
(1848)   ANURADHA TOMAR  ASSISTANT PROFESSOR  INSTRUMENTATION AND CONTROL ENGINEERING
(1849)  Mr LAMBODAR MISHRA  DATA PROCESSOR  EXAMINATION CELL
(1850)  Mrs MAHESHWARI CHANDRA  SECTION OFFICER  ACADEMIC SECTION
(1851)   YATENDER KUMAR  ASSISTANT PROFESSOR  BIO TECHNOLOGY
(1852)  Dr  SUJATA SENGAR  DEAN ACADEMICS  ACADEMIC SECTION
(1853)   TARUN KUMAR RAWAT  ASSOCIATE PROFESSOR  ELECTRONICS AND COMMUNICATION ENGINEERING
(1854)   TARUN KUMAR RAWAT  ASSOCIATE PROFESSOR  ELECTRONICS AND COMMUNICATION ENGINEERING
(1855)   TARUN KUMAR RAWAT  ASSOCIATE PROFESSOR  ELECTRONICS AND COMMUNICATION ENGINEERING
(1856)  MS SANEHAJA SHARMA  ASSISTANT REGISTRAR  ACADEMIC SECTION
(1857)  PROF SHREE PRAKASH SINGH  CHIEF WARDEN  HOSTEL
(1858)  Mr LAMBODAR MISHRA  DATA PROCESSOR  EXAMINATION CELL
(1859)  Mr LAMBODAR MISHRA  ACADEMIC SECTION
(1860)  Mrs TARUNA TIWARI  ACADEMIC SECTION
(1861)  Mrs TARUNA TIWARI  ACADEMIC SECTION
(1862)   PANKAJ DESHWAL  ASSISTANT PROFESSOR  MANAGEMENT
(1863)   SAMIR GOKARN  ASSISTANT PROFESSOR  MANAGEMENT STUDIES
(1864)   ANDRIYA NARASIMHULU  ASSISTANT PROFESSOR  MECHANICAL ENGINEERING
(1865)   ANDRIYA NARASIMHULU  ASSISTANT PROFESSOR  MECHANICAL ENGINEERING
(1866)   ANDRIYA NARASIMHULU  ASSISTANT PROFESSOR  MECHANICAL ENGINEERING
(1867)   ANDRIYA NARASIMHULU  ASSISTANT PROFESSOR  MECHANICAL ENGINEERING
(1868)  Mr LAMBODAR MISHRA  DATA PROCESSOR  ACADEMIC SECTION
(1869)  Mr LAMBODAR MISHRA  DATA PROCESSOR  ACADEMIC SECTION
(1870)  DR POONAM RANI  ASSISTANT PROFESSOR  COMPUTER SCIENCE AND ENGINEERING
(1871)  Mr LAMBODAR MISHRA  DATA PROCESSOR  ACADEMIC SECTION
(1872)  Mr LAMBODAR MISHRA  DATA PROCESSOR  ACADEMIC SECTION
(1873)   KHUSHIL KUMAR SAINI  COORDINATOR  UNIVERSITY MANAGEMENT CENTRE  CENTRAL COMPUTER CENTER
(1874)   DEEPIKA KUKREJA  ASSISTANT PROFESSOR  INFORMATION TECHNOLOGY
(1875)  Mr LAMBODAR MISHRA  DATA PROCESSOR  ACADEMIC SECTION
(1876)  Mr LAMBODAR MISHRA  ACADEMIC SECTION
(1877)   KHUSHIL KUMAR SAINI  COORDINATOR  UNIVERSITY MANAGEMENT CENTRE  CENTRAL COMPUTER CENTER
(1878)  Mrs TARUNA TIWARI  ACADEMIC SECTION
(1879)   KHUSHIL KUMAR SAINI  COORDINATOR  UNIVERSITY MANAGEMENT CENTRE  CENTRAL COMPUTER CENTER
(1880)   KHUSHIL KUMAR SAINI  COORDINATOR  UNIVERSITY MANAGEMENT CENTRE  CENTRAL COMPUTER CENTER
(1881)   KHUSHIL KUMAR SAINI  COORDINATOR  UNIVERSITY MANAGEMENT CENTRE  CENTRAL COMPUTER CENTER
(1882)   KHUSHIL KUMAR SAINI  COORDINATOR  UNIVERSITY MANAGEMENT CENTRE  CENTRAL COMPUTER CENTER
(1883)  Mr LAMBODAR MISHRA  DATA PROCESSOR  ACADEMIC SECTION
(1884)  Mr LAMBODAR MISHRA  DATA PROCESSOR  EXAMINATION CELL
(1885)  Dr PRAVEEN SAROHA  OFFICER INCHARGE  PHYSICAL EDUCATION
(1886)   PANKAJ DESHWAL  ASSISTANT PROFESSOR  MANAGEMENT
(1887)  Dr PRAVEEN SAROHA  PHYSICAL EDUCATION
(1888)  Dr AMITA JAIN  COMPUTER SCIENCE AND ENGINEERING EAST 
(1889)   TARUN KUMAR RAWAT  ASSOCIATE PROFESSOR  ELECTRONICS AND COMMUNICATION ENGINEERING
(1890)   TARUN KUMAR RAWAT  ASSOCIATE PROFESSOR  ELECTRONICS AND COMMUNICATION ENGINEERING
(1891)  Dr  RAVINDER SINGH  ASSISTANT PROFESSOR  ELECTRICAL ENGINEERING
(1892)  PROF SHREE PRAKASH SINGH  HOD  ELECTRONICS AND COMMUNICATION ENGINEERING
(1893)   ANURADHA TOMAR  ASSISTANT PROFESSOR  INSTRUMENTATION AND CONTROL ENGINEERING
(1894)  Dr  RAVINDER SINGH  ASSISTANT PROFESSOR  ELECTRICAL ENGINEERING
(1895)   ANURADHA TOMAR  ASSISTANT PROFESSOR  INSTRUMENTATION AND CONTROL ENGINEERING
(1896)  PROF SHREE PRAKASH SINGH  HOSTEL WARDEN  RAMANUJAN  HOSTEL
(1897)  DR NEHA SAINI  ASSISTANT PROFESSOR  MANAGEMENT STUDIES
(1898)   PANKAJ DESHWAL  ASSISTANT PROFESSOR  MANAGEMENT STUDIES
(1899)  Dr AMITA JAIN  COMPUTER SCIENCE AND ENGINEERING EAST 
(1900)  Dr AMITA JAIN  COMPUTER SCIENCE AND ENGINEERING EAST 
(1901)   DEEPIKA KUKREJA  ASSISTANT PROFESSOR  INFORMATION TECHNOLOGY
(1902)   DEEPIKA KUKREJA  ASSISTANT PROFESSOR  INFORMATION TECHNOLOGY
(1903)  Mr LAMBODAR MISHRA  DATA PROCESSOR  EXAMINATION CELL
(1904)  Mrs MAHESHWARI CHANDRA  SECTION OFFICER  ACADEMIC SECTION
(1905)   MANISHA KHULBE  ASSISTANT PROFESSOR  ELECTRONICS AND COMMUNICATION ENGINEERING EAST 
(1906)   SHILPA SHARMA  ASSISTANT PROFESSOR  BIO TECHNOLOGY
(1907)  Mr  JAI PRAKASH SHARMA  UDC  DEAN STUDENT WELFARE OFFICE
(1908)   ANDRIYA NARASIMHULU  ASSISTANT PROFESSOR  MECHANICAL ENGINEERING
(1909)  DR POONAM RANI  ASSISTANT PROFESSOR  COMPUTER SCIENCE AND ENGINEERING
(1910)   DURU ARUN KUMAR  MANAGEMENT
(1911)  Dr PRAVEEN SAROHA  UNIVERSITY COORDINATOR NSS  PHYSICAL EDUCATION
(1912)  Dr PRAVEEN SAROHA  OFFICER INCHARGE  PHYSICAL EDUCATION
(1913)   JYOTI YADAV  ASSISTANT PROFESSOR  INSTRUMENTATION AND CONTROL ENGINEERING
(1914)  Dr  RAVINDER SINGH  ASSISTANT PROFESSOR  ELECTRICAL ENGINEERING
(1915)  Mrs MAHESHWARI CHANDRA  SECTION OFFICER  ACADEMIC SECTION
(1916)  Mrs MAHESHWARI CHANDRA  SECTION OFFICER  ACADEMIC SECTION
(1917)  Mrs MAHESHWARI CHANDRA  SECTION OFFICER  ACADEMIC SECTION
(1918)  Mrs MAHESHWARI CHANDRA  SECTION OFFICER  ACADEMIC SECTION
(1919)  Dr PRAVEEN SAROHA  OFFICER INCHARGE  PHYSICAL EDUCATION
(1920)  Dr PRAVEEN SAROHA  UNIVERSITY COORDINATOR NSS  PHYSICAL EDUCATION
(1921)  Mr LAMBODAR MISHRA  DATA PROCESSOR  ACADEMIC SECTION
(1922)  Mr LAMBODAR MISHRA  DATA PROCESSOR  ACADEMIC SECTION
(1923)   KHUSHIL KUMAR SAINI  COORDINATOR  UNIVERSITY MANAGEMENT CENTRE  CENTRAL COMPUTER CENTER
(1924)   KHUSHIL KUMAR SAINI  COORDINATOR  UNIVERSITY MANAGEMENT CENTRE  CENTRAL COMPUTER CENTER
(1925)   KHUSHIL KUMAR SAINI  COORDINATOR  UNIVERSITY MANAGEMENT CENTRE  CENTRAL COMPUTER CENTER
(1926)   KHUSHIL KUMAR SAINI  COORDINATOR  UNIVERSITY MANAGEMENT CENTRE  CENTRAL COMPUTER CENTER
(1927)   KHUSHIL KUMAR SAINI  COORDINATOR  UNIVERSITY MANAGEMENT CENTRE  CENTRAL COMPUTER CENTER
(1928)  Mr SHYAM SINGH  GRADUATE CLERK  CENTRAL COMPUTER CENTER
(1929)  Mr LAMBODAR MISHRA  DATA PROCESSOR  ACADEMIC SECTION
(1930)  Mr LAMBODAR MISHRA  DATA PROCESSOR  ACADEMIC SECTION
(1931)  Dr AMITA JAIN  COMPUTER SCIENCE AND ENGINEERING EAST 
(1932)   SHILPA SHARMA  HOSTEL WARDEN  BIO TECHNOLOGY
(1933)  Mr LAMBODAR MISHRA  DATA PROCESSOR  EXAMINATION CELL
(1934)  Mr LAMBODAR MISHRA  DATA PROCESSOR  EXAMINATION CELL
(1935)  Dr AKHILESH DUBEY  OFFICER INCHARGE  BIOLOGICAL SCIENCES AND ENGINEERING
(1936)  Dr PRAVEEN SAROHA  OFFICER INCHARGE  PHYSICAL EDUCATION
(1937)  PROF SHREE PRAKASH SINGH  HOSTEL WARDEN  RAMANUJAN  HOSTEL
(1938)  PROF SHREE PRAKASH SINGH  HOSTEL WARDEN  RAMANUJAN  HOSTEL
(1939)  Mr SHYAM SINGH  GRADUATE CLERK  CENTRAL COMPUTER CENTER
(1940)  Mr LAMBODAR MISHRA  DATA PROCESSOR  ACADEMIC SECTION
(1941)  Mr LAMBODAR MISHRA  DATA PROCESSOR  ACADEMIC SECTION
(1942)   PANKAJ DESHWAL  ASSISTANT PROFESSOR  MANAGEMENT
(1943)  Mr LAMBODAR MISHRA  ACADEMIC SECTION
(1944)   ANDRIYA NARASIMHULU  ASSISTANT PROFESSOR  MECHANICAL ENGINEERING
(1945)   ANDRIYA NARASIMHULU  ASSISTANT PROFESSOR  MECHANICAL ENGINEERING
(1946)  Mr LAMBODAR MISHRA  DATA PROCESSOR  ACADEMIC SECTION
(1947)  Mr LAMBODAR MISHRA  DATA PROCESSOR  ACADEMIC SECTION
(1948)   ANURADHA TOMAR  ASSISTANT PROFESSOR  INSTRUMENTATION AND CONTROL ENGINEERING
(1949)   BHAVNESH KUMAR  ASSISTANT PROFESSOR  INSTRUMENTATION AND CONTROL ENGINEERING
(1950)  Mrs MAHESHWARI CHANDRA  ACADEMIC SECTION
(1951)  Mrs MAHESHWARI CHANDRA  SECTION OFFICER  ACADEMIC SECTION
(1952)  Mr SHYAM SINGH  GRADUATE CLERK  CENTRAL COMPUTER CENTER
(1953)   DURU ARUN KUMAR  MANAGEMENT
(1954)  Mr LAMBODAR MISHRA  ACADEMIC SECTION
(1955)  Mr LAMBODAR MISHRA  DATA PROCESSOR  ACADEMIC SECTION
(1956)   SHILPA SHARMA  HOSTEL WARDEN  BIO TECHNOLOGY
(1957)   SAMIR GOKARN  ASSISTANT PROFESSOR  MANAGEMENT STUDIES
(1958)   JYOTI YADAV  ASSISTANT PROFESSOR  INSTRUMENTATION AND CONTROL ENGINEERING
(1959)   BIJENDRA KUMAR  HOD  COMPUTER SCIENCE AND ENGINEERING
(1960)   MANISHA  ASSISTANT PROFESSOR  INSTRUMENTATION AND CONTROL ENGINEERING
(1961)  Dr  RAVINDER SINGH  ASSISTANT PROFESSOR  ELECTRICAL ENGINEERING
(1962)   JYOTI YADAV  ASSISTANT PROFESSOR  INSTRUMENTATION AND CONTROL ENGINEERING
(1963)  Dr  RAVINDER SINGH  ASSISTANT PROFESSOR  ELECTRICAL ENGINEERING
(1964)   MANISHA KHULBE  ELECTRONICS AND COMMUNICATION ENGINEERING EAST 
(1965)  Dr AMITA JAIN  COMPUTER SCIENCE AND ENGINEERING EAST 
(1966)  Dr AMITA JAIN  COMPUTER SCIENCE AND ENGINEERING EAST 
(1967)   ALOK AGRAWAL  ASSISTANT PROFESSOR  INSTRUMENTATION AND CONTROL ENGINEERING
(1968)   ANURADHA TOMAR  ASSISTANT PROFESSOR  INSTRUMENTATION AND CONTROL ENGINEERING
(1969)  Prof  PRAGYA VARSHNEY  PROFESSOR  INSTRUMENTATION AND CONTROL ENGINEERING
(1970)   ANDRIYA NARASIMHULU  ASSISTANT PROFESSOR  MECHANICAL ENGINEERING
(1971)   JYOTI YADAV  ASSISTANT PROFESSOR  INSTRUMENTATION AND CONTROL ENGINEERING
(1972)   HIMANSHU SINGHAL  SENIOR SYSTEM ANALYST  CENTRAL COMPUTER CENTER
(1973)  DR POONAM RANI  ASSISTANT PROFESSOR  COMPUTER SCIENCE AND ENGINEERING
(1974)   TARUN KUMAR RAWAT  ASSOCIATE PROFESSOR  ELECTRONICS AND COMMUNICATION ENGINEERING
(1975)  Mr SHYAM SINGH  GRADUATE CLERK  CENTRAL COMPUTER CENTER
(1976)   DEEPAK KUMAR SHARMA  ASSISTANT PROFESSOR  INFORMATION TECHNOLOGY
(1977)   DEEPAK KUMAR SHARMA  ASSISTANT PROFESSOR  INFORMATION TECHNOLOGY
(1978)   ANDRIYA NARASIMHULU  ASSISTANT PROFESSOR  MECHANICAL ENGINEERING
(1979)   ANDRIYA NARASIMHULU  ASSISTANT PROFESSOR  MECHANICAL ENGINEERING
(1980)   YATENDER KUMAR  ASSISTANT PROFESSOR  BIO TECHNOLOGY
(1981)  PROF SHREE PRAKASH SINGH  CHIEF WARDEN  HOSTEL
(1982)   DEVENDER KUMAR  ASSISTANT PROFESSOR  INFORMATION TECHNOLOGY
(1983)  DR POONAM RANI  ASSISTANT PROFESSOR  COMPUTER SCIENCE AND ENGINEERING
(1984)  Mr LAMBODAR MISHRA  DATA PROCESSOR  EXAMINATION CELL
(1985)   SHILPA SHARMA  HOSTEL WARDEN  BIOLOGICAL SCIENCES AND ENGINEERING
(1986)   SHILPA SHARMA  PRACTICAL INSTRUCTOR  BIOLOGICAL SCIENCES AND ENGINEERING
(1987)   KUNWAR SINGH  HOSTEL WARDEN  ELECTRONICS AND COMMUNICATION ENGINEERING
(1988)  Mrs MAHESHWARI CHANDRA  SECTION OFFICER  ACADEMIC SECTION
(1989)  Mr LAMBODAR MISHRA  EXAMINATION CELL
(1990)  Mr LAMBODAR MISHRA  EXAMINATION CELL
(1991)  Mr LAMBODAR MISHRA  DATA PROCESSOR  EXAMINATION CELL
(1992)  Prof  PRAGYA VARSHNEY  PROFESSOR  INSTRUMENTATION AND CONTROL ENGINEERING
(1993)  PROF SHREE PRAKASH SINGH  HOSTEL WARDEN  RAMANUJAN  HOSTEL
(1994)  PROF SHREE PRAKASH SINGH  HOSTEL WARDEN  RAMANUJAN  HOSTEL
(1995)  Mr LAMBODAR MISHRA  DATA PROCESSOR  EXAMINATION CELL
(1996)  Mr LAMBODAR MISHRA  DATA PROCESSOR  EXAMINATION CELL
(1997)  Mr LAMBODAR MISHRA  DATA PROCESSOR  EXAMINATION CELL
(1998)   KHUSHIL KUMAR SAINI  COORDINATOR  UNIVERSITY MANAGEMENT CENTRE  CENTRAL COMPUTER CENTER
(1999)   KHUSHIL KUMAR SAINI  COORDINATOR  UNIVERSITY MANAGEMENT CENTRE  CENTRAL COMPUTER CENTER
(2000)   KHUSHIL KUMAR SAINI  COORDINATOR  UNIVERSITY MANAGEMENT CENTRE  CENTRAL COMPUTER CENTER
(2001)   KHUSHIL KUMAR SAINI  COORDINATOR  UNIVERSITY MANAGEMENT CENTRE  CENTRAL COMPUTER CENTER
(2002)  Mr LAMBODAR MISHRA  ACADEMIC SECTION
(2003)  Mr LAMBODAR MISHRA  ACADEMIC SECTION
(2004)  Mr LAMBODAR MISHRA  DATA PROCESSOR  ACADEMIC SECTION
(2005)   ANDRIYA NARASIMHULU  ASSISTANT PROFESSOR  MECHANICAL ENGINEERING
(2006)  DR ANKITA JAIN BANSAL  ASSISTANT PROFESSOR  INFORMATION TECHNOLOGY
(2007)  Prof  PRAGYA VARSHNEY  PROFESSOR  INSTRUMENTATION AND CONTROL ENGINEERING
(2008)  Mr LAMBODAR MISHRA  DATA PROCESSOR  ACADEMIC SECTION
(2009)  Mr LAMBODAR MISHRA  DATA PROCESSOR  ACADEMIC SECTION
(2010)   ANDRIYA NARASIMHULU  ASSISTANT PROFESSOR  MECHANICAL ENGINEERING
(2011)  Mr LAMBODAR MISHRA  DATA PROCESSOR  ACADEMIC SECTION
(2012)  PROF SHREE PRAKASH SINGH  CHIEF WARDEN  HOSTEL
(2013)   PANKAJ AGGARWAL  UDC  BIOLOGICAL SCIENCES AND ENGINEERING
(2014)  Mr SHYAM SINGH  GRADUATE CLERK  CENTRAL COMPUTER CENTER
(2015)  Mr SHYAM SINGH  GRADUATE CLERK  CENTRAL COMPUTER CENTER
(2016)  Dr  ANAND GUPTA  ASSOCIATE PROFESSOR  COMPUTER ENGINEERING
(2017)  Mrs MAHESHWARI CHANDRA  SECTION OFFICER  ACADEMIC SECTION
(2018)   SHILPA SHARMA  HOSTEL WARDEN  BIO TECHNOLOGY
(2019)   KHUSHIL KUMAR SAINI  COORDINATOR  UNIVERSITY MANAGEMENT CENTRE  CENTRAL COMPUTER CENTER
(2020)   KHUSHIL KUMAR SAINI  COORDINATOR  UNIVERSITY MANAGEMENT CENTRE  CENTRAL COMPUTER CENTER
(2021)  PROF SHREE PRAKASH SINGH  HOSTEL WARDEN  RAMANUJAN  HOSTEL
(2022)  PROF SHREE PRAKASH SINGH  HOSTEL WARDEN  CENTRAL COMPUTER CENTER
(2023)  Mr LAMBODAR MISHRA  DATA PROCESSOR  EXAMINATION CELL
(2024)  Dr AMITA JAIN  COMPUTER SCIENCE AND ENGINEERING EAST 
(2025)   PINAKI CHAKRABORTY  ASSISTANT PROFESSOR  COMPUTER ENGINEERING
(2026)  DR POONAM RANI  ASSISTANT PROFESSOR  COMPUTER SCIENCE AND ENGINEERING
(2027)   YATENDER KUMAR  ASSISTANT PROFESSOR  BIO TECHNOLOGY
(2028)  Mr LAMBODAR MISHRA  DATA PROCESSOR  EXAMINATION CELL
(2029)  Mr LAMBODAR MISHRA  DATA PROCESSOR  EXAMINATION CELL
(2030)   KUNWAR SINGH  HOSTEL WARDEN  ELECTRONICS AND COMMUNICATION ENGINEERING
(2031)   JYOTI YADAV  ASSISTANT PROFESSOR  INSTRUMENTATION AND CONTROL ENGINEERING
(2032)  Mr LAMBODAR MISHRA  DATA PROCESSOR  ACADEMIC SECTION
(2033)  Dr AMITA JAIN  COMPUTER SCIENCE AND ENGINEERING EAST 
(2034)  Dr AMITA JAIN  COMPUTER SCIENCE AND ENGINEERING EAST 
(2035)  Mr LAMBODAR MISHRA  DATA PROCESSOR  ACADEMIC SECTION
(2036)  DR POONAM RANI  ASSISTANT PROFESSOR  COMPUTER SCIENCE AND ENGINEERING
(2037)   TARUN KUMAR RAWAT  ASSOCIATE PROFESSOR  ELECTRONICS AND COMMUNICATION ENGINEERING
(2038)  Mr LAMBODAR MISHRA  DATA PROCESSOR  EXAMINATION CELL
(2039)  Mr LAMBODAR MISHRA  DATA PROCESSOR  EXAMINATION CELL
(2040)   DEEPAK KUMAR SHARMA  ASSISTANT PROFESSOR  INFORMATION TECHNOLOGY
(2041)  DR POONAM RANI  ASSISTANT PROFESSOR  COMPUTER ENGINEERING
(2042)   ANDRIYA NARASIMHULU  ASSISTANT PROFESSOR  MECHANICAL ENGINEERING
(2043)   JYOTI YADAV  ASSISTANT PROFESSOR  INSTRUMENTATION AND CONTROL ENGINEERING
(2044)   JYOTI YADAV  ASSISTANT PROFESSOR  INSTRUMENTATION AND CONTROL ENGINEERING
(2045)   JYOTI YADAV  ASSISTANT PROFESSOR  INSTRUMENTATION AND CONTROL ENGINEERING
(2046)   JYOTI YADAV  ASSISTANT PROFESSOR  INSTRUMENTATION AND CONTROL ENGINEERING
(2047)  DR POONAM RANI  ASSISTANT PROFESSOR  COMPUTER SCIENCE AND ENGINEERING
(2048)   KUNWAR SINGH  HOSTEL WARDEN  ELECTRONICS AND COMMUNICATION ENGINEERING
(2049)   ATHAR HUSSAIN  PROFESSOR  CIVIL ENGINEERING
(2050)   URVASHI BANSAL  ASSISTANT PROFESSOR  ELECTRONICS AND COMMUNICATION ENGINEERING
(2051)   SHILPA SHARMA  BIOLOGICAL SCIENCES AND ENGINEERING
(2052)  Mr LAMBODAR MISHRA  DATA PROCESSOR  EXAMINATION CELL
(2053)   URVASHI BANSAL  ASSISTANT PROFESSOR  ELECTRONICS AND COMMUNICATION ENGINEERING
(2054)   URVASHI BANSAL  ASSISTANT PROFESSOR  ELECTRONICS AND COMMUNICATION ENGINEERING
(2055)  Dr  ANAND GUPTA  ASSOCIATE PROFESSOR  COMPUTER ENGINEERING
(2056)  Dr  ANAND GUPTA  ASSOCIATE PROFESSOR  COMPUTER ENGINEERING
(2057)  Mrs MAHESHWARI CHANDRA  SECTION OFFICER  ACADEMIC SECTION
(2058)   ANDRIYA NARASIMHULU  ASSISTANT PROFESSOR  MECHANICAL ENGINEERING
(2059)  Mr LAMBODAR MISHRA  ACADEMIC SECTION
(2060)  Mr LAMBODAR MISHRA  ACADEMIC SECTION
(2061)  Prof  ANJANA SARKAR  HOD  CHEMISTRY
(2062)  Prof  RANJANA JHA  HOD  PHYSICS
(2063)   SACHIN SHARMA  ASSISTANT PROFESSOR  MATHEMATICS
(2064)   DEVENDER KUMAR  ASSISTANT PROFESSOR  INFORMATION TECHNOLOGY
(2065)   VINEET KUMAR  PROFESSOR  EXAMINATION CELL
(2066)  Mr LAMBODAR MISHRA  ACADEMIC SECTION
(2067)  Mr LAMBODAR MISHRA  ACADEMIC SECTION
(2068)  Prof  RANJANA JHA  HOD  PHYSICS
(2069)  DR TANUSHREE CHOUDHARY  HOD  HUMANITIES AND SOCIAL SCIENCES
(2070)  Mrs MAHESHWARI CHANDRA  SECTION OFFICER  ACADEMIC SECTION
(2071)  Mr LAMBODAR MISHRA  DATA PROCESSOR  ACADEMIC SECTION
(2072)  Mr LAMBODAR MISHRA  DATA PROCESSOR  ACADEMIC SECTION
(2073)   SHWETA GAUTAM  ELECTRONICS AND COMMUNICATION ENGINEERING
(2074)   SHILPA SHARMA  HOSTEL WARDEN  BIO TECHNOLOGY
(2075)   YATENDER KUMAR  ASSISTANT PROFESSOR  BIO TECHNOLOGY
(2076)  Mrs MAHESHWARI CHANDRA  SECTION OFFICER  ACADEMIC SECTION
(2077)   SHILPA SHARMA  HOSTEL WARDEN  BIO TECHNOLOGY
(2078)  Mr LAMBODAR MISHRA  DATA PROCESSOR  ACADEMIC SECTION
(2079)  Mr LAMBODAR MISHRA  DATA PROCESSOR  ACADEMIC SECTION
(2080)  Mr LAMBODAR MISHRA  DATA PROCESSOR  EXAMINATION CELL
(2081)  Mr LAMBODAR MISHRA  DATA PROCESSOR  EXAMINATION CELL
(2082)  Dr AKHILESH DUBEY  OFFICER INCHARGE  BIO TECHNOLOGY
(2083)   KHUSHIL KUMAR SAINI  COORDINATOR  UNIVERSITY MANAGEMENT CENTRE  CENTRAL COMPUTER CENTER
(2084)  Mr LAMBODAR MISHRA  ACADEMIC SECTION
(2085)  Mr LAMBODAR MISHRA  ACADEMIC SECTION
(2086)  Mr LAMBODAR MISHRA  ACADEMIC SECTION
(2087)  DR NEHA SAINI  ASSISTANT PROFESSOR  MANAGEMENT STUDIES
(2088)  Mr LAMBODAR MISHRA  DATA PROCESSOR  EXAMINATION CELL
(2089)  Dr PRAVEEN SAROHA  OFFICER INCHARGE  PHYSICAL EDUCATION
(2090)   SHILPA SHARMA  HOSTEL WARDEN  BIO TECHNOLOGY
(2091)  Mrs TARUNA TIWARI  ACADEMIC SECTION
(2092)  PROF SHREE PRAKASH SINGH  CHIEF WARDEN  HOSTEL
(2093)  PROF SHREE PRAKASH SINGH  HOSTEL WARDEN  RAMANUJAN  HOSTEL
(2094)  Mr LAMBODAR MISHRA  DATA PROCESSOR  EXAMINATION CELL
(2095)  Mr SHYAM SINGH  GRADUATE CLERK  CENTRAL COMPUTER CENTER
(2096)   SHILPA SHARMA  HOSTEL WARDEN  BIO TECHNOLOGY
(2097)  Dr  VINOD KUMAR  ASSOCIATE PROFESSOR  PHYSICS
(2098)   KUNWAR SINGH  HOSTEL WARDEN  ELECTRONICS AND COMMUNICATION ENGINEERING
(2099)  DR MAMTA MISHRA  ASSOCIATE PROFESSOR  MATHEMATICS
(2100)  Mr LAMBODAR MISHRA  DATA PROCESSOR  ACADEMIC SECTION
(2101)   ANDRIYA NARASIMHULU  MECHANICAL ENGINEERING
(2102)  DR MAMTA MISHRA  ASSOCIATE PROFESSOR  MATHEMATICS
(2103)   SHILPA SHARMA  HOSTEL WARDEN  BIO TECHNOLOGY
(2104)   SHILPA SHARMA  BIO TECHNOLOGY
(2105)   JYOTI YADAV  ASSISTANT PROFESSOR  INSTRUMENTATION AND CONTROL ENGINEERING
(2106)   SHWETA GAUTAM  HOSTEL WARDEN  ELECTRONICS AND COMMUNICATION ENGINEERING
(2107)   URVASHI BANSAL  ASSISTANT PROFESSOR  ELECTRONICS AND COMMUNICATION ENGINEERING
(2108)   SHWETA GAUTAM  HOSTEL WARDEN  ELECTRONICS AND COMMUNICATION ENGINEERING
(2109)   SHILPA SHARMA  HOSTEL WARDEN  BIO TECHNOLOGY
(2110)   SHILPA SHARMA  ASSISTANT PROFESSOR  BIO TECHNOLOGY
(2111)  Mr LAMBODAR MISHRA  DATA PROCESSOR  ACADEMIC SECTION
(2112)  Prof  RANJANA JHA  HOD  PHYSICS
(2113)   URVASHI BANSAL  ASSISTANT PROFESSOR  ELECTRONICS AND COMMUNICATION ENGINEERING
(2114)   KUNWAR SINGH  HOSTEL WARDEN  ELECTRONICS AND COMMUNICATION ENGINEERING
(2115)   JYOTI YADAV  ASSISTANT PROFESSOR  INSTRUMENTATION AND CONTROL ENGINEERING
(2116)   KUNWAR SINGH  HOSTEL WARDEN  ELECTRONICS AND COMMUNICATION ENGINEERING
(2117)   DEEPAK KUMAR SHARMA  INFORMATION TECHNOLOGY
(2118)   DEEPAK KUMAR SHARMA  INFORMATION TECHNOLOGY
(2119)   ANDRIYA NARASIMHULU  ASSISTANT PROFESSOR  MECHANICAL ENGINEERING
(2120)   KUNWAR SINGH  HOSTEL WARDEN  ELECTRONICS AND COMMUNICATION ENGINEERING
(2121)  DR POONAM RANI  ASSISTANT PROFESSOR  COMPUTER SCIENCE AND ENGINEERING
(2122)   SHILPA SHARMA  HOSTEL WARDEN  BIO TECHNOLOGY
(2123)   RAVINDER KUMAR  DEAN STUDENT WELFARE OFFICE
(2124)  PROF SHREE PRAKASH SINGH  HOSTEL WARDEN  RAMANUJAN  HOSTEL
(2125)  Mr LAMBODAR MISHRA  DATA PROCESSOR  EXAMINATION CELL
(2126)   DEEPAK KUMAR SHARMA  INFORMATION TECHNOLOGY
(2127)   ANDRIYA NARASIMHULU  ASSISTANT PROFESSOR  MECHANICAL ENGINEERING
(2128)   KUNWAR SINGH  HOSTEL WARDEN  ELECTRONICS AND COMMUNICATION ENGINEERING
(2129)   SHILPA SHARMA  HOSTEL WARDEN  BIO TECHNOLOGY
(2130)   SHILPA SHARMA  HOSTEL WARDEN  BIO TECHNOLOGY
(2131)   KHUSHIL KUMAR SAINI  COORDINATOR  UNIVERSITY MANAGEMENT CENTRE  CENTRAL COMPUTER CENTER
(2132)  PROF SHREE PRAKASH SINGH  CHIEF WARDEN  CENTRAL COMPUTER CENTER
(2133)  Dr  SUJATA SENGAR  OFFICER INCHARGE  ACADEMIC SECTION
(2134)   RAJ KUMAR  LIBRARY INFORMATION ASSISTANT  LIBRARY
(2135)  Mrs MAHESHWARI CHANDRA  SECTION OFFICER  ACADEMIC SECTION
(2136)  Mrs MAHESHWARI CHANDRA  SECTION OFFICER  ACADEMIC SECTION
(2137)  Prof  ANJANA SARKAR  HOD  CHEMISTRY
(2138)  Prof  ANJANA SARKAR  HOD  CHEMISTRY
(2139)  Mr LAMBODAR MISHRA  DATA PROCESSOR  ACADEMIC SECTION
(2140)  DR TANUSHREE CHOUDHARY  HOD  HUMANITIES AND SOCIAL SCIENCES
(2141)  Mr LAMBODAR MISHRA  DATA PROCESSOR  ACADEMIC SECTION
(2142)  DR SATYA PRAKASH SINGH  ELECTRONICS AND COMMUNICATION ENGINEERING
(2143)  Dr AMITA JAIN  COMPUTER SCIENCE AND ENGINEERING EAST 
(2144)   SANJEEV KUMAR  INFORMATION TECHNOLOGY WEST 
(2145)  Dr  PREETI KAUR  ASSOCIATE PROFESSOR  COMPUTER ENGINEERING
(2146)  Mr LAMBODAR MISHRA  DATA PROCESSOR  ACADEMIC SECTION
(2147)   KHUSHIL KUMAR SAINI  COORDINATOR  UNIVERSITY MANAGEMENT CENTRE  CENTRAL COMPUTER CENTER
(2148)  Dr PRAVEEN SAROHA  UNIVERSITY COORDINATOR NSS  PHYSICAL EDUCATION
(2149)   ANOOP KUMAR SINGH  CARETAKER  ENGINEERING CELL
(2150)   KHUSHIL KUMAR SAINI  COORDINATOR  UNIVERSITY MANAGEMENT CENTRE  CENTRAL COMPUTER CENTER
(2151)  Mr LAMBODAR MISHRA  ACADEMIC SECTION
(2152)  Mr LAMBODAR MISHRA  ACADEMIC SECTION
(2153)     CENTRAL COMPUTER CENTER
(2154)  Mrs TARUNA TIWARI  ACADEMIC SECTION
(2155)  Dr PRAVEEN SAROHA  UNIVERSITY COORDINATOR NSS  PHYSICAL EDUCATION
(2156)   ANDRIYA NARASIMHULU  ASSISTANT PROFESSOR  MECHANICAL ENGINEERING
(2157)  Dr PRAVEEN SAROHA  UNIVERSITY COORDINATOR NSS  PHYSICAL EDUCATION
(2158)  Dr PRAVEEN SAROHA  UNIVERSITY COORDINATOR NSS  PHYSICAL EDUCATION
(2159)  Mrs MAHESHWARI CHANDRA  SECTION OFFICER  ACADEMIC SECTION
(2160)  Mrs MAHESHWARI CHANDRA  SECTION OFFICER  ACADEMIC SECTION
(2161)  DR ANKITA JAIN BANSAL  ASSISTANT PROFESSOR  INFORMATION TECHNOLOGY
(2162)   SAMIR GOKARN  ASSISTANT PROFESSOR  MANAGEMENT STUDIES
(2163)  b FE Backlog Course  NSIT   ODD Sem  September December 2021  online Google Class Code  w6kvsv7 br   font size  1   br   Dr PRAVEEN SAROHA  UNIVERSITY COORDINATOR NSS  PHYSICAL EDUCATION  b   font 
(2164)  Dr PRAVEEN SAROHA  UNIVERSITY COORDINATOR NSS  PHYSICAL EDUCATION
(2165)  Dr  PREETI KAUR  ASSOCIATE PROFESSOR  COMPUTER ENGINEERING
(2166)   DEEPIKA KUKREJA  ASSISTANT PROFESSOR  INFORMATION TECHNOLOGY
(2167)  Mrs MAHESHWARI CHANDRA  SECTION OFFICER  ACADEMIC SECTION
(2168)  Mrs MAHESHWARI CHANDRA  SECTION OFFICER  ACADEMIC SECTION
(2169)  Mrs MAHESHWARI CHANDRA  SECTION OFFICER  ACADEMIC SECTION
(2170)  Mrs MAHESHWARI CHANDRA  SECTION OFFICER  ACADEMIC SECTION
(2171)  Mrs MAHESHWARI CHANDRA  SECTION OFFICER  ACADEMIC SECTION
(2172)  Mrs MAHESHWARI CHANDRA  SECTION OFFICER  ACADEMIC SECTION
(2173)  Prof  ANJANA SARKAR  CHEMISTRY
(2174)  Dr  ANAND GUPTA  ASSOCIATE PROFESSOR  COMPUTER ENGINEERING
(2175)   MANISHA KHULBE  ELECTRONICS AND COMMUNICATION ENGINEERING EAST 
(2176)  Dr  SUJATA SENGAR  ACADEMIC SECTION
(2177)   PRASHANT KUMAR BHUYAN  ASSISTANT PROFESSOR  HUMANITIES AND SOCIAL SCIENCES
(2178)   SHILPA SHARMA  ASSISTANT PROFESSOR  BIOLOGICAL SCIENCES AND ENGINEERING
(2179)   ATHAR HUSSAIN  PROFESSOR  CIVIL ENGINEERING
(2180)   ATHAR HUSSAIN  PROFESSOR  CIVIL ENGINEERING
(2181)   SAMIR GOKARN  MANAGEMENT STUDIES
(2182)   SAMIR GOKARN  ASSISTANT PROFESSOR  MANAGEMENT STUDIES
(2183)  DR NEHA SAINI  ASSISTANT PROFESSOR  MANAGEMENT STUDIES
(2184)  Dr AMITA JAIN  COMPUTER SCIENCE AND ENGINEERING EAST 
(2185)   DURU ARUN KUMAR  MANAGEMENT
(2186)   KHUSHIL KUMAR SAINI  COORDINATOR  UNIVERSITY MANAGEMENT CENTRE  CENTRAL COMPUTER CENTER
(2187)   KHUSHIL KUMAR SAINI  COORDINATOR  UNIVERSITY MANAGEMENT CENTRE  CENTRAL COMPUTER CENTER
(2188)   KHUSHIL KUMAR SAINI  COORDINATOR  UNIVERSITY MANAGEMENT CENTRE  CENTRAL COMPUTER CENTER
(2189)   ANURADHA TOMAR  ASSISTANT PROFESSOR  INSTRUMENTATION AND CONTROL ENGINEERING
(2190)  Dr  ANAND GUPTA  ASSOCIATE PROFESSOR  COMPUTER ENGINEERING
(2191)  Dr  ANAND GUPTA  ASSOCIATE PROFESSOR  COMPUTER ENGINEERING
(2192)   DEEPAK KUMAR SHARMA  ASSISTANT PROFESSOR  INFORMATION TECHNOLOGY
(2193)  DR POONAM RANI  ASSISTANT PROFESSOR  COMPUTER SCIENCE AND ENGINEERING
(2194)  DR MAMTA MISHRA  ASSOCIATE PROFESSOR  MATHEMATICS
(2195)  Dr AMITA JAIN  COMPUTER SCIENCE AND ENGINEERING EAST 
(2196)   SHILPA SHARMA  ASSISTANT PROFESSOR  BIOLOGICAL SCIENCES AND ENGINEERING
(2197)   SAMIR GOKARN  INSTRUCTOR  MANAGEMENT STUDIES
(2198)  b Time Table B  Tech   Geoinformatics   Civil Engineering Department NSUT WEST CAMPUS w e f 01 September  2021 br   font size  1   br    ATHAR HUSSAIN  PROFESSOR  CIVIL ENGINEERING  b   font 
(2199)   ATHAR HUSSAIN  PROFESSOR  CIVIL ENGINEERING
(2200)   ATHAR HUSSAIN  PROFESSOR  CIVIL ENGINEERING
(2201)   TARUN KUMAR RAWAT  ASSISTANT PROFESSOR  ELECTRONICS AND COMMUNICATION ENGINEERING
(2202)   KHUSHIL KUMAR SAINI  COORDINATOR  UNIVERSITY MANAGEMENT CENTRE  CENTRAL COMPUTER CENTER
(2203)   DURU ARUN KUMAR  INSTRUCTOR  MANAGEMENT
(2204)   DURU ARUN KUMAR  INSTRUCTOR  MANAGEMENT
(2205)   ANDRIYA NARASIMHULU  ASSISTANT PROFESSOR  MECHANICAL ENGINEERING
(2206)   KHUSHIL KUMAR SAINI  COORDINATOR  UNIVERSITY MANAGEMENT CENTRE  CENTRAL COMPUTER CENTER
(2207)   SANJEEV KUMAR  INFORMATION TECHNOLOGY WEST 
(2208)  Dr AMITA JAIN  COMPUTER SCIENCE AND ENGINEERING EAST 
(2209)  Dr  ANAND GUPTA  ASSOCIATE PROFESSOR  COMPUTER ENGINEERING
(2210)   MANISHA KHULBE  ELECTRONICS AND COMMUNICATION ENGINEERING EAST 
(2211)   MANISHA KHULBE  ELECTRONICS AND COMMUNICATION ENGINEERING EAST 
(2212)   ATHAR HUSSAIN  PROFESSOR  CIVIL ENGINEERING
(2213)   TARUN KUMAR RAWAT  ASSISTANT PROFESSOR  ELECTRONICS AND COMMUNICATION ENGINEERING
(2214)   TARUN KUMAR RAWAT  ASSISTANT PROFESSOR  ELECTRONICS AND COMMUNICATION ENGINEERING
(2215)   HIMANSHU SINGHAL  SENIOR SYSTEM ANALYST  CENTRAL COMPUTER CENTER
(2216)   KUNWAR SINGH  PRACTICAL SUPERINTENDENT  ELECTRONICS AND COMMUNICATION ENGINEERING
(2217)  Mrs MAHESHWARI CHANDRA  SECTION OFFICER  ACADEMIC SECTION
(2218)  Mrs MAHESHWARI CHANDRA  SECTION OFFICER  ACADEMIC SECTION
(2219)  Mrs MAHESHWARI CHANDRA  SECTION OFFICER  ACADEMIC SECTION
(2220)  Mr SHYAM SINGH  CENTRAL COMPUTER CENTER
(2221)   AASTHA VERMA  MANAGEMENT STUDIES
(2222)  Dr  SUJATA SENGAR  ACADEMIC SECTION
(2223)  Dr  ANAND GUPTA  COMPUTER ENGINEERING
(2224)  Dr  ANAND GUPTA  ASSOCIATE PROFESSOR  COMPUTER ENGINEERING
(2225)  Dr AKHILESH DUBEY  OFFICER INCHARGE  BIOLOGICAL SCIENCES AND ENGINEERING
(2226)  Dr PRAVEEN SAROHA  OFFICER INCHARGE  PHYSICAL EDUCATION
(2227)  Prof  ANJANA SARKAR  HOD  CHEMISTRY
(2228)   BIJENDRA KUMAR  HOD  COMPUTER SCIENCE AND ENGINEERING
(2229)   MANISHA KHULBE  ELECTRONICS AND COMMUNICATION ENGINEERING EAST 
(2230)  Mrs MAHESHWARI CHANDRA  SECTION OFFICER  ACADEMIC SECTION
(2231)  Prof  ANJANA SARKAR  HOD  CHEMISTRY
(2232)   AASTHA VERMA  MANAGEMENT STUDIES
(2233)  Dr  ANAND GUPTA  COMPUTER ENGINEERING
(2234)  Dr  A  V  MULEY  ASSOCIATE PROFESSOR  MANUFACTURING PROCESSES AND AUTOMATION ENGINEERING
(2235)  Dr  ANAND GUPTA  ASSOCIATE PROFESSOR  COMPUTER ENGINEERING
(2236)  Dr  ANAND GUPTA  ASSOCIATE PROFESSOR  COMPUTER ENGINEERING
(2237)  Dr  ANAND GUPTA  ASSOCIATE PROFESSOR  COMPUTER ENGINEERING
(2238)   ANDRIYA NARASIMHULU  ASSISTANT PROFESSOR  MECHANICAL ENGINEERING
(2239)   ANDRIYA NARASIMHULU  ASSISTANT PROFESSOR  MECHANICAL ENGINEERING
(2240)  Mr LAMBODAR MISHRA  DATA PROCESSOR  ACADEMIC SECTION
(2241)  Mr LAMBODAR MISHRA  DATA PROCESSOR  ACADEMIC SECTION
(2242)  Mr LAMBODAR MISHRA  DATA PROCESSOR  ACADEMIC SECTION
(2243)  Mr LAMBODAR MISHRA  DATA PROCESSOR  ACADEMIC SECTION
(2244)  Mr SHYAM SINGH  CENTRAL COMPUTER CENTER
(2245)  Mr SHYAM SINGH  CENTRAL COMPUTER CENTER
(2246)   BIJENDRA KUMAR  HOD  COMPUTER ENGINEERING
(2247)  Mrs TARUNA TIWARI  ACADEMIC SECTION
(2248)  Mrs TARUNA TIWARI  ACADEMIC SECTION
(2249)   ANDRIYA NARASIMHULU  ASSISTANT PROFESSOR  MECHANICAL ENGINEERING
(2250)   URVASHI BANSAL  ASSISTANT PROFESSOR  ELECTRONICS AND COMMUNICATION ENGINEERING
(2251)  Dr AMITA JAIN  COMPUTER SCIENCE AND ENGINEERING EAST 
(2252)   ANDRIYA NARASIMHULU  ASSISTANT PROFESSOR  MECHANICAL ENGINEERING
(2253)   ANDRIYA NARASIMHULU  ASSISTANT PROFESSOR  MECHANICAL ENGINEERING
(2254)   ANDRIYA NARASIMHULU  ASSISTANT PROFESSOR  MECHANICAL ENGINEERING
(2255)   ANDRIYA NARASIMHULU  ASSISTANT PROFESSOR  MECHANICAL ENGINEERING
(2256)  Mr LAMBODAR MISHRA  DATA PROCESSOR  ACADEMIC SECTION
(2257)  DR SATYA PRAKASH SINGH  ASSOCIATE PROFESSOR  ELECTRONICS AND COMMUNICATION ENGINEERING
(2258)  Dr PRAVEEN SAROHA  OFFICER INCHARGE  PHYSICAL EDUCATION
(2259)  Dr AMITA JAIN  COMPUTER SCIENCE AND ENGINEERING EAST 
(2260)   URVASHI BANSAL  ASSISTANT PROFESSOR  ELECTRONICS AND COMMUNICATION ENGINEERING
(2261)  Dr DAYA NAND  SENIOR SCIENTIFIC ASSISTANT  PHYSICS
(2262)   HIMANSHU SINGHAL  SENIOR SYSTEM ANALYST  CENTRAL COMPUTER CENTER
(2263)  Mr LAMBODAR MISHRA  DATA PROCESSOR  EXAMINATION CELL
(2264)  Mr SHYAM SINGH  CENTRAL COMPUTER CENTER
(2265)   KHUSHIL KUMAR SAINI  COORDINATOR  UNIVERSITY MANAGEMENT CENTRE  CENTRAL COMPUTER CENTER
(2266)   ANDRIYA NARASIMHULU  ASSISTANT PROFESSOR  MECHANICAL ENGINEERING
(2267)   ANDRIYA NARASIMHULU  ASSISTANT PROFESSOR  MECHANICAL ENGINEERING
(2268)   RAVINDER KUMAR  DEAN STUDENT WELFARE OFFICE
(2269)   JYOTI YADAV  ASSISTANT PROFESSOR  INSTRUMENTATION AND CONTROL ENGINEERING
(2270)   JYOTI YADAV  ASSISTANT PROFESSOR  INSTRUMENTATION AND CONTROL ENGINEERING
(2271)   SHILPA SHARMA  ASSISTANT PROFESSOR  BIOLOGICAL SCIENCES AND ENGINEERING
(2272)   KHUSHIL KUMAR SAINI  COORDINATOR  UNIVERSITY MANAGEMENT CENTRE  CENTRAL COMPUTER CENTER
(2273)   ANURADHA TOMAR  ASSISTANT PROFESSOR  INSTRUMENTATION AND CONTROL ENGINEERING
(2274)   ANURADHA TOMAR  ASSISTANT PROFESSOR  ELECTRICAL ENGINEERING
(2275)   ANURADHA TOMAR  ASSISTANT PROFESSOR  INSTRUMENTATION AND CONTROL ENGINEERING
(2276)  DR POONAM RANI  ASSISTANT PROFESSOR  COMPUTER ENGINEERING
(2277)  DR POONAM RANI  ASSISTANT PROFESSOR  COMPUTER ENGINEERING
(2278)   AMARJIT MALHOTRA  ASSISTANT PROFESSOR  INFORMATION TECHNOLOGY
(2279)   YATENDER KUMAR  ASSISTANT PROFESSOR  BIO TECHNOLOGY
(2280)   YATENDER KUMAR  ASSISTANT PROFESSOR  BIO TECHNOLOGY
(2281)   MANISHA KHULBE  ELECTRONICS AND COMMUNICATION ENGINEERING EAST 
(2282)   MANISHA KHULBE  ASSISTANT PROFESSOR  ELECTRONICS AND COMMUNICATION ENGINEERING EAST 
(2283)  DR TANUSHREE CHOUDHARY  HOD  HUMANITIES AND SOCIAL SCIENCES
(2284)   RAVINDER KUMAR  DEAN STUDENT WELFARE OFFICE
(2285)   KHUSHIL KUMAR SAINI  COORDINATOR  UNIVERSITY MANAGEMENT CENTRE  CENTRAL COMPUTER CENTER
(2286)   KHUSHIL KUMAR SAINI  COORDINATOR  UNIVERSITY MANAGEMENT CENTRE  CENTRAL COMPUTER CENTER
(2287)   KHUSHIL KUMAR SAINI  COORDINATOR  UNIVERSITY MANAGEMENT CENTRE  CENTRAL COMPUTER CENTER
(2288)   KHUSHIL KUMAR SAINI  COORDINATOR  UNIVERSITY MANAGEMENT CENTRE  CENTRAL COMPUTER CENTER
(2289)  Mr SHYAM SINGH  GRADUATE CLERK  CENTRAL COMPUTER CENTER
(2290)   TARUN KUMAR RAWAT  ASSISTANT PROFESSOR  ELECTRONICS AND COMMUNICATION ENGINEERING
(2291)   TARUN KUMAR RAWAT  ASSISTANT PROFESSOR  ELECTRONICS AND COMMUNICATION ENGINEERING
(2292)   BHAVNESH KUMAR  ASSISTANT PROFESSOR  INSTRUMENTATION AND CONTROL ENGINEERING
(2293)   KUNWAR SINGH  PRACTICAL SUPERINTENDENT  ELECTRONICS AND COMMUNICATION ENGINEERING
(2294)   KHUSHIL KUMAR SAINI  COORDINATOR  UNIVERSITY MANAGEMENT CENTRE  CENTRAL COMPUTER CENTER
(2295)   JYOTI YADAV  ASSISTANT PROFESSOR  INSTRUMENTATION AND CONTROL ENGINEERING
(2296)   KUNWAR SINGH  ELECTRONICS AND COMMUNICATION ENGINEERING
(2297)   KUNWAR SINGH  PRACTICAL SUPERINTENDENT  ELECTRONICS AND COMMUNICATION ENGINEERING
(2298)  Dr PRAVEEN SAROHA  UNIVERSITY COORDINATOR NSS  PHYSICAL EDUCATION
(2299)   SHILPA SHARMA  PRACTICAL INSTRUCTOR  BIO TECHNOLOGY
(2300)  Dr  ANAND GUPTA  ASSOCIATE PROFESSOR  COMPUTER ENGINEERING
(2301)   DEVENDER KUMAR  ASSISTANT PROFESSOR  INFORMATION TECHNOLOGY
(2302)   DEEPIKA KUKREJA  ASSISTANT PROFESSOR  INFORMATION TECHNOLOGY
(2303)   PRAMENDRA KUMAR BAJPAI  ASSISTANT PROFESSOR  MANUFACTURING PROCESSES AND AUTOMATION ENGINEERING
(2304)   PINAKI CHAKRABORTY  ASSISTANT PROFESSOR  COMPUTER SCIENCE AND ENGINEERING
(2305)   TARUN KUMAR RAWAT  ASSISTANT PROFESSOR  ELECTRONICS AND COMMUNICATION ENGINEERING
(2306)  Prof  PRAGYA VARSHNEY  PROFESSOR  INSTRUMENTATION AND CONTROL ENGINEERING
(2307)  Mrs MAHESHWARI CHANDRA  SECTION OFFICER  ACADEMIC SECTION
(2308)  Mrs TARUNA TIWARI  ACADEMIC SECTION
(2309)  Mrs MAHESHWARI CHANDRA  SECTION OFFICER  ACADEMIC SECTION
(2310)  Mrs MAHESHWARI CHANDRA  SECTION OFFICER  ACADEMIC SECTION
(2311)  Mrs MAHESHWARI CHANDRA  SECTION OFFICER  ACADEMIC SECTION
(2312)   NEERAJ GOEL  ASSISTANT PROFESSOR  ELECTRONICS AND COMMUNICATION ENGINEERING
(2313)   AASTHA VERMA  ASSISTANT PROFESSOR  MANAGEMENT STUDIES
(2314)   SANJEEVE THAKUR  DEAN  FACULTY OF SCIENCES
(2315)  Mr LAMBODAR MISHRA  DATA PROCESSOR  EXAMINATION CELL
(2316)  Dr  ANAND GUPTA  ASSOCIATE PROFESSOR  COMPUTER ENGINEERING
(2317)   TARUN KUMAR RAWAT  ASSISTANT PROFESSOR  ELECTRONICS AND COMMUNICATION ENGINEERING
(2318)   BIJENDRA KUMAR  HOD  COMPUTER SCIENCE AND ENGINEERING
(2319)   SHILPA SHARMA  ASSISTANT PROFESSOR  BIOLOGICAL SCIENCES AND ENGINEERING
(2320)  PROF SHREE PRAKASH SINGH  OFFICER INCHARGE  CENTRAL COMPUTER CENTER
(2321)  Mr LAMBODAR MISHRA  DATA PROCESSOR  ACADEMIC SECTION
(2322)  DR POONAM RANI  ASSISTANT PROFESSOR  COMPUTER ENGINEERING
(2323)  DR POONAM RANI  ASSISTANT PROFESSOR  COMPUTER ENGINEERING
(2324)   HIMANSHU SINGHAL  CENTRAL COMPUTER CENTER
(2325)  Mr LAMBODAR MISHRA  DATA PROCESSOR  ACADEMIC SECTION
(2326)  Mr LAMBODAR MISHRA  DATA PROCESSOR  ACADEMIC SECTION
(2327)  Mr LAMBODAR MISHRA  DATA PROCESSOR  ACADEMIC SECTION
(2328)  Mr LAMBODAR MISHRA  DATA PROCESSOR  ACADEMIC SECTION
(2329)  DR POONAM RANI  ASSISTANT PROFESSOR  COMPUTER SCIENCE AND ENGINEERING
(2330)  Mr LAMBODAR MISHRA  DATA PROCESSOR  ACADEMIC SECTION
(2331)  Dr  ANAND GUPTA  ASSOCIATE PROFESSOR  COMPUTER ENGINEERING
(2332)  Dr  ANAND GUPTA  ASSOCIATE PROFESSOR  COMPUTER ENGINEERING
(2333)  Mr SHYAM SINGH  CENTRAL COMPUTER CENTER
(2334)   TARUN KUMAR RAWAT  ASSISTANT PROFESSOR  ELECTRONICS AND COMMUNICATION ENGINEERING
(2335)   DEEPIKA KUKREJA  ASSISTANT PROFESSOR  INFORMATION TECHNOLOGY
(2336)   URVASHI BANSAL  ASSISTANT PROFESSOR  ELECTRONICS AND COMMUNICATION ENGINEERING
(2337)  Dr  SUJATA SENGAR  ACADEMIC SECTION
(2338)   URVASHI BANSAL  ASSISTANT PROFESSOR  ELECTRONICS AND COMMUNICATION ENGINEERING
(2339)   URVASHI BANSAL  ASSISTANT PROFESSOR  ELECTRONICS AND COMMUNICATION ENGINEERING
(2340)   URVASHI BANSAL  ASSISTANT PROFESSOR  ELECTRONICS AND COMMUNICATION ENGINEERING
(2341)   URVASHI BANSAL  ASSISTANT PROFESSOR  ELECTRONICS AND COMMUNICATION ENGINEERING
(2342)   URVASHI BANSAL  ASSISTANT PROFESSOR  ELECTRONICS AND COMMUNICATION ENGINEERING
(2343)  Dr  ANAND GUPTA  ASSOCIATE PROFESSOR  COMPUTER ENGINEERING
(2344)  Dr  ANAND GUPTA  ASSOCIATE PROFESSOR  COMPUTER ENGINEERING
(2345)  Dr  ANAND GUPTA  ASSOCIATE PROFESSOR  COMPUTER ENGINEERING
(2346)  PROF SHREE PRAKASH SINGH  HOSTEL WARDEN  CENTRAL COMPUTER CENTER
(2347)  DR POONAM RANI  ASSISTANT PROFESSOR  COMPUTER ENGINEERING
(2348)  Mr LAMBODAR MISHRA  DATA PROCESSOR  ACADEMIC SECTION
(2349)  Mr LAMBODAR MISHRA  DATA PROCESSOR  ACADEMIC SECTION
(2350)   YATENDER KUMAR  ASSISTANT PROFESSOR  BIO TECHNOLOGY
(2351)  DR POONAM RANI  ASSISTANT PROFESSOR  COMPUTER ENGINEERING
(2352)   JYOTI YADAV  ASSISTANT PROFESSOR  INSTRUMENTATION AND CONTROL ENGINEERING
(2353)   JYOTI YADAV  ASSISTANT PROFESSOR  INSTRUMENTATION AND CONTROL ENGINEERING
(2354)   ANDRIYA NARASIMHULU  ASSISTANT PROFESSOR  MECHANICAL ENGINEERING
(2355)   ANDRIYA NARASIMHULU  ASSISTANT PROFESSOR  MECHANICAL ENGINEERING
(2356)   ANDRIYA NARASIMHULU  ASSISTANT PROFESSOR  MECHANICAL ENGINEERING
(2357)   KHUSHIL KUMAR SAINI  COORDINATOR  UNIVERSITY MANAGEMENT CENTRE  CENTRAL COMPUTER CENTER
(2358)   KHUSHIL KUMAR SAINI  COORDINATOR  UNIVERSITY MANAGEMENT CENTRE  CENTRAL COMPUTER CENTER
(2359)  Dr  SUJATA SENGAR  ACADEMIC SECTION
(2360)  Dr  SUJATA SENGAR  ACADEMIC SECTION
(2361)  Dr  SUJATA SENGAR  ACADEMIC SECTION
(2362)  Dr  SUJATA SENGAR  ACADEMIC SECTION
(2363)  Dr  SUJATA SENGAR  ACADEMIC SECTION
(2364)  Dr  SUJATA SENGAR  ACADEMIC SECTION
(2365)   TARUN KUMAR RAWAT  ASSISTANT PROFESSOR  ELECTRONICS AND COMMUNICATION ENGINEERING
(2366)   TARUN KUMAR RAWAT  ASSISTANT PROFESSOR  ELECTRONICS AND COMMUNICATION ENGINEERING
(2367)   YATENDER KUMAR  ASSISTANT PROFESSOR  BIO TECHNOLOGY
(2368)  Mr LAMBODAR MISHRA  DATA ENTRY OPERATOR  EXAMINATION CELL
(2369)  Dr  ANAND GUPTA  ASSOCIATE PROFESSOR  COMPUTER ENGINEERING
(2370)   TARUN KUMAR RAWAT  ASSISTANT PROFESSOR  ELECTRONICS AND COMMUNICATION ENGINEERING
(2371)  Dr  ANAND GUPTA  COMPUTER ENGINEERING
(2372)  Dr PRAVEEN SAROHA  UNIVERSITY COORDINATOR NSS  PHYSICAL EDUCATION
(2373)  Mrs MAHESHWARI CHANDRA  SECTION OFFICER  ACADEMIC SECTION
(2374)   ANOOP KUMAR SINGH  CARETAKER  ENGINEERING CELL
(2375)  Mrs MAHESHWARI CHANDRA  SECTION OFFICER  ACADEMIC SECTION
(2376)  Mrs MAHESHWARI CHANDRA  SECTION OFFICER  ACADEMIC SECTION
(2377)   RAVINDER KUMAR  DEAN STUDENT WELFARE OFFICE
(2378)  PROF SHREE PRAKASH SINGH  PROFESSOR  ELECTRONICS AND COMMUNICATION ENGINEERING
(2379)   ANDRIYA NARASIMHULU  ASSISTANT PROFESSOR  MECHANICAL ENGINEERING
(2380)   ANDRIYA NARASIMHULU  ASSISTANT PROFESSOR  MECHANICAL ENGINEERING
(2381)   SANJEEV KUMAR  INFORMATION TECHNOLOGY WEST 
(2382)   YATENDER KUMAR  ASSISTANT PROFESSOR  BIO TECHNOLOGY
(2383)   TARUN KUMAR RAWAT  ASSISTANT PROFESSOR  ELECTRONICS AND COMMUNICATION ENGINEERING
(2384)  DR POONAM RANI  ASSISTANT PROFESSOR  COMPUTER ENGINEERING
(2385)  Dr  ANAND GUPTA  COMPUTER ENGINEERING
(2386)  Prof SHYAMA KANT JHA  PRACTICAL SUPERINTENDENT  INSTRUMENTATION AND CONTROL ENGINEERING
(2387)   RITU SIBAL  PROFESSOR  COMPUTER ENGINEERING
(2388)  Dr  ANAND GUPTA  ASSOCIATE PROFESSOR  COMPUTER ENGINEERING
(2389)   RITU SIBAL  PROFESSOR  COMPUTER ENGINEERING
(2390)   RITU SIBAL  PROFESSOR  COMPUTER ENGINEERING
(2391)   RITU SIBAL  PROFESSOR  COMPUTER ENGINEERING
(2392)   RITU SIBAL  PROFESSOR  COMPUTER ENGINEERING
(2393)   RITU SIBAL  PROFESSOR  COMPUTER ENGINEERING
(2394)   PINAKI CHAKRABORTY  ASSISTANT PROFESSOR  COMPUTER ENGINEERING
(2395)   SHWETA GAUTAM  ASSISTANT PROFESSOR  ELECTRONICS AND COMMUNICATION ENGINEERING
(2396)   PRAMENDRA KUMAR BAJPAI  ASSISTANT PROFESSOR  MANUFACTURING PROCESSES AND AUTOMATION ENGINEERING
(2397)  Dr PRAVEEN SAROHA  OFFICER INCHARGE  PHYSICAL EDUCATION
(2398)   SHILPA SHARMA  PRACTICAL INSTRUCTOR  BIOLOGICAL SCIENCES AND ENGINEERING
(2399)   RAVINDER KUMAR  DEAN STUDENT WELFARE OFFICE
(2400)   KHUSHIL KUMAR SAINI  COORDINATOR  UNIVERSITY MANAGEMENT CENTRE  CENTRAL COMPUTER CENTER
(2401)   KHUSHIL KUMAR SAINI  COORDINATOR  UNIVERSITY MANAGEMENT CENTRE  CENTRAL COMPUTER CENTER
(2402)  Mr LAMBODAR MISHRA  DATA PROCESSOR  ACADEMIC SECTION
(2403)  Mr LAMBODAR MISHRA  DATA PROCESSOR  ACADEMIC SECTION
(2404)  Mr LAMBODAR MISHRA  DATA PROCESSOR  ACADEMIC SECTION
(2405)  Mr LAMBODAR MISHRA  DATA PROCESSOR  ACADEMIC SECTION
(2406)  Mr LAMBODAR MISHRA  DATA PROCESSOR  ACADEMIC SECTION
(2407)  Mr LAMBODAR MISHRA  DATA PROCESSOR  ACADEMIC SECTION
(2408)  Dr PRAVEEN SAROHA  OFFICER INCHARGE  PHYSICAL EDUCATION
(2409)  Dr  SUJATA SENGAR  PROFESSOR  ACADEMIC SECTION
(2410)   DEVENDER KUMAR  ASSISTANT PROFESSOR  INFORMATION TECHNOLOGY
(2411)  DR PRABHAT KUMAR CHOUDHARY  ASSISTANT LIBRARIAN  LIBRARY
(2412)  Prof SHYAMA KANT JHA  PRACTICAL SUPERINTENDENT  INSTRUMENTATION AND CONTROL ENGINEERING
(2413)   DEVENDER KUMAR  ASSISTANT PROFESSOR  INFORMATION TECHNOLOGY
(2414)  Dr  SUJATA SENGAR  DEAN ACADEMICS  ACADEMIC SECTION
(2415)  DR PRABHAT KUMAR CHOUDHARY  ASSISTANT LIBRARIAN  LIBRARY
(2416)  Dr  ANAND GUPTA  ASSOCIATE PROFESSOR  COMPUTER ENGINEERING
(2417)  Prof SHYAMA KANT JHA  PRACTICAL SUPERINTENDENT  INSTRUMENTATION AND CONTROL ENGINEERING
(2418)  Prof SHYAMA KANT JHA  PRACTICAL SUPERINTENDENT  INSTRUMENTATION AND CONTROL ENGINEERING
(2419)  Prof  PRAGYA VARSHNEY  ASSOCIATE PROFESSOR  INSTRUMENTATION AND CONTROL ENGINEERING
(2420)   SHWETA GAUTAM  ELECTRONICS AND COMMUNICATION ENGINEERING
(2421)  Dr  A  V  MULEY  MANUFACTURING PROCESSES AND AUTOMATION ENGINEERING
(2422)  Mrs TARUNA TIWARI  ACADEMIC SECTION
(2423)  Prof SHYAMA KANT JHA  PRACTICAL SUPERINTENDENT  INSTRUMENTATION AND CONTROL ENGINEERING
(2424)   SHILPA SHARMA  PRACTICAL INSTRUCTOR  BIO TECHNOLOGY
(2425)   DEVENDER KUMAR  ASSISTANT PROFESSOR  INFORMATION TECHNOLOGY
(2426)  Dr  ANAND GUPTA  COMPUTER ENGINEERING
(2427)   DEVENDER KUMAR  ASSISTANT PROFESSOR  INFORMATION TECHNOLOGY
(2428)   PINAKI CHAKRABORTY  ASSISTANT PROFESSOR  COMPUTER ENGINEERING
(2429)   PINAKI CHAKRABORTY  ASSISTANT PROFESSOR  COMPUTER ENGINEERING
(2430)   PINAKI CHAKRABORTY  ASSISTANT PROFESSOR  COMPUTER ENGINEERING
(2431)   PINAKI CHAKRABORTY  ASSISTANT PROFESSOR  COMPUTER ENGINEERING
(2432)  Dr  A  V  MULEY  ASSOCIATE PROFESSOR  MANUFACTURING PROCESSES AND AUTOMATION ENGINEERING
(2433)  Dr PRAVEEN SAROHA  UNIVERSITY COORDINATOR NSS  PHYSICAL EDUCATION
(2434)   BHAWNA AGGARWAL  ELECTRONICS AND COMMUNICATION ENGINEERING
(2435)   MANISHA KHULBE  ELECTRONICS AND COMMUNICATION ENGINEERING EAST 
(2436)   MANISHA KHULBE  ELECTRONICS AND COMMUNICATION ENGINEERING EAST 
(2437)   KHUSHIL KUMAR SAINI  COORDINATOR  UNIVERSITY MANAGEMENT CENTRE  CENTRAL COMPUTER CENTER
(2438)   ANOOP KUMAR SINGH  CARETAKER  ENGINEERING CELL
(2439)  Mr SHYAM SINGH  CENTRAL COMPUTER CENTER
(2440)   ANDRIYA NARASIMHULU  ASSISTANT PROFESSOR  MECHANICAL ENGINEERING WEST 
(2441)   KUNWAR SINGH  ASSISTANT PROFESSOR  ELECTRONICS AND COMMUNICATION ENGINEERING
(2442)  Dr PRAVEEN SAROHA  UNIVERSITY COORDINATOR NSS  PHYSICAL EDUCATION
(2443)  Mrs MAHESHWARI CHANDRA  SECTION OFFICER  ACADEMIC SECTION
(2444)   MANISHA KHULBE  ELECTRONICS AND COMMUNICATION ENGINEERING EAST 
(2445)   HIMANSHU SINGHAL  SENIOR SYSTEM ANALYST  CENTRAL COMPUTER CENTER
(2446)   SHWETA GAUTAM  ASSISTANT PROFESSOR  ELECTRONICS AND COMMUNICATION ENGINEERING
(2447)   PINAKI CHAKRABORTY  ASSISTANT PROFESSOR  COMPUTER ENGINEERING
(2448)  Prof SHYAMA KANT JHA  PRACTICAL SUPERINTENDENT  INSTRUMENTATION AND CONTROL ENGINEERING
(2449)   VIJANDER SINGH  DEAN STUDENT WELFARE  INSTRUMENTATION AND CONTROL ENGINEERING
(2450)  Mr LAMBODAR MISHRA  DATA PROCESSOR  ACADEMIC SECTION
(2451)   SHILPA SHARMA  PRACTICAL INSTRUCTOR  BIO TECHNOLOGY
(2452)   DEVENDER KUMAR  ASSISTANT PROFESSOR  INFORMATION TECHNOLOGY
(2453)   PINAKI CHAKRABORTY  ASSISTANT PROFESSOR  COMPUTER ENGINEERING
(2454)   UMANG SONI  ASSISTANT PROFESSOR  MANUFACTURING PROCESSES AND AUTOMATION ENGINEERING
(2455)  Mrs MAHESHWARI CHANDRA  SECTION OFFICER  ACADEMIC SECTION
(2456)  Dr  ANAND GUPTA  ASSOCIATE PROFESSOR  COMPUTER ENGINEERING
(2457)  Dr  ANAND GUPTA  ASSOCIATE PROFESSOR  COMPUTER ENGINEERING
(2458)   JYOTI YADAV  ASSISTANT PROFESSOR  INSTRUMENTATION AND CONTROL ENGINEERING
(2459)  Dr PRAVEEN SAROHA  UNIVERSITY COORDINATOR NSS  PHYSICAL EDUCATION
(2460)  Dr  ANAND GUPTA  ASSOCIATE PROFESSOR  COMPUTER ENGINEERING
(2461)  Dr PRAVEEN SAROHA  UNIVERSITY COORDINATOR NSS  PHYSICAL EDUCATION
(2462)  Dr PRAVEEN SAROHA  UNIVERSITY COORDINATOR NSS  PHYSICAL EDUCATION
(2463)   ATHAR HUSSAIN  CIVIL ENGINEERING
(2464)   ATHAR HUSSAIN  ASSOCIATE PROFESSOR  CIVIL ENGINEERING
(2465)  Dr AMITA JAIN  COMPUTER SCIENCE AND ENGINEERING EAST 
(2466)   MANISHA KHULBE  ELECTRONICS AND COMMUNICATION ENGINEERING EAST 
(2467)  Dr PRAVEEN SAROHA  UNIVERSITY COORDINATOR NSS  PHYSICAL EDUCATION
(2468)   KHUSHIL KUMAR SAINI  COORDINATOR  UNIVERSITY MANAGEMENT CENTRE  CENTRAL COMPUTER CENTER
(2469)   KHUSHIL KUMAR SAINI  COORDINATOR  UNIVERSITY MANAGEMENT CENTRE  CENTRAL COMPUTER CENTER
(2470)  Dr  PREETI KAUR  ASSOCIATE PROFESSOR  COMPUTER ENGINEERING
(2471)   KHUSHIL KUMAR SAINI  COORDINATOR  UNIVERSITY MANAGEMENT CENTRE  CENTRAL COMPUTER CENTER
(2472)  Dr  SUJATA SENGAR  DEAN UG  ACADEMIC SECTION
(2473)   KHUSHIL KUMAR SAINI  COORDINATOR  UNIVERSITY MANAGEMENT CENTRE  CENTRAL COMPUTER CENTER
(2474)   TARUN KUMAR RAWAT  ASSISTANT PROFESSOR  ELECTRONICS AND COMMUNICATION ENGINEERING
(2475)   TARUN KUMAR RAWAT  ASSISTANT PROFESSOR  ELECTRONICS AND COMMUNICATION ENGINEERING
(2476)   DEEPIKA KUKREJA  ASSISTANT PROFESSOR  INFORMATION TECHNOLOGY
(2477)   DEEPIKA KUKREJA  ASSISTANT PROFESSOR  INFORMATION TECHNOLOGY
(2478)  Mr SHYAM SINGH  CENTRAL COMPUTER CENTER
(2479)  Mr SHYAM SINGH  CENTRAL COMPUTER CENTER
(2480)   JYOTI YADAV  INSTRUCTOR  INSTRUMENTATION AND CONTROL ENGINEERING
(2481)   JYOTI YADAV  ASSISTANT PROFESSOR  INSTRUMENTATION AND CONTROL ENGINEERING
(2482)   SHILPA SHARMA  ASSISTANT PROFESSOR  BIO TECHNOLOGY
(2483)   KHUSHIL KUMAR SAINI  COORDINATOR  UNIVERSITY MANAGEMENT CENTRE  CENTRAL COMPUTER CENTER
(2484)   MANISHA KHULBE  ELECTRONICS AND COMMUNICATION ENGINEERING EAST 
(2485)   ATHAR HUSSAIN  ASSOCIATE PROFESSOR  CIVIL ENGINEERING
(2486)   PINAKI CHAKRABORTY  ASSISTANT PROFESSOR  COMPUTER SCIENCE AND ENGINEERING
(2487)  Dr DAYA NAND  SENIOR SCIENTIFIC ASSISTANT  PHYSICS
(2488)   JYOTSNA SINGH  PROFESSOR  ELECTRONICS AND COMMUNICATION ENGINEERING
(2489)   KHUSHIL KUMAR SAINI  COORDINATOR  UNIVERSITY MANAGEMENT CENTRE  CENTRAL COMPUTER CENTER
(2490)  Dr PRAVEEN SAROHA  UNIVERSITY COORDINATOR NSS  PHYSICAL EDUCATION
(2491)   GHANSHYAM SRIVASTAVA  INSTRUCTOR  MECHANICAL ENGINEERING WEST 
(2492)   GHANSHYAM SRIVASTAVA  INSTRUCTOR  MECHANICAL ENGINEERING WEST 
(2493)   KHUSHIL KUMAR SAINI  COORDINATOR  UNIVERSITY MANAGEMENT CENTRE  CENTRAL COMPUTER CENTER
(2494)   ATHAR HUSSAIN  ASSOCIATE PROFESSOR  CIVIL ENGINEERING
(2495)  Dr PRAVEEN SAROHA  UNIVERSITY COORDINATOR NSS  PHYSICAL EDUCATION
(2496)   MANISHA KHULBE  ELECTRONICS AND COMMUNICATION ENGINEERING EAST 
(2497)   ATHAR HUSSAIN  ASSOCIATE PROFESSOR  CIVIL ENGINEERING
(2498)  Prof  ANJANA SARKAR  HOD  CHEMISTRY
(2499)  Dr AMITA JAIN  COMPUTER SCIENCE AND ENGINEERING EAST 
(2500)  Dr AMITA JAIN  COMPUTER SCIENCE AND ENGINEERING EAST 
(2501)  Dr AMITA JAIN  ASSISTANT PROFESSOR  COMPUTER SCIENCE AND ENGINEERING EAST 
(2502)  PROF J K MISRA  CHAIRMAN  ADMISSION OFFICE
(2503)   SANJEEV KUMAR  INFORMATION TECHNOLOGY WEST 
(2504)  Mr LAMBODAR MISHRA  DATA PROCESSOR  ACADEMIC SECTION
(2505)  DR TANUSHREE CHOUDHARY  HOD  HUMANITIES AND SOCIAL SCIENCES
(2506)   YATENDER KUMAR  ASSISTANT PROFESSOR  BIO TECHNOLOGY
(2507)  Dr  PREETI KAUR  ASSOCIATE PROFESSOR  COMPUTER ENGINEERING
(2508)   AKANKSHA SINGH  TRF  MATHEMATICS
(2509)  PROF J K MISRA  CHAIRMAN  ADMISSION OFFICE
(2510)  Dr  SUJATA SENGAR  OFFICER INCHARGE  ACADEMIC SECTION
(2511)  Dr  SUJATA SENGAR  ACADEMIC SECTION
(2512)   PANKAJ DESHWAL  ASSISTANT PROFESSOR  MANAGEMENT
(2513)  Dr PRAVEEN SAROHA  UNIVERSITY COORDINATOR NSS  PHYSICAL EDUCATION
(2514)   JYOTI YADAV  ASSISTANT PROFESSOR  INSTRUMENTATION AND CONTROL ENGINEERING
(2515)   ANDRIYA NARASIMHULU  ASSISTANT PROFESSOR  MECHANICAL ENGINEERING
(2516)     CENTRAL COMPUTER CENTER
(2517)     CENTRAL COMPUTER CENTER
(2518)   RAVINDER KUMAR  DEAN STUDENT WELFARE OFFICE
(2519)   PINAKI CHAKRABORTY  ASSISTANT PROFESSOR  COMPUTER ENGINEERING
(2520)     CENTRAL COMPUTER CENTER
(2521)   KHUSHIL KUMAR SAINI  COORDINATOR  UNIVERSITY MANAGEMENT CENTRE  CENTRAL COMPUTER CENTER
(2522)   KHUSHIL KUMAR SAINI  COORDINATOR  UNIVERSITY MANAGEMENT CENTRE  CENTRAL COMPUTER CENTER
(2523)   KHUSHIL KUMAR SAINI  COORDINATOR  UNIVERSITY MANAGEMENT CENTRE  CENTRAL COMPUTER CENTER
(2524)   TARUN KUMAR RAWAT  ASSISTANT PROFESSOR  ELECTRONICS AND COMMUNICATION ENGINEERING
(2525)   TARUN KUMAR RAWAT  ASSISTANT PROFESSOR  ELECTRONICS AND COMMUNICATION ENGINEERING
(2526)   TARUN KUMAR RAWAT  ASSISTANT PROFESSOR  ELECTRONICS AND COMMUNICATION ENGINEERING
(2527)   ANDRIYA NARASIMHULU  ASSISTANT PROFESSOR  MECHANICAL ENGINEERING
(2528)   DEEPAK KUMAR SHARMA  ASSISTANT PROFESSOR  INFORMATION TECHNOLOGY
(2529)   YATENDER KUMAR  ASSISTANT PROFESSOR  BIO TECHNOLOGY
(2530)     CENTRAL COMPUTER CENTER
(2531)  DR POONAM RANI  ASSISTANT PROFESSOR  COMPUTER SCIENCE AND ENGINEERING
(2532)  DR POONAM RANI  ASSISTANT PROFESSOR  COMPUTER SCIENCE AND ENGINEERING
(2533)  Dr AMITA JAIN  COMPUTER SCIENCE AND ENGINEERING EAST 
(2534)   DEEPIKA KUKREJA  ASSISTANT PROFESSOR  INFORMATION TECHNOLOGY
(2535)  Dr PRAVEEN SAROHA  UNIVERSITY COORDINATOR NSS  PHYSICAL EDUCATION
(2536)  Dr  SUJATA SENGAR  ACADEMIC SECTION
(2537)   MANISHA KHULBE  ELECTRONICS AND COMMUNICATION ENGINEERING EAST 
(2538)   MANISHA KHULBE  ELECTRONICS AND COMMUNICATION ENGINEERING EAST 
(2539)  Mr SHYAM SINGH  CENTRAL COMPUTER CENTER
(2540)  Mrs MAHESHWARI CHANDRA  SECTION OFFICER  ACADEMIC SECTION
(2541)  PROF SHREE PRAKASH SINGH  CHIEF WARDEN  HOSTEL
(2542)  Mr  JAI PRAKASH SHARMA  UDC  DEAN STUDENT WELFARE OFFICE
(2543)  Mr  JAI PRAKASH SHARMA  UDC  DEAN STUDENT WELFARE OFFICE
(2544)   SHWETA GAUTAM  HOSTEL WARDEN  ELECTRONICS AND COMMUNICATION ENGINEERING
(2545)   SHILPA SHARMA  HOSTEL WARDEN  BIO TECHNOLOGY
(2546)   SHILPA SHARMA  HOSTEL WARDEN  BIO TECHNOLOGY
(2547)   SHILPA SHARMA  PRACTICAL INSTRUCTOR  BIO TECHNOLOGY
(2548)  Mrs MAHESHWARI CHANDRA  SECTION OFFICER  ACADEMIC SECTION
(2549)  Mrs MAHESHWARI CHANDRA  SECTION OFFICER  ACADEMIC SECTION
(2550)  Mrs MAHESHWARI CHANDRA  SECTION OFFICER  ACADEMIC SECTION
(2551)  Mrs MAHESHWARI CHANDRA  SECTION OFFICER  ACADEMIC SECTION
(2552)   BHAWNA AGGARWAL  ASSISTANT PROFESSOR  ELECTRONICS AND COMMUNICATION ENGINEERING
(2553)   JYOTI YADAV  INSTRUMENTATION AND CONTROL ENGINEERING
(2554)   JYOTI YADAV  ASSISTANT PROFESSOR  INSTRUMENTATION AND CONTROL ENGINEERING
(2555)   ABHISHEK TEVATIA  HOSTEL WARDEN  BH I  HOSTEL
(2556)   TARUN KUMAR RAWAT  ASSISTANT PROFESSOR  ELECTRONICS AND COMMUNICATION ENGINEERING
(2557)   RITU SIBAL  COMPUTER ENGINEERING
(2558)   JYOTI YADAV  INSTRUMENTATION AND CONTROL ENGINEERING
(2559)   TARUN KUMAR RAWAT  ASSISTANT PROFESSOR  ELECTRONICS AND COMMUNICATION ENGINEERING
(2560)   DEEPIKA KUKREJA  ASSISTANT PROFESSOR  INFORMATION TECHNOLOGY
(2561)   MANISHA  ASSISTANT PROFESSOR  INSTRUMENTATION AND CONTROL ENGINEERING
(2562)   JYOTI YADAV  INSTRUMENTATION AND CONTROL ENGINEERING
(2563)   JYOTI YADAV  ASSISTANT PROFESSOR  INSTRUMENTATION AND CONTROL ENGINEERING
(2564)   JYOTI YADAV  ASSISTANT PROFESSOR  INSTRUMENTATION AND CONTROL ENGINEERING
(2565)  Mr SHANTANU DAS  ASSISTANT PROFESSOR  MATHEMATICS
(2566)   SOUMYA SASMAL  HOSTEL WARDEN  BIO TECHNOLOGY
(2567)  Dr PRAVEEN SAROHA  OFFICER INCHARGE  PHYSICAL EDUCATION
(2568)   SHWETA GAUTAM  HOSTEL WARDEN  ELECTRONICS AND COMMUNICATION ENGINEERING
(2569)   BHAWNA AGGARWAL  ASSISTANT PROFESSOR  ELECTRONICS AND COMMUNICATION ENGINEERING
(2570)   JYOTI YADAV  ASSISTANT PROFESSOR  INSTRUMENTATION AND CONTROL ENGINEERING
(2571)   ANDRIYA NARASIMHULU  ASSISTANT PROFESSOR  MECHANICAL ENGINEERING
(2572)   ANDRIYA NARASIMHULU  ASSISTANT PROFESSOR  MECHANICAL ENGINEERING
(2573)  Dr AKHILESH DUBEY  OFFICER INCHARGE  BIO TECHNOLOGY
(2574)  Mrs MAHESHWARI CHANDRA  SECTION OFFICER  ACADEMIC SECTION
(2575)  Mrs MAHESHWARI CHANDRA  SECTION OFFICER  ACADEMIC SECTION
(2576)   RAVINDER KUMAR  DEAN STUDENT WELFARE OFFICE
(2577)  Mrs MAHESHWARI CHANDRA  SECTION OFFICER  ACADEMIC SECTION
(2578)   UMANG SONI  ASSISTANT PROFESSOR  MECHANICAL ENGINEERING
(2579)  Mr SHANTANU DAS  ASSISTANT PROFESSOR  MATHEMATICS
(2580)  Dr  A  V  MULEY  MANUFACTURING PROCESSES AND AUTOMATION ENGINEERING
(2581)   SHILPA SHARMA  HOSTEL WARDEN  BIO TECHNOLOGY
(2582)   SHILPA SHARMA  HOSTEL WARDEN  BIO TECHNOLOGY
(2583)  Dr  PREETI KAUR  ASSOCIATE PROFESSOR  COMPUTER ENGINEERING
(2584)   ANDRIYA NARASIMHULU  ASSISTANT PROFESSOR  MECHANICAL ENGINEERING
(2585)   DEVENDER KUMAR  ASSISTANT PROFESSOR  INFORMATION TECHNOLOGY
(2586)   RAVINDER KUMAR  DEAN STUDENT WELFARE OFFICE
(2587)  Mr LAMBODAR MISHRA  DATA PROCESSOR  EXAMINATION CELL
(2588)  Mr LAMBODAR MISHRA  DATA PROCESSOR  EXAMINATION CELL
(2589)  Mr LAMBODAR MISHRA  DATA PROCESSOR  EXAMINATION CELL
(2590)  PROF SHREE PRAKASH SINGH  HOSTEL WARDEN  RAMANUJAN  HOSTEL
(2591)   PRAMENDRA KUMAR BAJPAI  ASSISTANT PROFESSOR  MANUFACTURING PROCESSES AND AUTOMATION ENGINEERING
(2592)   DEVENDER KUMAR  ASSISTANT PROFESSOR  INFORMATION TECHNOLOGY
(2593)   DEVENDER KUMAR  ASSISTANT PROFESSOR  INFORMATION TECHNOLOGY
(2594)   KHUSHIL KUMAR SAINI  COORDINATOR  UNIVERSITY MANAGEMENT CENTRE  CENTRAL COMPUTER CENTER
(2595)  Dr PRAVEEN SAROHA  UNIVERSITY COORDINATOR NSS  PHYSICAL EDUCATION
(2596)  Mrs TARUNA TIWARI  LDC  ACADEMIC SECTION
(2597)   SHWETA GAUTAM  ELECTRONICS AND COMMUNICATION ENGINEERING
(2598)   SHWETA GAUTAM  ELECTRONICS AND COMMUNICATION ENGINEERING
(2599)   PINAKI CHAKRABORTY  ASSISTANT PROFESSOR  COMPUTER ENGINEERING
(2600)  Mr LAMBODAR MISHRA  DATA PROCESSOR  EXAMINATION CELL
(2601)  Mr LAMBODAR MISHRA  DATA PROCESSOR  EXAMINATION CELL
(2602)  Mr LAMBODAR MISHRA  DATA PROCESSOR  EXAMINATION CELL
(2603)  Mr LAMBODAR MISHRA  DATA PROCESSOR  EXAMINATION CELL
(2604)  Mrs MAHESHWARI CHANDRA  SECTION OFFICER  ACADEMIC SECTION
(2605)  Mr LAMBODAR MISHRA  DATA PROCESSOR  EXAMINATION CELL
(2606)     CENTRAL COMPUTER CENTER
(2607)     CENTRAL COMPUTER CENTER
(2608)   RAVINDER KUMAR  DEAN STUDENT WELFARE OFFICE
(2609)  Prof  ANJANA SARKAR  HOD  CHEMISTRY
(2610)  PROF SHREE PRAKASH SINGH  HOSTEL WARDEN  CENTRAL COMPUTER CENTER
(2611)   KHUSHIL KUMAR SAINI  COORDINATOR  UNIVERSITY MANAGEMENT CENTRE  CENTRAL COMPUTER CENTER
(2612)  Mr LAMBODAR MISHRA  DATA PROCESSOR  EXAMINATION CELL
(2613)  Mr LAMBODAR MISHRA  DATA PROCESSOR  EXAMINATION CELL
(2614)  Mr LAMBODAR MISHRA  DATA PROCESSOR  EXAMINATION CELL
(2615)  Mr LAMBODAR MISHRA  DATA PROCESSOR  EXAMINATION CELL
(2616)   RAVINDER KUMAR  DEAN STUDENT WELFARE OFFICE
(2617)  Mr LAMBODAR MISHRA  DATA PROCESSOR  EXAMINATION CELL
(2618)  Mr SHYAM SINGH  GRADUATE CLERK  CENTRAL COMPUTER CENTER
(2619)  Mr LAMBODAR MISHRA  ACADEMIC SECTION
(2620)  Mr LAMBODAR MISHRA  DATA PROCESSOR  EXAMINATION CELL
(2621)  Mr LAMBODAR MISHRA  DATA PROCESSOR  ACADEMIC SECTION
(2622)  Mr LAMBODAR MISHRA  DATA PROCESSOR  EXAMINATION CELL
(2623)  Mr LAMBODAR MISHRA  DATA PROCESSOR  EXAMINATION CELL
(2624)   SOUMYA SASMAL  HOSTEL WARDEN  BH II  HOSTEL
(2625)   VINEET KUMAR  PROFESSOR  EXAMINATION CELL
(2626)  Mr LAMBODAR MISHRA  DATA PROCESSOR  EXAMINATION CELL
(2627)  Mr LAMBODAR MISHRA  DATA PROCESSOR  EXAMINATION CELL
(2628)  Mr LAMBODAR MISHRA  DATA PROCESSOR  EXAMINATION CELL
(2629)  Mr LAMBODAR MISHRA  DATA ENTRY OPERATOR  EXAMINATION CELL
(2630)   KHUSHIL KUMAR SAINI  COORDINATOR  UNIVERSITY MANAGEMENT CENTRE  CENTRAL COMPUTER CENTER
(2631)  Mr LAMBODAR MISHRA  DATA PROCESSOR  ESTABLISHMENT SECTION
(2632)  Mrs TARUNA TIWARI  LDC  ACADEMIC SECTION
(2633)   SHILPA SHARMA  HOSTEL WARDEN  BIO TECHNOLOGY
(2634)  Mr LAMBODAR MISHRA  DATA PROCESSOR  EXAMINATION CELL
(2635)   KHUSHIL KUMAR SAINI  COORDINATOR  UNIVERSITY MANAGEMENT CENTRE  CENTRAL COMPUTER CENTER
(2636)   KHUSHIL KUMAR SAINI  COORDINATOR  UNIVERSITY MANAGEMENT CENTRE  CENTRAL COMPUTER CENTER
(2637)  Mr LAMBODAR MISHRA  EXAMINATION CELL
(2638)  Mr LAMBODAR MISHRA  DATA PROCESSOR  EXAMINATION CELL
(2639)  Mr LAMBODAR MISHRA  DATA PROCESSOR  EXAMINATION CELL
(2640)  Mr LAMBODAR MISHRA  DATA PROCESSOR  EXAMINATION CELL
(2641)  Mrs MAHESHWARI CHANDRA  SECTION OFFICER  ACADEMIC SECTION
(2642)  Dr  PREETI KAUR  COMPUTER ENGINEERING
(2643)  Dr  PREETI KAUR  ASSOCIATE PROFESSOR  COMPUTER ENGINEERING
(2644)   PANKAJ DESHWAL  ASSISTANT PROFESSOR  MANAGEMENT
(2645)   HIMANSHU SINGHAL  SENIOR SYSTEM ANALYST  CENTRAL COMPUTER CENTER
(2646)   KUNWAR SINGH  HOSTEL WARDEN  BH II  HOSTEL
(2647)   RAVINDER KUMAR  DEAN STUDENT WELFARE OFFICE
(2648)  Mrs MAHESHWARI CHANDRA  SECTION OFFICER  ACADEMIC SECTION
(2649)   KHUSHIL KUMAR SAINI  COORDINATOR  UNIVERSITY MANAGEMENT CENTRE  CENTRAL COMPUTER CENTER
(2650)  Mr LAMBODAR MISHRA  DATA PROCESSOR  EXAMINATION CELL
(2651)  Mr LAMBODAR MISHRA  DATA PROCESSOR  EXAMINATION CELL
(2652)   SHWETA GAUTAM  ELECTRONICS AND COMMUNICATION ENGINEERING
(2653)  Mr LAMBODAR MISHRA  DATA PROCESSOR  EXAMINATION CELL
(2654)   KHUSHIL KUMAR SAINI  COORDINATOR  UNIVERSITY MANAGEMENT CENTRE  CENTRAL COMPUTER CENTER
(2655)   MANISHA KHULBE  ELECTRONICS AND COMMUNICATION ENGINEERING EAST 
(2656)  Mr LAMBODAR MISHRA  DATA PROCESSOR  ACADEMIC SECTION
(2657)  Mr LAMBODAR MISHRA  DATA PROCESSOR  ACADEMIC SECTION
(2658)  Mr LAMBODAR MISHRA  DATA PROCESSOR  ACADEMIC SECTION
(2659)  Mr LAMBODAR MISHRA  DATA PROCESSOR  ACADEMIC SECTION
(2660)  Mr LAMBODAR MISHRA  DATA PROCESSOR  ACADEMIC SECTION
(2661)  Dr AMITA JAIN  COMPUTER SCIENCE AND ENGINEERING EAST 
(2662)   TARUN KUMAR RAWAT  ASSISTANT PROFESSOR  ELECTRONICS AND COMMUNICATION ENGINEERING
(2663)   TARUN KUMAR RAWAT  ASSISTANT PROFESSOR  ELECTRONICS AND COMMUNICATION ENGINEERING
(2664)   SANJEEV KUMAR  INFORMATION TECHNOLOGY WEST 
(2665)  Mrs MAHESHWARI CHANDRA  SECTION OFFICER  ACADEMIC SECTION
(2666)   DEEPAK KUMAR SHARMA  ASSISTANT PROFESSOR  INFORMATION TECHNOLOGY
(2667)   DEEPAK KUMAR SHARMA  ASSISTANT PROFESSOR  INFORMATION TECHNOLOGY
(2668)  Mr LAMBODAR MISHRA  DATA PROCESSOR  ACADEMIC SECTION
(2669)   YATENDER KUMAR  BIO TECHNOLOGY
(2670)   ANDRIYA NARASIMHULU  ASSISTANT PROFESSOR  MECHANICAL ENGINEERING
(2671)   ANDRIYA NARASIMHULU  ASSISTANT PROFESSOR  MECHANICAL ENGINEERING
(2672)  DR TANUSHREE CHOUDHARY  HOD  HUMANITIES AND SOCIAL SCIENCES
(2673)  Mrs MAHESHWARI CHANDRA  SECTION OFFICER  ACADEMIC SECTION
(2674)  Dr  SUJATA SENGAR  ACADEMIC SECTION
(2675)  Dr  ANAND GUPTA  ASSOCIATE PROFESSOR  COMPUTER ENGINEERING
(2676)   KHUSHIL KUMAR SAINI  COORDINATOR  UNIVERSITY MANAGEMENT CENTRE  CENTRAL COMPUTER CENTER
(2677)  Mr LAMBODAR MISHRA  DATA PROCESSOR  ACADEMIC SECTION
(2678)  Mr LAMBODAR MISHRA  DATA PROCESSOR  ACADEMIC SECTION
(2679)  Mrs MAHESHWARI CHANDRA  SECTION OFFICER  ACADEMIC SECTION
(2680)  Dr  PREETI KAUR  ASSOCIATE PROFESSOR  COMPUTER ENGINEERING
(2681)  Mr LAMBODAR MISHRA  DATA PROCESSOR  ACADEMIC SECTION
(2682)  Mr LAMBODAR MISHRA  DATA PROCESSOR  ACADEMIC SECTION
(2683)   ANDRIYA NARASIMHULU  ASSISTANT PROFESSOR  MECHANICAL ENGINEERING
(2684)   MANISHA KHULBE  ELECTRONICS AND COMMUNICATION ENGINEERING EAST 
(2685)   BHAWNA AGGARWAL  ASSISTANT PROFESSOR  ELECTRONICS AND COMMUNICATION ENGINEERING
(2686)  Mr LAMBODAR MISHRA  DATA PROCESSOR  ACADEMIC SECTION
(2687)  Mr LAMBODAR MISHRA  DATA PROCESSOR  ACADEMIC SECTION
(2688)   MANISHA KHULBE  ELECTRONICS AND COMMUNICATION ENGINEERING EAST 
(2689)  Mr LAMBODAR MISHRA  DATA PROCESSOR  ACADEMIC SECTION
(2690)  Mr LAMBODAR MISHRA  DATA PROCESSOR  ACADEMIC SECTION
(2691)  PROF SHREE PRAKASH SINGH  HOD  ELECTRONICS AND COMMUNICATION ENGINEERING
(2692)  Mrs MAHESHWARI CHANDRA  SECTION OFFICER  ACADEMIC SECTION
(2693)  Mrs MAHESHWARI CHANDRA  SECTION OFFICER  ACADEMIC SECTION
(2694)   O  P  THAKUR  PROFESSOR  PHYSICS
(2695)  Mr LAMBODAR MISHRA  DATA PROCESSOR  ACADEMIC SECTION
(2696)  PROF SHREE PRAKASH SINGH  HOD  ELECTRONICS AND COMMUNICATION ENGINEERING
(2697)   TARUN KUMAR RAWAT  ASSISTANT PROFESSOR  ELECTRONICS AND COMMUNICATION ENGINEERING
(2698)  Mrs MAHESHWARI CHANDRA  SECTION OFFICER  ACADEMIC SECTION
(2699)  Mr LAMBODAR MISHRA  DATA PROCESSOR  ACADEMIC SECTION
(2700)  Dr  ANAND GUPTA  COMPUTER ENGINEERING
(2701)   ANDRIYA NARASIMHULU  ASSISTANT PROFESSOR  MECHANICAL ENGINEERING
(2702)   BHAWNA AGGARWAL  ASSISTANT PROFESSOR  ELECTRONICS AND COMMUNICATION ENGINEERING
(2703)  Mrs MAHESHWARI CHANDRA  SECTION OFFICER  ACADEMIC SECTION
(2704)  Mrs MAHESHWARI CHANDRA  SECTION OFFICER  ACADEMIC SECTION
(2705)   PANKAJ DESHWAL  ASSISTANT PROFESSOR  MANAGEMENT
(2706)   BHAWNA AGGARWAL  ASSISTANT PROFESSOR  ELECTRONICS AND COMMUNICATION ENGINEERING
(2707)  Dr  SUJATA SENGAR  DEAN ACADEMICS  ACADEMIC SECTION
(2708)   SHWETA GAUTAM  ELECTRONICS AND COMMUNICATION ENGINEERING
(2709)  PROF SHREE PRAKASH SINGH  HOSTEL WARDEN  RAMANUJAN  HOSTEL
(2710)   RAVINDER KUMAR  DEAN STUDENT WELFARE OFFICE
(2711)  Mr LAMBODAR MISHRA  DATA ENTRY OPERATOR  ACADEMIC SECTION
(2712)  Mr LAMBODAR MISHRA  DATA ENTRY OPERATOR  ACADEMIC SECTION
(2713)   BHAWNA AGGARWAL  ASSISTANT PROFESSOR  ELECTRONICS AND COMMUNICATION ENGINEERING
(2714)  Mrs MAHESHWARI CHANDRA  SECTION OFFICER  ACADEMIC SECTION
(2715)  Mrs MAHESHWARI CHANDRA  SECTION OFFICER  ACADEMIC SECTION
(2716)  Mr LAMBODAR MISHRA  DEALING ASSISTANT 4  EXAMINATION CELL
(2717)  Mr LAMBODAR MISHRA  DEALING ASSISTANT 4  EXAMINATION CELL
(2718)  Mr LAMBODAR MISHRA  DEALING ASSISTANT 4  EXAMINATION CELL
(2719)  Mr LAMBODAR MISHRA  DEALING ASSISTANT 4  EXAMINATION CELL
(2720)  Mr LAMBODAR MISHRA  DEALING ASSISTANT 4  EXAMINATION CELL
(2721)  Mr LAMBODAR MISHRA  DATA PROCESSOR  ACADEMIC SECTION
(2722)  Prof  PRAGYA VARSHNEY  ASSOCIATE PROFESSOR  INSTRUMENTATION AND CONTROL ENGINEERING
(2723)  Dr PRAVEEN SAROHA  OFFICER INCHARGE  PHYSICAL EDUCATION
(2724)   DURU ARUN KUMAR  MANAGEMENT
(2725)  Dr PRAVEEN SAROHA  UNIVERSITY COORDINATOR NSS  PHYSICAL EDUCATION
(2726)  PROF SHREE PRAKASH SINGH  HOSTEL WARDEN  RAMANUJAN  HOSTEL
(2727)   MANISHA  ASSISTANT PROFESSOR  INSTRUMENTATION AND CONTROL ENGINEERING
(2728)   MANISHA  ASSISTANT PROFESSOR  INSTRUMENTATION AND CONTROL ENGINEERING
(2729)  Dr  ANAND GUPTA  ASSOCIATE PROFESSOR  COMPUTER ENGINEERING
(2730)  Prof  PRAGYA VARSHNEY  ASSOCIATE PROFESSOR  INSTRUMENTATION AND CONTROL ENGINEERING
(2731)   PANKAJ DESHWAL  ASSISTANT PROFESSOR  MANAGEMENT
(2732)   ANDRIYA NARASIMHULU  MANUFACTURING PROCESSES AND AUTOMATION ENGINEERING
(2733)   ANDRIYA NARASIMHULU  ASSISTANT PROFESSOR  MECHANICAL ENGINEERING
(2734)   MANISHA KHULBE  ELECTRONICS AND COMMUNICATION ENGINEERING EAST 
(2735)   PANKAJ DESHWAL  ASSISTANT PROFESSOR  MANAGEMENT
(2736)   SHILPA SHARMA  HOSTEL WARDEN  BIO TECHNOLOGY
(2737)  Mr LAMBODAR MISHRA  DATA PROCESSOR  ACADEMIC SECTION
(2738)  Mrs MAHESHWARI CHANDRA  SECTION OFFICER  ACADEMIC SECTION
(2739)   TARUN KUMAR RAWAT  ASSISTANT PROFESSOR  ELECTRONICS AND COMMUNICATION ENGINEERING
(2740)   TARUN KUMAR RAWAT  ASSISTANT PROFESSOR  ELECTRONICS AND COMMUNICATION ENGINEERING
(2741)   TARUN KUMAR RAWAT  ASSISTANT PROFESSOR  ELECTRONICS AND COMMUNICATION ENGINEERING
(2742)   MANISHA  ASSISTANT PROFESSOR  INSTRUMENTATION AND CONTROL ENGINEERING
(2743)   MANISHA  ASSISTANT PROFESSOR  INSTRUMENTATION AND CONTROL ENGINEERING
(2744)   DEEPAK KUMAR SHARMA  ASSISTANT PROFESSOR  INFORMATION TECHNOLOGY
(2745)  Dr AMITA JAIN  COMPUTER SCIENCE AND ENGINEERING EAST 
(2746)  Prof  PRAGYA VARSHNEY  ASSOCIATE PROFESSOR  INSTRUMENTATION AND CONTROL ENGINEERING
(2747)  Prof  PRAGYA VARSHNEY  ASSOCIATE PROFESSOR  INSTRUMENTATION AND CONTROL ENGINEERING
(2748)  Mrs MAHESHWARI CHANDRA  SECTION OFFICER  ACADEMIC SECTION
(2749)   MANISHA  ASSISTANT PROFESSOR  INSTRUMENTATION AND CONTROL ENGINEERING
(2750)   YATENDER KUMAR  ASSISTANT PROFESSOR  BIO TECHNOLOGY
(2751)   YATENDER KUMAR  ASSISTANT PROFESSOR  BIO TECHNOLOGY
(2752)   YATENDER KUMAR  ASSISTANT PROFESSOR  BIO TECHNOLOGY
(2753)   ANDRIYA NARASIMHULU  ASSISTANT PROFESSOR  MECHANICAL ENGINEERING
(2754)   ANDRIYA NARASIMHULU  ASSISTANT PROFESSOR  MECHANICAL ENGINEERING
(2755)   DEEPAK KUMAR SHARMA  ASSISTANT PROFESSOR  INFORMATION TECHNOLOGY
(2756)  Dr  PREETI KAUR  COMPUTER ENGINEERING
(2757)  Dr  PREETI KAUR  COMPUTER ENGINEERING
(2758)   PANKAJ DESHWAL  ASSISTANT PROFESSOR  MANAGEMENT
(2759)   DEEPIKA KUKREJA  ASSISTANT PROFESSOR  INFORMATION TECHNOLOGY
(2760)  Dr AMITA JAIN  COMPUTER SCIENCE AND ENGINEERING EAST 
(2761)  Mrs MAHESHWARI CHANDRA  SECTION OFFICER  ACADEMIC SECTION
(2762)  Mrs MAHESHWARI CHANDRA  SECTION OFFICER  ACADEMIC SECTION
(2763)  DR TANUSHREE CHOUDHARY  HOD  HUMANITIES AND SOCIAL SCIENCES
(2764)  PROF SHREE PRAKASH SINGH  CHIEF WARDEN  HOSTEL
(2765)  Mrs MAHESHWARI CHANDRA  SECTION OFFICER  ACADEMIC SECTION
(2766)  PROF SHREE PRAKASH SINGH  CHIEF WARDEN  HOSTEL
(2767)  PROF SHREE PRAKASH SINGH  CHIEF WARDEN  HOSTEL
(2768)  Dr  ANAND GUPTA  ASSOCIATE PROFESSOR  COMPUTER ENGINEERING
(2769)  PROF SHREE PRAKASH SINGH  CHIEF WARDEN  HOSTEL
(2770)   DURU ARUN KUMAR  MANAGEMENT
(2771)   SHILPA SHARMA  HOSTEL WARDEN  BIO TECHNOLOGY
(2772)  Mrs MAHESHWARI CHANDRA  SECTION OFFICER  ACADEMIC SECTION
(2773)  Dr PRAVEEN SAROHA  UNIVERSITY COORDINATOR NSS  PHYSICAL EDUCATION
(2774)   ATHAR HUSSAIN  ASSOCIATE PROFESSOR  CIVIL ENGINEERING
(2775)   ATHAR HUSSAIN  ASSOCIATE PROFESSOR  CIVIL ENGINEERING
(2776)   ATHAR HUSSAIN  ASSOCIATE PROFESSOR  CIVIL ENGINEERING
(2777)  PROF SHREE PRAKASH SINGH  CHIEF WARDEN  HOSTEL
(2778)  Dr  ANAND GUPTA  ASSOCIATE PROFESSOR  COMPUTER ENGINEERING
(2779)   KHUSHIL KUMAR SAINI  COORDINATOR  UNIVERSITY MANAGEMENT CENTRE  CENTRAL COMPUTER CENTER
(2780)   SHWETA GAUTAM  HOSTEL WARDEN  ELECTRONICS AND COMMUNICATION ENGINEERING
(2781)   SHWETA GAUTAM  HOSTEL WARDEN  ELECTRONICS AND COMMUNICATION ENGINEERING
(2782)  PROF SHREE PRAKASH SINGH  CHIEF WARDEN  HOSTEL
(2783)  Dr PRAVEEN SAROHA  OFFICER INCHARGE  PHYSICAL EDUCATION
(2784)  Dr  ANAND GUPTA  ASSOCIATE PROFESSOR  COMPUTER ENGINEERING
(2785)   PANKAJ DESHWAL  ASSISTANT PROFESSOR  MANAGEMENT
(2786)  PROF SHREE PRAKASH SINGH  CHIEF WARDEN  ELECTRONICS AND COMMUNICATION ENGINEERING
(2787)  PROF SHREE PRAKASH SINGH  CHIEF WARDEN  ELECTRONICS AND COMMUNICATION ENGINEERING
(2788)   SHWETA GAUTAM  ELECTRONICS AND COMMUNICATION ENGINEERING
(2789)  Mrs MAHESHWARI CHANDRA  SECTION OFFICER  ACADEMIC SECTION
(2790)  PROF SHREE PRAKASH SINGH  CHIEF WARDEN  ELECTRONICS AND COMMUNICATION ENGINEERING
(2791)   KHUSHIL KUMAR SAINI  COORDINATOR  UNIVERSITY MANAGEMENT CENTRE  CENTRAL COMPUTER CENTER
(2792)  Mr LAMBODAR MISHRA  DATA PROCESSOR  EXAMINATION CELL
(2793)  Prof  PRAGYA VARSHNEY  ASSOCIATE PROFESSOR  INSTRUMENTATION AND CONTROL ENGINEERING
(2794)   HIMANSHU SINGHAL  SENIOR SYSTEM ANALYST  CENTRAL COMPUTER CENTER
(2795)   HIMANSHU SINGHAL  SENIOR SYSTEM ANALYST  CENTRAL COMPUTER CENTER
(2796)   SHWETA GAUTAM  ELECTRONICS AND COMMUNICATION ENGINEERING
(2797)   RAVINDER KUMAR  DEAN STUDENT WELFARE OFFICE
(2798)  Dr AMITA JAIN  COMPUTER SCIENCE AND ENGINEERING
(2799)  Mr LAMBODAR MISHRA  DATA PROCESSOR  EXAMINATION CELL
(2800)   PINAKI CHAKRABORTY  ASSISTANT PROFESSOR  COMPUTER ENGINEERING
(2801)   SHWETA GAUTAM  ASSISTANT PROFESSOR  ELECTRONICS AND COMMUNICATION ENGINEERING
(2802)  Mrs MAHESHWARI CHANDRA  SECTION OFFICER  ACADEMIC SECTION
(2803)  Mr LAMBODAR MISHRA  DATA PROCESSOR  ACADEMIC SECTION
(2804)  PROF SHREE PRAKASH SINGH  CHIEF WARDEN  HOSTEL
(2805)  Dr PRAVEEN SAROHA  OFFICER INCHARGE  PHYSICAL EDUCATION
(2806)  Mr LAMBODAR MISHRA  DATA ENTRY OPERATOR  ACADEMIC SECTION
(2807)  Mr LAMBODAR MISHRA  DATA PROCESSOR  ACADEMIC SECTION
(2808)   MANISHA  ASSISTANT PROFESSOR  INSTRUMENTATION AND CONTROL ENGINEERING
(2809)  PROF SHREE PRAKASH SINGH  CHIEF WARDEN  HOSTEL
(2810)   BIJENDRA KUMAR  INSTRUCTOR  COMPUTER ENGINEERING
(2811)   BIJENDRA KUMAR  INSTRUCTOR  COMPUTER ENGINEERING
(2812)  Mr LAMBODAR MISHRA  DATA PROCESSOR  ACADEMIC SECTION
(2813)  Mr LAMBODAR MISHRA  DATA PROCESSOR  ACADEMIC SECTION
(2814)   JYOTI YADAV  ASSISTANT PROFESSOR  INSTRUMENTATION AND CONTROL ENGINEERING
(2815)   TARUN KUMAR RAWAT  ASSISTANT PROFESSOR  ELECTRONICS AND COMMUNICATION ENGINEERING
(2816)   DEVENDER KUMAR  ASSISTANT PROFESSOR  INFORMATION TECHNOLOGY
(2817)   RAVINDER KUMAR  DEAN STUDENT WELFARE OFFICE
(2818)   MANISHA  ASSISTANT PROFESSOR  INSTRUMENTATION AND CONTROL ENGINEERING
(2819)   RAVINDER KUMAR  DEAN STUDENT WELFARE OFFICE
(2820)   TARUN KUMAR RAWAT  ASSISTANT PROFESSOR  ELECTRONICS AND COMMUNICATION ENGINEERING
(2821)   KHUSHIL KUMAR SAINI  COORDINATOR  UNIVERSITY MANAGEMENT CENTRE  CENTRAL COMPUTER CENTER
(2822)  DR MAMTA MISHRA  ASSOCIATE PROFESSOR  MATHEMATICS
(2823)  Mr LAMBODAR MISHRA  DATA PROCESSOR  EXAMINATION CELL
(2824)  Mr LAMBODAR MISHRA  DATA PROCESSOR  EXAMINATION CELL
(2825)  Dr  ANAND GUPTA  ASSOCIATE PROFESSOR  COMPUTER ENGINEERING
(2826)  Dr  ANAND GUPTA  COMPUTER ENGINEERING
(2827)   RAVINDER KUMAR  DEAN STUDENT WELFARE OFFICE
(2828)   ANOOP KUMAR SINGH  CARETAKER  ENGINEERING CELL
(2829)  PROF SHREE PRAKASH SINGH  CHIEF WARDEN  HOSTEL
(2830)   RAVINDER KUMAR  DEAN STUDENT WELFARE OFFICE
(2831)  DR TANUSHREE CHOUDHARY  HOD  HUMANITIES AND SOCIAL SCIENCES
(2832)   DEEPIKA KUKREJA  ASSISTANT PROFESSOR  INFORMATION TECHNOLOGY
(2833)  Mr LAMBODAR MISHRA  DATA PROCESSOR  ACADEMIC SECTION
(2834)  Mr LAMBODAR MISHRA  DATA PROCESSOR  ACADEMIC SECTION
(2835)   RAVINDER KUMAR  DEAN STUDENT WELFARE OFFICE
(2836)  Mr LAMBODAR MISHRA  DATA ENTRY OPERATOR  ACADEMIC SECTION
(2837)  Dr  ANAND GUPTA  ASSOCIATE PROFESSOR  COMPUTER ENGINEERING
(2838)  Mrs TARUNA TIWARI  LDC  ACADEMIC SECTION
(2839)  DR MAMTA MISHRA  ASSOCIATE PROFESSOR  MATHEMATICS
(2840)  Mr SHYAM SINGH  CENTRAL COMPUTER CENTER
(2841)  Mr LAMBODAR MISHRA  DATA ENTRY OPERATOR  ACADEMIC SECTION
(2842)  Mr LAMBODAR MISHRA  DATA ENTRY OPERATOR  ACADEMIC SECTION
(2843)  Dr PRAVEEN SAROHA  OFFICER INCHARGE  PHYSICAL EDUCATION
(2844)   RAVINDER KUMAR  DEAN STUDENT WELFARE OFFICE
(2845)  Dr  ANAND GUPTA  ASSOCIATE PROFESSOR  COMPUTER ENGINEERING
(2846)   MANISHA KHULBE  ASSISTANT PROFESSOR  ELECTRONICS AND COMMUNICATION ENGINEERING
(2847)  Mr LAMBODAR MISHRA  DATA PROCESSOR  EXAMINATION CELL
(2848)   BHAWNA AGGARWAL  ASSISTANT PROFESSOR  ELECTRONICS AND COMMUNICATION ENGINEERING
(2849)  Dr  SUJATA SENGAR  DEAN ACADEMICS  ACADEMIC SECTION
(2850)  DR MAMTA MISHRA  ASSOCIATE PROFESSOR  MATHEMATICS
(2851)  Dr AMITA JAIN  COMPUTER SCIENCE AND ENGINEERING
(2852)   RITU SIBAL  PROFESSOR  COMPUTER ENGINEERING
(2853)  Dr PRAVEEN SAROHA  OFFICER INCHARGE  PHYSICAL EDUCATION
(2854)  DR MAMTA MISHRA  ASSOCIATE PROFESSOR  MATHEMATICS
(2855)  Dr PRAVEEN SAROHA  OFFICER INCHARGE  PHYSICAL EDUCATION
(2856)   ATHAR HUSSAIN  ASSOCIATE PROFESSOR  CIVIL ENGINEERING
(2857)   ATHAR HUSSAIN  ASSOCIATE PROFESSOR  CIVIL ENGINEERING
(2858)   UMANG SONI  ASSISTANT PROFESSOR  MECHANICAL ENGINEERING
(2859)   RAVINDER KUMAR  DEAN STUDENT WELFARE OFFICE
(2860)  Dr AKHILESH DUBEY  ASSISTANT PROFESSOR  BIO TECHNOLOGY
(2861)  Dr  ANAND GUPTA  ASSOCIATE PROFESSOR  COMPUTER ENGINEERING
(2862)   KHUSHIL KUMAR SAINI  CENTRAL COMPUTER CENTER
(2863)   DURU ARUN KUMAR  MANAGEMENT
(2864)   KHUSHIL KUMAR SAINI  COORDINATOR  UNIVERSITY MANAGEMENT CENTRE  CENTRAL COMPUTER CENTER
(2865)   ANDRIYA NARASIMHULU  ASSISTANT PROFESSOR  MECHANICAL ENGINEERING
(2866)   DEVENDER KUMAR  ASSISTANT PROFESSOR  INFORMATION TECHNOLOGY
(2867)   ANDRIYA NARASIMHULU  ASSISTANT PROFESSOR  MECHANICAL ENGINEERING
(2868)  Prof  ANJANA SARKAR  HOD  CHEMISTRY
(2869)   ANDRIYA NARASIMHULU  ASSISTANT PROFESSOR  MECHANICAL ENGINEERING
(2870)   DURU ARUN KUMAR  ASSOCIATE PROFESSOR  MANAGEMENT
(2871)   ANDRIYA NARASIMHULU  ASSISTANT PROFESSOR  MECHANICAL ENGINEERING
(2872)  Mrs MAHESHWARI CHANDRA  SECTION OFFICER  ACADEMIC SECTION
(2873)  Prof  ANJANA SARKAR  HOD  CHEMISTRY
(2874)  Dr  SUJATA SENGAR  DEAN ACADEMICS  ACADEMIC SECTION
(2875)   O  P  THAKUR  PROFESSOR  PHYSICS
(2876)  DR TANUSHREE CHOUDHARY  HUMANITIES AND SOCIAL SCIENCES
(2877)  Mr LAMBODAR MISHRA  DATA PROCESSOR  ACADEMIC SECTION
(2878)  Dr  SUJATA SENGAR  DEAN ACADEMICS  ACADEMIC SECTION
(2879)   YATENDER KUMAR  ASSISTANT PROFESSOR  BIO TECHNOLOGY
(2880)  Dr  SUJATA SENGAR  DEAN ACADEMICS  ACADEMIC SECTION
(2881)   RITU SIBAL  PROFESSOR  COMPUTER ENGINEERING
(2882)  Dr  SUJATA SENGAR  ACADEMIC SECTION
(2883)   ANDRIYA NARASIMHULU  ASSISTANT PROFESSOR  MECHANICAL ENGINEERING
(2884)  Dr PRAVEEN SAROHA  OFFICER INCHARGE  PHYSICAL EDUCATION
(2885)   TARUN KUMAR RAWAT  ASSISTANT PROFESSOR  ELECTRONICS AND COMMUNICATION ENGINEERING
(2886)  Mr RAJESH KUMAR  GUEST FACULTY  ELECTRONICS AND COMMUNICATION ENGINEERING
(2887)   JYOTSNA SINGH  INSTRUCTOR  ELECTRONICS AND COMMUNICATION ENGINEERING
(2888)   PARUL GARG  INSTRUCTOR  ELECTRONICS AND COMMUNICATION ENGINEERING
(2889)   ASHA RANI  PROFESSOR  INSTRUMENTATION AND CONTROL ENGINEERING
(2890)   RAJEEV KUMAR  ASSOCIATE PROFESSOR  COMPUTER ENGINEERING
(2891)   SHILPA SHARMA  ASSISTANT PROFESSOR  BIO TECHNOLOGY
(2892)   BIJENDRA KUMAR  INSTRUCTOR  COMPUTER SCIENCE AND ENGINEERING
(2893)   DURU ARUN KUMAR  INSTRUCTOR  MANAGEMENT
(2894)   SHAILESH MISHRA  ASSISTANT PROFESSOR  ELECTRONICS AND COMMUNICATION ENGINEERING
(2895)   SHWETA GAUTAM  ASSISTANT PROFESSOR  ELECTRONICS AND COMMUNICATION ENGINEERING
(2896)   SHAILESH MISHRA  ASSISTANT PROFESSOR  ELECTRONICS AND COMMUNICATION ENGINEERING
(2897)  Dr  ANAND GUPTA  INSTRUCTOR  COMPUTER ENGINEERING
(2898)   TARUN KUMAR RAWAT  INSTRUCTOR  ELECTRONICS AND COMMUNICATION ENGINEERING
(2899)  Prof  SANGEETA SABHARWAL  PROFESSOR  COMPUTER ENGINEERING
(2900)  Dr  SUJATA SENGAR  DEAN ACADEMICS  ACADEMIC SECTION
(2901)  Dr  PREETI KAUR  ASSOCIATE PROFESSOR  COMPUTER ENGINEERING
(2902)  Mr ASHWANI TEWATHIA  DATA ENTRY OPERATOR  CENTRAL COMPUTER CENTER
(2903)   BHAWNA AGGARWAL  ASSISTANT PROFESSOR  ELECTRONICS AND COMMUNICATION ENGINEERING
(2904)  DR MAMTA MISHRA  ASSOCIATE PROFESSOR  MATHEMATICS
(2905)  Prof  ANJANA SARKAR  INSTRUCTOR  CHEMISTRY
(2906)  Prof  ANJANA SARKAR  HOD  CHEMISTRY
(2907)  Mrs MAHESHWARI CHANDRA  SECTION OFFICER  ACADEMIC SECTION
(2908)  Dr PRAVEEN SAROHA  OFFICER INCHARGE  PHYSICAL EDUCATION
(2909)   ABHISHEK FAUJDAR  CENTRAL COMPUTER CENTER
(2910)   ABHISHEK FAUJDAR  SENIOR SYSTEM ANALYST  CENTRAL COMPUTER CENTER
(2911)   ABHISHEK FAUJDAR  SENIOR SYSTEM ANALYST  CENTRAL COMPUTER CENTER
(2912)   DEVENDER KUMAR  ASSISTANT PROFESSOR  INFORMATION TECHNOLOGY
(2913)   ABHISHEK FAUJDAR  SENIOR SYSTEM ANALYST  CENTRAL COMPUTER CENTER
(2914)  Mrs MAHESHWARI CHANDRA  SECTION OFFICER  ACADEMIC SECTION
(2915)  Mrs MAHESHWARI CHANDRA  SECTION OFFICER  ACADEMIC SECTION
(2916)   KHUSHIL KUMAR SAINI  COORDINATOR  UNIVERSITY MANAGEMENT CENTRE  CENTRAL COMPUTER CENTER
(2917)  Mrs MAHESHWARI CHANDRA  SECTION OFFICER  ACADEMIC SECTION
(2918)  Mrs MAHESHWARI CHANDRA  SECTION OFFICER  ACADEMIC SECTION
(2919)   ANDRIYA NARASIMHULU  ASSISTANT PROFESSOR  MECHANICAL ENGINEERING
(2920)   PANKAJ DESHWAL  MANAGEMENT
(2921)   PANKAJ DESHWAL  ASSISTANT PROFESSOR  MANAGEMENT
(2922)   SURESH SARAF  ASST REGISTRAR 1  ESTABLISHMENT SECTION
(2923)   VIJANDER SINGH  DEAN STUDENT WELFARE  INSTRUMENTATION AND CONTROL ENGINEERING
(2924)   SURESH SARAF  ASST REGISTRAR 1  ESTABLISHMENT SECTION
(2925)  DR TANUSHREE CHOUDHARY  HOD  HUMANITIES AND SOCIAL SCIENCES
(2926)   O  P  THAKUR  PROFESSOR  PHYSICS
(2927)  Mr SHYAM SINGH  CENTRAL COMPUTER CENTER
(2928)  Mr SHYAM SINGH  CENTRAL COMPUTER CENTER
(2929)  Mr SHYAM SINGH  CENTRAL COMPUTER CENTER
(2930)  Mrs MAHESHWARI CHANDRA  SECTION OFFICER  ACADEMIC SECTION
(2931)   KHUSHIL KUMAR SAINI  COORDINATOR  UNIVERSITY MANAGEMENT CENTRE  CENTRAL COMPUTER CENTER
(2932)   KHUSHIL KUMAR SAINI  COORDINATOR  UNIVERSITY MANAGEMENT CENTRE  CENTRAL COMPUTER CENTER
(2933)  Mrs MAHESHWARI CHANDRA  SECTION OFFICER  ACADEMIC SECTION
(2934)  Mrs MAHESHWARI CHANDRA  SECTION OFFICER  ACADEMIC SECTION
(2935)  Dr AMITA JAIN  COMPUTER SCIENCE AND ENGINEERING
(2936)   SHILPA SHARMA  PRACTICAL INSTRUCTOR  BIO TECHNOLOGY
(2937)   ANDRIYA NARASIMHULU  ASSISTANT PROFESSOR  MECHANICAL ENGINEERING
(2938)   DEVENDER KUMAR  ASSISTANT PROFESSOR  INFORMATION TECHNOLOGY
(2939)  Mr LAMBODAR MISHRA  DATA PROCESSOR  ACADEMIC SECTION
(2940)   JYOTI YADAV  ASSISTANT PROFESSOR  INSTRUMENTATION AND CONTROL ENGINEERING
(2941)   DEEPAK KUMAR SHARMA  INFORMATION TECHNOLOGY
(2942)   YATENDER KUMAR  ASSISTANT PROFESSOR  BIO TECHNOLOGY
(2943)  Dr  PREETI KAUR  ASSOCIATE PROFESSOR  COMPUTER ENGINEERING
(2944)   TARUN KUMAR RAWAT  ELECTRONICS AND COMMUNICATION ENGINEERING
(2945)   MANISHA KHULBE  ELECTRONICS AND COMMUNICATION ENGINEERING
(2946)  Prof SHYAMA KANT JHA  PRACTICAL SUPERINTENDENT  INSTRUMENTATION AND CONTROL ENGINEERING
(2947)   YATENDER KUMAR  ASSISTANT PROFESSOR  BIO TECHNOLOGY
(2948)  Dr  PREETI KAUR  ASSOCIATE PROFESSOR  COMPUTER ENGINEERING
(2949)   JYOTI YADAV  ASSISTANT PROFESSOR  INSTRUMENTATION AND CONTROL ENGINEERING
(2950)   JYOTI YADAV  ASSISTANT PROFESSOR  INSTRUMENTATION AND CONTROL ENGINEERING
(2951)   DEEPAK KUMAR SHARMA  ASSISTANT PROFESSOR  INFORMATION TECHNOLOGY
(2952)   DEEPAK KUMAR SHARMA  ASSISTANT PROFESSOR  INFORMATION TECHNOLOGY
(2953)   DEEPIKA KUKREJA  ASSISTANT PROFESSOR  INFORMATION TECHNOLOGY
(2954)  Prof SHYAMA KANT JHA  PRACTICAL SUPERINTENDENT  INSTRUMENTATION AND CONTROL ENGINEERING
(2955)  DR MAMTA MISHRA  ASSOCIATE PROFESSOR  MATHEMATICS
(2956)   TARUN KUMAR RAWAT  ASSISTANT PROFESSOR  ELECTRONICS AND COMMUNICATION ENGINEERING
(2957)  Dr  A  V  MULEY  ASSOCIATE PROFESSOR  MANUFACTURING PROCESSES AND AUTOMATION ENGINEERING
(2958)   SHWETA GAUTAM  ELECTRONICS AND COMMUNICATION ENGINEERING
(2959)  DR MAMTA MISHRA  ASSOCIATE PROFESSOR  MATHEMATICS
(2960)   KHUSHIL KUMAR SAINI  COORDINATOR  UNIVERSITY MANAGEMENT CENTRE  CENTRAL COMPUTER CENTER
(2961)  Dr  ANAND GUPTA  ASSOCIATE PROFESSOR  COMPUTER ENGINEERING
(2962)   MANISHA KHULBE  ELECTRONICS AND COMMUNICATION ENGINEERING
(2963)   MANISHA KHULBE  ELECTRONICS AND COMMUNICATION ENGINEERING
(2964)  Dr AMITA JAIN  COMPUTER SCIENCE AND ENGINEERING
(2965)   TARUN KUMAR RAWAT  ASSISTANT PROFESSOR  ELECTRONICS AND COMMUNICATION ENGINEERING
(2966)  Dr AMITA JAIN  COMPUTER SCIENCE AND ENGINEERING
(2967)  Mr SHYAM SINGH  COORDINATOR  CENTRAL COMPUTER CENTER
(2968)  DR TANUSHREE CHOUDHARY  HOD  HUMANITIES AND SOCIAL SCIENCES
(2969)   RITU SIBAL  PROFESSOR  COMPUTER ENGINEERING
(2970)  Dr  SUJATA SENGAR  DEAN ACADEMICS  ACADEMIC SECTION
(2971)  Dr  PREETI KAUR  ASSOCIATE PROFESSOR  COMPUTER ENGINEERING
(2972)  Dr  PREETI KAUR  ASSOCIATE PROFESSOR  COMPUTER ENGINEERING
(2973)   PANKAJ DESHWAL  ASSISTANT PROFESSOR  MANAGEMENT
(2974)   TARUN KUMAR RAWAT  ASSISTANT PROFESSOR  ELECTRONICS AND COMMUNICATION ENGINEERING
(2975)   TARUN KUMAR RAWAT  ASSISTANT PROFESSOR  ELECTRONICS AND COMMUNICATION ENGINEERING
(2976)  Dr  SUJATA SENGAR  ACADEMIC SECTION
(2977)   ANDRIYA NARASIMHULU  ASSISTANT PROFESSOR  MECHANICAL ENGINEERING
(2978)  Dr AMITA JAIN  COMPUTER SCIENCE AND ENGINEERING
(2979)   ANDRIYA NARASIMHULU  ASSISTANT PROFESSOR  MECHANICAL ENGINEERING
(2980)   MANISHA KHULBE  ELECTRONICS AND COMMUNICATION ENGINEERING
(2981)   ABHISHEK FAUJDAR  SENIOR SYSTEM ANALYST  CENTRAL COMPUTER CENTER
(2982)   KHUSHIL KUMAR SAINI  COORDINATOR  UNIVERSITY MANAGEMENT CENTRE  CENTRAL COMPUTER CENTER
(2983)   JYOTI YADAV  ASSISTANT PROFESSOR  INSTRUMENTATION AND CONTROL ENGINEERING
(2984)   DEEPIKA KUKREJA  ASSISTANT PROFESSOR  INFORMATION TECHNOLOGY
(2985)   DEEPIKA KUKREJA  ASSISTANT PROFESSOR  INFORMATION TECHNOLOGY
(2986)   RITU SIBAL  COMPUTER ENGINEERING
(2987)   YATENDER KUMAR  ASSISTANT PROFESSOR  BIO TECHNOLOGY
(2988)   RITU SIBAL  PROFESSOR  COMPUTER ENGINEERING
(2989)  Dr  PREETI KAUR  ASSOCIATE PROFESSOR  COMPUTER ENGINEERING
(2990)  Dr  PREETI KAUR  ASSOCIATE PROFESSOR  COMPUTER ENGINEERING
(2991)   ANDRIYA NARASIMHULU  ASSISTANT PROFESSOR  MECHANICAL ENGINEERING
(2992)  Mr LAMBODAR MISHRA  DATA PROCESSOR  ACADEMIC SECTION
(2993)  Mr LAMBODAR MISHRA  DATA PROCESSOR  ACADEMIC SECTION
(2994)  Dr  ANAND GUPTA  ASSOCIATE PROFESSOR  COMPUTER ENGINEERING
(2995)  Dr  ANAND GUPTA  ASSOCIATE PROFESSOR  COMPUTER ENGINEERING
(2996)   RAVINDER KUMAR  DEAN STUDENT WELFARE OFFICE
(2997)  PROF SANJAY KUMAR CHAK  PROFESSOR  MANUFACTURING PROCESSES AND AUTOMATION ENGINEERING
(2998)   RITU SIBAL  PROFESSOR  COMPUTER ENGINEERING
(2999)  Dr  ANAND GUPTA  ASSOCIATE PROFESSOR  COMPUTER ENGINEERING
(3000)   ABHISHEK FAUJDAR  SENIOR SYSTEM ANALYST  CENTRAL COMPUTER CENTER
(3001)   KHUSHIL KUMAR SAINI  COORDINATOR  UNIVERSITY MANAGEMENT CENTRE  CENTRAL COMPUTER CENTER
(3002)  Dr  ANAND GUPTA  ASSOCIATE PROFESSOR  COMPUTER ENGINEERING
(3003)   KHUSHIL KUMAR SAINI  COORDINATOR  UNIVERSITY MANAGEMENT CENTRE  CENTRAL COMPUTER CENTER
(3004)   KHUSHIL KUMAR SAINI  COORDINATOR  UNIVERSITY MANAGEMENT CENTRE  CENTRAL COMPUTER CENTER
(3005)   KHUSHIL KUMAR SAINI  COORDINATOR  UNIVERSITY MANAGEMENT CENTRE  CENTRAL COMPUTER CENTER
(3006)   KHUSHIL KUMAR SAINI  COORDINATOR  UNIVERSITY MANAGEMENT CENTRE  CENTRAL COMPUTER CENTER
(3007)   KHUSHIL KUMAR SAINI  COORDINATOR  UNIVERSITY MANAGEMENT CENTRE  CENTRAL COMPUTER CENTER
(3008)  Mr LAMBODAR MISHRA  DATA PROCESSOR  EXAMINATION CELL
(3009)  Mr LAMBODAR MISHRA  DATA PROCESSOR  EXAMINATION CELL
(3010)  Mr LAMBODAR MISHRA  DATA PROCESSOR  EXAMINATION CELL
(3011)  Mrs MAHESHWARI CHANDRA  SECTION OFFICER  ACADEMIC SECTION
(3012)   KHUSHIL KUMAR SAINI  COORDINATOR  UNIVERSITY MANAGEMENT CENTRE  CENTRAL COMPUTER CENTER
(3013)   KHUSHIL KUMAR SAINI  COORDINATOR  UNIVERSITY MANAGEMENT CENTRE  CENTRAL COMPUTER CENTER
(3014)   KHUSHIL KUMAR SAINI  COORDINATOR  UNIVERSITY MANAGEMENT CENTRE  CENTRAL COMPUTER CENTER
(3015)   KHUSHIL KUMAR SAINI  COORDINATOR  UNIVERSITY MANAGEMENT CENTRE  CENTRAL COMPUTER CENTER
(3016)   KHUSHIL KUMAR SAINI  COORDINATOR  UNIVERSITY MANAGEMENT CENTRE  CENTRAL COMPUTER CENTER
(3017)   KHUSHIL KUMAR SAINI  COORDINATOR  UNIVERSITY MANAGEMENT CENTRE  CENTRAL COMPUTER CENTER
(3018)  Mr LAMBODAR MISHRA  DATA PROCESSOR  ACADEMIC SECTION
(3019)  Mrs MAHESHWARI CHANDRA  SECTION OFFICER  ACADEMIC SECTION
(3020)   KHUSHIL KUMAR SAINI  COORDINATOR  UNIVERSITY MANAGEMENT CENTRE  CENTRAL COMPUTER CENTER
(3021)   KHUSHIL KUMAR SAINI  COORDINATOR  UNIVERSITY MANAGEMENT CENTRE  CENTRAL COMPUTER CENTER
(3022)  b Clarification on Application Proforma for Adjunct Visiting  Professor Emeritus in Department of Architecture  NSUT  The performa is also available on NSUT website under the heading Proforma 2020   Appointment of Adjunct Faculty  Professor Emeritus and Vis br   font size  1   br    SURESH SARAF  ESTABLISHMENT SECTION  b   font 
(3023)   SURESH SARAF  ESTABLISHMENT SECTION
(3024)  Mrs MAHESHWARI CHANDRA  SECTION OFFICER  ACADEMIC SECTION
(3025)   SURESH SARAF  ASST REGISTRAR 1  ESTABLISHMENT SECTION
(3026)  Dr  PREETI KAUR  ASSOCIATE PROFESSOR  COMPUTER ENGINEERING
(3027)  Mr LAMBODAR MISHRA  DATA PROCESSOR  ACADEMIC SECTION
(3028)  Prof  ANJANA SARKAR  PRACTICAL INSTRUCTOR  CHEMISTRY
(3029)  Mr SHYAM SINGH  LDC  CENTRAL COMPUTER CENTER
(3030)   SHWETA GAUTAM  ELECTRONICS AND COMMUNICATION ENGINEERING
(3031)  Prof  RANJANA JHA  HOD  PHYSICS
(3032)  Mr LAMBODAR MISHRA  DATA PROCESSOR  ACADEMIC SECTION
(3033)   RITU SIBAL  PROFESSOR  COMPUTER ENGINEERING
(3034)  Dr  ANAND GUPTA  ASSOCIATE PROFESSOR  COMPUTER ENGINEERING
(3035)   PINAKI CHAKRABORTY  ASSISTANT PROFESSOR  COMPUTER ENGINEERING
(3036)   SHWETA GAUTAM  ELECTRONICS AND COMMUNICATION ENGINEERING
(3037)   SURESH SARAF  ASST REGISTRAR 1  ESTABLISHMENT SECTION
(3038)   SURESH SARAF  ASST REGISTRAR 1  ESTABLISHMENT SECTION
(3039)   SURESH SARAF  ASST REGISTRAR 1  ESTABLISHMENT SECTION
(3040)  Mr LAMBODAR MISHRA  DATA PROCESSOR  EXAMINATION CELL
(3041)  Dr  A  V  MULEY  MANUFACTURING PROCESSES AND AUTOMATION ENGINEERING
(3042)  Mr LAMBODAR MISHRA  DATA PROCESSOR  EXAMINATION CELL
(3043)   DEVENDER KUMAR  ASSISTANT PROFESSOR  INFORMATION TECHNOLOGY
(3044)   BHAVNESH KUMAR  ASSISTANT PROFESSOR  INSTRUMENTATION AND CONTROL ENGINEERING
(3045)   DEVENDER KUMAR  ASSISTANT PROFESSOR  INFORMATION TECHNOLOGY
(3046)   SHWETA GAUTAM  ELECTRONICS AND COMMUNICATION ENGINEERING
(3047)  Dr  A  V  MULEY  MANUFACTURING PROCESSES AND AUTOMATION ENGINEERING
(3048)   PINAKI CHAKRABORTY  ASSISTANT PROFESSOR  COMPUTER ENGINEERING
(3049)   SHILPA SHARMA  PRACTICAL INSTRUCTOR  BIO TECHNOLOGY
(3050)   SHILPA SHARMA  PRACTICAL INSTRUCTOR  BIO TECHNOLOGY
(3051)  Mr SHYAM SINGH  LDC  CENTRAL COMPUTER CENTER
(3052)  Dr  SUJATA SENGAR  DEAN ACADEMICS  ACADEMIC SECTION
(3053)   VIJANDER SINGH  DEAN STUDENT WELFARE  INSTRUMENTATION AND CONTROL ENGINEERING
(3054)  Mr LAMBODAR MISHRA  DATA PROCESSOR  EXAMINATION CELL
(3055)   SHILPA SHARMA  PRACTICAL INSTRUCTOR  BIO TECHNOLOGY
(3056)  Mr LAMBODAR MISHRA  DATA ENTRY OPERATOR  EXAMINATION CELL
(3057)  Mr LAMBODAR MISHRA  DATA ENTRY OPERATOR  EXAMINATION CELL
(3058)  Mr LAMBODAR MISHRA  DATA ENTRY OPERATOR  EXAMINATION CELL
(3059)   TARUN KUMAR RAWAT  ASSISTANT PROFESSOR  ELECTRONICS AND COMMUNICATION ENGINEERING
(3060)  PROF SANJAY KUMAR CHAK  PROFESSOR  MANUFACTURING PROCESSES AND AUTOMATION ENGINEERING
(3061)   SHILPA SHARMA  PRACTICAL INSTRUCTOR  BIO TECHNOLOGY
(3062)   KHUSHIL KUMAR SAINI  COORDINATOR  UNIVERSITY MANAGEMENT CENTRE  CENTRAL COMPUTER CENTER
(3063)  Dr  SUJATA SENGAR  DEAN UG  ACADEMIC SECTION
(3064)   ABHISHEK FAUJDAR  SENIOR SYSTEM ANALYST  CENTRAL COMPUTER CENTER
(3065)  Prof AMAR NATH JHA  PROFESSOR  INSTRUMENTATION AND CONTROL ENGINEERING
(3066)   ANDRIYA NARASIMHULU  ASSISTANT PROFESSOR  MANUFACTURING PROCESSES AND AUTOMATION ENGINEERING
(3067)  Mr LAMBODAR MISHRA  DATA PROCESSOR  EXAMINATION CELL
(3068)   BHAWNA AGGARWAL  ASSISTANT PROFESSOR  ELECTRONICS AND COMMUNICATION ENGINEERING
(3069)  Mr SHYAM SINGH  LDC  CENTRAL COMPUTER CENTER
(3070)   ANOOP KUMAR SINGH  CARETAKER  ENGINEERING CELL
(3071)   ASHA RANI  OFFICER INCHARGE  ROBOTICS AND AI LAB  INSTRUMENTATION AND CONTROL ENGINEERING
(3072)   VIJANDER SINGH  DEAN STUDENT WELFARE  INSTRUMENTATION AND CONTROL ENGINEERING
(3073)  Dr AKHILESH DUBEY  ASSISTANT PROFESSOR  BIO TECHNOLOGY
(3074)  Mr LAMBODAR MISHRA  DATA PROCESSOR  EXAMINATION CELL
(3075)  Mrs MAHESHWARI CHANDRA  SECTION OFFICER  ACADEMIC SECTION
(3076)  Mrs MAHESHWARI CHANDRA  SECTION OFFICER  ACADEMIC SECTION
(3077)  Mrs MAHESHWARI CHANDRA  SECTION OFFICER  ACADEMIC SECTION
(3078)  Mrs MAHESHWARI CHANDRA  SECTION OFFICER  ACADEMIC SECTION
(3079)  Mr LAMBODAR MISHRA  ACADEMIC SECTION
(3080)  Mr LAMBODAR MISHRA  DATA PROCESSOR  ACADEMIC SECTION
(3081)   ANDRIYA NARASIMHULU  ASSISTANT PROFESSOR  MANUFACTURING PROCESSES AND AUTOMATION ENGINEERING
(3082)   DEEPIKA KUKREJA  ASSISTANT PROFESSOR  INFORMATION TECHNOLOGY
(3083)  Mr LAMBODAR MISHRA  DATA PROCESSOR  ACADEMIC SECTION
(3084)  Dr PRAVEEN SAROHA  OFFICER INCHARGE  PHYSICAL EDUCATION
(3085)  Dr  SUJATA SENGAR  DEAN UG  ACADEMIC SECTION
(3086)   ABHISHEK FAUJDAR  SENIOR SYSTEM ANALYST  CENTRAL COMPUTER CENTER
(3087)   ANDRIYA NARASIMHULU  ASSISTANT PROFESSOR  MANUFACTURING PROCESSES AND AUTOMATION ENGINEERING
(3088)   PRERNA GAUR  HOD  INSTRUMENTATION AND CONTROL ENGINEERING
(3089)   VIJANDER SINGH  VIGILANCE OFFICER  INSTRUMENTATION AND CONTROL ENGINEERING
(3090)   PANKAJ DESHWAL  ASSISTANT PROFESSOR  MANAGEMENT
(3091)   KIRTI KHANDELWAL  JUNIOR PROGRAMMER  UNIVERSITY MANAGEMENT CENTRE  CENTRAL COMPUTER CENTER
(3092)  Mrs MAHESHWARI CHANDRA  SECTION OFFICER  ACADEMIC SECTION
(3093)  Mrs MAHESHWARI CHANDRA  SECTION OFFICER  ACADEMIC SECTION
(3094)   SHILPA SHARMA  PRACTICAL INSTRUCTOR  BIO TECHNOLOGY
(3095)   RAVINDER KUMAR  DEAN STUDENT WELFARE OFFICE
(3096)   BHAVNESH KUMAR  ASSISTANT PROFESSOR  INSTRUMENTATION AND CONTROL ENGINEERING
(3097)  PROF SHREE PRAKASH SINGH  HOD  CENTRAL COMPUTER CENTER
(3098)  Dr  PREETI KAUR  ASSOCIATE PROFESSOR  COMPUTER ENGINEERING
(3099)  Dr PRAVEEN SAROHA  OFFICER INCHARGE  PHYSICAL EDUCATION
(3100)  Dr PRAVEEN SAROHA  OFFICER INCHARGE  PHYSICAL EDUCATION
(3101)   PANKAJ DESHWAL  ASSISTANT PROFESSOR  MANAGEMENT
(3102)   PANKAJ DESHWAL  ASSISTANT PROFESSOR  MANAGEMENT
(3103)  Prof  RANJANA JHA  HOD  PHYSICS
(3104)   DURU ARUN KUMAR  MANAGEMENT
(3105)   MANISHA  ASSISTANT PROFESSOR  INSTRUMENTATION AND CONTROL ENGINEERING
(3106)  Mrs MAHESHWARI CHANDRA  SECTION OFFICER  ACADEMIC SECTION
(3107)   DEEPIKA KUKREJA  ASSISTANT PROFESSOR  INFORMATION TECHNOLOGY
(3108)  b IT Department  M  Tech and Ph D  RM course work Time Table br   font size  1   br    DEEPIKA KUKREJA  ASSISTANT PROFESSOR  INFORMATION TECHNOLOGY  b   font 
(3109)   DEEPIKA KUKREJA  ASSISTANT PROFESSOR  INFORMATION TECHNOLOGY
(3110)   BHAVNESH KUMAR  ASSISTANT PROFESSOR  INSTRUMENTATION AND CONTROL ENGINEERING
(3111)   TARUN KUMAR RAWAT  ASSISTANT PROFESSOR  ELECTRONICS AND COMMUNICATION ENGINEERING
(3112)   TARUN KUMAR RAWAT  ASSISTANT PROFESSOR  ELECTRONICS AND COMMUNICATION ENGINEERING
(3113)  Mr LAMBODAR MISHRA  DATA PROCESSOR  ACADEMIC SECTION
(3114)   MANISHA  ASSISTANT PROFESSOR  INSTRUMENTATION AND CONTROL ENGINEERING
(3115)   ANDRIYA NARASIMHULU  ASSISTANT PROFESSOR  MANUFACTURING PROCESSES AND AUTOMATION ENGINEERING
(3116)   DURU ARUN KUMAR  ASSOCIATE PROFESSOR  MANAGEMENT
(3117)  Dr AKHILESH DUBEY  OFFICER INCHARGE  BIO TECHNOLOGY
(3118)  Dr  PREETI KAUR  ASSOCIATE PROFESSOR  COMPUTER ENGINEERING
(3119)  Dr  SUJATA SENGAR  DEAN UG  ACADEMIC SECTION
(3120)   MANISHA  ASSISTANT PROFESSOR  INSTRUMENTATION AND CONTROL ENGINEERING
(3121)   MANISHA  ASSISTANT PROFESSOR  INSTRUMENTATION AND CONTROL ENGINEERING
(3122)  Dr AKHILESH DUBEY  ASSISTANT PROFESSOR  BIO TECHNOLOGY
(3123)   PANKAJ DESHWAL  ASSISTANT PROFESSOR  MANAGEMENT
(3124)   PANKAJ DESHWAL  ASSISTANT PROFESSOR  MANAGEMENT
(3125)  Dr PRAVEEN SAROHA  OFFICER INCHARGE  PHYSICAL EDUCATION
(3126)  Mrs MAHESHWARI CHANDRA  SECTION OFFICER  ACADEMIC SECTION
(3127)   ABHISHEK FAUJDAR  SENIOR SYSTEM ANALYST  CENTRAL COMPUTER CENTER
(3128)   ABHISHEK FAUJDAR  SENIOR SYSTEM ANALYST  CENTRAL COMPUTER CENTER
(3129)   ABHISHEK FAUJDAR  SENIOR SYSTEM ANALYST  CENTRAL COMPUTER CENTER
(3130)   ABHISHEK FAUJDAR  SENIOR SYSTEM ANALYST  CENTRAL COMPUTER CENTER
(3131)   ABHISHEK FAUJDAR  SENIOR SYSTEM ANALYST  CENTRAL COMPUTER CENTER
(3132)  Mrs MAHESHWARI CHANDRA  SECTION OFFICER  ACADEMIC SECTION
(3133)  Mr LAMBODAR MISHRA  DATA PROCESSOR  EXAMINATION CELL
(3134)   RAVINDER KUMAR  DEAN STUDENT WELFARE OFFICE
(3135)   RAVINDER KUMAR  DEAN STUDENT WELFARE OFFICE
(3136)   RAVINDER KUMAR  DEAN STUDENT WELFARE OFFICE
(3137)   RAVINDER KUMAR  DEAN STUDENT WELFARE OFFICE
(3138)  Mrs MAHESHWARI CHANDRA  SECTION OFFICER  ACADEMIC SECTION
(3139)  Mrs MAHESHWARI CHANDRA  SECTION OFFICER  ACADEMIC SECTION
(3140)  Mrs MAHESHWARI CHANDRA  SECTION OFFICER  ACADEMIC SECTION
(3141)  Mr LAMBODAR MISHRA  DATA PROCESSOR  EXAMINATION CELL
(3142)  Mrs MAHESHWARI CHANDRA  SECTION OFFICER  ACADEMIC SECTION
(3143)  Dr  SUJATA SENGAR  DEAN UG  ACADEMIC SECTION
(3144)   KHUSHIL KUMAR SAINI  COORDINATOR  UNIVERSITY MANAGEMENT CENTRE  CENTRAL COMPUTER CENTER
(3145)   SHWETA GAUTAM  ELECTRONICS AND COMMUNICATION ENGINEERING
(3146)  Dr PRAVEEN SAROHA  OFFICER INCHARGE  PHYSICAL EDUCATION
(3147)   VINEET KUMAR  PROFESSOR  EXAMINATION CELL
(3148)   RITU SIBAL  PROFESSOR  COMPUTER ENGINEERING
(3149)   VIJANDER SINGH  DEAN  INSTRUMENTATION AND CONTROL ENGINEERING
(3150)  Mrs MAHESHWARI CHANDRA  SECTION OFFICER  ACADEMIC SECTION
(3151)  Mrs MAHESHWARI CHANDRA  SECTION OFFICER  ACADEMIC SECTION
(3152)   ABHISHEK FAUJDAR  SENIOR SYSTEM ANALYST  CENTRAL COMPUTER CENTER
(3153)   ABHISHEK FAUJDAR  SENIOR SYSTEM ANALYST  CENTRAL COMPUTER CENTER
(3154)   ABHISHEK FAUJDAR  CENTRAL COMPUTER CENTER
(3155)   ABHISHEK FAUJDAR  SENIOR SYSTEM ANALYST  CENTRAL COMPUTER CENTER
(3156)  Dr  ANAND GUPTA  ASSOCIATE PROFESSOR  COMPUTER ENGINEERING
(3157)  Mrs MAHESHWARI CHANDRA  SECTION OFFICER  ACADEMIC SECTION
(3158)  Mr LAMBODAR MISHRA  DATA PROCESSOR  ACADEMIC SECTION
(3159)   VIJANDER SINGH  DEAN  MANAGEMENT STUDIES
(3160)  Mr SHYAM SINGH  CENTRAL COMPUTER CENTER
(3161)  Dr  SUJATA SENGAR  DEAN UG  ACADEMIC SECTION
(3162)  Dr  ANAND GUPTA  ASSOCIATE PROFESSOR  COMPUTER ENGINEERING
(3163)  Mr SHYAM SINGH  CENTRAL COMPUTER CENTER
(3164)  Dr  ANAND GUPTA  ASSOCIATE PROFESSOR  COMPUTER ENGINEERING
(3165)  Mr LAMBODAR MISHRA  DATA PROCESSOR  EXAMINATION CELL
(3166)  Mr LAMBODAR MISHRA  DATA PROCESSOR  EXAMINATION CELL
(3167)  Dr  ANAND GUPTA  ASSOCIATE PROFESSOR  COMPUTER ENGINEERING
(3168)  Mr LAMBODAR MISHRA  DATA PROCESSOR  EXAMINATION CELL
(3169)   SURESH SARAF  ASST REGISTRAR 1  ESTABLISHMENT SECTION
(3170)  Mr LAMBODAR MISHRA  DATA PROCESSOR  EXAMINATION CELL
(3171)  Dr  ANAND GUPTA  COMPUTER ENGINEERING
(3172)  Dr  SUJATA SENGAR  DEAN UG  ACADEMIC SECTION
(3173)   SURESH SARAF  ASST REGISTRAR 1  ESTABLISHMENT SECTION
(3174)  Mrs MAHESHWARI CHANDRA  SECTION OFFICER  ACADEMIC SECTION
(3175)  Dr  SUJATA SENGAR  DEAN UG  ACADEMIC SECTION
(3176)  Dr  ANAND GUPTA  ASSOCIATE PROFESSOR  COMPUTER ENGINEERING
(3177)  Dr  SUJATA SENGAR  DEAN UG  ACADEMIC SECTION
(3178)   PANKAJ AGGARWAL  UDC  ELECTRONICS AND COMMUNICATION ENGINEERING
(3179)  Mr LAMBODAR MISHRA  DATA PROCESSOR  ACADEMIC SECTION
(3180)  Dr  ANAND GUPTA  ASSOCIATE PROFESSOR  COMPUTER ENGINEERING
(3181)  Dr  ANAND GUPTA  ASSOCIATE PROFESSOR  COMPUTER ENGINEERING
(3182)  Dr  ANAND GUPTA  ASSOCIATE PROFESSOR  COMPUTER ENGINEERING
(3183)   ANOOP KUMAR SINGH  CARETAKER  ENGINEERING CELL
(3184)   KHUSHIL KUMAR SAINI  COORDINATOR  UNIVERSITY MANAGEMENT CENTRE  CENTRAL COMPUTER CENTER
(3185)  Mrs MAHESHWARI CHANDRA  SECTION OFFICER  ACADEMIC SECTION
(3186)  Mrs MAHESHWARI CHANDRA  SECTION OFFICER  ACADEMIC SECTION
(3187)  Mrs MAHESHWARI CHANDRA  SECTION OFFICER  ACADEMIC SECTION
(3188)  Mrs MAHESHWARI CHANDRA  SECTION OFFICER  ACADEMIC SECTION
(3189)  Mrs MAHESHWARI CHANDRA  SECTION OFFICER  ACADEMIC SECTION
(3190)  Mrs MAHESHWARI CHANDRA  SECTION OFFICER  ACADEMIC SECTION
(3191)  Mr LAMBODAR MISHRA  DATA PROCESSOR  ACADEMIC SECTION
(3192)   KHUSHIL KUMAR SAINI  COORDINATOR  UNIVERSITY MANAGEMENT CENTRE  CENTRAL COMPUTER CENTER
(3193)  DR PRABHAT KUMAR CHOUDHARY  ASSISTANT LIBRARIAN  LIBRARY
(3194)   KHUSHIL KUMAR SAINI  COORDINATOR  UNIVERSITY MANAGEMENT CENTRE  CENTRAL COMPUTER CENTER
(3195)  Dr  ANAND GUPTA  ASSOCIATE PROFESSOR  COMPUTER ENGINEERING
(3196)  Dr  ANAND GUPTA  COMPUTER ENGINEERING
(3197)   RAVINDER KUMAR  LDC  DEAN STUDENT WELFARE OFFICE
(3198)  Dr  SUJATA SENGAR  ACADEMIC SECTION
(3199)   KHUSHIL KUMAR SAINI  COORDINATOR  UNIVERSITY MANAGEMENT CENTRE  CENTRAL COMPUTER CENTER
(3200)  Mrs MAHESHWARI CHANDRA  SECTION OFFICER  ACADEMIC SECTION
(3201)  Dr  SUJATA SENGAR  DEAN UG  ACADEMIC SECTION
(3202)  Mr SHYAM SINGH  CENTRAL COMPUTER CENTER
(3203)  Prof AMAR NATH JHA  PROFESSOR  INSTRUMENTATION AND CONTROL ENGINEERING
(3204)  Dr  SUJATA SENGAR  DEAN UG  ACADEMIC SECTION
(3205)  Dr  SUJATA SENGAR  DEAN UG  ACADEMIC SECTION
(3206)  Mrs MAHESHWARI CHANDRA  SECTION OFFICER  ACADEMIC SECTION
(3207)  Mrs MAHESHWARI CHANDRA  SECTION OFFICER  ACADEMIC SECTION
(3208)  DR TANUSHREE CHOUDHARY  HOD  HUMANITIES AND SOCIAL SCIENCES
(3209)  Mrs MAHESHWARI CHANDRA  SECTION OFFICER  ACADEMIC SECTION
(3210)   KHUSHIL KUMAR SAINI  COORDINATOR  UNIVERSITY MANAGEMENT CENTRE  CENTRAL COMPUTER CENTER
(3211)  DR MAMTA MISHRA  ASSOCIATE PROFESSOR  MATHEMATICS
(3212)  DR TANUSHREE CHOUDHARY  HOD  HUMANITIES AND SOCIAL SCIENCES
(3213)  DR MAMTA MISHRA  ASSOCIATE PROFESSOR  MATHEMATICS
(3214)   PRERNA GAUR  DIRECTOR  NSUT IIF
(3215)  Prof  ANJANA SARKAR  CHEMISTRY
(3216)  Prof  ANJANA SARKAR  HOD  CHEMISTRY
(3217)  Prof  ANJANA SARKAR  HOD  CHEMISTRY
(3218)   TARUN KUMAR RAWAT  ASSISTANT PROFESSOR  ELECTRONICS AND COMMUNICATION ENGINEERING
(3219)  Mr LAMBODAR MISHRA  DATA PROCESSOR  ACADEMIC SECTION
(3220)  Mr LAMBODAR MISHRA  DATA PROCESSOR  ACADEMIC SECTION
(3221)  Prof  ANJANA SARKAR  HOD  CHEMISTRY
(3222)   KARNAIL SINGH  ACADEMIC SECTION
(3223)  Dr  PREETI KAUR  ASSOCIATE PROFESSOR  COMPUTER ENGINEERING
(3224)  Dr  ANAND GUPTA  ASSOCIATE PROFESSOR  COMPUTER ENGINEERING
(3225)  Dr DAYA NAND  SENIOR SCIENTIFIC ASSISTANT  PHYSICS
(3226)  Dr  PREETI KAUR  ASSOCIATE PROFESSOR  COMPUTER ENGINEERING
(3227)  Dr  SUJATA SENGAR  DEAN UG  ACADEMIC SECTION
(3228)   BHAWNA AGGARWAL  ASSISTANT PROFESSOR  ELECTRONICS AND COMMUNICATION ENGINEERING
(3229)  Mr LAMBODAR MISHRA  DATA PROCESSOR  ACADEMIC SECTION
(3230)   DEVENDER KUMAR  ASSISTANT PROFESSOR  INFORMATION TECHNOLOGY
(3231)  Mr LAMBODAR MISHRA  DATA PROCESSOR  ACADEMIC SECTION
(3232)  Mr LAMBODAR MISHRA  DATA PROCESSOR  ACADEMIC SECTION
(3233)   ANDRIYA NARASIMHULU  ASSISTANT PROFESSOR  MANUFACTURING PROCESSES AND AUTOMATION ENGINEERING
(3234)   ANDRIYA NARASIMHULU  ASSISTANT PROFESSOR  MANUFACTURING PROCESSES AND AUTOMATION ENGINEERING
(3235)   SHWETA GAUTAM  ASSISTANT PROFESSOR  ELECTRONICS AND COMMUNICATION ENGINEERING
(3236)   ANDRIYA NARASIMHULU  ASSISTANT PROFESSOR  MANUFACTURING PROCESSES AND AUTOMATION ENGINEERING
(3237)  Mr LAMBODAR MISHRA  ACADEMIC SECTION
(3238)   ANDRIYA NARASIMHULU  ASSISTANT PROFESSOR  MANUFACTURING PROCESSES AND AUTOMATION ENGINEERING
(3239)  Mr  ASHUTOSH GUPTA  JUNIOR STENO  INSTRUMENTATION AND CONTROL ENGINEERING
(3240)   PRAVEEN SAROHA  INSTRUCTOR  PHYSICAL EDUCATION
(3241)   PRAVEEN SAROHA  INSTRUCTOR  PHYSICAL EDUCATION
(3242)  Mr SHYAM SINGH  CENTRAL COMPUTER CENTER
(3243)   KHUSHIL KUMAR SAINI  COORDINATOR  UNIVERSITY MANAGEMENT CENTRE  CENTRAL COMPUTER CENTER
(3244)  Mrs MAHESHWARI CHANDRA  SECTION OFFICER  ACADEMIC SECTION
(3245)   YATENDER KUMAR  ASSISTANT PROFESSOR  BIO TECHNOLOGY
(3246)  Mr LAMBODAR MISHRA  DATA PROCESSOR  ACADEMIC SECTION
(3247)  Dr  SUJATA SENGAR  DEAN UG  ACADEMIC SECTION
(3248)  Mr LAMBODAR MISHRA  DATA PROCESSOR  ACADEMIC SECTION
(3249)  Dr  SUJATA SENGAR  DEAN UG  ACADEMIC SECTION
(3250)   KHUSHIL KUMAR SAINI  COORDINATOR  UNIVERSITY MANAGEMENT CENTRE  CENTRAL COMPUTER CENTER
(3251)   KHUSHIL KUMAR SAINI  COORDINATOR  UNIVERSITY MANAGEMENT CENTRE  CENTRAL COMPUTER CENTER
(3252)   KHUSHIL KUMAR SAINI  COORDINATOR  UNIVERSITY MANAGEMENT CENTRE  CENTRAL COMPUTER CENTER
(3253)   KHUSHIL KUMAR SAINI  COORDINATOR  UNIVERSITY MANAGEMENT CENTRE  CENTRAL COMPUTER CENTER
(3254)   KHUSHIL KUMAR SAINI  COORDINATOR  UNIVERSITY MANAGEMENT CENTRE  CENTRAL COMPUTER CENTER
(3255)   KHUSHIL KUMAR SAINI  COORDINATOR  UNIVERSITY MANAGEMENT CENTRE  CENTRAL COMPUTER CENTER
(3256)  Dr  SUJATA SENGAR  DEAN UG  ACADEMIC SECTION
(3257)   HIMANSHU SINGHAL  
(3258)  Dr  SUJATA SENGAR  ACADEMIC SECTION
(3259)  Dr  SUJATA SENGAR  ACADEMIC SECTION
(3260)  Dr  SUJATA SENGAR  ACADEMIC SECTION
(3261)   VINEET KUMAR  PROFESSOR  ENGINEERING CELL
(3262)   VINEET KUMAR  PROFESSOR  EXAMINATION CELL
(3263)   VINEET KUMAR  PROFESSOR  EXAMINATION CELL
(3264)  Mr LAMBODAR MISHRA  DATA PROCESSOR  ACADEMIC SECTION
(3265)   KHUSHIL KUMAR SAINI  COORDINATOR  UNIVERSITY MANAGEMENT CENTRE  CENTRAL COMPUTER CENTER
(3266)  Mr  HARI SAHAYA SINGH  MECHANIC   A  INSTRUMENTATION AND CONTROL ENGINEERING
(3267)  Mrs MAHESHWARI CHANDRA  SECTION OFFICER  ACADEMIC SECTION
(3268)   KHUSHIL KUMAR SAINI  COORDINATOR  UNIVERSITY MANAGEMENT CENTRE  CENTRAL COMPUTER CENTER
(3269)  Mrs MAHESHWARI CHANDRA  SECTION OFFICER  ACADEMIC SECTION
(3270)  Mr LAMBODAR MISHRA  DATA PROCESSOR  ACADEMIC SECTION
(3271)   PANKAJ DESHWAL  ASSISTANT PROFESSOR  NETAJI SUBHAS INSTITUTE OF TECHNOLOGY
(3272)   JYOTSNA SINGH  OFFICER INCHARGE  CIRCUIT SIMULATION LAB  ELECTRONICS AND COMMUNICATION ENGINEERING
(3273)   SHILPA SHARMA  PRACTICAL INSTRUCTOR  BIO TECHNOLOGY
(3274)  Mr LAMBODAR MISHRA  DATA PROCESSOR  ACADEMIC SECTION
(3275)   KARNAIL SINGH  ACADEMIC SECTION
(3276)  Mrs MAHESHWARI CHANDRA  SECTION OFFICER  ACADEMIC SECTION
(3277)   KARNAIL SINGH  ACADEMIC SECTION
(3278)   ABHISHEK FAUJDAR  SENIOR SYSTEM ANALYST  CENTRAL COMPUTER CENTER
(3279)  Dr  SUJATA SENGAR  DEAN UG  DEAN UG STUDIES
(3280)   KHUSHIL KUMAR SAINI  COORDINATOR  COMPUTER ENGINEERING
(3281)   KHUSHIL KUMAR SAINI  COORDINATOR  COMPUTER ENGINEERING
(3282)  Mr LAMBODAR MISHRA  DATA PROCESSOR  ACADEMIC SECTION
(3283)   KHUSHIL KUMAR SAINI  COORDINATOR  COMPUTER ENGINEERING
(3284)   KHUSHIL KUMAR SAINI  COORDINATOR  COMPUTER ENGINEERING
(3285)  DR ANKITA JAIN BANSAL  ASSISTANT PROFESSOR  INFORMATION TECHNOLOGY
(3286)   KHUSHIL KUMAR SAINI  COMPUTER ENGINEERING
(3287)  Dr  ANAND GUPTA  ASSOCIATE PROFESSOR  COMPUTER ENGINEERING
(3288)   BHAWNA AGGARWAL  ASSISTANT PROFESSOR  ELECTRONICS AND COMMUNICATION ENGINEERING
(3289)  Mr LAMBODAR MISHRA  DATA PROCESSOR  ACADEMIC SECTION
(3290)  Mr LAMBODAR MISHRA  DATA PROCESSOR  ACADEMIC SECTION
(3291)  Mr LAMBODAR MISHRA  DATA PROCESSOR  ACADEMIC SECTION
(3292)  Dr  PREETI KAUR  ASSOCIATE PROFESSOR  COMPUTER ENGINEERING
(3293)   JYOTI YADAV  ASSISTANT PROFESSOR  INSTRUMENTATION AND CONTROL ENGINEERING
(3294)   ANDRIYA NARASIMHULU  ASSISTANT PROFESSOR  MANUFACTURING PROCESSES AND AUTOMATION ENGINEERING
(3295)   YATENDER KUMAR  ASSISTANT PROFESSOR  BIO TECHNOLOGY
(3296)   SHILPA SHARMA  PRACTICAL INSTRUCTOR  BIO TECHNOLOGY
(3297)   TARUN KUMAR RAWAT  ASSISTANT PROFESSOR  ELECTRONICS AND COMMUNICATION ENGINEERING
(3298)   ABHISHEK FAUJDAR  SENIOR SYSTEM ANALYST  CENTRAL COMPUTER CENTER
(3299)   ABHISHEK TEVATIA  ASSISTANT PROFESSOR  MANUFACTURING PROCESSES AND AUTOMATION ENGINEERING
(3300)  DR MAMTA MISHRA  ASSOCIATE PROFESSOR  MATHEMATICS
(3301)   TARUN KUMAR RAWAT  ASSISTANT PROFESSOR  ELECTRONICS AND COMMUNICATION ENGINEERING
(3302)   JYOTI YADAV  ASSISTANT PROFESSOR  INSTRUMENTATION AND CONTROL ENGINEERING
(3303)   DEEPIKA KUKREJA  ASSISTANT PROFESSOR  INFORMATION TECHNOLOGY
(3304)   RITU SIBAL  PROFESSOR  COMPUTER ENGINEERING
(3305)   YATENDER KUMAR  ASSISTANT PROFESSOR  BIO TECHNOLOGY
(3306)   ANDRIYA NARASIMHULU  ASSISTANT PROFESSOR  MANUFACTURING PROCESSES AND AUTOMATION ENGINEERING
(3307)   ANDRIYA NARASIMHULU  ASSISTANT PROFESSOR  MANUFACTURING PROCESSES AND AUTOMATION ENGINEERING
(3308)  Dr  PREETI KAUR  ASSOCIATE PROFESSOR  COMPUTER ENGINEERING
(3309)   ANDRIYA NARASIMHULU  ASSISTANT PROFESSOR  MANUFACTURING PROCESSES AND AUTOMATION ENGINEERING
(3310)  Mr LAMBODAR MISHRA  DATA PROCESSOR  ACADEMIC SECTION
(3311)  Mr LAMBODAR MISHRA  DATA PROCESSOR  ACADEMIC SECTION
(3312)  Mr LAMBODAR MISHRA  DATA PROCESSOR  ACADEMIC SECTION
(3313)  Mr LAMBODAR MISHRA  DATA PROCESSOR  EXAMINATION CELL
(3314)  Dr  ANAND GUPTA  ASSOCIATE PROFESSOR  COMPUTER ENGINEERING
(3315)  Dr  ANAND GUPTA  ASSOCIATE PROFESSOR  COMPUTER ENGINEERING
(3316)  Mr LAMBODAR MISHRA  DATA PROCESSOR  ACADEMIC SECTION
(3317)  Dr  SUJATA SENGAR  DEAN UG  DEAN UG STUDIES
(3318)  DR PRABHAT KUMAR CHOUDHARY  ASSISTANT LIBRARIAN  LIBRARY
(3319)  Mr LAMBODAR MISHRA  DATA PROCESSOR  EXAMINATION CELL
(3320)   KHUSHIL KUMAR SAINI  COORDINATOR  UNIVERSITY MANAGEMENT CENTRE  CENTRAL COMPUTER CENTER
(3321)   KHUSHIL KUMAR SAINI  COORDINATOR  UNIVERSITY MANAGEMENT CENTRE  CENTRAL COMPUTER CENTER
(3322)  Mr LAMBODAR MISHRA  DATA PROCESSOR  EXAMINATION CELL
(3323)   BHAWNA AGGARWAL  ASSISTANT PROFESSOR  ELECTRONICS AND COMMUNICATION ENGINEERING
(3324)   KHUSHIL KUMAR SAINI  COORDINATOR  UNIVERSITY MANAGEMENT CENTRE  CENTRAL COMPUTER CENTER
(3325)   KHUSHIL KUMAR SAINI  COORDINATOR  UNIVERSITY MANAGEMENT CENTRE  CENTRAL COMPUTER CENTER
(3326)   KHUSHIL KUMAR SAINI  CENTRAL COMPUTER CENTER
(3327)   KHUSHIL KUMAR SAINI  CENTRAL COMPUTER CENTER
(3328)  Mr LAMBODAR MISHRA  DATA PROCESSOR  EXAMINATION CELL
(3329)  PROF SHREE PRAKASH SINGH  CHIEF WARDEN  HOSTEL
(3330)  PROF SHREE PRAKASH SINGH  CHIEF WARDEN  HOSTEL
(3331)   KARNAIL SINGH  ACADEMIC SECTION
(3332)   PRERNA GAUR  HOD  INSTRUMENTATION AND CONTROL ENGINEERING
(3333)  Dr  SUJATA SENGAR  ACADEMIC SECTION
(3334)  PROF SHREE PRAKASH SINGH  CHIEF WARDEN  HOSTEL
(3335)  Dr  SUJATA SENGAR  DEAN UG  ACADEMIC SECTION
(3336)  MS SANEHAJA SHARMA  ASST REGISTRAR 2  ACADEMIC SECTION
(3337)  Mr LAMBODAR MISHRA  DATA PROCESSOR  EXAMINATION CELL
(3338)  Mr LAMBODAR MISHRA  DATA PROCESSOR  EXAMINATION CELL
(3339)   SANJEEVE THAKUR  DEAN  HUMANITIES AND SOCIAL SCIENCES
(3340)   SANJEEVE THAKUR  DEAN  BIOLOGICAL SCIENCES AND ENGINEERING
(3341)   SANJEEVE THAKUR  DEAN  FACULTY OF SCIENCES
(3342)  Dr  SUJATA SENGAR  ACADEMIC SECTION
(3343)   ABHISHEK FAUJDAR  SENIOR SYSTEM ANALYST  CENTRAL COMPUTER CENTER
(3344)   ABHISHEK FAUJDAR  SENIOR SYSTEM ANALYST  CENTRAL COMPUTER CENTER
(3345)  Dr  SUJATA SENGAR  DEAN UG  ACADEMIC SECTION
(3346)  Dr  SUJATA SENGAR  DEAN UG  ACADEMIC SECTION
(3347)   SURESH SARAF  ESTABLISHMENT SECTION
(3348)   SURESH SARAF  ASST REGISTRAR 1  ESTABLISHMENT SECTION
(3349)   ABHISHEK FAUJDAR  SENIOR SYSTEM ANALYST  CENTRAL COMPUTER CENTER
(3350)   SURESH SARAF  ASST REGISTRAR 1  ESTABLISHMENT SECTION
(3351)   KHUSHIL KUMAR SAINI  COMPUTER ENGINEERING
(3352)   KHUSHIL KUMAR SAINI  COORDINATOR  COMPUTER ENGINEERING
(3353)   SURESH SARAF  ASST REGISTRAR 1  ESTABLISHMENT SECTION
(3354)   SURESH SARAF  ESTABLISHMENT SECTION
(3355)   BHAWNA AGGARWAL  ASSISTANT PROFESSOR  ELECTRONICS AND COMMUNICATION ENGINEERING
(3356)   BHAWNA AGGARWAL  ASSISTANT PROFESSOR  ELECTRONICS AND COMMUNICATION ENGINEERING
(3357)  PROF SANJAY KUMAR CHAK  PROFESSOR  MANUFACTURING PROCESSES AND AUTOMATION ENGINEERING
(3358)   ANDRIYA NARASIMHULU  ASSISTANT PROFESSOR  MANUFACTURING PROCESSES AND AUTOMATION ENGINEERING
(3359)  Dr  SUJATA SENGAR  DEAN UG  ACADEMIC SECTION
(3360)   KARNAIL SINGH  ACADEMIC SECTION
(3361)   KHUSHIL KUMAR SAINI  COORDINATOR  COMPUTER ENGINEERING
(3362)   KHUSHIL KUMAR SAINI  COORDINATOR  COMPUTER ENGINEERING
(3363)   KHUSHIL KUMAR SAINI  COORDINATOR  COMPUTER ENGINEERING
(3364)  Dr  SUJATA SENGAR  DEAN UG  ACADEMIC SECTION
(3365)  Mrs MAHESHWARI CHANDRA  SECTION OFFICER  ACADEMIC SECTION
(3366)  DR D K SINGH  HOD  MECHANICAL ENGINEERING
(3367)   KHUSHIL KUMAR SAINI  COMPUTER ENGINEERING
(3368)  DR D K SINGH  HOD  MECHANICAL ENGINEERING
(3369)   VIJANDER SINGH  DEAN STUDENT WELFARE OFFICE
(3370)   VIJANDER SINGH  DEAN STUDENT WELFARE  INSTRUMENTATION AND CONTROL ENGINEERING
(3371)  Dr  SUJATA SENGAR  DEAN UG  ACADEMIC SECTION
(3372)  Dr  SUJATA SENGAR  DEAN UG  ACADEMIC SECTION
(3373)  DR D K SINGH  HOD  MECHANICAL ENGINEERING
(3374)   ABHISHEK FAUJDAR  SENIOR SYSTEM ANALYST  CENTRAL COMPUTER CENTER
(3375)   KHUSHIL KUMAR SAINI  COORDINATOR  UNIVERSITY MANAGEMENT CENTRE  CENTRAL COMPUTER CENTER
(3376)  Dr  SUJATA SENGAR  DEAN UG  ACADEMIC SECTION
(3377)   KHUSHIL KUMAR SAINI  COORDINATOR  UNIVERSITY MANAGEMENT CENTRE  CENTRAL COMPUTER CENTER
(3378)   KHUSHIL KUMAR SAINI  COORDINATOR  UNIVERSITY MANAGEMENT CENTRE  CENTRAL COMPUTER CENTER
(3379)  Mr SHYAM SINGH  CENTRAL COMPUTER CENTER
(3380)  Mr SHYAM SINGH  CENTRAL COMPUTER CENTER
(3381)   SURESH SARAF  ASST REGISTRAR 1  ESTABLISHMENT SECTION
(3382)  Mr LAMBODAR MISHRA  DATA PROCESSOR  EXAMINATION CELL
(3383)  Mr LAMBODAR MISHRA  DATA PROCESSOR  ACADEMIC SECTION UG
(3384)  Mrs MAHESHWARI CHANDRA  SECTION OFFICER  ACADEMIC SECTION
(3385)  Mrs MAHESHWARI CHANDRA  SECTION OFFICER  ACADEMIC SECTION
(3386)   ABHISHEK FAUJDAR  CENTRAL COMPUTER CENTER
(3387)  Mrs MAHESHWARI CHANDRA  SECTION OFFICER  ACADEMIC SECTION
(3388)   KHUSHIL KUMAR SAINI  COORDINATOR  UNIVERSITY MANAGEMENT CENTRE  CENTRAL COMPUTER CENTER
(3389)  Mr SHYAM SINGH  CENTRAL COMPUTER CENTER
(3390)  Mr SHYAM SINGH  CENTRAL COMPUTER CENTER
(3391)  Mr SHYAM SINGH  CENTRAL COMPUTER CENTER
(3392)   KARNAIL SINGH  ACADEMIC SECTION
(3393)  PROF SHREE PRAKASH SINGH  HOD  ELECTRONICS AND COMMUNICATION ENGINEERING
(3394)  PROF SHREE PRAKASH SINGH  HOD  ELECTRONICS AND COMMUNICATION ENGINEERING
(3395)  Mr SHYAM SINGH  CENTRAL COMPUTER CENTER
(3396)  Mr SHYAM SINGH  CENTRAL COMPUTER CENTER
(3397)  Mr SHYAM SINGH  CENTRAL COMPUTER CENTER
(3398)   KARNAIL SINGH  ACADEMIC SECTION
(3399)   SURESH SARAF  ASST REGISTRAR 1  ESTABLISHMENT SECTION
(3400)   SURESH SARAF  ASST REGISTRAR 1  ESTABLISHMENT SECTION
(3401)  Mr SHYAM SINGH  CENTRAL COMPUTER CENTER
(3402)  Mrs MAHESHWARI CHANDRA  SECTION OFFICER  ACADEMIC SECTION
(3403)  Mrs MAHESHWARI CHANDRA  SECTION OFFICER  ACADEMIC SECTION
(3404)   ABHISHEK FAUJDAR  CENTRAL COMPUTER CENTER
(3405)   SHAILESH MISHRA  ASSISTANT PROFESSOR  ELECTRONICS AND COMMUNICATION ENGINEERING
(3406)  Mrs MAHESHWARI CHANDRA  SECTION OFFICER  ACADEMIC SECTION
(3407)  Mrs MAHESHWARI CHANDRA  SECTION OFFICER  ACADEMIC SECTION
(3408)  Mr SHYAM SINGH  CENTRAL COMPUTER CENTER
(3409)  Mr SHYAM SINGH  CENTRAL COMPUTER CENTER
(3410)   KIRTI KHANDELWAL  CENTRAL COMPUTER CENTER
(3411)   KIRTI KHANDELWAL  CENTRAL COMPUTER CENTER
(3412)   KIRTI KHANDELWAL  CENTRAL COMPUTER CENTER
(3413)   KIRTI KHANDELWAL  CENTRAL COMPUTER CENTER
(3414)   KIRTI KHANDELWAL  CENTRAL COMPUTER CENTER
(3415)   KIRTI KHANDELWAL  CENTRAL COMPUTER CENTER
(3416)   KIRTI KHANDELWAL  CENTRAL COMPUTER CENTER
(3417)   KIRTI KHANDELWAL  CENTRAL COMPUTER CENTER
(3418)   KIRTI KHANDELWAL  CENTRAL COMPUTER CENTER
(3419)   KIRTI KHANDELWAL  CENTRAL COMPUTER CENTER
(3420)  Dr  SUJATA SENGAR  DEAN UG  ACADEMIC SECTION
(3421)  Dr  SUJATA SENGAR  DEAN UG  ACADEMIC SECTION
(3422)   SHAILESH MISHRA  ASSISTANT PROFESSOR  ELECTRONICS AND COMMUNICATION ENGINEERING
(3423)  Dr  SUJATA SENGAR  DEAN UG  ACADEMIC SECTION
(3424)   PRAVEEN SAROHA  PRACTICAL INSTRUCTOR  PHYSICAL EDUCATION
(3425)  Dr  SUJATA SENGAR  ACADEMIC SECTION
(3426)   PRAVEEN SAROHA  PRACTICAL INSTRUCTOR  PHYSICAL EDUCATION
(3427)  Dr  SUJATA SENGAR  ACADEMIC SECTION
(3428)   PINAKI CHAKRABORTY  ASSISTANT PROFESSOR  COMPUTER ENGINEERING
(3429)  Mrs MAHESHWARI CHANDRA  SECTION OFFICER  ACADEMIC SECTION
(3430)  Mrs MAHESHWARI CHANDRA  SECTION OFFICER  ACADEMIC SECTION
(3431)  Mrs MAHESHWARI CHANDRA  SECTION OFFICER  ACADEMIC SECTION
(3432)  Dr  PREETI KAUR  ASSOCIATE PROFESSOR  COMPUTER ENGINEERING
(3433)  DR MAMTA MISHRA  ASSOCIATE PROFESSOR  MATHEMATICS
(3434)   ABHISHEK FAUJDAR  CENTRAL COMPUTER CENTER
(3435)   DEEPIKA KUKREJA  ASSISTANT PROFESSOR  INFORMATION TECHNOLOGY
(3436)   DEEPIKA KUKREJA  ASSISTANT PROFESSOR  INFORMATION TECHNOLOGY
(3437)   DEEPIKA KUKREJA  ASSISTANT PROFESSOR  INFORMATION TECHNOLOGY
(3438)  Dr  PREETI KAUR  ASSOCIATE PROFESSOR  COMPUTER ENGINEERING
(3439)   KHUSHIL KUMAR SAINI  CENTRAL COMPUTER CENTER
(3440)   KHUSHIL KUMAR SAINI  CENTRAL COMPUTER CENTER
(3441)  Mr SHYAM SINGH  CENTRAL COMPUTER CENTER
(3442)   BHAWNA AGGARWAL  ASSISTANT PROFESSOR  ELECTRONICS AND COMMUNICATION ENGINEERING
(3443)  Dr  SUJATA SENGAR  ACADEMIC SECTION
(3444)   BHAWNA AGGARWAL  ASSISTANT PROFESSOR  ELECTRONICS AND COMMUNICATION ENGINEERING
(3445)  Dr  SUJATA SENGAR  DEAN UG  ACADEMIC SECTION
(3446)  Dr  SUJATA SENGAR  DEAN UG  ACADEMIC SECTION
(3447)  PROF SHREE PRAKASH SINGH  HOD  ELECTRONICS AND COMMUNICATION ENGINEERING
(3448)  PROF SHREE PRAKASH SINGH  HOD  ELECTRONICS AND COMMUNICATION ENGINEERING
(3449)  Dr  SUJATA SENGAR  ACADEMIC SECTION
(3450)  DR TANUSHREE CHOUDHARY  HOD  HUMANITIES AND SOCIAL SCIENCES
(3451)   TARUN KUMAR RAWAT  ASSISTANT PROFESSOR  ELECTRONICS AND COMMUNICATION ENGINEERING
(3452)   PRAVEEN SAROHA  PHYSICAL EDUCATION
(3453)  Dr  SUJATA SENGAR  DEAN UG  ACADEMIC SECTION
(3454)   PRAVEEN SAROHA  PRACTICAL INSTRUCTOR  PHYSICAL EDUCATION
(3455)  DR MAMTA MISHRA  ASSOCIATE PROFESSOR  MATHEMATICS
(3456)   ABHISHEK FAUJDAR  SENIOR SYSTEM ANALYST  CENTRAL COMPUTER CENTER
(3457)  Mr SHYAM SINGH  CIMS
(3458)  DR TANUSHREE CHOUDHARY  HOD  HUMANITIES AND SOCIAL SCIENCES
(3459)  Dr  ANAND GUPTA  ASSOCIATE PROFESSOR  COMPUTER ENGINEERING
(3460)   PRERNA GAUR  HOD  INSTRUMENTATION AND CONTROL ENGINEERING
(3461)   PRERNA GAUR  HOD  INSTRUMENTATION AND CONTROL ENGINEERING
(3462)   PRERNA GAUR  HOD  INSTRUMENTATION AND CONTROL ENGINEERING
(3463)   PRERNA GAUR  HOD  INSTRUMENTATION AND CONTROL ENGINEERING
(3464)   KHUSHIL KUMAR SAINI  COORDINATOR  UNIVERSITY MANAGEMENT CENTRE  CENTRAL COMPUTER CENTER
(3465)  Mr SHYAM SINGH  CIMS
(3466)  DR MAMTA MISHRA  ASSOCIATE PROFESSOR  MATHEMATICS
(3467)   PRAVEEN SAROHA  PRACTICAL INSTRUCTOR  PHYSICAL EDUCATION
(3468)   TARUN KUMAR RAWAT  ASSISTANT PROFESSOR  ELECTRONICS AND COMMUNICATION ENGINEERING
(3469)   PRAVEEN SAROHA  PRACTICAL INSTRUCTOR  PHYSICAL EDUCATION
(3470)   ANDRIYA NARASIMHULU  ASSISTANT PROFESSOR  MANUFACTURING PROCESSES AND AUTOMATION ENGINEERING
(3471)   BIJENDRA KUMAR  HOD  COMPUTER ENGINEERING
(3472)  Prof  ANJANA SARKAR  INSTRUCTOR  CHEMISTRY
(3473)  Dr  SUJATA SENGAR  DEAN UG  ACADEMIC SECTION
(3474)   PRAVEEN SAROHA  PRACTICAL INSTRUCTOR  PHYSICAL EDUCATION
(3475)  Dr  SUJATA SENGAR  DEAN UG  ACADEMIC SECTION
(3476)   BRAHMA DEO JHA  UDC  ACADEMIC SECTION
(3477)   ABHISHEK FAUJDAR  SENIOR SYSTEM ANALYST  CENTRAL COMPUTER CENTER
(3478)   HIMANSHU SINGHAL  CENTRAL COMPUTER CENTER
(3479)   ANDRIYA NARASIMHULU  ASSISTANT PROFESSOR  MANUFACTURING PROCESSES AND AUTOMATION ENGINEERING
(3480)  Mr SHYAM SINGH  CIMS
(3481)  Prof AMAR NATH JHA  PROFESSOR  INSTRUMENTATION AND CONTROL ENGINEERING
(3482)   BRAHMA DEO JHA  UDC  ACADEMIC SECTION
(3483)   KHUSHIL KUMAR SAINI  COORDINATOR  UNIVERSITY MANAGEMENT CENTRE  CENTRAL COMPUTER CENTER
(3484)  Dr  SUJATA SENGAR  OFFICER INCHARGE  ACADEMIC SECTION
(3485)  Dr  SUJATA SENGAR  ACADEMIC SECTION
(3486)   BRAHMA DEO JHA  UDC  ACADEMIC SECTION
(3487)   BRAHMA DEO JHA  UDC  ACADEMIC SECTION
(3488)   KARNAIL SINGH  ACADEMIC SECTION
(3489)   BRAHMA DEO JHA  UDC  ACADEMIC SECTION
(3490)   BRAHMA DEO JHA  UDC  ACADEMIC SECTION
(3491)   BRAHMA DEO JHA  UDC  ACADEMIC SECTION
(3492)   BRAHMA DEO JHA  UDC  ACADEMIC SECTION
(3493)   BRAHMA DEO JHA  UDC  ACADEMIC SECTION
(3494)   BRAHMA DEO JHA  UDC  ACADEMIC SECTION
(3495)   KHUSHIL KUMAR SAINI  COORDINATOR  UNIVERSITY MANAGEMENT CENTRE  CENTRAL COMPUTER CENTER
(3496)   KARNAIL SINGH  ACADEMIC SECTION
(3497)   KARNAIL SINGH  ACADEMIC SECTION
(3498)   ANDRIYA NARASIMHULU  ASSISTANT PROFESSOR  MANUFACTURING PROCESSES AND AUTOMATION ENGINEERING
(3499)   ABHISHEK FAUJDAR  CENTRAL COMPUTER CENTER
(3500)  b All the first year students of all streams of NSUT  B  Tech  M  Tech  Ph  D  MBA  BBA etc  are requested to contact their respective teachers for seeing their End Sem evaluated answer books till today only as 20th December is last date br   font size  1   br   Prof SHYAMA KANT JHA  PROFESSOR  INSTRUMENTATION AND CONTROL ENGINEERING  b   font 
(3501)  Prof SHYAMA KANT JHA  PROFESSOR  INSTRUMENTATION AND CONTROL ENGINEERING
(3502)   HIMANSHU SINGHAL  SENIOR SYSTEM ANALYST  CENTRAL COMPUTER CENTER
(3503)   KHUSHIL KUMAR SAINI  CENTRAL COMPUTER CENTER
(3504)   ABHISHEK FAUJDAR  CENTRAL COMPUTER CENTER
(3505)   ABHISHEK FAUJDAR  CENTRAL COMPUTER CENTER
(3506)   SHWETA GAUTAM  ASSISTANT PROFESSOR  ELECTRONICS AND COMMUNICATION ENGINEERING
(3507)   TARUN KUMAR RAWAT  INSTRUCTOR  ELECTRONICS AND COMMUNICATION ENGINEERING
(3508)   RAJ SENANI  INSTRUCTOR  ELECTRONICS AND COMMUNICATION ENGINEERING
(3509)  PROF SHREE PRAKASH SINGH  INSTRUCTOR  ELECTRONICS AND COMMUNICATION ENGINEERING
(3510)   PRERNA GAUR  INSTRUCTOR  INSTRUMENTATION AND CONTROL ENGINEERING
(3511)  Prof AMAR NATH JHA  PROFESSOR  INSTRUMENTATION AND CONTROL ENGINEERING
(3512)   ABHISHEK FAUJDAR  CENTRAL COMPUTER CENTER
(3513)   SHWETA GAUTAM  ASSISTANT PROFESSOR  ELECTRONICS AND COMMUNICATION ENGINEERING
(3514)  Dr  ANAND GUPTA  ASSOCIATE PROFESSOR  COMPUTER ENGINEERING
(3515)  Dr  ANAND GUPTA  ASSOCIATE PROFESSOR  COMPUTER ENGINEERING
(3516)   ANKUR BANSAL  ASSISTANT PROFESSOR  ELECTRONICS AND COMMUNICATION ENGINEERING
(3517)  PROF SHREE PRAKASH SINGH  HOD  ELECTRONICS AND COMMUNICATION ENGINEERING
(3518)  Dr  PREETI KAUR  ASSOCIATE PROFESSOR  COMPUTER ENGINEERING
(3519)  Dr  PREETI KAUR  ASSOCIATE PROFESSOR  COMPUTER ENGINEERING
(3520)   YATENDER KUMAR  ASSISTANT PROFESSOR  BIO TECHNOLOGY
(3521)   MANISHA  ASSISTANT PROFESSOR  INSTRUMENTATION AND CONTROL ENGINEERING
(3522)   ANDRIYA NARASIMHULU  ASSISTANT PROFESSOR  MANUFACTURING PROCESSES AND AUTOMATION ENGINEERING
(3523)   ANDRIYA NARASIMHULU  ASSISTANT PROFESSOR  MANUFACTURING PROCESSES AND AUTOMATION ENGINEERING
(3524)   DEEPIKA KUKREJA  ASSISTANT PROFESSOR  INFORMATION TECHNOLOGY
(3525)   DEEPIKA KUKREJA  ASSISTANT PROFESSOR  INFORMATION TECHNOLOGY
(3526)   RITU SIBAL  PROFESSOR  COMPUTER ENGINEERING
(3527)   ABHISHEK FAUJDAR  CENTRAL COMPUTER CENTER
(3528)   KHUSHIL KUMAR SAINI  CENTRAL COMPUTER CENTER
(3529)   KHUSHIL KUMAR SAINI  CENTRAL COMPUTER CENTER
(3530)   KHUSHIL KUMAR SAINI  CENTRAL COMPUTER CENTER
(3531)   RAVINDER KUMAR  DEAN STUDENT WELFARE OFFICE
(3532)  b Regarding FE001 AND FE002 Practical End Sem Examination r nDear Students of FE001 and FE002 Semester 3 r nIts to inform you that the Final End Semester Practical examination would be held as per the date sheet given to you  r nYou all are directed to repo br   font size  1   br    PRAVEEN SAROHA  PRACTICAL INSTRUCTOR  PHYSICAL EDUCATION  b   font 
(3533)   PRAVEEN SAROHA  PRACTICAL INSTRUCTOR  PHYSICAL EDUCATION
(3534)  Prof AMAR NATH JHA  PROFESSOR  INSTRUMENTATION AND CONTROL ENGINEERING
(3535)   PANKAJ DESHWAL  ASSISTANT PROFESSOR  MANAGEMENT
(3536)   BHAWNA AGGARWAL  ASSISTANT PROFESSOR  ELECTRONICS AND COMMUNICATION ENGINEERING
(3537)   BHAWNA AGGARWAL  ASSISTANT PROFESSOR  ELECTRONICS AND COMMUNICATION ENGINEERING
(3538)  PROF SHREE PRAKASH SINGH  CHIEF WARDEN  HOSTEL
(3539)   RAVINDER KUMAR  LDC  DEAN STUDENT WELFARE OFFICE
(3540)   ANDRIYA NARASIMHULU  ASSISTANT PROFESSOR  MANUFACTURING PROCESSES AND AUTOMATION ENGINEERING
(3541)  Mrs MAHESHWARI CHANDRA  SECTION OFFICER  ACADEMIC SECTION
(3542)  Mrs MAHESHWARI CHANDRA  SECTION OFFICER  ACADEMIC SECTION
(3543)   BHAWNA AGGARWAL  ASSISTANT PROFESSOR  ELECTRONICS AND COMMUNICATION ENGINEERING
(3544)   HIMANSHU SINGHAL  CENTRAL COMPUTER CENTER
(3545)   SURESH SARAF  ASST REGISTRAR 1  ESTABLISHMENT SECTION
(3546)   ABHISHEK FAUJDAR  CENTRAL COMPUTER CENTER
(3547)  Prof  ANJANA SARKAR  PRACTICAL INSTRUCTOR  CHEMISTRY
(3548)  Dr  SUJATA SENGAR  DEAN UG  ACADEMIC SECTION
(3549)   RITU SIBAL  PROFESSOR  COMPUTER ENGINEERING
(3550)   KHUSHIL KUMAR SAINI  CENTRAL COMPUTER CENTER
(3551)   ANDRIYA NARASIMHULU  ASSISTANT PROFESSOR  MECHANICAL ENGINEERING
(3552)   ANDRIYA NARASIMHULU  ASSISTANT PROFESSOR  MANUFACTURING PROCESSES AND AUTOMATION ENGINEERING
(3553)  Dr  SUJATA SENGAR  DEAN UG  ACADEMIC SECTION
(3554)   YATENDER KUMAR  ASSISTANT PROFESSOR  BIO TECHNOLOGY
(3555)   JYOTI YADAV  ASSISTANT PROFESSOR  INSTRUMENTATION AND CONTROL ENGINEERING
(3556)  Mrs MAHESHWARI CHANDRA  SECTION OFFICER  ACADEMIC SECTION
(3557)  Mrs MAHESHWARI CHANDRA  SECTION OFFICER  ACADEMIC SECTION
(3558)  Mrs MAHESHWARI CHANDRA  SECTION OFFICER  ACADEMIC SECTION
(3559)  Mrs MAHESHWARI CHANDRA  SECTION OFFICER  ACADEMIC SECTION
(3560)   ANKUR BANSAL  ASSISTANT PROFESSOR  ELECTRONICS AND COMMUNICATION ENGINEERING
(3561)   KHUSHIL KUMAR SAINI  CENTRAL COMPUTER CENTER
(3562)   SHAILESH MISHRA  ASSISTANT PROFESSOR  ELECTRONICS AND COMMUNICATION ENGINEERING
(3563)   SHAILESH MISHRA  ASSISTANT PROFESSOR  ELECTRONICS AND COMMUNICATION ENGINEERING
(3564)   DEEPIKA KUKREJA  INFORMATION TECHNOLOGY
(3565)   DEEPIKA KUKREJA  ASSISTANT PROFESSOR  INFORMATION TECHNOLOGY
(3566)   DEEPIKA KUKREJA  ASSISTANT PROFESSOR  INFORMATION TECHNOLOGY
(3567)  Dr  PREETI KAUR  ASSOCIATE PROFESSOR  COMPUTER ENGINEERING
(3568)  Dr  PREETI KAUR  ASSOCIATE PROFESSOR  COMPUTER ENGINEERING
(3569)  Dr  PREETI KAUR  ASSOCIATE PROFESSOR  COMPUTER ENGINEERING
(3570)  Dr  PREETI KAUR  ASSOCIATE PROFESSOR  COMPUTER ENGINEERING
(3571)  PROF J K MISRA  CHAIRMAN  ADMISSION OFFICE
(3572)   PANKAJ DESHWAL  ASSISTANT PROFESSOR  MANAGEMENT
(3573)   PANKAJ DESHWAL  ASSISTANT PROFESSOR  MANAGEMENT
(3574)  Mrs MAHESHWARI CHANDRA  SECTION OFFICER  ACADEMIC SECTION
(3575)  Mrs MAHESHWARI CHANDRA  SECTION OFFICER  ACADEMIC SECTION
(3576)  Mrs MAHESHWARI CHANDRA  SECTION OFFICER  ACADEMIC SECTION
(3577)  Mrs MAHESHWARI CHANDRA  SECTION OFFICER  ACADEMIC SECTION
(3578)   ABHISHEK FAUJDAR  SENIOR SYSTEM ANALYST  CENTRAL COMPUTER CENTER
(3579)   SHAILESH MISHRA  ASSISTANT PROFESSOR  ELECTRONICS AND COMMUNICATION ENGINEERING
(3580)  Mrs MAHESHWARI CHANDRA  SECTION OFFICER  ACADEMIC SECTION
(3581)  Mrs MAHESHWARI CHANDRA  SECTION OFFICER  ACADEMIC SECTION
(3582)  Mrs MAHESHWARI CHANDRA  SECTION OFFICER  ACADEMIC SECTION
(3583)  Mrs MAHESHWARI CHANDRA  SECTION OFFICER  ACADEMIC SECTION
(3584)  Mrs MAHESHWARI CHANDRA  SECTION OFFICER  ACADEMIC SECTION
(3585)  Mrs MAHESHWARI CHANDRA  SECTION OFFICER  ACADEMIC SECTION
(3586)   RAVINDER KUMAR  DEAN STUDENT WELFARE OFFICE
(3587)  Dr  PREETI KAUR  ASSOCIATE PROFESSOR  COMPUTER ENGINEERING
(3588)  Prof SHYAMA KANT JHA  INSTRUMENTATION AND CONTROL ENGINEERING
(3589)   SHWETA GAUTAM  ELECTRONICS AND COMMUNICATION ENGINEERING
(3590)  Mrs MAHESHWARI CHANDRA  SECTION OFFICER  ACADEMIC SECTION
(3591)  Prof SHYAMA KANT JHA  PRACTICAL SUPERINTENDENT  INSTRUMENTATION AND CONTROL ENGINEERING
(3592)  Mrs MAHESHWARI CHANDRA  SECTION OFFICER  ACADEMIC SECTION
(3593)   PRAMENDRA KUMAR BAJPAI  ASSISTANT PROFESSOR  MANUFACTURING PROCESSES AND AUTOMATION ENGINEERING
(3594)   SHWETA GAUTAM  ELECTRONICS AND COMMUNICATION ENGINEERING
(3595)  Mrs MAHESHWARI CHANDRA  SECTION OFFICER  ACADEMIC SECTION
(3596)  Mrs MAHESHWARI CHANDRA  SECTION OFFICER  ACADEMIC SECTION
(3597)   DEVENDER KUMAR  ASSISTANT PROFESSOR  INFORMATION TECHNOLOGY
(3598)  Dr  A  V  MULEY  ASSOCIATE PROFESSOR  MANUFACTURING PROCESSES AND AUTOMATION ENGINEERING
(3599)   SHWETA GAUTAM  ELECTRONICS AND COMMUNICATION ENGINEERING
(3600)   SANJEEVE THAKUR  PRACTICAL INSTRUCTOR  CHEMISTRY
(3601)   O  P  THAKUR  PROFESSOR  PHYSICS
(3602)   SHILPA SHARMA  PRACTICAL INSTRUCTOR  BIO TECHNOLOGY
(3603)   DEVENDER KUMAR  ASSISTANT PROFESSOR  INFORMATION TECHNOLOGY
(3604)   DEVENDER KUMAR  ASSISTANT PROFESSOR  INFORMATION TECHNOLOGY
(3605)   SHWETA GAUTAM  ASSISTANT PROFESSOR  ELECTRONICS AND COMMUNICATION ENGINEERING
(3606)   SHWETA GAUTAM  ASSISTANT PROFESSOR  ELECTRONICS AND COMMUNICATION ENGINEERING
(3607)   PRAMENDRA KUMAR BAJPAI  ASSISTANT PROFESSOR  MANUFACTURING PROCESSES AND AUTOMATION ENGINEERING
(3608)   RAVINDER KUMAR  DEAN STUDENT WELFARE OFFICE
(3609)   HIMANSHU SINGHAL  CENTRAL COMPUTER CENTER
(3610)  Prof SHYAMA KANT JHA  PRACTICAL SUPERINTENDENT  INSTRUMENTATION AND CONTROL ENGINEERING
(3611)  Prof SHYAMA KANT JHA  PRACTICAL SUPERINTENDENT  INSTRUMENTATION AND CONTROL ENGINEERING
(3612)  Prof SHYAMA KANT JHA  PRACTICAL SUPERINTENDENT  INSTRUMENTATION AND CONTROL ENGINEERING
(3613)  Prof SHYAMA KANT JHA  PRACTICAL SUPERINTENDENT  INSTRUMENTATION AND CONTROL ENGINEERING
(3614)  Dr  A  V  MULEY  ASSOCIATE PROFESSOR  MANUFACTURING PROCESSES AND AUTOMATION ENGINEERING
(3615)   PINAKI CHAKRABORTY  ASSISTANT PROFESSOR  COMPUTER ENGINEERING
(3616)   PINAKI CHAKRABORTY  ASSISTANT PROFESSOR  COMPUTER ENGINEERING
(3617)  Mrs MAHESHWARI CHANDRA  SECTION OFFICER  ACADEMIC SECTION
(3618)  Mrs MAHESHWARI CHANDRA  SECTION OFFICER  ACADEMIC SECTION
(3619)  Dr  SUJATA SENGAR  DEAN UG  ACADEMIC SECTION
(3620)  Dr  SUJATA SENGAR  DEAN UG  ACADEMIC SECTION
(3621)   RAVINDER KUMAR  DEAN STUDENT WELFARE OFFICE
(3622)   KARNAIL SINGH  ACADEMIC SECTION
(3623)  Mrs MAHESHWARI CHANDRA  SECTION OFFICER  ACADEMIC SECTION
(3624)   ABHISHEK FAUJDAR  CENTRAL COMPUTER CENTER
(3625)  Mrs MAHESHWARI CHANDRA  SECTION OFFICER  ACADEMIC SECTION
(3626)  Dr  SUJATA SENGAR  DEAN UG  ACADEMIC SECTION
(3627)   KARNAIL SINGH  ACADEMIC SECTION
(3628)   KUNWAR SINGH  ASSISTANT PROFESSOR  ELECTRONICS AND COMMUNICATION ENGINEERING
(3629)   ANDRIYA NARASIMHULU  ASSISTANT PROFESSOR  MANUFACTURING PROCESSES AND AUTOMATION ENGINEERING
(3630)   HIMANSHU SINGHAL  CENTRAL COMPUTER CENTER
(3631)  Dr  SUJATA SENGAR  DEAN UG  ACADEMIC SECTION
(3632)   ABHISHEK FAUJDAR  CENTRAL COMPUTER CENTER
(3633)   ABHISHEK FAUJDAR  CENTRAL COMPUTER CENTER
(3634)   KHUSHIL KUMAR SAINI  CENTRAL COMPUTER CENTER
(3635)   DURU ARUN KUMAR  ASSOCIATE PROFESSOR  MANAGEMENT
(3636)   YATENDER KUMAR  ASSISTANT PROFESSOR  BIO TECHNOLOGY
(3637)   YATENDER KUMAR  ASSISTANT PROFESSOR  BIO TECHNOLOGY
(3638)   ANKUR BANSAL  ASSISTANT PROFESSOR  ELECTRONICS AND COMMUNICATION ENGINEERING
(3639)   ANKUR BANSAL  ASSISTANT PROFESSOR  ELECTRONICS AND COMMUNICATION ENGINEERING
(3640)  Dr  SUJATA SENGAR  ACADEMIC SECTION
(3641)   JYOTI YADAV  ASSISTANT PROFESSOR  INSTRUMENTATION AND CONTROL ENGINEERING
(3642)   JYOTI YADAV  ASSISTANT PROFESSOR  INSTRUMENTATION AND CONTROL ENGINEERING
(3643)  Dr  SUJATA SENGAR  DEAN UG  ACADEMIC SECTION
(3644)  Dr  SUJATA SENGAR  DEAN UG  ACADEMIC SECTION
(3645)  PROF SHREE PRAKASH SINGH  HOD  ELECTRONICS AND COMMUNICATION ENGINEERING
(3646)  Dr  SUJATA SENGAR  PROFESSOR  ELECTRONICS AND COMMUNICATION ENGINEERING
(3647)   BHAWNA AGGARWAL  ASSISTANT PROFESSOR  ELECTRONICS AND COMMUNICATION ENGINEERING
(3648)   HIMANSHU SINGHAL  CENTRAL COMPUTER CENTER
(3649)   BHAWNA AGGARWAL  ASSISTANT PROFESSOR  ELECTRONICS AND COMMUNICATION ENGINEERING
(3650)  Dr  ANAND GUPTA  ASSOCIATE PROFESSOR  COMPUTER ENGINEERING
(3651)   RAVINDER KUMAR  DEAN STUDENT WELFARE OFFICE
(3652)   ANDRIYA NARASIMHULU  ASSISTANT PROFESSOR  MANUFACTURING PROCESSES AND AUTOMATION ENGINEERING
(3653)   ANDRIYA NARASIMHULU  ASSISTANT PROFESSOR  MANUFACTURING PROCESSES AND AUTOMATION ENGINEERING
(3654)   ANDRIYA NARASIMHULU  ASSISTANT PROFESSOR  MANUFACTURING PROCESSES AND AUTOMATION ENGINEERING
(3655)  PROF SHREE PRAKASH SINGH  HOD  ELECTRONICS AND COMMUNICATION ENGINEERING
(3656)  PROF SHREE PRAKASH SINGH  HOD  ELECTRONICS AND COMMUNICATION ENGINEERING
(3657)   BRAHMA DEO JHA  UDC  ACADEMIC SECTION
(3658)   ABHISHEK FAUJDAR  SENIOR SYSTEM ANALYST  CENTRAL COMPUTER CENTER
(3659)  Mrs MAHESHWARI CHANDRA  SECTION OFFICER  ACADEMIC SECTION
(3660)   ANDRIYA NARASIMHULU  ASSISTANT PROFESSOR  MECHANICAL ENGINEERING
(3661)   RAVINDER KUMAR  LDC  DEAN STUDENT WELFARE OFFICE
(3662)   RAVINDER KUMAR  LDC  DEAN STUDENT WELFARE OFFICE
(3663)   KARNAIL SINGH  ACADEMIC SECTION
(3664)   HIMANSHU SINGHAL  SENIOR SYSTEM ANALYST  CENTRAL COMPUTER CENTER
(3665)   ABHISHEK FAUJDAR  SENIOR SYSTEM ANALYST  CENTRAL COMPUTER CENTER
(3666)   SURESH SARAF  ESTABLISHMENT SECTION
(3667)  Dr  SUJATA SENGAR  DEAN UG  ACADEMIC SECTION
(3668)  Dr  SUJATA SENGAR  DEAN UG  ACADEMIC SECTION
(3669)  Dr  SUJATA SENGAR  DEAN UG  ACADEMIC SECTION
(3670)  Dr  SUJATA SENGAR  DEAN UG  ACADEMIC SECTION
(3671)  Dr  SUJATA SENGAR  DEAN UG  ACADEMIC SECTION
(3672)  Dr  SUJATA SENGAR  DEAN UG  ACADEMIC SECTION
(3673)   KHUSHIL KUMAR SAINI  CENTRAL COMPUTER CENTER
(3674)   HIMANSHU SINGHAL  CENTRAL COMPUTER CENTER
(3675)  Mrs MAHESHWARI CHANDRA  SECTION OFFICER  ACADEMIC SECTION
(3676)   ABHISHEK FAUJDAR  SENIOR SYSTEM ANALYST  CENTRAL COMPUTER CENTER
(3677)   BRAHMA DEO JHA  UDC  ACADEMIC SECTION
(3678)   ABHISHEK FAUJDAR  SENIOR SYSTEM ANALYST  CENTRAL COMPUTER CENTER
(3679)   ABHISHEK FAUJDAR  SENIOR SYSTEM ANALYST  CENTRAL COMPUTER CENTER
(3680)  Mrs MAHESHWARI CHANDRA  SECTION OFFICER  ACADEMIC SECTION
(3681)   KHUSHIL KUMAR SAINI  CENTRAL COMPUTER CENTER
(3682)   ABHISHEK FAUJDAR  SENIOR SYSTEM ANALYST  CENTRAL COMPUTER CENTER
(3683)   PRERNA GAUR  HOD  INSTRUMENTATION AND CONTROL ENGINEERING
(3684)   DURU ARUN KUMAR  ASSOCIATE PROFESSOR  MANAGEMENT
(3685)   PRERNA GAUR  HOD  INSTRUMENTATION AND CONTROL ENGINEERING
(3686)   RAVINDER KUMAR  LDC  DEAN STUDENT WELFARE OFFICE
(3687)   KARNAIL SINGH  ACADEMIC SECTION
(3688)   KARNAIL SINGH  ACADEMIC SECTION
(3689)  PROF SHREE PRAKASH SINGH  HOD  ELECTRONICS AND COMMUNICATION ENGINEERING
(3690)   RAVINDER KUMAR  DEAN STUDENT WELFARE OFFICE
(3691)   ABHISHEK FAUJDAR  SENIOR SYSTEM ANALYST  CENTRAL COMPUTER CENTER
(3692)   RAVINDER KUMAR  DEAN STUDENT WELFARE OFFICE
(3693)   RAVINDER KUMAR  DEAN STUDENT WELFARE OFFICE
(3694)   RAVINDER KUMAR  LDC  DEAN STUDENT WELFARE OFFICE
(3695)   RAVINDER KUMAR  LDC  DEAN STUDENT WELFARE OFFICE
(3696)   BHAWNA AGGARWAL  ASSISTANT PROFESSOR  ELECTRONICS AND COMMUNICATION ENGINEERING
(3697)  DR MAMTA MISHRA  ASSOCIATE PROFESSOR  MATHEMATICS
(3698)   PANKAJ DESHWAL  ASSISTANT PROFESSOR  MANAGEMENT
(3699)   KARNAIL SINGH  ACADEMIC SECTION
(3700)   HIMANSHU SINGHAL  SENIOR SYSTEM ANALYST  CENTRAL COMPUTER CENTER
(3701)   HIMANSHU SINGHAL  SENIOR SYSTEM ANALYST  CENTRAL COMPUTER CENTER
(3702)   RAVINDER KUMAR  DEAN STUDENT WELFARE OFFICE
(3703)   BHAWNA AGGARWAL  ASSISTANT PROFESSOR  ELECTRONICS AND COMMUNICATION ENGINEERING
(3704)  Dr  SUJATA SENGAR  DEAN UG  ACADEMIC SECTION
(3705)  PROF SHREE PRAKASH SINGH  HOSTEL WARDEN  RAMANUJAN  HOSTEL
(3706)   HIMANSHU SINGHAL  SENIOR SYSTEM ANALYST  CENTRAL COMPUTER CENTER
(3707)   HIMANSHU SINGHAL  CENTRAL COMPUTER CENTER
(3708)   ANDRIYA NARASIMHULU  ASSISTANT PROFESSOR  MANUFACTURING PROCESSES AND AUTOMATION ENGINEERING
(3709)  PROF SHREE PRAKASH SINGH  HOSTEL WARDEN  RAMANUJAN  HOSTEL
(3710)  Dr  ANAND GUPTA  ASSOCIATE PROFESSOR  COMPUTER ENGINEERING
(3711)   RAVINDER KUMAR  DEAN STUDENT WELFARE OFFICE
(3712)   PANKAJ DESHWAL  ASSISTANT PROFESSOR  MANAGEMENT
(3713)   SHILPA SHARMA  HOSTEL WARDEN  BIO TECHNOLOGY
(3714)   RAVINDER KUMAR  DEAN STUDENT WELFARE OFFICE
(3715)   RAVINDER KUMAR  LDC  DEAN STUDENT WELFARE OFFICE
(3716)   MANISHA  ASSISTANT PROFESSOR  INSTRUMENTATION AND CONTROL ENGINEERING
(3717)   KHUSHIL KUMAR SAINI  COORDINATOR  UNIVERSITY MANAGEMENT CENTRE  CENTRAL COMPUTER CENTER
(3718)   HIMANSHU SINGHAL  CENTRAL COMPUTER CENTER
(3719)   KHUSHIL KUMAR SAINI  COORDINATOR  UNIVERSITY MANAGEMENT CENTRE  CENTRAL COMPUTER CENTER
(3720)  PROF SHREE PRAKASH SINGH  HOSTEL WARDEN  RAMANUJAN  HOSTEL
(3721)   RAVINDER KUMAR  LDC  DEAN STUDENT WELFARE OFFICE
(3722)   SAVITA YADAV  ASSISTANT PROFESSOR  COMPUTER ENGINEERING
(3723)   SAVITA YADAV  ASSISTANT PROFESSOR  COMPUTER ENGINEERING
(3724)  Dr  SUJATA SENGAR  DEAN UG  ACADEMIC SECTION
(3725)   YATENDER KUMAR  ASSISTANT PROFESSOR  BIO TECHNOLOGY
(3726)   ANKUR BANSAL  ASSISTANT PROFESSOR  ELECTRONICS AND COMMUNICATION ENGINEERING
(3727)  DR MAMTA MISHRA  ASSOCIATE PROFESSOR  MATHEMATICS
(3728)   ANDRIYA NARASIMHULU  ASSISTANT PROFESSOR  MANUFACTURING PROCESSES AND AUTOMATION ENGINEERING
(3729)  Dr  PREETI KAUR  ASSOCIATE PROFESSOR  COMPUTER ENGINEERING
(3730)   JYOTI YADAV  ASSISTANT PROFESSOR  INSTRUMENTATION AND CONTROL ENGINEERING
(3731)  Dr  PREETI KAUR  ASSOCIATE PROFESSOR  COMPUTER ENGINEERING
(3732)   ABHISHEK FAUJDAR  SENIOR SYSTEM ANALYST  CENTRAL COMPUTER CENTER
(3733)   YATENDER KUMAR  ASSISTANT PROFESSOR  BIO TECHNOLOGY
(3734)  Dr  SUJATA SENGAR  DEAN UG  ACADEMIC SECTION
(3735)  Dr  SUJATA SENGAR  DEAN UG  ACADEMIC SECTION
(3736)  Dr  PREETI KAUR  COMPUTER ENGINEERING
(3737)   DEVENDER KUMAR  INFORMATION TECHNOLOGY
(3738)  Dr  PREETI KAUR  ASSOCIATE PROFESSOR  COMPUTER ENGINEERING
(3739)  Dr  PREETI KAUR  ASSOCIATE PROFESSOR  COMPUTER ENGINEERING
(3740)  Mrs MAHESHWARI CHANDRA  SECTION OFFICER  ACADEMIC SECTION
(3741)   HIMANSHU SINGHAL  SENIOR SYSTEM ANALYST  CENTRAL COMPUTER CENTER
(3742)  PROF SHREE PRAKASH SINGH  CHIEF WARDEN  HOSTEL
(3743)   HIMANSHU SINGHAL  SENIOR SYSTEM ANALYST  CENTRAL COMPUTER CENTER
(3744)  Mrs MAHESHWARI CHANDRA  SECTION OFFICER  ACADEMIC SECTION
(3745)  Mrs MAHESHWARI CHANDRA  SECTION OFFICER  ACADEMIC SECTION
(3746)   HIMANSHU SINGHAL  CENTRAL COMPUTER CENTER
(3747)   HIMANSHU SINGHAL  SENIOR SYSTEM ANALYST  CENTRAL COMPUTER CENTER
(3748)  Mrs MAHESHWARI CHANDRA  SECTION OFFICER  ACADEMIC SECTION
(3749)  Mrs MAHESHWARI CHANDRA  ACADEMIC SECTION
(3750)  Dr  SUJATA SENGAR  DEAN UG  ACADEMIC SECTION
(3751)   HIMANSHU SINGHAL  SENIOR SYSTEM ANALYST  CENTRAL COMPUTER CENTER
(3752)  PROF SHREE PRAKASH SINGH  CHIEF WARDEN  HOSTEL
(3753)  Mrs MAHESHWARI CHANDRA  SECTION OFFICER  ACADEMIC SECTION
(3754)   KHUSHIL KUMAR SAINI  COORDINATOR  UNIVERSITY MANAGEMENT CENTRE  CENTRAL COMPUTER CENTER
(3755)   KHUSHIL KUMAR SAINI  COORDINATOR  UNIVERSITY MANAGEMENT CENTRE  CENTRAL COMPUTER CENTER
(3756)   KHUSHIL KUMAR SAINI  COORDINATOR  UNIVERSITY MANAGEMENT CENTRE  CENTRAL COMPUTER CENTER
(3757)   KHUSHIL KUMAR SAINI  COORDINATOR  UNIVERSITY MANAGEMENT CENTRE  CENTRAL COMPUTER CENTER
(3758)   HIMANSHU SINGHAL  SENIOR SYSTEM ANALYST  CENTRAL COMPUTER CENTER
(3759)   KARNAIL SINGH  ACADEMIC SECTION
(3760)   ABHISHEK FAUJDAR  SENIOR SYSTEM ANALYST  CENTRAL COMPUTER CENTER
(3761)   ABHISHEK FAUJDAR  SENIOR SYSTEM ANALYST  CENTRAL COMPUTER CENTER
(3762)   ABHISHEK FAUJDAR  SENIOR SYSTEM ANALYST  CENTRAL COMPUTER CENTER
(3763)   ABHISHEK FAUJDAR  SENIOR SYSTEM ANALYST  CENTRAL COMPUTER CENTER
(3764)   BHAWNA AGGARWAL  ASSISTANT PROFESSOR  ELECTRONICS AND COMMUNICATION ENGINEERING
(3765)  PROF SHREE PRAKASH SINGH  CHIEF WARDEN  ACADEMIC SECTION
(3766)  PROF SHREE PRAKASH SINGH  CHIEF WARDEN  HOSTEL
(3767)   KHUSHIL KUMAR SAINI  COORDINATOR  UNIVERSITY MANAGEMENT CENTRE  CENTRAL COMPUTER CENTER
(3768)   KHUSHIL KUMAR SAINI  COORDINATOR  UNIVERSITY MANAGEMENT CENTRE  CENTRAL COMPUTER CENTER
(3769)   KHUSHIL KUMAR SAINI  COORDINATOR  UNIVERSITY MANAGEMENT CENTRE  CENTRAL COMPUTER CENTER
(3770)   KARNAIL SINGH  ACADEMIC SECTION
(3771)  Dr  PREETI KAUR  COMPUTER ENGINEERING
(3772)   KHUSHIL KUMAR SAINI  COORDINATOR  UNIVERSITY MANAGEMENT CENTRE  CENTRAL COMPUTER CENTER
(3773)   HIMANSHU SINGHAL  SENIOR SYSTEM ANALYST  CENTRAL COMPUTER CENTER
(3774)   KARNAIL SINGH  ACADEMIC SECTION
(3775)   HIMANSHU SINGHAL  SENIOR SYSTEM ANALYST  CENTRAL COMPUTER CENTER
(3776)   RAVINDER KUMAR  LDC  DEAN STUDENT WELFARE OFFICE
(3777)   KARNAIL SINGH  ACADEMIC SECTION
(3778)   KARNAIL SINGH  ACADEMIC SECTION
(3779)   KARNAIL SINGH  ACADEMIC SECTION
(3780)   DEVENDER KUMAR  ASSISTANT PROFESSOR  INFORMATION TECHNOLOGY
(3781)   ABHISHEK FAUJDAR  SENIOR SYSTEM ANALYST  CENTRAL COMPUTER CENTER
(3782)   ABHISHEK FAUJDAR  SENIOR SYSTEM ANALYST  CENTRAL COMPUTER CENTER
(3783)   HIMANSHU SINGHAL  SENIOR SYSTEM ANALYST  CENTRAL COMPUTER CENTER
(3784)   SURESH SARAF  ASST REGISTRAR 1  ESTABLISHMENT SECTION
(3785)   ABHISHEK FAUJDAR  SENIOR SYSTEM ANALYST  CENTRAL COMPUTER CENTER
(3786)   KARNAIL SINGH  ACADEMIC SECTION
(3787)   HIMANSHU SINGHAL  SENIOR SYSTEM ANALYST 1  UNIVERSITY MANAGEMENT CENTRE  CENTRAL COMPUTER CENTER
(3788)   KHUSHIL KUMAR SAINI  COORDINATOR  UNIVERSITY MANAGEMENT CENTRE  CENTRAL COMPUTER CENTER
(3789)   ANDRIYA NARASIMHULU  ASSISTANT PROFESSOR  MANUFACTURING PROCESSES AND AUTOMATION ENGINEERING
(3790)   ANDRIYA NARASIMHULU  ASSISTANT PROFESSOR  MANUFACTURING PROCESSES AND AUTOMATION ENGINEERING
(3791)   HIMANSHU SINGHAL  CENTRAL COMPUTER CENTER
(3792)   KARNAIL SINGH  UDC  ACADEMIC SECTION
(3793)   MANISHA  ASSISTANT PROFESSOR  INSTRUMENTATION AND CONTROL ENGINEERING
(3794)   HIMANSHU SINGHAL  SENIOR SYSTEM ANALYST 1  UNIVERSITY MANAGEMENT CENTRE  CENTRAL COMPUTER CENTER
(3795)   HIMANSHU SINGHAL  CIMS COORDINATOR1  CENTRAL COMPUTER CENTER
(3796)   SURESH SARAF  ASST REGISTRAR 1  ESTABLISHMENT SECTION
(3797)   SHWETA GAUTAM  HOSTEL WARDEN  ELECTRONICS AND COMMUNICATION ENGINEERING
(3798)   HIMANSHU SINGHAL  CENTRAL COMPUTER CENTER
(3799)  Dr  PREETI KAUR  ASSOCIATE PROFESSOR  COMPUTER ENGINEERING
(3800)   HIMANSHU SINGHAL  CENTRAL COMPUTER CENTER
(3801)  PROF SHREE PRAKASH SINGH  CHIEF WARDEN  HOSTEL
(3802)  PROF SHREE PRAKASH SINGH  CHIEF WARDEN  HOSTEL
(3803)  Dr  SUJATA SENGAR  ACADEMIC SECTION
(3804)   SURESH SARAF  ASST REGISTRAR 1  ESTABLISHMENT SECTION
(3805)  Dr  PREETI KAUR  ASSOCIATE PROFESSOR  COMPUTER ENGINEERING
(3806)  Dr  PREETI KAUR  ASSOCIATE PROFESSOR  COMPUTER ENGINEERING
(3807)  Dr  PREETI KAUR  ASSOCIATE PROFESSOR  COMPUTER ENGINEERING
(3808)  Dr  PREETI KAUR  ASSOCIATE PROFESSOR  COMPUTER ENGINEERING
(3809)   ASHA RANI  PROFESSOR  INSTRUMENTATION AND CONTROL ENGINEERING
(3810)   ANDRIYA NARASIMHULU  ASSISTANT PROFESSOR  MANUFACTURING PROCESSES AND AUTOMATION ENGINEERING
(3811)   ANDRIYA NARASIMHULU  ASSISTANT PROFESSOR  MANUFACTURING PROCESSES AND AUTOMATION ENGINEERING
(3812)   ANKUR BANSAL  ASSISTANT PROFESSOR  ELECTRONICS AND COMMUNICATION ENGINEERING
(3813)   SATISH KUMAR SINGH  ASSISTANT PROFESSOR  INFORMATION TECHNOLOGY
(3814)   YATENDER KUMAR  ASSISTANT PROFESSOR  BIO TECHNOLOGY
(3815)   ABHISHEK FAUJDAR  SENIOR SYSTEM ANALYST  CENTRAL COMPUTER CENTER
(3816)   BHAWNA AGGARWAL  ASSISTANT PROFESSOR  ELECTRONICS AND COMMUNICATION ENGINEERING
(3817)   HIMANSHU SINGHAL  SENIOR SYSTEM ANALYST 1  UNIVERSITY MANAGEMENT CENTRE  CENTRAL COMPUTER CENTER
(3818)   ANDRIYA NARASIMHULU  ASSISTANT PROFESSOR  MANUFACTURING PROCESSES AND AUTOMATION ENGINEERING
(3819)   HIMANSHU SINGHAL  CENTRAL COMPUTER CENTER
(3820)   KARNAIL SINGH  ACADEMIC SECTION
(3821)   BHAWNA AGGARWAL  ASSISTANT PROFESSOR  ELECTRONICS AND COMMUNICATION ENGINEERING
(3822)   BHAWNA AGGARWAL  ASSISTANT PROFESSOR  ELECTRONICS AND COMMUNICATION ENGINEERING
(3823)   BHAWNA AGGARWAL  ASSISTANT PROFESSOR  ELECTRONICS AND COMMUNICATION ENGINEERING
(3824)   BHAWNA AGGARWAL  ASSISTANT PROFESSOR  ELECTRONICS AND COMMUNICATION ENGINEERING
(3825)  Prof AMAR NATH JHA  PROFESSOR  INSTRUMENTATION AND CONTROL ENGINEERING
(3826)   BHAWNA AGGARWAL  ASSISTANT PROFESSOR  ELECTRONICS AND COMMUNICATION ENGINEERING
(3827)   BHAWNA AGGARWAL  ASSISTANT PROFESSOR  ELECTRONICS AND COMMUNICATION ENGINEERING
(3828)  Dr  ANAND GUPTA  ASSOCIATE PROFESSOR  COMPUTER ENGINEERING
(3829)   KUNWAR SINGH  PRACTICAL SUPERINTENDENT  ELECTRONICS AND COMMUNICATION ENGINEERING
(3830)  Prof AMAR NATH JHA  PROFESSOR  INSTRUMENTATION AND CONTROL ENGINEERING
(3831)   ABHISHEK FAUJDAR  SENIOR SYSTEM ANALYST  CENTRAL COMPUTER CENTER
(3832)  PROF SHREE PRAKASH SINGH  CHIEF WARDEN  HOSTEL
(3833)  Prof SHYAMA KANT JHA  PRACTICAL SUPERINTENDENT  INSTRUMENTATION AND CONTROL ENGINEERING
(3834)  Prof SHYAMA KANT JHA  PRACTICAL SUPERINTENDENT  INSTRUMENTATION AND CONTROL ENGINEERING
(3835)  Dr  PREETI KAUR  ASSOCIATE PROFESSOR  COMPUTER ENGINEERING
(3836)  Dr  SUJATA SENGAR  DEAN UG  ACADEMIC SECTION
(3837)  Dr  SUJATA SENGAR  DEAN UG  ACADEMIC SECTION
(3838)  Dr  SUJATA SENGAR  DEAN UG  ACADEMIC SECTION
(3839)   ABHISHEK FAUJDAR  SENIOR SYSTEM ANALYST  CENTRAL COMPUTER CENTER
(3840)   ABHISHEK FAUJDAR  SENIOR SYSTEM ANALYST  CENTRAL COMPUTER CENTER
(3841)   ABHISHEK FAUJDAR  SENIOR SYSTEM ANALYST  CENTRAL COMPUTER CENTER
(3842)   ABHISHEK FAUJDAR  SENIOR SYSTEM ANALYST  CENTRAL COMPUTER CENTER
(3843)   ABHISHEK FAUJDAR  SENIOR SYSTEM ANALYST  CENTRAL COMPUTER CENTER
(3844)  Dr  SUJATA SENGAR  DEAN UG  ACADEMIC SECTION
(3845)  Dr  SUJATA SENGAR  DEAN UG  ACADEMIC SECTION
(3846)  Dr  SUJATA SENGAR  DEAN UG  ACADEMIC SECTION
(3847)  Dr  SUJATA SENGAR  DEAN UG  ACADEMIC SECTION
(3848)  Dr  SUJATA SENGAR  DEAN UG  ACADEMIC SECTION
(3849)  Dr  SUJATA SENGAR  DEAN UG  ACADEMIC SECTION
(3850)  Dr  SUJATA SENGAR  DEAN UG  ACADEMIC SECTION
(3851)  Dr  SUJATA SENGAR  DEAN UG  ACADEMIC SECTION
(3852)  Dr  SUJATA SENGAR  DEAN UG  ACADEMIC SECTION
(3853)   ABHISHEK FAUJDAR  SENIOR SYSTEM ANALYST  CENTRAL COMPUTER CENTER
(3854)   ABHISHEK FAUJDAR  SENIOR SYSTEM ANALYST  CENTRAL COMPUTER CENTER
(3855)   ABHISHEK FAUJDAR  SENIOR SYSTEM ANALYST  CENTRAL COMPUTER CENTER
(3856)   ABHISHEK FAUJDAR  SENIOR SYSTEM ANALYST  CENTRAL COMPUTER CENTER
(3857)  Dr  SUJATA SENGAR  DEAN UG  ACADEMIC SECTION
(3858)  Dr  SUJATA SENGAR  DEAN UG  ACADEMIC SECTION
(3859)  Dr  SUJATA SENGAR  DEAN UG  ACADEMIC SECTION
(3860)  Dr  SUJATA SENGAR  DEAN UG  ACADEMIC SECTION
(3861)  Dr  SUJATA SENGAR  DEAN UG  ACADEMIC SECTION
(3862)  Dr  SUJATA SENGAR  DEAN UG  ACADEMIC SECTION
(3863)  Dr  SUJATA SENGAR  DEAN UG  ACADEMIC SECTION
(3864)  Dr  SUJATA SENGAR  DEAN UG  ACADEMIC SECTION
(3865)  Dr  SUJATA SENGAR  DEAN UG  ACADEMIC SECTION
(3866)  Dr  SUJATA SENGAR  DEAN UG  ACADEMIC SECTION
(3867)  Dr  SUJATA SENGAR  DEAN UG  ACADEMIC SECTION
(3868)  Dr  SUJATA SENGAR  DEAN UG  ACADEMIC SECTION
(3869)  Dr  SUJATA SENGAR  DEAN UG  ACADEMIC SECTION
(3870)  Dr  SUJATA SENGAR  DEAN UG  ACADEMIC SECTION
(3871)  Dr  SUJATA SENGAR  DEAN UG  ACADEMIC SECTION
(3872)  Dr  SUJATA SENGAR  DEAN UG  ACADEMIC SECTION
(3873)  PROF SHREE PRAKASH SINGH  CHIEF WARDEN  HOSTEL
(3874)  Prof SHYAMA KANT JHA  PRACTICAL SUPERINTENDENT  INSTRUMENTATION AND CONTROL ENGINEERING
(3875)  Dr AKHILESH DUBEY  PRACTICAL INSTRUCTOR  BIO TECHNOLOGY
(3876)   DEEPAK KUMAR SHARMA  INFORMATION TECHNOLOGY
(3877)   KUNWAR SINGH  PRACTICAL SUPERINTENDENT  ELECTRONICS AND COMMUNICATION ENGINEERING
(3878)  Dr  A  V  MULEY  ASSOCIATE PROFESSOR  MANUFACTURING PROCESSES AND AUTOMATION ENGINEERING
(3879)  Dr  A  V  MULEY  ASSOCIATE PROFESSOR  MANUFACTURING PROCESSES AND AUTOMATION ENGINEERING
(3880)  Dr DAYA NAND  SENIOR SCIENTIFIC ASSISTANT  PHYSICS
(3881)   PINAKI CHAKRABORTY  ASSISTANT PROFESSOR  COMPUTER ENGINEERING
(3882)   PINAKI CHAKRABORTY  ASSISTANT PROFESSOR  COMPUTER ENGINEERING
(3883)  Dr  SUJATA SENGAR  DEAN UG  ACADEMIC SECTION
(3884)   ABHISHEK FAUJDAR  SENIOR SYSTEM ANALYST  PRO SECTION
(3885)  Dr  SUJATA SENGAR  DEAN UG  ACADEMIC SECTION
(3886)   KUNWAR SINGH  HOSTEL WARDEN  ELECTRONICS AND COMMUNICATION ENGINEERING
(3887)   HIMANSHU SINGHAL  CIMS
(3888)  Dr  SUJATA SENGAR  DEAN UG  DEAN UG STUDIES
(3889)  Dr  SUJATA SENGAR  DEAN UG  ACADEMIC SECTION
(3890)   KARNAIL SINGH  UDC  ACADEMIC SECTION
(3891)  Dr  ANAND GUPTA  ASSOCIATE PROFESSOR  COMPUTER ENGINEERING
(3892)   PARUL GARG  INSTRUCTOR  ELECTRONICS AND COMMUNICATION ENGINEERING
(3893)   KHUSHIL KUMAR SAINI  NSIT ADMIN  CIMS
(3894)   KUNWAR SINGH  HOSTEL WARDEN  ELECTRONICS AND COMMUNICATION ENGINEERING
(3895)   VIJANDER SINGH  DEAN STUDENT WELFARE  INSTRUMENTATION AND CONTROL ENGINEERING
(3896)  Dr  SUJATA SENGAR  DEAN UG  ACADEMIC SECTION
(3897)  Dr  SUJATA SENGAR  DEAN UG  ACADEMIC SECTION
(3898)   BHAWNA AGGARWAL  ASSISTANT PROFESSOR  ELECTRONICS AND COMMUNICATION ENGINEERING
(3899)   BHAWNA AGGARWAL  ASSISTANT PROFESSOR  ELECTRONICS AND COMMUNICATION ENGINEERING
(3900)   SHAILESH MISHRA  ASSISTANT PROFESSOR  ELECTRONICS AND COMMUNICATION ENGINEERING
(3901)   SHAILESH MISHRA  ASSISTANT PROFESSOR  ELECTRONICS AND COMMUNICATION ENGINEERING
(3902)   BHAWNA AGGARWAL  ASSISTANT PROFESSOR  ELECTRONICS AND COMMUNICATION ENGINEERING
(3903)   ABHISHEK FAUJDAR  SENIOR SYSTEM ANALYST  CIMS
(3904)   KHUSHIL KUMAR SAINI  NSIT ADMIN  CIMS
(3905)   KHUSHIL KUMAR SAINI  NSIT ADMIN  CIMS
(3906)   MANISHA  ASSISTANT PROFESSOR  INSTRUMENTATION AND CONTROL ENGINEERING
(3907)   JYOTI YADAV  ASSISTANT PROFESSOR  INSTRUMENTATION AND CONTROL ENGINEERING
(3908)   ABHISHEK FAUJDAR  SENIOR SYSTEM ANALYST  CIMS
(3909)   PARUL GARG  PROFESSOR  ELECTRONICS AND COMMUNICATION ENGINEERING
(3910)   AJAY KUMAR KATARIA  COORDINATOR  DEAN UG STUDIES
(3911)  Dr  ANAND GUPTA  ASSOCIATE PROFESSOR  COMPUTER ENGINEERING
(3912)   HIMANSHU SINGHAL  SENIOR SYSTEM ANALYST 1  CIMS
(3913)   KARNAIL SINGH  UDC  ACADEMIC SECTION
(3914)   KARNAIL SINGH  UDC  ACADEMIC SECTION
(3915)   KHUSHIL KUMAR SAINI  NSIT ADMIN  CIMS
(3916)   SURESH SARAF  ASST REGISTRAR 1  ESTABLISHMENT SECTION
(3917)   KHUSHIL KUMAR SAINI  NSIT ADMIN  CIMS
(3918)   KHUSHIL KUMAR SAINI  NSIT ADMIN  CIMS
(3919)   KHUSHIL KUMAR SAINI  NSIT ADMIN  CIMS
(3920)   KHUSHIL KUMAR SAINI  NSIT ADMIN  CIMS
(3921)   KHUSHIL KUMAR SAINI  NSIT ADMIN  CIMS
(3922)   KHUSHIL KUMAR SAINI  NSIT ADMIN  CIMS
(3923)  MS SANEHAJA SHARMA  ASSISTANT REGISTRAR  ACADEMIC SECTION
(3924)  MS SANEHAJA SHARMA  ACADEMIC SECTION
(3925)   SURESH SARAF  ASST REGISTRAR 1  ESTABLISHMENT SECTION
(3926)  Mr LAMBODAR MISHRA  DATA PROCESSOR  ACADEMIC SECTION
(3927)   SURESH SARAF  ASST REGISTRAR 1  ESTABLISHMENT SECTION
(3928)   SURESH SARAF  ASST REGISTRAR 1  ESTABLISHMENT SECTION
(3929)   SURESH SARAF  ASST REGISTRAR 1  ESTABLISHMENT SECTION
(3930)   ABHISHEK FAUJDAR  SENIOR SYSTEM ANALYST  ACADEMIC SECTION
(3931)  b Self Defence Demonstration by Delhi Police for Women on Annual Sports Day 8th February 2019  10 00 am br   font size  1   br    PRAVEEN SAROHA  PTI  PHYSICAL EDUCATION  b   font 
(3932)   PRAVEEN SAROHA  PTI  PHYSICAL EDUCATION
(3933)   BHAWNA AGGARWAL  ASSISTANT PROFESSOR  ELECTRONICS AND COMMUNICATION ENGINEERING
(3934)   AJAY KUMAR KATARIA  COORDINATOR  DEAN UG STUDIES
(3935)   MUKESH KUMAR SHARMA  DEPUTY REGISTRAR  ESTABLISHMENT SECTION
(3936)   BHAWNA AGGARWAL  ASSISTANT PROFESSOR  ELECTRONICS AND COMMUNICATION ENGINEERING
(3937)   BHAWNA AGGARWAL  ASSISTANT PROFESSOR  ELECTRONICS AND COMMUNICATION ENGINEERING
(3938)   PRAVEEN SAROHA  PTI  PHYSICAL EDUCATION
(3939)   BHAWNA AGGARWAL  ASSISTANT PROFESSOR  ELECTRONICS AND COMMUNICATION ENGINEERING
(3940)   PRAVEEN SAROHA  PTI  PHYSICAL EDUCATION
(3941)   PRAVEEN SAROHA  PTI  PHYSICAL EDUCATION
(3942)   BHAWNA AGGARWAL  ASSISTANT PROFESSOR  ELECTRONICS AND COMMUNICATION ENGINEERING
(3943)   AJAY KUMAR KATARIA  COORDINATOR  DEAN UG STUDIES
(3944)   KUNWAR SINGH  HOSTEL WARDEN  ELECTRONICS AND COMMUNICATION ENGINEERING
(3945)   KUNWAR SINGH  HOSTEL WARDEN  ELECTRONICS AND COMMUNICATION ENGINEERING
(3946)   HIMANSHU SINGHAL  CIMS
(3947)   HIMANSHU SINGHAL  CIMS
(3948)   AJAY KUMAR KATARIA  COORDINATOR  DEAN UG STUDIES
(3949)   PANKAJ AGGARWAL  UDC  ACADEMIC SECTION
(3950)   PANKAJ AGGARWAL  UDC  ACADEMIC SECTION
(3951)  PROF SHREE PRAKASH SINGH  HOD  ELECTRONICS AND COMMUNICATION ENGINEERING
(3952)   PANKAJ AGGARWAL  UDC  ACADEMIC SECTION
(3953)   PANKAJ AGGARWAL  UDC  ACADEMIC SECTION
(3954)  DR MAMTA MISHRA  ASSOCIATE PROFESSOR  MATHEMATICS
(3955)   ABHISHEK FAUJDAR  SENIOR SYSTEM ANALYST  DEAN STUDENT WELFARE OFFICE
(3956)   PANKAJ AGGARWAL  UDC  ACADEMIC SECTION UG
(3957)   KHUSHIL KUMAR SAINI  NSIT ADMIN  CIMS
(3958)   KHUSHIL KUMAR SAINI  NSIT ADMIN  CIMS
(3959)   KHUSHIL KUMAR SAINI  CIMS
(3960)   HIMANSHU SINGHAL  CIMS COORDINATOR1  CIMS
(3961)   HIMANSHU SINGHAL  CIMS COORDINATOR1  CIMS
(3962)   KHUSHIL KUMAR SAINI  NSIT ADMIN  CIMS
(3963)   ABHISHEK FAUJDAR  CIMS
(3964)   KHUSHIL KUMAR SAINI  NSIT ADMIN  CIMS
(3965)   KHUSHIL KUMAR SAINI  NSIT ADMIN  CIMS
(3966)  PROF SHREE PRAKASH SINGH  CHIEF WARDEN  HOSTEL
(3967)   KHUSHIL KUMAR SAINI  NSIT ADMIN  CIMS
(3968)   PANKAJ AGGARWAL  ACADEMIC SECTION UG
(3969)   ASHA RANI  INSTRUMENTATION AND CONTROL ENGINEERING
(3970)   ASHA RANI  INSTRUMENTATION AND CONTROL ENGINEERING
(3971)   ABHISHEK FAUJDAR  SENIOR SYSTEM ANALYST  ACADEMIC SECTION
(3972)   DEVENDER KUMAR  INFORMATION TECHNOLOGY
(3973)   AJAY KUMAR KATARIA  COORDINATOR  DEAN UG STUDIES
(3974)   KHUSHIL KUMAR SAINI  NSIT ADMIN  CIMS
(3975)   AJAY KUMAR KATARIA  COORDINATOR  DEAN UG STUDIES
(3976)   AJAY KUMAR KATARIA  COORDINATOR  DEAN UG STUDIES
(3977)   ANKUR BANSAL  ASSISTANT PROFESSOR  ELECTRONICS AND COMMUNICATION ENGINEERING
(3978)   MANISHA  INSTRUMENTATION AND CONTROL ENGINEERING
(3979)   PANKAJ AGGARWAL  UDC  ACADEMIC SECTION UG
(3980)   RITU SIBAL  COMPUTER ENGINEERING
(3981)   DEVENDER KUMAR  INFORMATION TECHNOLOGY
(3982)   ABHISHEK TEVATIA  ASSISTANT PROFESSOR  MANUFACTURING PROCESSES AND AUTOMATION ENGINEERING
(3983)   PANKAJ DESHWAL  ASSISTANT PROFESSOR  MANAGEMENT
(3984)   PINAKI CHAKRABORTY  ASSISTANT PROFESSOR  COMPUTER ENGINEERING
(3985)   YATENDER KUMAR  ASSISTANT PROFESSOR  BIO TECHNOLOGY
(3986)  Dr  SUJATA SENGAR  DEAN UG  ACADEMIC SECTION
(3987)   RITU SIBAL  COMPUTER ENGINEERING
(3988)   SHILPA SHARMA  PRACTICAL INSTRUCTOR  BIOLOGICAL SCIENCES AND ENGINEERING
(3989)   MANISHA  INSTRUMENTATION AND CONTROL ENGINEERING
(3990)   SATISH KUMAR SINGH  INFORMATION TECHNOLOGY
(3991)   KUNWAR SINGH  PRACTICAL SUPERINTENDENT  ELECTRONICS AND COMMUNICATION ENGINEERING
(3992)   KUNWAR SINGH  PRACTICAL SUPERINTENDENT  ELECTRONICS AND COMMUNICATION ENGINEERING
(3993)   HIMANSHU SINGHAL  CIMS
(3994)   AJAY KUMAR KATARIA  COORDINATOR  DEAN UG STUDIES
(3995)  Dr  A  V  MULEY  MANUFACTURING PROCESSES AND AUTOMATION ENGINEERING
(3996)   ABHISHEK FAUJDAR  CIMS COORDINATOR2  CIMS
(3997)  Mr LAMBODAR MISHRA  DATA ENTRY OPERATOR  ACADEMIC SECTION
(3998)  Mr LAMBODAR MISHRA  DATA ENTRY OPERATOR  ACADEMIC SECTION
(3999)  Prof SHYAMA KANT JHA  PRACTICAL SUPERINTENDENT  INSTRUMENTATION AND CONTROL ENGINEERING
(4000)  Mr LAMBODAR MISHRA  DATA PROCESSOR  ACADEMIC SECTION
(4001)   PANKAJ AGGARWAL  ACADEMIC SECTION UG
(4002)   PANKAJ AGGARWAL  ACADEMIC SECTION UG
(4003)   PANKAJ AGGARWAL  DEALING ASSISTANT 2  ACADEMIC SECTION UG
(4004)   PANKAJ AGGARWAL  DEALING ASSISTANT 2  ACADEMIC SECTION UG
(4005)   PANKAJ AGGARWAL  DEALING ASSISTANT 2  ACADEMIC SECTION UG
(4006)   KHUSHIL KUMAR SAINI  NSIT ADMIN  CIMS
(4007)   PINAKI CHAKRABORTY  COMPUTER ENGINEERING
(4008)   HIMANSHU SINGHAL  CIMS COORDINATOR1  CIMS
(4009)   ABHISHEK FAUJDAR  CIMS COORDINATOR2  CIMS
(4010)   ABHISHEK FAUJDAR  INSTRUCTOR  ELECTRONICS AND COMMUNICATION ENGINEERING
(4011)   HIMANSHU SINGHAL  CIMS
(4012)  Dr  SUJATA SENGAR  DEAN UG  ACADEMIC SECTION
(4013)   PANKAJ AGGARWAL  DEALING ASSISTANT 2  ACADEMIC SECTION PG
(4014)  Prof SHYAMA KANT JHA  PRACTICAL SUPERINTENDENT  INSTRUMENTATION AND CONTROL ENGINEERING
(4015)   SHILPA SHARMA  BIO TECHNOLOGY
(4016)   DEEPAK KUMAR SHARMA  INFORMATION TECHNOLOGY
(4017)   PINAKI CHAKRABORTY  COMPUTER ENGINEERING
(4018)  b Practical exams are scheduled from 12 Nov to 17 Nov and 7 Dec to 15 Dec 2018 rnrnPractical Superintendent NSUT br   font size  1   br    ASHA RANI  INSTRUMENTATION AND CONTROL ENGINEERING  b   font 
(4019)   ASHA RANI  INSTRUMENTATION AND CONTROL ENGINEERING
(4020)   KUNWAR SINGH  PRACTICAL SUPERINTENDENT  ELECTRONICS AND COMMUNICATION ENGINEERING
(4021)   PINAKI CHAKRABORTY  COMPUTER ENGINEERING
(4022)  Prof SHYAMA KANT JHA  INSTRUMENTATION AND CONTROL ENGINEERING
(4023)  Dr  A  V  MULEY  MANUFACTURING PROCESSES AND AUTOMATION ENGINEERING
(4024)  Dr  PRADEEP KHANNA  MANUFACTURING PROCESSES AND AUTOMATION ENGINEERING
(4025)  Dr  A  V  MULEY  MANUFACTURING PROCESSES AND AUTOMATION ENGINEERING
(4026)   ABHISHEK FAUJDAR  CIMS COORDINATOR2  ACADEMIC SECTION
(4027)   ABHISHEK FAUJDAR  CIMS COORDINATOR2  ACADEMIC SECTION
(4028)   ABHISHEK FAUJDAR  CIMS COORDINATOR2  ACADEMIC SECTION
(4029)   HIMANSHU SINGHAL  CIMS
(4030)  PROF SANJAY KUMAR CHAK  MANUFACTURING PROCESSES AND AUTOMATION ENGINEERING
(4031)   BHAWNA AGGARWAL  INSTRUCTOR  ELECTRONICS AND COMMUNICATION ENGINEERING
(4032)   ABHISHEK FAUJDAR  CIMS COORDINATOR2  CIMS
(4033)   HIMANSHU SINGHAL  CIMS COORDINATOR1  CIMS
(4034)   BHAWNA AGGARWAL  INSTRUCTOR  ELECTRONICS AND COMMUNICATION ENGINEERING
(4035)   ABHISHEK FAUJDAR  CIMS COORDINATOR2  CIMS
(4036)   HIMANSHU SINGHAL  CIMS COORDINATOR1  CIMS
(4037)  Dr  SUJATA SENGAR  DEAN UG  ELECTRONICS AND COMMUNICATION ENGINEERING
(4038)   BHAWNA AGGARWAL  INSTRUCTOR  ELECTRONICS AND COMMUNICATION ENGINEERING
(4039)  Dr  SUJATA SENGAR  DEAN UG  ACADEMIC SECTION
(4040)   BHAWNA AGGARWAL  PRACTICAL INSTRUCTOR  ELECTRONICS AND COMMUNICATION ENGINEERING
(4041)   ABHISHEK FAUJDAR  CIMS COORDINATOR2  CIMS
(4042)   ABHISHEK FAUJDAR  CIMS
(4043)   ABHISHEK FAUJDAR  CIMS COORDINATOR2  CIMS
(4044)   ABHISHEK FAUJDAR  CIMS COORDINATOR2  CIMS
(4045)   ABHISHEK FAUJDAR  CIMS COORDINATOR2  CIMS
(4046)   ABHISHEK FAUJDAR  CIMS
(4047)   ABHISHEK FAUJDAR  CIMS COORDINATOR2  CIMS
(4048)   ABHISHEK FAUJDAR  CIMS COORDINATOR2  ACADEMIC SECTION UG
(4049)   HIMANSHU SINGHAL  CIMS COORDINATOR1  CIMS
(4050)  DR D K SINGH  HOD  MANUFACTURING PROCESSES AND AUTOMATION ENGINEERING
(4051)  DR D K SINGH  HOD  MANUFACTURING PROCESSES AND AUTOMATION ENGINEERING
(4052)  DR D K SINGH  HOD  MANUFACTURING PROCESSES AND AUTOMATION ENGINEERING
(4053)   HIMANSHU SINGHAL  CIMS
(4054)   HIMANSHU SINGHAL  CIMS COORDINATOR1  CIMS
(4055)   BHAWNA AGGARWAL  INSTRUCTOR  ELECTRONICS AND COMMUNICATION ENGINEERING
(4056)   HIMANSHU SINGHAL  CIMS COORDINATOR1  CIMS
(4057)   ABHISHEK FAUJDAR  CIMS COORDINATOR2  INSTRUMENTATION AND CONTROL ENGINEERING
(4058)   BHAWNA AGGARWAL  INSTRUCTOR  ELECTRONICS AND COMMUNICATION ENGINEERING
(4059)   BHAWNA AGGARWAL  INSTRUCTOR  ELECTRONICS AND COMMUNICATION ENGINEERING
(4060)   BHAWNA AGGARWAL  INSTRUCTOR  ELECTRONICS AND COMMUNICATION ENGINEERING
(4061)   HIMANSHU SINGHAL  CIMS COORDINATOR1  CIMS
(4062)   HIMANSHU SINGHAL  CIMS
(4063)   ABHISHEK FAUJDAR  CIMS COORDINATOR2  CIMS
(4064)   HIMANSHU SINGHAL  CIMS COORDINATOR1  CIMS
(4065)   KHUSHIL KUMAR SAINI  INSTRUCTOR  CIMS
(4066)   HIMANSHU SINGHAL  CIMS COORDINATOR1  CIMS
(4067)  PROF SHREE PRAKASH SINGH  HOD  ELECTRONICS AND COMMUNICATION ENGINEERING
(4068)   HIMANSHU SINGHAL  CIMS
(4069)   BHAWNA AGGARWAL  ELECTRONICS AND COMMUNICATION ENGINEERING
(4070)   KHUSHIL KUMAR SAINI  CIMS ADMIN  CIMS
(4071)   HIMANSHU SINGHAL  CIMS
(4072)  Dr  SUJATA SENGAR  DEAN UG STUDIES
(4073)  Dr  SUJATA SENGAR  DEAN UG STUDIES
(4074)  Dr  SUJATA SENGAR  OFFICER INCHARGE  HOSTEL
(4075)   HIMANSHU SINGHAL  CIMS
(4076)  Dr  SUJATA SENGAR  DEAN UG STUDIES
(4077)   HIMANSHU SINGHAL  OFFICER INCHARGE  CIMS
(4078)  Dr  SUJATA SENGAR  OFFICER INCHARGE  COMMUNICATION ENGINEERING LAB  ELECTRONICS AND COMMUNICATION ENGINEERING
(4079)  Dr  SUJATA SENGAR  DEAN UG STUDIES
(4080)   HIMANSHU SINGHAL  CIMS
(4081)   HIMANSHU SINGHAL  CIMS
(4082)   HEMANT KUMAR  ACADEMIC SECTION PG
(4083)   SHWETA GAUTAM  HOSTEL
(4084)   SHILPA SHARMA  HOSTEL
(4085)   ABHISHEK FAUJDAR  CIMS
(4086)   ABHISHEK FAUJDAR  CIMS
(4087)  Dr  SUJATA SENGAR  DEAN UG STUDIES
(4088)   HIMANSHU SINGHAL  CIMS COORDINATOR1  CIMS
(4089)   SHILPA SHARMA  BIO TECHNOLOGY
(4090)   SHWETA GAUTAM  ELECTRONICS AND COMMUNICATION ENGINEERING
(4091)   SHILPA SHARMA  BIO TECHNOLOGY
(4092)   HIMANSHU SINGHAL  CIMS COORDINATOR1  CIMS
(4093)   SHILPA SHARMA  BIOLOGICAL SCIENCES AND ENGINEERING
(4094)   ABHISHEK FAUJDAR  CIMS
(4095)   ABHISHEK FAUJDAR  ACADEMIC SECTION
(4096)   ABHISHEK FAUJDAR  CIMS
(4097)   ABHISHEK FAUJDAR  INSTRUMENTATION AND CONTROL ENGINEERING
(4098)   ABHISHEK FAUJDAR  MANUFACTURING PROCESSES AND AUTOMATION ENGINEERING
(4099)   ABHISHEK FAUJDAR  ACADEMIC SECTION
(4100)   ABHISHEK FAUJDAR  CIMS COORDINATOR2  ACADEMIC SECTION
(4101)   HIMANSHU SINGHAL  CIMS COORDINATOR1  CIMS
(4102)  PROF SHREE PRAKASH SINGH  CHIEF WARDEN  HOSTEL
(4103)   HEMANT KUMAR  ACADEMIC SECTION UG
(4104)   SHILPA SHARMA  HOSTEL WARDEN  BIO TECHNOLOGY
(4105)  b NSIT Roll Number Allotted for M Tech Admission 2018 br   font size  1   br    KHUSHIL KUMAR SAINI  NSIT ADMIN  CIMS  b   font 
(4106)   KHUSHIL KUMAR SAINI  NSIT ADMIN  CIMS
(4107)   KHUSHIL KUMAR SAINI  NSIT ADMIN  CIMS
(4108)   KHUSHIL KUMAR SAINI  NSIT ADMIN  CIMS
(4109)   KHUSHIL KUMAR SAINI  NSIT ADMIN  CIMS
(4110)   KHUSHIL KUMAR SAINI  NSIT ADMIN  CIMS
(4111)   KHUSHIL KUMAR SAINI  NSIT ADMIN  CIMS
(4112)   KHUSHIL KUMAR SAINI  NSIT ADMIN  CIMS
(4113)   KHUSHIL KUMAR SAINI  CIMS
(4114)   KHUSHIL KUMAR SAINI  NSIT ADMIN  CIMS
(4115)   KHUSHIL KUMAR SAINI  NSIT ADMIN  CIMS
(4116)   KHUSHIL KUMAR SAINI  NSIT ADMIN  CIMS
(4117)   KHUSHIL KUMAR SAINI  NSIT ADMIN  CIMS
(4118)   SHILPA SHARMA  HOSTEL WARDEN  BIOLOGICAL SCIENCES AND ENGINEERING
(4119)   SHWETA GAUTAM  HOSTEL WARDEN  ELECTRONICS AND COMMUNICATION ENGINEERING
(4120)   ABHISHEK FAUJDAR  CIMS COORDINATOR2  CIMS
(4121)   HIMANSHU SINGHAL  ACADEMIC SECTION UG
(4122)   SHWETA GAUTAM  HOSTEL WARDEN  ELECTRONICS AND COMMUNICATION ENGINEERING
(4123)   HIMANSHU SINGHAL  CIMS COORDINATOR1  ACADEMIC SECTION UG
(4124)   HIMANSHU SINGHAL  CIMS COORDINATOR1  ACADEMIC SECTION UG
(4125)   ABHISHEK FAUJDAR  CIMS COORDINATOR2  ACADEMIC SECTION
(4126)   SHWETA GAUTAM  HOSTEL WARDEN  ELECTRONICS AND COMMUNICATION ENGINEERING
(4127)   SHWETA GAUTAM  HOSTEL WARDEN  ELECTRONICS AND COMMUNICATION ENGINEERING
(4128)  Dr  SUJATA SENGAR  DEAN UG  DEAN UG STUDIES
(4129)   ABHISHEK FAUJDAR  CIMS COORDINATOR2  CIMS
(4130)  PROF SHREE PRAKASH SINGH  CHIEF WARDEN  HOSTEL
(4131)   ABHISHEK FAUJDAR  CIMS COORDINATOR2  HOSTEL
(4132)   ABHISHEK FAUJDAR  CIMS COORDINATOR2  HOSTEL
(4133)   ABHISHEK FAUJDAR  CIMS COORDINATOR2  HOSTEL
(4134)   KHUSHIL KUMAR SAINI  CIMS ADMIN  CIMS
(4135)   HIMANSHU SINGHAL  CIMS COORDINATOR1  CIMS
(4136)   HIMANSHU SINGHAL  CIMS COORDINATOR1  CIMS
(4137)   ABHISHEK FAUJDAR  CIMS COORDINATOR2  MECHANICAL ENGINEERING
(4138)   ABHISHEK FAUJDAR  CIMS COORDINATOR2  MANUFACTURING PROCESSES AND AUTOMATION ENGINEERING
(4139)   KHUSHIL KUMAR SAINI  CIMS ADMIN  CIMS
(4140)  PROF SHREE PRAKASH SINGH  CHIEF WARDEN  HOSTEL
(4141)   ABHISHEK FAUJDAR  CIMS COORDINATOR2  CIMS
(4142)   HIMANSHU SINGHAL  
(4143)  PROF SHREE PRAKASH SINGH  CHIEF WARDEN  HOSTEL
(4144)   ABHISHEK FAUJDAR  CIMS COORDINATOR2  CIMS
(4145)   HIMANSHU SINGHAL  CIMS COORDINATOR1  CIMS
(4146)   TARUN KUMAR RAWAT  
(4147)   BHAWNA AGGARWAL  
(4148)   BHAWNA AGGARWAL  
(4149)   ABHISHEK FAUJDAR  
(4150)   ABHISHEK FAUJDAR  
(4151)   ABHISHEK FAUJDAR  
(4152)  PROF SHREE PRAKASH SINGH  HOD  ELECTRONICS AND COMMUNICATION ENGINEERING
(4153)  PROF SHREE PRAKASH SINGH  HOD  ELECTRONICS AND COMMUNICATION ENGINEERING
(4154)   ABHISHEK FAUJDAR  CIMS
(4155)   ABHISHEK FAUJDAR  CIMS
(4156)   HIMANSHU SINGHAL  CIMS
(4157)   HIMANSHU SINGHAL  CIMS
(4158)  Dr  SUJATA SENGAR  DEAN UG  DEAN UG STUDIES
(4159)   ABHISHEK FAUJDAR  CIMS COORDINATOR2  CIMS
(4160)   ABHISHEK FAUJDAR  CIMS COORDINATOR2  CIMS
(4161)   JYOTSNA SINGH  PRACTICAL SUPERINTENDENT  ELECTRONICS AND COMMUNICATION ENGINEERING
(4162)  PROF SHREE PRAKASH SINGH  OFFICER INCHARGE  DEAN UG STUDIES
(4163)  PROF SHREE PRAKASH SINGH  OFFICER INCHARGE  DEAN UG STUDIES
(4164)  PROF SHREE PRAKASH SINGH  OFFICER INCHARGE  DEAN UG STUDIES
(4165)  PROF SHREE PRAKASH SINGH  OFFICER INCHARGE  DEAN UG STUDIES
(4166)   JYOTSNA SINGH  PRACTICAL SUPERINTENDENT  ELECTRONICS AND COMMUNICATION ENGINEERING
(4167)   HIMANSHU SINGHAL  CIMS COORDINATOR1  CIMS
(4168)   HIMANSHU SINGHAL  CIMS COORDINATOR1  CIMS
(4169)   HIMANSHU SINGHAL  CIMS COORDINATOR1  CIMS
(4170)   HIMANSHU SINGHAL  CIMS COORDINATOR1  CIMS
(4171)   ABHISHEK FAUJDAR  CIMS COORDINATOR2  CIMS
(4172)   HIMANSHU SINGHAL  CIMS COORDINATOR1  CIMS
(4173)  PROF SHREE PRAKASH SINGH  CHIEF WARDEN  HOSTEL
(4174)   HIMANSHU SINGHAL  CIMS COORDINATOR1  CIMS
(4175)   HIMANSHU SINGHAL  CIMS COORDINATOR1  CIMS
(4176)   HIMANSHU SINGHAL  CIMS COORDINATOR1  CIMS
(4177)   HIMANSHU SINGHAL  CIMS COORDINATOR1  CIMS
(4178)   HIMANSHU SINGHAL  CIMS COORDINATOR1  CIMS
(4179)   HIMANSHU SINGHAL  CIMS COORDINATOR1  CIMS
(4180)   HIMANSHU SINGHAL  CIMS COORDINATOR1  CIMS
(4181)   HIMANSHU SINGHAL  CIMS COORDINATOR1  CIMS
(4182)   HIMANSHU SINGHAL  CIMS COORDINATOR1  CIMS
(4183)   HIMANSHU SINGHAL  CIMS COORDINATOR1  CIMS
(4184)   HIMANSHU SINGHAL  CIMS COORDINATOR1  CIMS
(4185)   HIMANSHU SINGHAL  CIMS COORDINATOR1  CIMS
(4186)   HIMANSHU SINGHAL  CIMS COORDINATOR1  CIMS
(4187)   HIMANSHU SINGHAL  CIMS COORDINATOR1  CIMS
(4188)   HIMANSHU SINGHAL  CIMS COORDINATOR1  CIMS
(4189)   HIMANSHU SINGHAL  CIMS COORDINATOR1  CIMS
(4190)   HIMANSHU SINGHAL  CIMS COORDINATOR1  CIMS
(4191)   HIMANSHU SINGHAL  CIMS COORDINATOR1  CIMS
(4192)   HIMANSHU SINGHAL  CIMS
(4193)   HIMANSHU SINGHAL  CIMS
(4194)   HIMANSHU SINGHAL  CIMS
(4195)   HIMANSHU SINGHAL  CIMS
(4196)   HIMANSHU SINGHAL  CIMS COORDINATOR1  CIMS
(4197)   HIMANSHU SINGHAL  CIMS COORDINATOR1  CIMS
(4198)   HIMANSHU SINGHAL  CIMS COORDINATOR1  CIMS
(4199)   HIMANSHU SINGHAL  CIMS COORDINATOR1  CIMS
(4200)   HIMANSHU SINGHAL  CIMS COORDINATOR1  CIMS
(4201)   HIMANSHU SINGHAL  CIMS COORDINATOR1  CIMS
(4202)   ABHISHEK FAUJDAR  CIMS COORDINATOR2  CIMS
(4203)   HIMANSHU SINGHAL  CIMS COORDINATOR1  CIMS
(4204)  PROF SHREE PRAKASH SINGH  HOSTEL WARDEN  RAMANUJAN  HOSTEL
(4205)   HIMANSHU SINGHAL  CIMS COORDINATOR1  CIMS
(4206)   HIMANSHU SINGHAL  CIMS COORDINATOR1  CIMS
(4207)   HIMANSHU SINGHAL  CIMS COORDINATOR1  CIMS
(4208)  PROF SHREE PRAKASH SINGH  HOSTEL WARDEN  RAMANUJAN  HOSTEL
(4209)   HIMANSHU SINGHAL  CIMS COORDINATOR1  CIMS
(4210)  PROF SHREE PRAKASH SINGH  HOSTEL WARDEN  RAMANUJAN  HOSTEL
(4211)   ABHISHEK FAUJDAR  CIMS COORDINATOR2  CIMS
(4212)   ABHISHEK FAUJDAR  CIMS COORDINATOR2  CIMS
(4213)   HIMANSHU SINGHAL  CIMS
(4214)   HIMANSHU SINGHAL  CIMS COORDINATOR1  CIMS
(4215)   HIMANSHU SINGHAL  CIMS COORDINATOR1  CIMS
(4216)   HIMANSHU SINGHAL  CIMS COORDINATOR1  CIMS
(4217)   HIMANSHU SINGHAL  CIMS COORDINATOR1  CIMS
(4218)   HIMANSHU SINGHAL  CIMS COORDINATOR1  CIMS
(4219)   KHUSHIL KUMAR SAINI  NSIT ADMIN  CIMS
(4220)   KHUSHIL KUMAR SAINI  NSIT ADMIN  CIMS
(4221)   KHUSHIL KUMAR SAINI  NSIT ADMIN  CIMS
(4222)   HIMANSHU SINGHAL  CIMS COORDINATOR1  CIMS
(4223)   HIMANSHU SINGHAL  CIMS COORDINATOR1  CIMS
(4224)   HIMANSHU SINGHAL  CIMS COORDINATOR1  CIMS
(4225)  PROF SHREE PRAKASH SINGH  CHIEF WARDEN  HOSTEL
(4226)   ABHISHEK FAUJDAR  CIMS
(4227)   HIMANSHU SINGHAL  CIMS
(4228)   HIMANSHU SINGHAL  CIMS COORDINATOR1  CIMS
(4229)   HIMANSHU SINGHAL  CIMS COORDINATOR1  CIMS
(4230)   HIMANSHU SINGHAL  CIMS COORDINATOR1  CIMS
(4231)   ABHISHEK FAUJDAR  CIMS
(4232)   HIMANSHU SINGHAL  CIMS
(4233)   HIMANSHU SINGHAL  CIMS
(4234)   HIMANSHU SINGHAL  CIMS
(4235)   HIMANSHU SINGHAL  CIMS
(4236)   ABHISHEK FAUJDAR  CIMS
(4237)   ABHISHEK FAUJDAR  CIMS
(4238)   ABHISHEK FAUJDAR  CIMS
(4239)   ABHISHEK FAUJDAR  CIMS
(4240)   ABHISHEK FAUJDAR  CIMS
(4241)   JYOTSNA SINGH  ELECTRONICS AND COMMUNICATION ENGINEERING
(4242)   JYOTSNA SINGH  ELECTRONICS AND COMMUNICATION ENGINEERING
(4243)   HIMANSHU SINGHAL  CIMS
(4244)   HIMANSHU SINGHAL  CIMS COORDINATOR1  CIMS
(4245)   HIMANSHU SINGHAL  CIMS COORDINATOR1  CIMS
(4246)   HIMANSHU SINGHAL  CIMS COORDINATOR1  CIMS
(4247)   HIMANSHU SINGHAL  CIMS COORDINATOR1  CIMS
(4248)  PROF SHREE PRAKASH SINGH  CHIEF WARDEN  HOSTEL
(4249)   HIMANSHU SINGHAL  CIMS COORDINATOR1  CIMS
(4250)   HIMANSHU SINGHAL  CIMS COORDINATOR1  CIMS
(4251)  PROF SHREE PRAKASH SINGH  OFFICER INCHARGE  CIMS
(4252)  PROF SHREE PRAKASH SINGH  OFFICER INCHARGE  CIMS
(4253)   HIMANSHU SINGHAL  CIMS COORDINATOR1  CIMS
(4254)   HIMANSHU SINGHAL  CIMS COORDINATOR1  CIMS
(4255)   HIMANSHU SINGHAL  CIMS COORDINATOR1  CIMS
(4256)  PROF SHREE PRAKASH SINGH  HOSTEL WARDEN  RAMANUJAN  HOSTEL
(4257)   HIMANSHU SINGHAL  CIMS COORDINATOR1  CIMS
(4258)   HIMANSHU SINGHAL  CIMS COORDINATOR1  CIMS
(4259)   HIMANSHU SINGHAL  CIMS COORDINATOR1  CIMS
(4260)   HIMANSHU SINGHAL  CIMS COORDINATOR1  CIMS
(4261)   SHWETA GAUTAM  HOSTEL WARDEN  GH II  HOSTEL
(4262)  PROF SHREE PRAKASH SINGH  OFFICER INCHARGE  OPTICAL AND COMMUNICATION RESEARCH  A V SYSTEM LAB  ELECTRONICS AND COMMUNICATION ENGINEERING
(4263)   HIMANSHU SINGHAL  CIMS COORDINATOR1  CIMS
(4264)   ABHISHEK FAUJDAR  CIMS COORDINATOR2  CIMS
(4265)   KUNWAR SINGH  HOSTEL WARDEN  BH II  HOSTEL
(4266)   HIMANSHU SINGHAL  CIMS COORDINATOR1  CIMS
(4267)  PROF SHREE PRAKASH SINGH  HOSTEL WARDEN  RAMANUJAN  HOSTEL
(4268)  PROF SHREE PRAKASH SINGH  HOSTEL WARDEN  RAMANUJAN  HOSTEL
(4269)   SHAMPA CHAKERVERTY  HOD  COMPUTER ENGINEERING
(4270)   HIMANSHU SINGHAL  CIMS COORDINATOR1  CIMS
(4271)   KHUSHIL KUMAR SAINI  NSIT ADMIN  CIMS
(4272)   KHUSHIL KUMAR SAINI  NSIT ADMIN  CIMS
(4273)   KHUSHIL KUMAR SAINI  NSIT ADMIN  CIMS
(4274)  PROF SHREE PRAKASH SINGH  HOSTEL WARDEN  RAMANUJAN  HOSTEL
(4275)   KUNWAR SINGH  HOSTEL WARDEN  BH II  HOSTEL
(4276)   HIMANSHU SINGHAL  CIMS COORDINATOR1  CIMS
(4277)   HIMANSHU SINGHAL  CIMS COORDINATOR1  CIMS
(4278)   HIMANSHU SINGHAL  CIMS COORDINATOR1  CIMS
(4279)  PROF SHREE PRAKASH SINGH  HOSTEL WARDEN  RAMANUJAN  HOSTEL
(4280)  PROF SHREE PRAKASH SINGH  HOSTEL WARDEN  RAMANUJAN  HOSTEL
(4281)   HIMANSHU SINGHAL  CIMS
(4282)   HIMANSHU SINGHAL  CIMS
(4283)  PROF SHREE PRAKASH SINGH  HOSTEL WARDEN  RAMANUJAN  HOSTEL
(4284)   HIMANSHU SINGHAL  CIMS COORDINATOR1  CIMS
(4285)  PROF SHREE PRAKASH SINGH  HOSTEL WARDEN  RAMANUJAN  HOSTEL
(4286)   HIMANSHU SINGHAL  CIMS COORDINATOR1  CIMS
(4287)   HIMANSHU SINGHAL  CIMS COORDINATOR1  CIMS
(4288)   HIMANSHU SINGHAL  CIMS COORDINATOR1  CIMS
(4289)  PROF SHREE PRAKASH SINGH  HOSTEL WARDEN  RAMANUJAN  HOSTEL
(4290)   ABHISHEK FAUJDAR  CIMS COORDINATOR2  CIMS
(4291)   HIMANSHU SINGHAL  CIMS COORDINATOR1  CIMS
(4292)  PROF SHREE PRAKASH SINGH  HOSTEL WARDEN  RAMANUJAN  HOSTEL
(4293)   ABHISHEK FAUJDAR  CIMS COORDINATOR2  CIMS
(4294)   ABHISHEK FAUJDAR  CIMS COORDINATOR2  CIMS
(4295)   KHUSHIL KUMAR SAINI  NSIT ADMIN  CIMS
(4296)   KHUSHIL KUMAR SAINI  NSIT ADMIN  CIMS
(4297)  PROF SHREE PRAKASH SINGH  HOSTEL
(4298)  PROF SHREE PRAKASH SINGH  HOSTEL
(4299)   HIMANSHU SINGHAL  CIMS ADMIN  CIMS
(4300)   KHUSHIL KUMAR SAINI  NSIT ADMIN  CIMS
(4301)  PROF SHREE PRAKASH SINGH  HOSTEL
(4302)  PROF SHREE PRAKASH SINGH  HOSTEL
(4303)   KHUSHIL KUMAR SAINI  NSIT ADMIN  CIMS
(4304)   KHUSHIL KUMAR SAINI  NSIT ADMIN  CIMS
(4305)   KHUSHIL KUMAR SAINI  NSIT ADMIN  CIMS
(4306)   KHUSHIL KUMAR SAINI  NSIT ADMIN  CIMS
(4307)   KHUSHIL KUMAR SAINI  NSIT ADMIN  CIMS
(4308)   KHUSHIL KUMAR SAINI  NSIT ADMIN  CIMS
(4309)   KHUSHIL KUMAR SAINI  NSIT ADMIN  CIMS
(4310)   KHUSHIL KUMAR SAINI  NSIT ADMIN  CIMS
(4311)   KHUSHIL KUMAR SAINI  NSIT ADMIN  CIMS
(4312)  PROF SHREE PRAKASH SINGH  HOSTEL
(4313)  PROF SHREE PRAKASH SINGH  HOSTEL
(4314)   HIMANSHU SINGHAL  CIMS ADMIN  CIMS
(4315)   HIMANSHU SINGHAL  CIMS ADMIN  CIMS
(4316)   HIMANSHU SINGHAL  CIMS ADMIN  CIMS
(4317)   KHUSHIL KUMAR SAINI  NSIT ADMIN  CIMS
(4318)   HIMANSHU SINGHAL  CIMS ADMIN  CIMS
(4319)   KUNWAR SINGH  HOSTEL
(4320)   HIMANSHU SINGHAL  CIMS ADMIN  CIMS
(4321)  PROF SHREE PRAKASH SINGH  HOSTEL
(4322)   KUNWAR SINGH  HOSTEL
(4323)   KHUSHIL KUMAR SAINI  NSIT ADMIN  CIMS
(4324)   KHUSHIL KUMAR SAINI  NSIT ADMIN  CIMS
(4325)  PROF SHREE PRAKASH SINGH  HOSTEL
(4326)  PROF SHREE PRAKASH SINGH  HOSTEL
(4327)  PROF SHREE PRAKASH SINGH  HOSTEL
(4328)  PROF SHREE PRAKASH SINGH  HOSTEL
(4329)  PROF SHREE PRAKASH SINGH  HOSTEL
(4330)   HIMANSHU SINGHAL  CIMS ADMIN  CIMS
(4331)   KUNWAR SINGH  HOSTEL WARDEN  ELECTRONICS AND COMMUNICATION ENGINEERING
(4332)  PROF SHREE PRAKASH SINGH  CHIEF WARDEN  HOSTEL
(4333)   JYOTSNA SINGH  ELECTRONICS AND COMMUNICATION ENGINEERING
(4334)  PROF SHREE PRAKASH SINGH  CHIEF WARDEN  HOSTEL
(4335)   JYOTSNA SINGH  PRACTICAL SUPERINTENDENT  ELECTRONICS AND COMMUNICATION ENGINEERING
(4336)   JYOTSNA SINGH  PRACTICAL SUPERINTENDENT  ELECTRONICS AND COMMUNICATION ENGINEERING
(4337)   KHUSHIL KUMAR SAINI  CIMS ADMIN  CIMS
(4338)   KHUSHIL KUMAR SAINI  CIMS ADMIN  CIMS
(4339)   KHUSHIL KUMAR SAINI  CIMS ADMIN  CIMS
(4340)   KHUSHIL KUMAR SAINI  CIMS ADMIN  CIMS
(4341)   KHUSHIL KUMAR SAINI  CIMS ADMIN  CIMS
(4342)   KHUSHIL KUMAR SAINI  CIMS ADMIN  CIMS
(4343)   KHUSHIL KUMAR SAINI  NSIT ADMIN  CIMS
(4344)   HIMANSHU SINGHAL  CIMS ADMIN  CIMS
(4345)  PROF SHREE PRAKASH SINGH  CHIEF WARDEN  HOSTEL
(4346)  PROF SHREE PRAKASH SINGH  CHIEF WARDEN  HOSTEL
(4347)   KHUSHIL KUMAR SAINI  NSIT ADMIN  NETAJI SUBHAS INSTITUTE OF TECHNOLOGY
(4348)   KHUSHIL KUMAR SAINI  NSIT ADMIN  NETAJI SUBHAS INSTITUTE OF TECHNOLOGY
(4349)  PROF SHREE PRAKASH SINGH  CHIEF WARDEN  HOSTEL
(4350)  PROF SHREE PRAKASH SINGH  HOSTEL WARDEN  RAMANUJAN  HOSTEL
(4351)  PROF SHREE PRAKASH SINGH  CHIEF WARDEN  HOSTEL
(4352)   KHUSHIL KUMAR SAINI  NSIT ADMIN  NETAJI SUBHAS INSTITUTE OF TECHNOLOGY
(4353)   KHUSHIL KUMAR SAINI  NSIT ADMIN  NETAJI SUBHAS INSTITUTE OF TECHNOLOGY
(4354)  PROF SHREE PRAKASH SINGH  HOSTEL WARDEN  RAMANUJAN  HOSTEL
(4355)   KHUSHIL KUMAR SAINI  NSIT ADMIN  NETAJI SUBHAS INSTITUTE OF TECHNOLOGY
(4356)   HIMANSHU SINGHAL  CIMS ADMIN  NETAJI SUBHAS INSTITUTE OF TECHNOLOGY
(4357)   KHUSHIL KUMAR SAINI  NSIT ADMIN  NETAJI SUBHAS INSTITUTE OF TECHNOLOGY
(4358)   KHUSHIL KUMAR SAINI  NSIT ADMIN  NETAJI SUBHAS INSTITUTE OF TECHNOLOGY
(4359)   HIMANSHU SINGHAL  CIMS ADMIN  NETAJI SUBHAS INSTITUTE OF TECHNOLOGY
(4360)   KHUSHIL KUMAR SAINI  NSIT ADMIN  NETAJI SUBHAS INSTITUTE OF TECHNOLOGY
(4361)   KHUSHIL KUMAR SAINI  NSIT ADMIN  NETAJI SUBHAS INSTITUTE OF TECHNOLOGY
(4362)   HIMANSHU SINGHAL  CIMS ADMIN  NETAJI SUBHAS INSTITUTE OF TECHNOLOGY
(4363)   KHUSHIL KUMAR SAINI  NSIT ADMIN  COMPUTER ENGINEERING
(4364)  PROF SHREE PRAKASH SINGH  CHIEF WARDEN  HOSTEL
(4365)   KHUSHIL KUMAR SAINI  NSIT ADMIN  COMPUTER ENGINEERING
(4366)   HIMANSHU SINGHAL  CIMS ADMIN  NETAJI SUBHAS INSTITUTE OF TECHNOLOGY
(4367)   HIMANSHU SINGHAL  CIMS ADMIN  NETAJI SUBHAS INSTITUTE OF TECHNOLOGY
(4368)   HIMANSHU SINGHAL  CIMS ADMIN  NETAJI SUBHAS INSTITUTE OF TECHNOLOGY
(4369)   KHUSHIL KUMAR SAINI  NSIT ADMIN  
(4370)   KHUSHIL KUMAR SAINI  NSIT ADMIN  
(4371)   HIMANSHU SINGHAL  CIMS ADMIN  NETAJI SUBHAS INSTITUTE OF TECHNOLOGY
(4372)   KHUSHIL KUMAR SAINI  NSIT ADMIN  COMPUTER ENGINEERING
(4373)   KHUSHIL KUMAR SAINI  NSIT ADMIN  COMPUTER ENGINEERING
(4374)   KHUSHIL KUMAR SAINI  NSIT ADMIN  
(4375)   KHUSHIL KUMAR SAINI  NSIT ADMIN  
(4376)   KHUSHIL KUMAR SAINI  NSIT ADMIN  
(4377)   KHUSHIL KUMAR SAINI  NSIT ADMIN  
(4378)   KHUSHIL KUMAR SAINI  NSIT ADMIN  
(4379)   KHUSHIL KUMAR SAINI  NSIT ADMIN  
(4380)   KHUSHIL KUMAR SAINI  NSIT ADMIN  
(4381)   KHUSHIL KUMAR SAINI  NSIT ADMIN  
(4382)   KHUSHIL KUMAR SAINI  NSIT ADMIN  
(4383)   KHUSHIL KUMAR SAINI  NSIT ADMIN  
(4384)   KHUSHIL KUMAR SAINI  NSIT ADMIN  
(4385)   KHUSHIL KUMAR SAINI  NSIT ADMIN  
(4386)   KHUSHIL KUMAR SAINI  NSIT ADMIN  
(4387)   KHUSHIL KUMAR SAINI  NSIT ADMIN  
(4388)   KHUSHIL KUMAR SAINI  NSIT ADMIN  
(4389)   KHUSHIL KUMAR SAINI  NSIT ADMIN  
(4390)   KHUSHIL KUMAR SAINI  NSIT ADMIN  
(4391)   KHUSHIL KUMAR SAINI  NSIT ADMIN  
(4392)   KHUSHIL KUMAR SAINI  NSIT ADMIN  
(4393)   KHUSHIL KUMAR SAINI  NSIT ADMIN  
(4394)   KHUSHIL KUMAR SAINI  NSIT ADMIN  
(4395)   KHUSHIL KUMAR SAINI  NSIT ADMIN  
(4396)   KHUSHIL KUMAR SAINI  NSIT ADMIN  
