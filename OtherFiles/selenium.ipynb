{
 "cells": [
  {
   "attachments": {},
   "cell_type": "markdown",
   "metadata": {},
   "source": [
    "## Click Button with XPATH"
   ]
  },
  {
   "attachments": {},
   "cell_type": "markdown",
   "metadata": {},
   "source": [
    "XPATH is different for each element. It can be obtained simply from Google Chrome. Go to the website, right click and select inspect. Try to locate the element. Chrome will highlight the element on which your cursor is hovering. This process may take some time. \n",
    "\n",
    "Right click the element in the inspect tab and select copy xpath."
   ]
  },
  {
   "attachments": {},
   "cell_type": "markdown",
   "metadata": {},
   "source": [
    "https://medium.com/ymedialabs-innovation/web-scraping-using-beautiful-soup-and-selenium-for-dynamic-page-2f8ad15efe25"
   ]
  },
  {
   "cell_type": "code",
   "execution_count": 5,
   "metadata": {},
   "outputs": [],
   "source": [
    "from selenium import webdriver\n"
   ]
  },
  {
   "cell_type": "code",
   "execution_count": 6,
   "metadata": {},
   "outputs": [
    {
     "name": "stderr",
     "output_type": "stream",
     "text": [
      "/var/folders/tq/5r3mh3tx6g1gy9h94nkz10l80000gn/T/ipykernel_53635/534271439.py:1: DeprecationWarning: executable_path has been deprecated, please pass in a Service object\n",
      "  driver = webdriver.Chrome('/Users/anantgokhale/webscrape-attempt/chromedriver_mac_arm64 (1)/chromedriver')\n"
     ]
    }
   ],
   "source": [
    "driver = webdriver.Chrome('/Users/anantgokhale/webscrape-attempt/chromedriver_mac_arm64 (1)/chromedriver')\n",
    "driver.implicitly_wait(0.5)\n",
    "driver.maximize_window()\n",
    "url = 'https://www.imsnsit.org/imsnsit/notifications.php'\n",
    "driver.get(url)\n"
   ]
  },
  {
   "cell_type": "code",
   "execution_count": 9,
   "metadata": {},
   "outputs": [],
   "source": [
    "button = driver.find_element('//*[@id=\"olddata\"]')\n",
    "button.click()\n"
   ]
  },
  {
   "cell_type": "code",
   "execution_count": null,
   "metadata": {},
   "outputs": [],
   "source": [
    "button = driver.find_element(\"xpath\", '//*[@id=\"olddata\"]')"
   ]
  }
 ],
 "metadata": {
  "kernelspec": {
   "display_name": "mlops-dev",
   "language": "python",
   "name": "python3"
  },
  "language_info": {
   "codemirror_mode": {
    "name": "ipython",
    "version": 3
   },
   "file_extension": ".py",
   "mimetype": "text/x-python",
   "name": "python",
   "nbconvert_exporter": "python",
   "pygments_lexer": "ipython3",
   "version": "3.8.15"
  },
  "orig_nbformat": 4,
  "vscode": {
   "interpreter": {
    "hash": "330f628f230da5d0661a9f91c5c974e5ec69a53ef19c4b70b238fc2c78471d7f"
   }
  }
 },
 "nbformat": 4,
 "nbformat_minor": 2
}
