{
 "cells": [
  {
   "attachments": {},
   "cell_type": "markdown",
   "metadata": {},
   "source": [
    "## Simple Web Scraping for Collecting Data"
   ]
  },
  {
   "cell_type": "code",
   "execution_count": null,
   "metadata": {},
   "outputs": [],
   "source": [
    "import requests\n",
    "from bs4 import BeautifulSoup\n",
    "from selenium import webdriver"
   ]
  },
  {
   "attachments": {},
   "cell_type": "markdown",
   "metadata": {},
   "source": [
    "----"
   ]
  },
  {
   "attachments": {},
   "cell_type": "markdown",
   "metadata": {},
   "source": [
    "----"
   ]
  },
  {
   "cell_type": "code",
   "execution_count": null,
   "metadata": {},
   "outputs": [],
   "source": [
    "# To run the code without chrome driver. Run this cell and skip the next cell.\n",
    "\n",
    "# # Make a request to the webpage\n",
    "# page = requests.get('https://www.imsnsit.org/imsnsit/notifications.php')\n",
    "\n",
    "# # Create a BeautifulSoup object\n",
    "# soup = BeautifulSoup(page.content, 'html.parser')"
   ]
  },
  {
   "attachments": {},
   "cell_type": "markdown",
   "metadata": {},
   "source": [
    "### Click Button with XPATH\n",
    "\n",
    "XPATH is different for each element. It can be obtained simply from Google Chrome. Go to the website, right click and select inspect. Try to locate the element. Chrome will highlight the element on which your cursor is hovering. This process may take some time. \n",
    "\n",
    "Right click the element in the inspect tab and select copy xpath.\n",
    "\n",
    "https://medium.com/ymedialabs-innovation/web-scraping-using-beautiful-soup-and-selenium-for-dynamic-page-2f8ad15efe25"
   ]
  },
  {
   "cell_type": "code",
   "execution_count": null,
   "metadata": {},
   "outputs": [],
   "source": [
    "#Create a web driver object\n",
    "driver = webdriver.Chrome('/Users/anantgokhale/webscrape-attempt/chromedriver_mac_arm64 (1)/chromedriver')\n",
    "driver.implicitly_wait(0.5)\n",
    "driver.maximize_window()\n",
    "#Mention url in string that driver needs to fetch\n",
    "url = 'https://www.imsnsit.org/imsnsit/notifications.php'\n",
    "driver.get(url)\n",
    "#Copy the xpath by inspecting the page and paste it here \n",
    "button = driver.find_element(\"xpath\", '//*[@id=\"olddata\"]')\n",
    "#Perform click\n",
    "button.click()\n",
    "\n",
    "#Now we will use BeautifulSoup and thus create a soup object\n",
    "page_source = driver.page_source\n",
    "soup = BeautifulSoup(page_source, 'html.parser')\n",
    "# soup.prettify()"
   ]
  },
  {
   "cell_type": "code",
   "execution_count": null,
   "metadata": {},
   "outputs": [],
   "source": [
    "#function to print all elements in a list\n",
    "def disp_list_2(list):\n",
    "    for idx, item in enumerate(list):\n",
    "        print('({}) {}'.format(idx,item))\n",
    "    "
   ]
  },
  {
   "cell_type": "code",
   "execution_count": null,
   "metadata": {},
   "outputs": [],
   "source": [
    "#function to remove some suffix from a string\n",
    "def my_removesuffix(s, suffix):\n",
    "    return s[:-len(suffix)] if s.endswith(suffix) else s\n",
    "# https://note.nkmk.me/en/python-str-remove-strip/"
   ]
  },
  {
   "cell_type": "code",
   "execution_count": null,
   "metadata": {},
   "outputs": [],
   "source": [
    "import string\n",
    "\n",
    "#Using string library define a function that replaces any punctuations present in a string with a blankspace \n",
    "def replace_punctuation(input_string):\n",
    "    # Make a translation table\n",
    "    translator = str.maketrans(string.punctuation, \" \" * len(string.punctuation))\n",
    "\n",
    "    # Use this table to replace all punctuation with spaces\n",
    "    no_punct = input_string.translate(translator)\n",
    "    return no_punct\n"
   ]
  },
  {
   "cell_type": "code",
   "execution_count": null,
   "metadata": {},
   "outputs": [],
   "source": [
    "def function(list):\n",
    "    for idx, each in enumerate(list):\n",
    "        list[idx] = each.lower().replace('semester','sem')"
   ]
  },
  {
   "attachments": {},
   "cell_type": "markdown",
   "metadata": {},
   "source": [
    "## Method 1"
   ]
  },
  {
   "cell_type": "code",
   "execution_count": null,
   "metadata": {},
   "outputs": [],
   "source": [
    "all_font_tags = soup.find_all('font')\n"
   ]
  },
  {
   "cell_type": "code",
   "execution_count": null,
   "metadata": {},
   "outputs": [],
   "source": [
    "#create a copy of all_font_tags\n",
    "all_font_tags_copy = all_font_tags\n",
    "\n",
    "#select list items 7th index onwards with a jump of 3\n",
    "all_font_tags = all_font_tags[7::3]\n",
    "print(len(all_font_tags))\n",
    "\n",
    "#Take first 251 elements. 252nd element is not available\n",
    "all_font_tags = all_font_tags[0:251]\n",
    "print(len(all_font_tags))\n",
    "\n"
   ]
  },
  {
   "cell_type": "code",
   "execution_count": null,
   "metadata": {},
   "outputs": [],
   "source": [
    "#Skipping 252 and taking the 253rd element onwards\n",
    "all_font_tags[252::] = all_font_tags_copy[7+251*3+5::3]\n",
    "#This works well till ~380 index"
   ]
  },
  {
   "attachments": {},
   "cell_type": "markdown",
   "metadata": {},
   "source": [
    "PROBLEM OCCURING FROM NOTICE IN: 15-12-2022. NOTICE - Classes for 1 semester backlog courses for 2021 batch admitted B.Tech students only shall commence from 19.12.2022"
   ]
  },
  {
   "cell_type": "code",
   "execution_count": null,
   "metadata": {},
   "outputs": [],
   "source": [
    "published_by_list = soup.find_all('b')\n",
    "#First 3 b_tags are irrelevant, therefore\n",
    "published_by_list = published_by_list[3::]\n",
    "\n"
   ]
  },
  {
   "cell_type": "code",
   "execution_count": null,
   "metadata": {},
   "outputs": [],
   "source": [
    "# Replace Published By: part \n",
    "for i in range(len(published_by_list)):\n",
    "    published_by_list[i] = (published_by_list[i].text).replace('Published By:','')\n",
    "    # print('({})'.format(i),end ='')\n",
    "    # print(published_by_list[i])   "
   ]
  },
  {
   "cell_type": "code",
   "execution_count": null,
   "metadata": {},
   "outputs": [],
   "source": [
    "list101 =[]\n",
    "for each in all_font_tags:\n",
    "    list101.append(replace_punctuation(each))\n",
    "\n",
    "list102 =[]\n",
    "for each in published_by_list:\n",
    "    list102.append(replace_punctuation(each))    "
   ]
  },
  {
   "attachments": {},
   "cell_type": "markdown",
   "metadata": {},
   "source": [
    "## Method 2:"
   ]
  },
  {
   "cell_type": "code",
   "execution_count": null,
   "metadata": {},
   "outputs": [],
   "source": [
    "def process(Data):\n",
    "    list201 = []\n",
    "    for each in Data:\n",
    "        list201.append(replace_punctuation(each.text))\n",
    "    print(len(list201))     "
   ]
  },
  {
   "cell_type": "code",
   "execution_count": null,
   "metadata": {},
   "outputs": [],
   "source": [
    "Data = soup.findAll('td', {'class' : 'list-data-focus', 'colspan' : '2'})"
   ]
  },
  {
   "cell_type": "code",
   "execution_count": null,
   "metadata": {},
   "outputs": [],
   "source": [
    "list201 = []\n",
    "for each in Data:\n",
    "    list201.append(replace_punctuation(each.text))\n",
    "print(len(list201))    "
   ]
  },
  {
   "cell_type": "code",
   "execution_count": null,
   "metadata": {},
   "outputs": [],
   "source": [
    "list201.reverse()"
   ]
  },
  {
   "cell_type": "code",
   "execution_count": null,
   "metadata": {},
   "outputs": [],
   "source": [
    "def perform_request(seconds = 0):\n",
    "\n",
    "    import time, requests\n",
    "    # Wait for seconds \n",
    "    time.sleep(seconds)\n",
    "    # Reperform request\n",
    "    page = requests.get('https://www.imsnsit.org/imsnsit/notifications.php')\n",
    "    soup = BeautifulSoup(page.content, 'html.parser')\n",
    "    newData = soup.findAll('td', {'class' : 'list-data-focus', 'colspan' : '2'})\n",
    "    new_list = process(newData)\n",
    "    # Check size of list of strings. Hoping no change in length\n",
    "    if len(new_list) !=50:\n",
    "        print('The code broke'+\n",
    "            '(1) The ims Notices and Circulars HTML layout changed'+\n",
    "            '(2) Different HTML tags are being used to store notices')\n",
    "        return -1     \n",
    "    else:\n",
    "        return new_list  "
   ]
  },
  {
   "cell_type": "code",
   "execution_count": null,
   "metadata": {},
   "outputs": [],
   "source": [
    "def rel_position(new_list):\n",
    "    if (not new_list):\n",
    "        return -1\n",
    "    else:\n",
    "        new_data_var = 0\n",
    "        old_data_list = list201[-1:-51] \n",
    "        for i in range(1,51):\n",
    "            if new_list[-1].text == old_data_list[-i]:\n",
    "                new_data_var = -1 - -i\n",
    "                break\n",
    "            if (i==10):\n",
    "                print('10 or more new notices found')\n",
    "            if (i==50):\n",
    "                print('50 or more new notices found, or the code broke'+\n",
    "                    '(1) The ims Notices and Circulars HTML layout changed'+\n",
    "                    '(2) Different HTML tags are being used to store notices') \n",
    "                return -1\n",
    "        new_notices=[]        \n",
    "        for idx,each in enumerate(new_list):\n",
    "                if idx < new_data_var:\n",
    "                    new_notices.append (new_list[idx])\n",
    "        return new_notices     "
   ]
  },
  {
   "cell_type": "code",
   "execution_count": null,
   "metadata": {},
   "outputs": [],
   "source": [
    "new_list = perform_request()\n",
    "new_notices = rel_position(new_list)\n",
    "if (new_notices==-1):\n",
    "    print('error') \n",
    "else:\n",
    "    for i in range(1,len(new_notices)+1):\n",
    "        list201.append(new_notices[-i])"
   ]
  },
  {
   "cell_type": "code",
   "execution_count": null,
   "metadata": {},
   "outputs": [],
   "source": [
    "print(list201)"
   ]
  },
  {
   "attachments": {},
   "cell_type": "markdown",
   "metadata": {},
   "source": [
    "## Method 3:"
   ]
  },
  {
   "cell_type": "code",
   "execution_count": null,
   "metadata": {},
   "outputs": [],
   "source": [
    "def has_class(tag):\n",
    "    return tag.has_attr('class') and tag.has_attr('colspan') "
   ]
  },
  {
   "cell_type": "code",
   "execution_count": null,
   "metadata": {},
   "outputs": [],
   "source": [
    "tags2 = soup.find_all(has_class)"
   ]
  },
  {
   "cell_type": "code",
   "execution_count": null,
   "metadata": {},
   "outputs": [],
   "source": [
    "list301 = []\n",
    "for each in tags2:\n",
    "    list301.append(replace_punctuation(each.text))\n"
   ]
  },
  {
   "attachments": {},
   "cell_type": "markdown",
   "metadata": {},
   "source": [
    "## Method 4"
   ]
  },
  {
   "cell_type": "code",
   "execution_count": null,
   "metadata": {},
   "outputs": [],
   "source": [
    "font_tag = soup.find('td', class_ = \"list-data-focus\").font\n",
    "print(font_tag)\n",
    "b_tag = soup.find('td', class_ ='list-data-focus').b\n",
    "print(b_tag)"
   ]
  },
  {
   "attachments": {},
   "cell_type": "markdown",
   "metadata": {},
   "source": [
    "## Method 5"
   ]
  },
  {
   "cell_type": "code",
   "execution_count": null,
   "metadata": {},
   "outputs": [],
   "source": [
    "all_a_tags = soup.find_all(name='a')\n"
   ]
  }
 ],
 "metadata": {
  "kernelspec": {
   "display_name": "mlops-dev",
   "language": "python",
   "name": "python3"
  },
  "language_info": {
   "codemirror_mode": {
    "name": "ipython",
    "version": 3
   },
   "file_extension": ".py",
   "mimetype": "text/x-python",
   "name": "python",
   "nbconvert_exporter": "python",
   "pygments_lexer": "ipython3",
   "version": "3.8.15 (default, Nov 24 2022, 08:57:44) \n[Clang 14.0.6 ]"
  },
  "orig_nbformat": 4,
  "vscode": {
   "interpreter": {
    "hash": "330f628f230da5d0661a9f91c5c974e5ec69a53ef19c4b70b238fc2c78471d7f"
   }
  }
 },
 "nbformat": 4,
 "nbformat_minor": 2
}
