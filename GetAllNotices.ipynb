{
 "cells": [
  {
   "attachments": {},
   "cell_type": "markdown",
   "metadata": {},
   "source": [
    "GetAllNotices:\n",
    "GETS ALL NEW AND OLD NOTICES."
   ]
  },
  {
   "cell_type": "code",
   "execution_count": 7,
   "metadata": {},
   "outputs": [],
   "source": [
    "import requests\n",
    "from bs4 import BeautifulSoup\n",
    "from selenium import webdriver"
   ]
  },
  {
   "attachments": {},
   "cell_type": "markdown",
   "metadata": {},
   "source": [
    "### Click Button with XPATH\n",
    "\n",
    "XPATH is different for each element. It can be obtained simply from Google Chrome. Go to the website, right click and select inspect. Try to locate the element. Chrome will highlight the element on which your cursor is hovering. This process may take some time. \n",
    "\n",
    "Right click the element in the inspect tab and select copy xpath.\n",
    "\n",
    "https://medium.com/ymedialabs-innovation/web-scraping-using-beautiful-soup-and-selenium-for-dynamic-page-2f8ad15efe25"
   ]
  },
  {
   "cell_type": "code",
   "execution_count": 8,
   "metadata": {},
   "outputs": [
    {
     "name": "stderr",
     "output_type": "stream",
     "text": [
      "/var/folders/tq/5r3mh3tx6g1gy9h94nkz10l80000gn/T/ipykernel_6341/2799486717.py:2: DeprecationWarning: executable_path has been deprecated, please pass in a Service object\n",
      "  driver = webdriver.Chrome('/Users/anantgokhale/webscrape-attempt/chromedriver_mac_arm64 (1)/chromedriver')\n"
     ]
    }
   ],
   "source": [
    "#Create a web driver object\n",
    "driver = webdriver.Chrome('/Users/anantgokhale/webscrape-attempt/chromedriver_mac_arm64 (1)/chromedriver')\n",
    "driver.implicitly_wait(0.5)\n",
    "driver.maximize_window()\n",
    "#Mention url in string that driver needs to fetch\n",
    "url = 'https://www.imsnsit.org/imsnsit/notifications.php'\n",
    "driver.get(url)\n",
    "#Copy the xpath by inspecting the page and paste it here \n",
    "button = driver.find_element(\"xpath\", '//*[@id=\"olddata\"]')\n",
    "#Perform click\n",
    "button.click()\n",
    "\n",
    "#Now we will use BeautifulSoup and thus create a soup object\n",
    "page_source = driver.page_source\n",
    "soup = BeautifulSoup(page_source, 'html.parser')\n",
    "# soup.prettify()"
   ]
  },
  {
   "cell_type": "code",
   "execution_count": 9,
   "metadata": {},
   "outputs": [],
   "source": [
    "#function to print all elements in a list\n",
    "def disp(list):\n",
    "    for idx, item in enumerate(list):\n",
    "        print('({}) {}'.format(idx,item))"
   ]
  },
  {
   "cell_type": "code",
   "execution_count": 10,
   "metadata": {},
   "outputs": [],
   "source": [
    "import string\n",
    "#Using string library define a function that replaces any punctuations present in a string with a blankspace \n",
    "def replace_punctuation(input_string):\n",
    "    # Make a translation table\n",
    "    translator = str.maketrans(string.punctuation, \" \" * len(string.punctuation))\n",
    "\n",
    "    # Use this table to replace all punctuation with spaces\n",
    "    no_punct = input_string.translate(translator)\n",
    "    return no_punct"
   ]
  },
  {
   "cell_type": "code",
   "execution_count": 11,
   "metadata": {},
   "outputs": [],
   "source": [
    "Data = soup.findAll('td', {'class' : 'list-data-focus', 'colspan' : '2'})"
   ]
  },
  {
   "cell_type": "code",
   "execution_count": 12,
   "metadata": {},
   "outputs": [
    {
     "name": "stdout",
     "output_type": "stream",
     "text": [
      "4150\n"
     ]
    }
   ],
   "source": [
    "list201 = []\n",
    "for each in Data:\n",
    "    list201.append(replace_punctuation(each.text))\n",
    "print(len(list201))\n",
    "#Inverting list to implement as a stack\n",
    "list201.reverse()\n",
    "InvStack = list201 "
   ]
  }
 ],
 "metadata": {
  "kernelspec": {
   "display_name": "mlops-dev",
   "language": "python",
   "name": "python3"
  },
  "language_info": {
   "codemirror_mode": {
    "name": "ipython",
    "version": 3
   },
   "file_extension": ".py",
   "mimetype": "text/x-python",
   "name": "python",
   "nbconvert_exporter": "python",
   "pygments_lexer": "ipython3",
   "version": "3.8.15"
  },
  "orig_nbformat": 4,
  "vscode": {
   "interpreter": {
    "hash": "330f628f230da5d0661a9f91c5c974e5ec69a53ef19c4b70b238fc2c78471d7f"
   }
  }
 },
 "nbformat": 4,
 "nbformat_minor": 2
}
