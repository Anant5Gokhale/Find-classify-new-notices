{
 "cells": [
  {
   "cell_type": "code",
   "execution_count": 9,
   "metadata": {},
   "outputs": [],
   "source": [
    "#function to lower case and replace 'semester' with 'sem'\n",
    "def function(list):\n",
    "    for idx, each in enumerate(list):\n",
    "        list[idx] = each.lower().replace('semester','sem')\n",
    "# Prints list and its index. Each element is in new line\n",
    "def disp(list):\n",
    "    for idx, item in enumerate(list):\n",
    "        print('({}) {}'.format(idx,item))        "
   ]
  },
  {
   "cell_type": "code",
   "execution_count": 10,
   "metadata": {},
   "outputs": [],
   "source": [
    "#list of elements to search\n",
    "bow = [['semester1', 'sem1', '1stsemester', '1stsem'], \n",
    "        ['semester2', 'sem2','2ndsemester', '2ndsem'],\n",
    "         ['semester3' 'sem3', 'semester3rd' '3rdsem'],\n",
    "         ['semester4', 'sem4', '4thsemester', '4thsem'],\n",
    "         ['semester5', 'sem5', '5thsemester', '5thsem'],\n",
    "         ['semester6', 'sem6', '6thsemester', '6thsem'],\n",
    "         ['semester7', 'sem7', '7thsemester', '7thsem'],\n",
    "         ['semester8', 'sem8', '8thsemester', '8thsem']]\n",
    "bow2 = [['semester12345678', 'sem12345678'],\n",
    "        ['semester1234567', 'sem1234567', 'semester2345678', 'sem2345678'],\n",
    "        ['semester123456', 'sem123456', 'semester234567', 'sem234567', 'semester345678', 'sem345678'],\n",
    "        ['semester12345', 'sem12345', 'semester23456', 'sem23456', 'semester34567', 'sem34567', 'semester45678'],\n",
    "        ['semester1234', 'sem1234', 'semester2345','sem2345', 'semester3456', 'sem3456', 'semester4567', 'sem4567', 'semester5678', 'sem5678'],\n",
    "        ['semester123', 'sem123', 'semester234', 'sem234', 'semester345', 'sem345', 'semester456', 'sem456', 'semester567', 'sem567', 'semester678', 'sem678'],\n",
    "        ['semester12', 'sem12', 'semester23', 'sem23', 'semester34' , 'sem34', 'semester45', 'sem45', 'semester56', 'sem56', 'semester67', 'sem67', 'semseter78', 'sem78']]"
   ]
  },
  {
   "cell_type": "code",
   "execution_count": 11,
   "metadata": {},
   "outputs": [],
   "source": [
    "#Prints Semester 'Number' or prints 'No semester info\n",
    "def searchnprint(document):\n",
    "    for notice in document:\n",
    "        notice = notice.replace(\" \",\"\")\n",
    "        present = 0 \n",
    "        for idx in range(0,8):\n",
    "            if any(x in notice for x in bow[idx]):\n",
    "                print('{}'.format(idx+1))\n",
    "                present = 1      \n",
    "        for idx in range(0,7):\n",
    "            if any(x in notice for x in bow2[idx]):\n",
    "                print('{}'.format(idx+1)) \n",
    "                present = 1\n",
    "        if not present:\n",
    "            print('No semester info found')        \n",
    "                "
   ]
  },
  {
   "cell_type": "code",
   "execution_count": 12,
   "metadata": {},
   "outputs": [],
   "source": [
    "document = ['Webinar on G20 on 1st February 2023Published By  Dr PRAVEEN SAROHA  UNIVERSITY COORDINATOR NSS  PHYSICAL EDUCATION',\n",
    "         'Nukkad Natak and Awareness Program under Project SPARSH on Acid Attack ViolencePublished By  Dr PRAVEEN SAROHA  UNIVERSITY COORDINATOR NSS  PHYSICAL EDUCATION',\n",
    "          'Review of Marks of NPTEL course “Innovation  Business Models and Entrepreneurship  FENM003   B Tech  Sem 1 Batch 1Published By   SUKHBIR SINGH  ASSISTANT PROFESSOR  ELECTRONICS AND COMMUNICATION ENGINEERING',\n",
    "           'CONFIRMATION OF IMS UPLOADED MARKS of NPTEL course “B Tech    3rd semester   FENH001   Developing Soft Skills and Personality”Published By   GEETANJALI RATHI  COMPUTER SCIENCE AND ENGINEERING']"
   ]
  },
  {
   "cell_type": "code",
   "execution_count": 13,
   "metadata": {},
   "outputs": [],
   "source": [
    "doc1 =['(1) confirmation of ims uploaded marks of nptel course “b tech    3rd sem   fenh001   developing soft skills and personality”published by   geetanjali rathi  computer science and engineering',\n",
    "'(2) confirmation of ims uploaded marks of nptel course “bba   3rd sem   fenh051   developing soft skills and personality”published by   geetanjali rathi  computer science and engineering']"
   ]
  },
  {
   "cell_type": "code",
   "execution_count": 14,
   "metadata": {},
   "outputs": [
    {
     "name": "stdout",
     "output_type": "stream",
     "text": [
      "(0) (1) confirmation of ims uploaded marks of nptel course “b tech    3rd sem   fenh001   developing soft skills and personality”published by   geetanjali rathi  computer science and engineering\n",
      "(1) (2) confirmation of ims uploaded marks of nptel course “bba   3rd sem   fenh051   developing soft skills and personality”published by   geetanjali rathi  computer science and engineering\n"
     ]
    }
   ],
   "source": [
    "function(doc1)\n",
    "disp(doc1)"
   ]
  },
  {
   "cell_type": "code",
   "execution_count": 15,
   "metadata": {},
   "outputs": [
    {
     "name": "stdout",
     "output_type": "stream",
     "text": [
      "3\n",
      "3\n"
     ]
    }
   ],
   "source": [
    "searchnprint(doc1)"
   ]
  }
 ],
 "metadata": {
  "kernelspec": {
   "display_name": "mlops-dev",
   "language": "python",
   "name": "python3"
  },
  "language_info": {
   "codemirror_mode": {
    "name": "ipython",
    "version": 3
   },
   "file_extension": ".py",
   "mimetype": "text/x-python",
   "name": "python",
   "nbconvert_exporter": "python",
   "pygments_lexer": "ipython3",
   "version": "3.8.15 (default, Nov 24 2022, 08:57:44) \n[Clang 14.0.6 ]"
  },
  "orig_nbformat": 4,
  "vscode": {
   "interpreter": {
    "hash": "330f628f230da5d0661a9f91c5c974e5ec69a53ef19c4b70b238fc2c78471d7f"
   }
  }
 },
 "nbformat": 4,
 "nbformat_minor": 2
}
