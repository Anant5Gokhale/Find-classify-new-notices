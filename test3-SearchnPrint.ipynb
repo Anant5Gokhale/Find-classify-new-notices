{
 "cells": [
  {
   "cell_type": "code",
   "execution_count": 1,
   "metadata": {},
   "outputs": [],
   "source": [
    "import requests\n",
    "from bs4 import BeautifulSoup\n",
    "import re"
   ]
  },
  {
   "cell_type": "code",
   "execution_count": 2,
   "metadata": {},
   "outputs": [],
   "source": [
    "bow3 = [['12345678'],\n",
    "['1234567','2345678'],\n",
    "['123456','234567','345678','viiith'],\n",
    "['12345','23456','34567','45678','iiird','viith',],\n",
    "['1234','2345','3456','4567','5678','1357','2468','iind','ivth','vith'],\n",
    "['123','234','345','456','567','678','135','357','246','468','ist','vth'],\n",
    "['12','23','34','45','56','67','78','13','35','57','24','46','68'],\n",
    "['1','2','3','4','5','6''7','8']]\n",
    "\n",
    "bow4 = [['1st2nd3rd4th5th6th7th8th'],\n",
    "['1st2nd3rd4th5th6th7th','2nd3rd4th5th6th7th8th'],\n",
    "['1st2nd3rd4th5th6th','2nd3rd4th5th6th7th','3rd4th5th6th7th8th'],\n",
    "['1st2nd3rd4th5th','2nd3rd4th5th6th','3rd4th5th6th7th','4th5th6th7th8th'],\n",
    "['1st2nd3rd4th','2nd3rd4th5th','3rd4th5th6th','4th5th6th7th','5th6th7th8th','2nd4th6th8th','1st3rd5th7th'],\n",
    "['1st2nd3rd','2nd3rd4th','3rd4th5th','4th5th6th','5th6th7th','6th7th8th','2nd4th6th','4th6th8th','1st3rd5th','3rd5th7th'],\n",
    "['1st2nd','2nd3rd','3rd4th','4th5th','5th6th','6th7th','7th8th','2nd4th','4th6th','6th8th','1st3rd','3rd5th','5th7th'],\n",
    "['1st','2nd','3rd','4th','5th','6th','7th','8th']]\n",
    "\n",
    "\n"
   ]
  },
  {
   "cell_type": "code",
   "execution_count": 3,
   "metadata": {},
   "outputs": [],
   "source": [
    "# bow5 = [['2nd4th','4th6th','6th8th','1st3rd','3rd5th','5th7th','13','35','57','24','46','68'],\n",
    "# ['2nd4th6th','4th6th8th','1st3rd5th','3rd5th7th','135','357','246','468'],\n",
    "# ['2nd4th6th8th','1st3rd5th7th','1357','2468']]"
   ]
  },
  {
   "cell_type": "code",
   "execution_count": 4,
   "metadata": {},
   "outputs": [],
   "source": [
    "import string\n",
    "#Using string library define a function that replaces any punctuations present in a string with a blankspace \n",
    "def replace_punctuation(input_string):\n",
    "    # Make a translation table\n",
    "    translator = str.maketrans(string.punctuation, \" \" * len(string.punctuation))\n",
    "\n",
    "    # Use this table to replace all punctuation with spaces\n",
    "    no_punct = input_string.translate(translator)\n",
    "    return no_punct\n",
    "def multi_replace(input_string):\n",
    "    rep = {\"semesters\": \"sem\", \"semester\": \"sem\"} # define desired replacements here\n",
    "\n",
    "    # use these three lines to do the replacement\n",
    "    rep = dict((re.escape(k), v) for k, v in rep.items()) \n",
    "    #Python 3 renamed dict.iteritems to dict.items so use rep.items() for latest versions\n",
    "    pattern = re.compile(\"|\".join(rep.keys()))\n",
    "    return pattern.sub(lambda m: rep[re.escape(m.group(0))], input_string)\n",
    "def find_idx(input_string):\n",
    "    pos=0\n",
    "    i = 0\n",
    "    idx = [-2,-2,-2]\n",
    "    while (pos < len(input_string)) & (i < 3):\n",
    "        input_string = input_string[pos:]\n",
    "        if input_string.find('sem') != -1:\n",
    "            idx[i] = input_string.find('sem') + pos\n",
    "            pos = idx[i] + len('sem')\n",
    "        i = i+1\n",
    "    #print(idx)    \n",
    "    return idx \n",
    "def slice(input_string):\n",
    "    input_string = input_string.replace(\" \",\"\")\n",
    "    # print(input_string)\n",
    "    output = []\n",
    "    idx = find_idx(input_string)\n",
    "    idx_2 = [idx[0]+2,idx[1]+2,idx[2]+2]\n",
    "    for n in range(3):\n",
    "        val = idx[n]\n",
    "        if val >0 :\n",
    "            for i in [8,7,6,5,4,3,2,1]:\n",
    "                start1 = val-i \n",
    "                start2 = val-i*3\n",
    "                end1,end2 = idx_2[n]+i+1, idx_2[n]+i*3+1\n",
    "                file1,file2 = input_string[start1:val], input_string[start2: val]\n",
    "                file3,file4 = input_string[(idx_2[n]+1):end1], input_string[(idx_2[n]+1):end2]\n",
    "                # print('prefix:\\n{}\\n{}'.format(file1,file2))\n",
    "                # print('suffix:\\n{}\\n{}'.format(file3,file4))\n",
    "                for each in bow3:\n",
    "                    for index in range(len(each)):\n",
    "                        if (each[index] ==file1) | (each[index] ==file3):\n",
    "                            return each[index]\n",
    "                for each in bow4:\n",
    "                    for index in range(len(each)):\n",
    "                        if (each[index] ==file2) | (each[index] ==file4):\n",
    "                            return each[index]"
   ]
  },
  {
   "cell_type": "code",
   "execution_count": 5,
   "metadata": {},
   "outputs": [
    {
     "name": "stdout",
     "output_type": "stream",
     "text": [
      "4th6th8th\n"
     ]
    }
   ],
   "source": [
    "input = 'All students of 4th 6th8th semesters are requested to meet at the main auditorium at 10am'\n",
    "input = multi_replace(replace_punctuation(input).lower())\n",
    "value = slice(input)\n",
    "print(value)"
   ]
  },
  {
   "cell_type": "code",
   "execution_count": 6,
   "metadata": {},
   "outputs": [
    {
     "name": "stdout",
     "output_type": "stream",
     "text": [
      "8th\n"
     ]
    }
   ],
   "source": [
    "inputlmao = 'All 8th semester students are requested to meet at the main auditorium at 10am'\n",
    "inputlmao = replace_punctuation(inputlmao).lower().replace('semester','sem')\n",
    "value = slice(inputlmao)\n",
    "print(value)"
   ]
  }
 ],
 "metadata": {
  "kernelspec": {
   "display_name": "mlops-dev",
   "language": "python",
   "name": "python3"
  },
  "language_info": {
   "codemirror_mode": {
    "name": "ipython",
    "version": 3
   },
   "file_extension": ".py",
   "mimetype": "text/x-python",
   "name": "python",
   "nbconvert_exporter": "python",
   "pygments_lexer": "ipython3",
   "version": "3.8.15"
  },
  "orig_nbformat": 4,
  "vscode": {
   "interpreter": {
    "hash": "330f628f230da5d0661a9f91c5c974e5ec69a53ef19c4b70b238fc2c78471d7f"
   }
  }
 },
 "nbformat": 4,
 "nbformat_minor": 2
}
