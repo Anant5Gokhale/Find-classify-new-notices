{
 "cells": [
  {
   "attachments": {},
   "cell_type": "markdown",
   "metadata": {},
   "source": [
    "CheckFORnoticesAndPrint:\n",
    "NOTEBOOK CHECKS FOR NEW NOTICES AND PRINT THEM, IF THERE ARE ANY."
   ]
  },
  {
   "cell_type": "code",
   "execution_count": 1,
   "metadata": {},
   "outputs": [],
   "source": [
    "import requests\n",
    "from bs4 import BeautifulSoup\n",
    "from selenium import webdriver\n",
    "\n",
    "\n",
    "# Make a request to the webpage\n",
    "page = requests.get('https://www.imsnsit.org/imsnsit/notifications.php')\n",
    "\n",
    "# Create a BeautifulSoup object\n",
    "soup = BeautifulSoup(page.content, 'html.parser')"
   ]
  },
  {
   "cell_type": "code",
   "execution_count": 2,
   "metadata": {},
   "outputs": [],
   "source": [
    "import string\n",
    "\n",
    "#Using string library define a function that replaces any punctuations present in a string with a blankspace \n",
    "def replace_punctuation(input_string):\n",
    "    # Make a translation table\n",
    "    translator = str.maketrans(string.punctuation, \" \" * len(string.punctuation))\n",
    "\n",
    "    # Use this table to replace all punctuation with spaces\n",
    "    no_punct = input_string.translate(translator)\n",
    "    return no_punct\n",
    "# Takes list of tags, removes punc from tag.text, and appends to empty list \n",
    "def process(Data):\n",
    "    list111 = []\n",
    "    for each in Data:\n",
    "        list111.append(replace_punctuation(each.text))\n",
    "    return list111      "
   ]
  },
  {
   "cell_type": "code",
   "execution_count": 3,
   "metadata": {},
   "outputs": [],
   "source": [
    "# Prints list and its index. Each element is in new line\n",
    "def disp(list):\n",
    "    for idx, item in enumerate(list):\n",
    "        print('({}) {}'.format(idx,item))"
   ]
  },
  {
   "cell_type": "code",
   "execution_count": 4,
   "metadata": {},
   "outputs": [],
   "source": [
    "# Test InvStack\n",
    "lista = ['Kuch toh bata zindagi',\n",
    "         'Tum hi ho',\n",
    "          'Sweatheart',\n",
    "          'Yeh ek zindagi kaafi nahi hai', \n",
    "          'Chingariyan yeh jo mere seene mein hei dafan']\n",
    "# Test new_list\n",
    "listb = ['Besharam rang',\n",
    "         'bol do na zara',\n",
    "         'Maiya Mainu',\n",
    "         'Chingariyan yeh jo mere seene mein hei dafan',\n",
    "         'Yeh ek zindagi kaafi nahi hai']\n",
    "# Test error_list\n",
    "listc = ['Pathaan', 'Kantara', 'Monica, oh my darling', 'andhadhun', 'Red  Notice']         "
   ]
  },
  {
   "cell_type": "code",
   "execution_count": 5,
   "metadata": {},
   "outputs": [],
   "source": [
    "# Sends reqeuest, creates soup object, extracts data, processes it, and returns it\n",
    "def perform_request(seconds = 0):\n",
    "    # Wait for seconds\n",
    "    import time, requests\n",
    "    time.sleep(seconds)\n",
    "    # Reperform request\n",
    "    page = requests.get('https://www.imsnsit.org/imsnsit/notifications.php')\n",
    "    soup = BeautifulSoup(page.content, 'html.parser')\n",
    "    newData = soup.findAll('td', {'class' : 'list-data-focus', 'colspan' : '2'})\n",
    "    new_list = process(newData)\n",
    "    # Check size of list of strings. Hoping no change in length\n",
    "    if len(new_list) !=49:\n",
    "        print('The code broke'+\n",
    "            '(1) The ims Notices and Circulars HTML layout changed'+\n",
    "            '(2) Different HTML tags are being used to store notices')\n",
    "        return -1     \n",
    "    else:\n",
    "         return new_list  \n",
    "# Checks for new notices if any\n",
    "def rel_position(new_list,InvStack):\n",
    "    if (new_list==-1):\n",
    "        return -1\n",
    "    else:\n",
    "        new_data_var = 0\n",
    "        old_data_list = InvStack[-(len(new_list)):] \n",
    "        i = 0\n",
    "        for i in range(0,(len(new_list))):\n",
    "            #Checking relative position by comparing position of lowest notice as seen in ims. \n",
    "            if new_list[-1] == old_data_list[i]:\n",
    "                new_data_var = i\n",
    "                break\n",
    "            \n",
    "        if (i == len(new_list)-1):\n",
    "                print('{} or more new notices found, or the code broke:\\n'.format(len(new_list))+\n",
    "                    '(1) The ims Notices and Circulars HTML layout changed\\n'+\n",
    "                    '(2) Different HTML tags are being used to store notices')\n",
    "                return -1 \n",
    "\n",
    "        if (new_data_var >= len(new_list)//5):\n",
    "                print('20 % or more change detected!'.format(len(new_list)//5))    \n",
    "              \n",
    "        if (new_data_var ==0):\n",
    "            return 0\n",
    "        else: \n",
    "            print('NEW NOTICES: {}'.format(new_data_var))          \n",
    "            for idx in range(new_data_var-1,-1,-1):\n",
    "                    InvStack.append(new_list[idx])\n",
    "            print('Notices added to InvStack')        \n",
    "            return InvStack[-new_data_var:]            "
   ]
  },
  {
   "cell_type": "code",
   "execution_count": 6,
   "metadata": {},
   "outputs": [
    {
     "name": "stdout",
     "output_type": "stream",
     "text": [
      "InvStack\n",
      "(0) Kuch toh bata zindagi\n",
      "(1) Tum hi ho\n",
      "(2) Sweatheart\n",
      "(3) Yeh ek zindagi kaafi nahi hai\n",
      "(4) Chingariyan yeh jo mere seene mein hei dafan\n",
      "NewList\n",
      "(0) Besharam rang\n",
      "(1) bol do na zara\n",
      "(2) Maiya Mainu\n",
      "(3) Chingariyan yeh jo mere seene mein hei dafan\n",
      "(4) Yeh ek zindagi kaafi nahi hai\n"
     ]
    }
   ],
   "source": [
    "print('InvStack')\n",
    "disp(lista)\n",
    "print('NewList')\n",
    "disp(listb)"
   ]
  },
  {
   "cell_type": "code",
   "execution_count": 7,
   "metadata": {},
   "outputs": [
    {
     "name": "stdout",
     "output_type": "stream",
     "text": [
      "20 % or more change detected!\n",
      "NEW NOTICES: 3\n",
      "Notices added to InvStack\n",
      "InvStack\n",
      "(0) Kuch toh bata zindagi\n",
      "(1) Tum hi ho\n",
      "(2) Sweatheart\n",
      "(3) Yeh ek zindagi kaafi nahi hai\n",
      "(4) Chingariyan yeh jo mere seene mein hei dafan\n",
      "(5) Maiya Mainu\n",
      "(6) bol do na zara\n",
      "(7) Besharam rang\n",
      "NewList\n",
      "(0) Besharam rang\n",
      "(1) bol do na zara\n",
      "(2) Maiya Mainu\n",
      "(3) Chingariyan yeh jo mere seene mein hei dafan\n",
      "(4) Yeh ek zindagi kaafi nahi hai\n",
      "['Maiya Mainu', 'bol do na zara', 'Besharam rang']\n"
     ]
    }
   ],
   "source": [
    "# new_list = perform_request()\n",
    "new_notices = rel_position(new_list =listb, InvStack =lista)\n",
    "print('InvStack')\n",
    "disp(lista)\n",
    "print('NewList')\n",
    "disp(listb)\n",
    "if (new_notices==-1):\n",
    "    print('error') \n",
    "elif(new_notices ==0):\n",
    "    print('No new notices found')\n",
    "else:\n",
    "    print(new_notices)    "
   ]
  }
 ],
 "metadata": {
  "kernelspec": {
   "display_name": "mlops-dev",
   "language": "python",
   "name": "python3"
  },
  "language_info": {
   "codemirror_mode": {
    "name": "ipython",
    "version": 3
   },
   "file_extension": ".py",
   "mimetype": "text/x-python",
   "name": "python",
   "nbconvert_exporter": "python",
   "pygments_lexer": "ipython3",
   "version": "3.8.15"
  },
  "orig_nbformat": 4,
  "vscode": {
   "interpreter": {
    "hash": "330f628f230da5d0661a9f91c5c974e5ec69a53ef19c4b70b238fc2c78471d7f"
   }
  }
 },
 "nbformat": 4,
 "nbformat_minor": 2
}
